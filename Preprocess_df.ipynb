{
  "nbformat": 4,
  "nbformat_minor": 0,
  "metadata": {
    "colab": {
      "name": "Preprocess_df.ipynb",
      "provenance": [],
      "collapsed_sections": [],
      "mount_file_id": "1mYoK0b-Ck6QhHbYN0JZQEmsTbzRS-Hx_",
      "authorship_tag": "ABX9TyPuGLIKQKDxvypGCbbKXnJY",
      "include_colab_link": true
    },
    "kernelspec": {
      "name": "python3",
      "display_name": "Python 3"
    },
    "language_info": {
      "name": "python"
    }
  },
  "cells": [
    {
      "cell_type": "markdown",
      "metadata": {
        "id": "view-in-github",
        "colab_type": "text"
      },
      "source": [
        "<a href=\"https://colab.research.google.com/github/EmilSeyfullayev/Credit_Risk_Modeling_in_Python/blob/main/Preprocess_df.ipynb\" target=\"_parent\"><img src=\"https://colab.research.google.com/assets/colab-badge.svg\" alt=\"Open In Colab\"/></a>"
      ]
    },
    {
      "cell_type": "markdown",
      "source": [
        "# Preprocessing"
      ],
      "metadata": {
        "id": "EUaf5fkJsXBR"
      }
    },
    {
      "cell_type": "code",
      "execution_count": 171,
      "metadata": {
        "colab": {
          "base_uri": "https://localhost:8080/"
        },
        "id": "868-kPgMsOSD",
        "outputId": "003dbada-4a32-43df-c2af-fb1f2f19bb9e"
      },
      "outputs": [
        {
          "output_type": "stream",
          "name": "stderr",
          "text": [
            "/usr/local/lib/python3.7/dist-packages/IPython/core/interactiveshell.py:2718: DtypeWarning: Columns (20) have mixed types.Specify dtype option on import or set low_memory=False.\n",
            "  interactivity=interactivity, compiler=compiler, result=result)\n"
          ]
        }
      ],
      "source": [
        "import pandas as pd\n",
        "import numpy as np\n",
        "import matplotlib.pyplot as plt\n",
        "import seaborn as sns\n",
        "sns.set_style(\"whitegrid\")\n",
        "\n",
        "from datetime import timedelta\n",
        "\n",
        "df = pd.read_csv(\"/content/drive/MyDrive/Credit Risk Modeling/loan_data_2007_2014.csv\")"
      ]
    },
    {
      "cell_type": "markdown",
      "source": [
        "### Employment Length"
      ],
      "metadata": {
        "id": "xFxnoRbmtfo8"
      }
    },
    {
      "cell_type": "code",
      "source": [
        "df['emp_length'] = df['emp_length'].str.replace('< 1 year', str(0))\n",
        "df['emp_length'].fillna(str(0), inplace=True)\n",
        "df['emp_length'] = df['emp_length'].str.extract('(\\d+)')[0]\n",
        "df['emp_length'] = pd.to_numeric(df['emp_length'])"
      ],
      "metadata": {
        "id": "WrtlGc5WtdZO"
      },
      "execution_count": 172,
      "outputs": []
    },
    {
      "cell_type": "markdown",
      "source": [
        "### Earliest Credit line"
      ],
      "metadata": {
        "id": "XX0q2-jhtmio"
      }
    },
    {
      "cell_type": "code",
      "source": [
        "earliest_credit_line_1 = pd.to_datetime(df['earliest_cr_line'], format = '%b-%y')\n",
        "hundred_years = 75*365 + 25*366\n",
        "df['earliest_credit_line_1'] = earliest_credit_line_1\n",
        "df['earliest_credit_line_2'] = df['earliest_credit_line_1'].apply(lambda x : \n",
        "                                   x.date() - timedelta(days = hundred_years) \n",
        "                                   if x > np.datetime64('2015-01-01')\n",
        "                                   else x)\n",
        "# earliest_credit_line_3 is the variable shows time difference in months between 2022-01-01 and earliest_credit_line\n",
        "df['earliest_credit_line_3'] = df['earliest_credit_line_2'].apply(\n",
        "    lambda x: (\n",
        "        (np.datetime64('2022-01-01')-x)/30\n",
        "    ).days\n",
        "  )"
      ],
      "metadata": {
        "id": "38HBESohsjWi"
      },
      "execution_count": 173,
      "outputs": []
    },
    {
      "cell_type": "markdown",
      "source": [
        "### Months since issue date"
      ],
      "metadata": {
        "id": "e1aAN9l9ukm-"
      }
    },
    {
      "cell_type": "code",
      "source": [
        "df['issue_d_date'] = pd.to_datetime(df['issue_d'], format = '%b-%y')\n",
        "\n",
        "df['mths_since_issue_d'] = round(pd.to_numeric((pd.to_datetime('2017-12-01') - \n",
        "                                                       df['issue_d_date']) / np.timedelta64(1, 'M')))\n"
      ],
      "metadata": {
        "id": "cwTiH1DkuhX4"
      },
      "execution_count": 174,
      "outputs": []
    },
    {
      "cell_type": "markdown",
      "source": [
        "### Term"
      ],
      "metadata": {
        "id": "ESI9no6SvCg2"
      }
    },
    {
      "cell_type": "code",
      "source": [
        "term_df = pd.get_dummies(df['term'], prefix = 'term', prefix_sep = ':', \n",
        "               #drop_first=True\n",
        "               )\n",
        "df = pd.concat([df, term_df], axis=1)"
      ],
      "metadata": {
        "id": "VVUmtKaVuxKB"
      },
      "execution_count": 175,
      "outputs": []
    },
    {
      "cell_type": "markdown",
      "source": [
        "### Issue date"
      ],
      "metadata": {
        "id": "zlHqv7c7vevA"
      }
    },
    {
      "cell_type": "code",
      "source": [
        "df['issue_date_1'] = pd.to_datetime(df['issue_d'], format = '%b-%y')\n",
        "df['issue_date_2'] = df['issue_date_1'].apply(\n",
        "    lambda x: round(np.float((\n",
        "        (np.datetime64('2022-01-01') - x).days\n",
        "    )/30))\n",
        ")"
      ],
      "metadata": {
        "id": "OaEHHy_Zvg7M"
      },
      "execution_count": 176,
      "outputs": []
    },
    {
      "cell_type": "markdown",
      "source": [
        "### Some discrete variables"
      ],
      "metadata": {
        "id": "nYCp8r4nvkte"
      }
    },
    {
      "cell_type": "code",
      "source": [
        "dummies = [pd.get_dummies(df['grade'],              prefix = 'grade',               prefix_sep = ':'),\n",
        "          pd.get_dummies(df['sub_grade'],           prefix = 'sub_grade',           prefix_sep = ':'),\n",
        "          pd.get_dummies(df['home_ownership'],      prefix = 'home_ownership',      prefix_sep = ':'),\n",
        "          pd.get_dummies(df['verification_status'], prefix = 'verification_status', prefix_sep = ':'),\n",
        "          pd.get_dummies(df['loan_status'],         prefix = 'loan_status',         prefix_sep = ':'),\n",
        "          pd.get_dummies(df['purpose'],             prefix = 'purpose',             prefix_sep = ':'),\n",
        "          pd.get_dummies(df['addr_state'],          prefix = 'addr_state',          prefix_sep = ':'),\n",
        "          pd.get_dummies(df['initial_list_status'], prefix = 'initial_list_status', prefix_sep = ':')]\n",
        "\n",
        "dummies = pd.concat(dummies, axis=1)\n",
        "df = pd.concat([df, dummies], axis=1)"
      ],
      "metadata": {
        "id": "Ya8hcYzlvqBK"
      },
      "execution_count": 177,
      "outputs": []
    },
    {
      "cell_type": "markdown",
      "source": [
        "### Variables which have missing and we need them"
      ],
      "metadata": {
        "id": "cmRSFt9vwN9k"
      }
    },
    {
      "cell_type": "code",
      "source": [
        "df['total_rev_hi_lim'].fillna(df['funded_amnt'], inplace=True)\n",
        "df['annual_inc'].fillna(df['annual_inc'].mean(), inplace=True)\n",
        "\n",
        "df['earliest_credit_line_2'].fillna(0, inplace=True)\n",
        "df['earliest_credit_line_3'].fillna(0, inplace=True)\n",
        "df['acc_now_delinq'].fillna(0, inplace=True)\n",
        "df['total_acc'].fillna(0, inplace=True)\n",
        "df['pub_rec'].fillna(0, inplace=True)\n",
        "df['open_acc'].fillna(0, inplace=True)\n",
        "df['inq_last_6mths'].fillna(0, inplace=True)\n",
        "df['delinq_2yrs'].fillna(0, inplace=True)\n",
        "df['emp_length'].fillna(0, inplace=True)"
      ],
      "metadata": {
        "id": "PAbrBYF2wLeM"
      },
      "execution_count": 178,
      "outputs": []
    },
    {
      "cell_type": "markdown",
      "source": [
        "### Dependent variable and train test split"
      ],
      "metadata": {
        "id": "iNaUpfvJwyFg"
      }
    },
    {
      "cell_type": "code",
      "source": [
        "defaults = [\n",
        "            'Charged Off',\n",
        "            'Default',\n",
        "            'Late (16-30 days)',\n",
        "            'Does not meet the credit policy. Status:Charged Off'\n",
        "]\n",
        "good_loan = np.where(\n",
        "    df['loan_status'].isin(defaults),\n",
        "    0, 1\n",
        ")\n",
        "df['good_loan'] = good_loan\n",
        "\n",
        "X = df.drop('good_loan', axis=1)\n",
        "y = df['good_loan']\n"
      ],
      "metadata": {
        "id": "k6rqSoL5wxDk"
      },
      "execution_count": 179,
      "outputs": []
    },
    {
      "cell_type": "code",
      "source": [
        "from sklearn.model_selection import train_test_split\n",
        "X_train, X_test, y_train, y_test = train_test_split(X, y, test_size=0.33, random_state=42)\n",
        "# df = pd.concat([X_train, y_train], axis=1)\n",
        "df = pd.concat([X_test, y_test], axis=1)"
      ],
      "metadata": {
        "id": "hvknObwE650M"
      },
      "execution_count": 180,
      "outputs": []
    },
    {
      "cell_type": "markdown",
      "source": [
        "### Weight of Evidence function used for preprocessing"
      ],
      "metadata": {
        "id": "KlAMNuBR0XXp"
      }
    },
    {
      "cell_type": "code",
      "source": [
        "def WoE_and_IV(df, variable_name):\n",
        "\n",
        "  bad = np.where(df['good_loan']== 1, 0, 1)\n",
        "  good = df['good_loan']\n",
        "\n",
        "  table = pd.DataFrame()\n",
        "  table[variable_name] = df[variable_name]\n",
        "  table['good_count'] = good\n",
        "  table['bad_count'] = bad\n",
        "  table['numb_of_obs'] = table['good_count'] + table['bad_count']\n",
        "\n",
        "  table = table.groupby(table.columns[0], as_index=False).sum()\n",
        "\n",
        "  table['proportion_of_good'] = table['good_count']/table['good_count'].sum()\n",
        "  table['proportion_of_bad']  = table['bad_count'] /table['bad_count'].sum()\n",
        "\n",
        "  table['Weight_of_Evidence'] = np.log(\n",
        "      table['proportion_of_good']/table['proportion_of_bad']\n",
        "  )\n",
        "\n",
        "  table['Information_value'] = (\n",
        "      table['proportion_of_good'] - table['proportion_of_bad']\n",
        "  ) * table['Weight_of_Evidence']\n",
        "\n",
        "  table['Information_value'] = table['Information_value'].sum()\n",
        "\n",
        "  table = table.sort_values('Weight_of_Evidence', ascending = True)\n",
        "  table = table.reset_index(drop=True)\n",
        "\n",
        "  return table\n",
        "\n",
        "def vis_WoE(table, rotation=0, width=8, height=4):\n",
        "  variable_name = table.columns.values[0]\n",
        "  x = table[variable_name].apply(str)\n",
        "  y = table['Weight_of_Evidence']\n",
        "  numb_of_obs = table['numb_of_obs']\n",
        "\n",
        "  # g = sns.FacetGrid(table)\n",
        "  # g.map(sns.scatterplot(variable_name, y))\n",
        "  # g.map(plt.lineplot(variable_name, y))\n",
        "  plt.figure(figsize=(width,height), dpi=180)\n",
        "  plt.xticks(rotation=rotation)\n",
        "  plt.legend(markerscale = 10)\n",
        "  sns.scatterplot(x = x, y = y, \n",
        "                  # data = table,\n",
        "               # marker = 'o', \n",
        "               # linestyle='--', \n",
        "               size = numb_of_obs, \n",
        "               # s = 100,\n",
        "               hue = numb_of_obs,\n",
        "               # palette = 'Blues',\n",
        "               edgecolor = 'red'\n",
        "           )"
      ],
      "metadata": {
        "id": "5j-1VQAXz8zl"
      },
      "execution_count": 181,
      "outputs": []
    },
    {
      "cell_type": "markdown",
      "source": [
        "### Home ownership"
      ],
      "metadata": {
        "id": "CEuFY2Vj0su1"
      }
    },
    {
      "cell_type": "code",
      "source": [
        "df['home_ownership:ANY_OTHER_NONE_RENT'] = sum([\n",
        "    df['home_ownership:ANY'], df['home_ownership:NONE'],\n",
        "    df['home_ownership:OTHER'], df['home_ownership:RENT']\n",
        "])"
      ],
      "metadata": {
        "id": "C4fIFBcB0rrn"
      },
      "execution_count": 182,
      "outputs": []
    },
    {
      "cell_type": "markdown",
      "source": [
        "### States"
      ],
      "metadata": {
        "id": "xUVU4gEo1OiX"
      }
    },
    {
      "cell_type": "code",
      "source": [
        "class States():\n",
        "\n",
        "  def __init__(self, got_column_names=\"None\"):\n",
        "    self.got_column_names = got_column_names\n",
        "    \n",
        "\n",
        "  def states_binning(self, df):\n",
        "\n",
        "    states_groups = [\n",
        "                    ['ND','NE', 'IA', 'NV', 'AL', 'NM'],\n",
        "                    ['FL'],\n",
        "                    ['HI', 'MO', 'VA'],\n",
        "                    ['CA'],\n",
        "                    ['OK', 'TN', 'NJ', 'NC', 'KY'],\n",
        "                    ['NY'],\n",
        "                    ['MD', 'UT', 'LA', 'MN', 'MI'],\n",
        "                    ['SD', 'WA', 'AZ', 'OH', 'PA', 'MA', 'AR', 'DE', 'IN', 'GA'],\n",
        "                    ['WI', 'RI', 'OR'],\n",
        "                    ['CT', 'IL'],\n",
        "                    ['TX'],\n",
        "                    ['MT', 'KS', 'CO', 'SC', 'AK'],\n",
        "                    ['VT', 'MS', 'NH', 'WV', 'WY', 'DC', 'ME', 'ID']\n",
        "    ]\n",
        "\n",
        "    self.got_column_names = []\n",
        "\n",
        "    for group in states_groups:\n",
        "\n",
        "      group_column_names = ['addr_state:{}'.format(state) for state in group]\n",
        "\n",
        "      existing_column_names = []\n",
        "\n",
        "      for column_name in group_column_names:\n",
        "        if column_name in df.columns.values:\n",
        "          existing_column_names.append(column_name)\n",
        "      \n",
        "      existing_states_XX_of_group = []\n",
        "\n",
        "      for existing_column_name in existing_column_names:\n",
        "        try:\n",
        "          two_parts_of_column_name = existing_column_name.split(\":\")\n",
        "          existing_states_XX_of_group.append(two_parts_of_column_name[1])\n",
        "        except IndexError:\n",
        "          pass \n",
        "\n",
        "      df[\"addr_state:\" + \"_\".join(existing_states_XX_of_group)] =  df[['addr_state:{}'.format(state) for state in existing_states_XX_of_group]].sum(axis=1)\n",
        "      \n",
        "      self.got_column_names.append(\n",
        "          \"addr_state:\" + \"_\".join(existing_states_XX_of_group)\n",
        "      )\n",
        "\n",
        "\n",
        "  def got_column_names_func(self):\n",
        "    return self.got_column_names\n",
        "\n",
        "state = States()\n",
        "state.states_binning(df)"
      ],
      "metadata": {
        "id": "9NvqCmY81Prz"
      },
      "execution_count": 183,
      "outputs": []
    },
    {
      "cell_type": "markdown",
      "source": [
        "### Purpose of the loan"
      ],
      "metadata": {
        "id": "7r_EEC0qCOMq"
      }
    },
    {
      "cell_type": "code",
      "source": [
        "df['purpose:educ__sm_b__wedd__ren_en__mov__house'] = sum([df['purpose:educational'], \n",
        "                                                          df['purpose:small_business'],\n",
        "                                                          df['purpose:wedding'],\n",
        "                                                          df['purpose:renewable_energy'],\n",
        "                                                          df['purpose:moving'],\n",
        "                                                          df['purpose:house']])\n",
        "\n",
        "df['purpose:oth__med__vacation'] = sum([df['purpose:other'], \n",
        "                                        df['purpose:medical'],\n",
        "                                        df['purpose:vacation']])\n",
        "\n",
        "df['purpose:major_purch__car__home_impr'] = sum([df['purpose:major_purchase'], \n",
        "                                                 df['purpose:car'],\n",
        "                                                  df['purpose:home_improvement']])"
      ],
      "metadata": {
        "id": "8juf6VJUCOqQ"
      },
      "execution_count": 184,
      "outputs": []
    },
    {
      "cell_type": "markdown",
      "source": [
        "### Employment Length"
      ],
      "metadata": {
        "id": "oF83NfHj1miM"
      }
    },
    {
      "cell_type": "code",
      "source": [
        "def emp_legth_WoE_binner(data, column_name = 'emp_length'):\n",
        "\n",
        "  table = pd.DataFrame()\n",
        "\n",
        "  table['emp_length:0'] = np.where(data[column_name].isin([0]), 1, 0)\n",
        "  table['emp_length:1'] = np.where(data[column_name].isin([1]), 1, 0)\n",
        "  table['emp_length:2-4'] = np.where(data[column_name].isin(range(2, 5)), 1, 0)\n",
        "  table['emp_length:5-6'] = np.where(data[column_name].isin(range(5, 7)), 1, 0)\n",
        "  table['emp_length:7-9'] = np.where(data[column_name].isin(range(7, 10)), 1, 0)\n",
        "  table['emp_length:10'] = np.where(data[column_name].isin([10]), 1, 0)\n",
        "\n",
        "  table = pd.concat([data, table], axis=1)\n",
        "\n",
        "  return table\n",
        "\n",
        "temp = emp_legth_WoE_binner(df)\n",
        "df = temp\n",
        "del(temp)"
      ],
      "metadata": {
        "id": "-UY6jAKt1sRV"
      },
      "execution_count": 185,
      "outputs": []
    },
    {
      "cell_type": "markdown",
      "source": [
        "### Months since issue date"
      ],
      "metadata": {
        "id": "WaPDxS0E2JWZ"
      }
    },
    {
      "cell_type": "code",
      "source": [
        "df['since_issue_date:<87']  = np.where(df['issue_date_2'].isin(range(88)),      1, 0)\n",
        "df['since_issue_date:<90']  = np.where(df['issue_date_2'].isin(range(88,  90)), 1, 0)\n",
        "df['since_issue_date:<92']  = np.where(df['issue_date_2'].isin(range(90,  92)), 1, 0)\n",
        "df['since_issue_date:<94']  = np.where(df['issue_date_2'].isin(range(92,  94)), 1, 0)\n",
        "df['since_issue_date:<99']  = np.where(df['issue_date_2'].isin(range(94,  99)), 1, 0)\n",
        "df['since_issue_date:<103'] = np.where(df['issue_date_2'].isin(range(99, 103)), 1, 0)\n",
        "df['since_issue_date:<112'] = np.where(df['issue_date_2'].isin(range(103,112)), 1, 0)\n",
        "df['since_issue_date:<142'] = np.where(df['issue_date_2'].isin(range(112,142)), 1, 0)\n",
        "df['since_issue_date:>=142'] = np.where(df['issue_date_2']>= 142, 1, 0)"
      ],
      "metadata": {
        "id": "WENc2h_w2Vys"
      },
      "execution_count": 186,
      "outputs": []
    },
    {
      "cell_type": "markdown",
      "source": [
        "### Interest Rate"
      ],
      "metadata": {
        "id": "XdXzHpIC2dSj"
      }
    },
    {
      "cell_type": "code",
      "source": [
        "df['interest_rate:<9.548']        = np.where(df['int_rate']<=9.548,                              1, 0)\n",
        "df['interest_rate:9.548-12.025']  = np.where((df['int_rate']>9.548)  & (df['int_rate']<=12.025), 1, 0)\n",
        "df['interest_rate:12.025-14.089'] = np.where((df['int_rate']>12.025) & (df['int_rate']<=14.089), 1, 0)\n",
        "df['interest_rate:14.089-15.74']  = np.where((df['int_rate']>14.089) & (df['int_rate']<=15.74),  1, 0)\n",
        "df['interest_rate:15.74-20.281']  = np.where((df['int_rate']>15.74)  & (df['int_rate']<=20.281), 1, 0)\n",
        "df['interest_rate:>20.281']       = np.where((df['int_rate']>20.281),                            1, 0)"
      ],
      "metadata": {
        "id": "UGXmPyhv2yjG"
      },
      "execution_count": 187,
      "outputs": []
    },
    {
      "cell_type": "markdown",
      "source": [
        "### Earliest credit line"
      ],
      "metadata": {
        "id": "W6Y8xCG12-p_"
      }
    },
    {
      "cell_type": "code",
      "source": [
        "df['earl_cr_line:<209']    = np.where( df['earliest_credit_line_3']<209, 1, 0)\n",
        "df['earl_cr_line:209-285'] = np.where((df['earliest_credit_line_3']>=209) & (df['earliest_credit_line_3']<285), 1, 0)\n",
        "df['earl_cr_line:285-323'] = np.where((df['earliest_credit_line_3']>=285) & (df['earliest_credit_line_3']<323), 1, 0)\n",
        "df['earl_cr_line:323-380'] = np.where((df['earliest_credit_line_3']>=323) & (df['earliest_credit_line_3']<380), 1, 0)\n",
        "df['earl_cr_line:380-437'] = np.where((df['earliest_credit_line_3']>=380) & (df['earliest_credit_line_3']<437), 1, 0)\n",
        "df['earl_cr_line:>=437']   = np.where( df['earliest_credit_line_3']>=437, 1, 0)"
      ],
      "metadata": {
        "id": "RBeAOxg13C6f"
      },
      "execution_count": 188,
      "outputs": []
    },
    {
      "cell_type": "markdown",
      "source": [
        "### Delinquency"
      ],
      "metadata": {
        "id": "gsi4H6Fv3Us9"
      }
    },
    {
      "cell_type": "code",
      "source": [
        "df['delinq_2yrs:0'] = np.where((df['delinq_2yrs'] == 0), 1, 0)\n",
        "df['delinq_2yrs:1-3'] = np.where((df['delinq_2yrs'] >= 1) & (df['delinq_2yrs'] <= 3), 1, 0)\n",
        "df['delinq_2yrs:4-11'] = np.where((df['delinq_2yrs'] >= 4) & (df['delinq_2yrs'] <= 11), 1, 0)\n",
        "df['delinq_2yrs:>=12'] = np.where((df['delinq_2yrs'] >= 12), 1, 0)"
      ],
      "metadata": {
        "id": "mPT7620b3bnM"
      },
      "execution_count": 189,
      "outputs": []
    },
    {
      "cell_type": "markdown",
      "source": [
        "### Inquiry last 6 months"
      ],
      "metadata": {
        "id": "NuE8fx2X3cfy"
      }
    },
    {
      "cell_type": "code",
      "source": [
        "df['inq_last_6mths:0'] = np.where((df['inq_last_6mths'] == 0), 1, 0)\n",
        "df['inq_last_6mths:1-2'] = np.where((df['inq_last_6mths'] >= 1) & (df['inq_last_6mths'] <= 2), 1, 0)\n",
        "df['inq_last_6mths:3-6'] = np.where((df['inq_last_6mths'] >= 3) & (df['inq_last_6mths'] <= 6), 1, 0)\n",
        "df['inq_last_6mths:>6'] = np.where((df['inq_last_6mths'] > 6), 1, 0)"
      ],
      "metadata": {
        "id": "B71xGRju3gPZ"
      },
      "execution_count": 190,
      "outputs": []
    },
    {
      "cell_type": "markdown",
      "source": [
        "### Open accounts"
      ],
      "metadata": {
        "id": "Arjq99Vc3inv"
      }
    },
    {
      "cell_type": "code",
      "source": [
        "df['open_acc:0']     = np.where((df['open_acc'] == 0), 1, 0)\n",
        "df['open_acc:1-3']   = np.where((df['open_acc'] >= 1)  & (df['open_acc'] <= 3), 1, 0)\n",
        "df['open_acc:4-9']   = np.where((df['open_acc'] >= 4)  & (df['open_acc'] <= 9), 1, 0)\n",
        "df['open_acc:10-12'] = np.where((df['open_acc'] >= 11) & (df['open_acc'] <= 12), 1, 0)\n",
        "df['open_acc:13-17'] = np.where((df['open_acc'] >= 13) & (df['open_acc'] <= 17), 1, 0)\n",
        "df['open_acc:18-22'] = np.where((df['open_acc'] >= 18) & (df['open_acc'] <= 22), 1, 0)\n",
        "df['open_acc:23-27'] = np.where((df['open_acc'] >= 23) & (df['open_acc'] <= 27), 1, 0)\n",
        "df['open_acc:28-35'] = np.where((df['open_acc'] >= 26) & (df['open_acc'] <= 35), 1, 0)\n",
        "df['open_acc:>=36']  = np.where((df['open_acc'] >= 31), 1, 0) "
      ],
      "metadata": {
        "id": "Uy0c3N0R31Rl"
      },
      "execution_count": 191,
      "outputs": []
    },
    {
      "cell_type": "markdown",
      "source": [
        "### Public records"
      ],
      "metadata": {
        "id": "JD-Hxbrw31vV"
      }
    },
    {
      "cell_type": "code",
      "source": [
        "df['pub_rec:0'] = np.where((df['pub_rec'] == 0), 1, 0)\n",
        "df['pub_rec:1-2'] = np.where((df['pub_rec'] >= 1) & (df['pub_rec'] <= 2), 1, 0)\n",
        "df['pub_rec:3-5'] = np.where((df['pub_rec'] >= 3) & (df['pub_rec'] <= 5), 1, 0)\n",
        "df['pub_rec:>=6'] = np.where((df['pub_rec'] >= 6), 1, 0)"
      ],
      "metadata": {
        "id": "D-AQzTGy37gh"
      },
      "execution_count": 192,
      "outputs": []
    },
    {
      "cell_type": "markdown",
      "source": [
        "### Total accounts"
      ],
      "metadata": {
        "id": "wnwGeHq839Yp"
      }
    },
    {
      "cell_type": "code",
      "source": [
        "df['total_acc:<=3']    = np.where((df['total_acc'] <= 3), 1, 0)\n",
        "df['total_acc:4-15']   = np.where((df['total_acc'] >= 4)  & (df['total_acc'] <= 15), 1, 0)\n",
        "df['total_acc:16-21']  = np.where((df['total_acc'] >= 16) & (df['total_acc'] <= 21), 1, 0)\n",
        "df['total_acc:22-27']  = np.where((df['total_acc'] >= 22) & (df['total_acc'] <= 27), 1, 0)\n",
        "df['total_acc:28-48']  = np.where((df['total_acc'] >= 28) & (df['total_acc'] <= 48), 1, 0)\n",
        "df['total_acc:49-63']  = np.where((df['total_acc'] >= 49) & (df['total_acc'] <= 63), 1, 0)\n",
        "df['total_acc:64-78']  = np.where((df['total_acc'] >= 64) & (df['total_acc'] <= 78), 1, 0)\n",
        "df['total_acc:>=79']   = np.where((df['total_acc'] >= 79), 1, 0)"
      ],
      "metadata": {
        "id": "UgabGz9v4BWl"
      },
      "execution_count": 193,
      "outputs": []
    },
    {
      "cell_type": "markdown",
      "source": [
        "### Accounts now delinquent"
      ],
      "metadata": {
        "id": "oaxz94Nv4G1u"
      }
    },
    {
      "cell_type": "code",
      "source": [
        "df['acc_now_delinq:0'] = np.where((df['acc_now_delinq'] == 0), 1, 0)\n",
        "df['acc_now_delinq:>=1'] = np.where((df['acc_now_delinq'] >= 1), 1, 0) # number of observations in next ones is very low"
      ],
      "metadata": {
        "id": "uf9zRip_4NJq"
      },
      "execution_count": 194,
      "outputs": []
    },
    {
      "cell_type": "markdown",
      "source": [
        "### Total revolving high limit"
      ],
      "metadata": {
        "id": "tQmoN5DH4S2R"
      }
    },
    {
      "cell_type": "code",
      "source": [
        "df['total_rev_hi_lim:<=5K'] = np.where((df['total_rev_hi_lim'] <= 5000), 1, 0)\n",
        "df['total_rev_hi_lim:5K-10K'] = np.where((df['total_rev_hi_lim'] > 5000) & (df['total_rev_hi_lim'] <= 10000), 1, 0)\n",
        "df['total_rev_hi_lim:10K-15K'] = np.where((df['total_rev_hi_lim'] > 10000) & (df['total_rev_hi_lim'] <= 15000), 1, 0)\n",
        "df['total_rev_hi_lim:15K-20K'] = np.where((df['total_rev_hi_lim'] > 15000) & (df['total_rev_hi_lim'] <= 20000), 1, 0)\n",
        "df['total_rev_hi_lim:20K-30K'] = np.where((df['total_rev_hi_lim'] > 20000) & (df['total_rev_hi_lim'] <= 30000), 1, 0)\n",
        "df['total_rev_hi_lim:30K-40K'] = np.where((df['total_rev_hi_lim'] > 30000) & (df['total_rev_hi_lim'] <= 40000), 1, 0)\n",
        "df['total_rev_hi_lim:40K-55K'] = np.where((df['total_rev_hi_lim'] > 40000) & (df['total_rev_hi_lim'] <= 55000), 1, 0)\n",
        "df['total_rev_hi_lim:55K-95K'] = np.where((df['total_rev_hi_lim'] > 55000) & (df['total_rev_hi_lim'] <= 95000), 1, 0)\n",
        "df['total_rev_hi_lim:>95K'] = np.where((df['total_rev_hi_lim'] > 95000), 1, 0)"
      ],
      "metadata": {
        "id": "JOSwHgll4XQJ"
      },
      "execution_count": 195,
      "outputs": []
    },
    {
      "cell_type": "markdown",
      "source": [
        "### Annual income"
      ],
      "metadata": {
        "id": "5OIGTU8U4gLG"
      }
    },
    {
      "cell_type": "code",
      "source": [
        "df['annual_inc:<20K']      = np.where((df['annual_inc'] <= 20000), 1, 0)\n",
        "df['annual_inc:20K-30K']   = np.where((df['annual_inc'] > 20000)  & (df['annual_inc'] <= 30000), 1, 0)\n",
        "df['annual_inc:30K-40K']   = np.where((df['annual_inc'] > 30000)  & (df['annual_inc'] <= 40000), 1, 0)\n",
        "df['annual_inc:40K-50K']   = np.where((df['annual_inc'] > 40000)  & (df['annual_inc'] <= 50000), 1, 0)\n",
        "df['annual_inc:50K-60K']   = np.where((df['annual_inc'] > 50000)  & (df['annual_inc'] <= 60000), 1, 0)\n",
        "df['annual_inc:60K-70K']   = np.where((df['annual_inc'] > 60000)  & (df['annual_inc'] <= 70000), 1, 0)\n",
        "df['annual_inc:70K-80K']   = np.where((df['annual_inc'] > 70000)  & (df['annual_inc'] <= 80000), 1, 0)\n",
        "df['annual_inc:80K-90K']   = np.where((df['annual_inc'] > 80000)  & (df['annual_inc'] <= 90000), 1, 0)\n",
        "df['annual_inc:90K-100K']  = np.where((df['annual_inc'] > 90000)  & (df['annual_inc'] <= 100000), 1, 0)\n",
        "df['annual_inc:100K-120K'] = np.where((df['annual_inc'] > 100000) & (df['annual_inc'] <= 120000), 1, 0)\n",
        "df['annual_inc:120K-140K'] = np.where((df['annual_inc'] > 120000) & (df['annual_inc'] <= 140000), 1, 0)\n",
        "df['annual_inc:>140K']     = np.where((df['annual_inc'] > 140000), 1, 0)"
      ],
      "metadata": {
        "id": "gFkamdI14j2j"
      },
      "execution_count": 196,
      "outputs": []
    },
    {
      "cell_type": "markdown",
      "source": [
        "### Months since last delinquency"
      ],
      "metadata": {
        "id": "7LH0XBN44uTB"
      }
    },
    {
      "cell_type": "code",
      "source": [
        "df['mths_since_last_delinq:Missing'] = np.where((df['mths_since_last_delinq'].isnull()), 1, 0)\n",
        "df['mths_since_last_delinq:0-3'] = np.where((df['mths_since_last_delinq'] >= 0) & (df['mths_since_last_delinq'] <= 3), 1, 0)\n",
        "df['mths_since_last_delinq:4-30'] = np.where((df['mths_since_last_delinq'] >= 4) & (df['mths_since_last_delinq'] <= 30), 1, 0)\n",
        "df['mths_since_last_delinq:31-56'] = np.where((df['mths_since_last_delinq'] >= 31) & (df['mths_since_last_delinq'] <= 56), 1, 0)\n",
        "df['mths_since_last_delinq:>=57'] = np.where((df['mths_since_last_delinq'] >= 57), 1, 0)  "
      ],
      "metadata": {
        "id": "YfbW7yr-42CT"
      },
      "execution_count": 197,
      "outputs": []
    },
    {
      "cell_type": "markdown",
      "source": [
        "### Debt to income "
      ],
      "metadata": {
        "id": "z8-zbrPE5EgC"
      }
    },
    {
      "cell_type": "code",
      "source": [
        "df['dti:<=1.4']     = np.where((df['dti'] <= 1.4), 1, 0)\n",
        "df['dti:1.4-3.5']   = np.where((df['dti'] > 1.4)  & (df['dti'] <= 3.5), 1, 0)\n",
        "df['dti:3.5-7.7']   = np.where((df['dti'] > 3.5)  & (df['dti'] <= 7.7), 1, 0)\n",
        "df['dti:7.7-10.5']  = np.where((df['dti'] > 7.7)  & (df['dti'] <= 10.5), 1, 0)\n",
        "df['dti:10.5-16.1'] = np.where((df['dti'] > 10.5) & (df['dti'] <= 16.1), 1, 0)\n",
        "df['dti:16.1-20.3'] = np.where((df['dti'] > 16.1) & (df['dti'] <= 20.3), 1, 0)\n",
        "df['dti:20.3-21.7'] = np.where((df['dti'] > 20.3) & (df['dti'] <= 21.7), 1, 0)\n",
        "df['dti:21.7-22.4'] = np.where((df['dti'] > 21.7) & (df['dti'] <= 22.4), 1, 0)\n",
        "df['dti:22.4-35']   = np.where((df['dti'] > 22.4) & (df['dti'] <= 35), 1, 0)\n",
        "df['dti:>35']       = np.where((df['dti'] > 35), 1, 0)"
      ],
      "metadata": {
        "id": "ckbiI2ns5JFl"
      },
      "execution_count": 198,
      "outputs": []
    },
    {
      "cell_type": "markdown",
      "source": [
        "### Months since last record"
      ],
      "metadata": {
        "id": "4_uuFYhk5M6-"
      }
    },
    {
      "cell_type": "code",
      "source": [
        "df['mths_since_last_rec:Missing'] = np.where((df['mths_since_last_record'].isnull()), 1, 0)\n",
        "df['mths_since_last_rec:0-2']     = np.where((df['mths_since_last_record'] >= 0)  & (df['mths_since_last_record'] <= 2), 1, 0)\n",
        "df['mths_since_last_rec:3-20']    = np.where((df['mths_since_last_record'] >= 3)  & (df['mths_since_last_record'] <= 20), 1, 0)\n",
        "df['mths_since_last_rec:21-31']   = np.where((df['mths_since_last_record'] >= 21) & (df['mths_since_last_record'] <= 31), 1, 0)\n",
        "df['mths_since_last_rec:32-48']   = np.where((df['mths_since_last_record'] >= 32) & (df['mths_since_last_record'] <= 48), 1, 0)\n",
        "df['mths_since_last_rec:49-60']   = np.where((df['mths_since_last_record'] >= 49) & (df['mths_since_last_record'] <= 60), 1, 0)\n",
        "df['mths_since_last_rec:61-84']   = np.where((df['mths_since_last_record'] >= 61) & (df['mths_since_last_record'] <= 84), 1, 0)\n",
        "df['mths_since_last_rec:84-99']   = np.where((df['mths_since_last_record'] >= 84) & (df['mths_since_last_record'] <= 99), 1, 0)\n",
        "df['mths_since_last_rec:>100']    = np.where((df['mths_since_last_record'] > 100), 1, 0)"
      ],
      "metadata": {
        "id": "3l5XZdo75XkY"
      },
      "execution_count": 199,
      "outputs": []
    },
    {
      "cell_type": "code",
      "source": [
        "# main = df"
      ],
      "metadata": {
        "id": "4PQ2hjsJ5Z60"
      },
      "execution_count": 165,
      "outputs": []
    },
    {
      "cell_type": "code",
      "source": [
        "second = df"
      ],
      "metadata": {
        "id": "qJrKYPW86YWi"
      },
      "execution_count": 200,
      "outputs": []
    },
    {
      "cell_type": "code",
      "source": [
        "main.shape"
      ],
      "metadata": {
        "colab": {
          "base_uri": "https://localhost:8080/"
        },
        "id": "hMx4Q3DfFKf3",
        "outputId": "585a77ff-3937-40c6-8a11-a6c8973c0c6f"
      },
      "execution_count": 201,
      "outputs": [
        {
          "output_type": "execute_result",
          "data": {
            "text/plain": [
              "(415445, 327)"
            ]
          },
          "metadata": {},
          "execution_count": 201
        }
      ]
    },
    {
      "cell_type": "code",
      "source": [
        "second.shape"
      ],
      "metadata": {
        "colab": {
          "base_uri": "https://localhost:8080/"
        },
        "id": "T-b7QTM4FMVq",
        "outputId": "274ce6f7-3ac3-4f30-f13c-6cbb037e4623"
      },
      "execution_count": 202,
      "outputs": [
        {
          "output_type": "execute_result",
          "data": {
            "text/plain": [
              "(257073, 327)"
            ]
          },
          "metadata": {},
          "execution_count": 202
        }
      ]
    },
    {
      "cell_type": "code",
      "source": [
        "main.columns.values == second.columns.values"
      ],
      "metadata": {
        "colab": {
          "base_uri": "https://localhost:8080/"
        },
        "id": "u9LMshcIE9OF",
        "outputId": "5b67802a-29c6-4dc1-ffad-2b2e015a14a6"
      },
      "execution_count": 203,
      "outputs": [
        {
          "output_type": "execute_result",
          "data": {
            "text/plain": [
              "array([ True,  True,  True,  True,  True,  True,  True,  True,  True,\n",
              "        True,  True,  True,  True,  True,  True,  True,  True,  True,\n",
              "        True,  True,  True,  True,  True,  True,  True,  True,  True,\n",
              "        True,  True,  True,  True,  True,  True,  True,  True,  True,\n",
              "        True,  True,  True,  True,  True,  True,  True,  True,  True,\n",
              "        True,  True,  True,  True,  True,  True,  True,  True,  True,\n",
              "        True,  True,  True,  True,  True,  True,  True,  True,  True,\n",
              "        True,  True,  True,  True,  True,  True,  True,  True,  True,\n",
              "        True,  True,  True,  True,  True,  True,  True,  True,  True,\n",
              "        True,  True,  True,  True,  True,  True,  True,  True,  True,\n",
              "        True,  True,  True,  True,  True,  True,  True,  True,  True,\n",
              "        True,  True,  True,  True,  True,  True,  True,  True,  True,\n",
              "        True,  True,  True,  True,  True,  True,  True,  True,  True,\n",
              "        True,  True,  True,  True,  True,  True,  True,  True,  True,\n",
              "        True,  True,  True,  True,  True,  True,  True,  True,  True,\n",
              "        True,  True,  True,  True,  True,  True,  True,  True,  True,\n",
              "        True,  True,  True,  True,  True,  True,  True,  True,  True,\n",
              "        True,  True,  True,  True,  True,  True,  True,  True,  True,\n",
              "        True,  True,  True,  True,  True,  True,  True,  True,  True,\n",
              "        True,  True,  True,  True,  True,  True,  True,  True,  True,\n",
              "        True,  True,  True,  True,  True,  True,  True,  True,  True,\n",
              "        True,  True,  True,  True,  True,  True,  True,  True,  True,\n",
              "        True,  True,  True,  True,  True,  True,  True,  True,  True,\n",
              "        True,  True,  True,  True,  True,  True,  True,  True,  True,\n",
              "        True,  True,  True,  True,  True,  True,  True,  True,  True,\n",
              "        True,  True,  True,  True,  True,  True,  True,  True,  True,\n",
              "        True,  True,  True,  True,  True,  True,  True,  True,  True,\n",
              "        True,  True,  True,  True,  True,  True,  True,  True,  True,\n",
              "        True,  True,  True,  True,  True,  True,  True,  True,  True,\n",
              "        True,  True,  True,  True,  True,  True,  True,  True,  True,\n",
              "        True,  True,  True,  True,  True,  True,  True,  True,  True,\n",
              "        True,  True,  True,  True,  True,  True,  True,  True,  True,\n",
              "        True,  True,  True,  True,  True,  True,  True,  True,  True,\n",
              "        True,  True,  True,  True,  True,  True,  True,  True,  True,\n",
              "        True,  True,  True,  True,  True,  True,  True,  True,  True,\n",
              "        True,  True,  True,  True,  True,  True,  True,  True,  True,\n",
              "        True,  True,  True])"
            ]
          },
          "metadata": {},
          "execution_count": 203
        }
      ]
    },
    {
      "cell_type": "code",
      "source": [
        "main.to_csv(\"/content/drive/MyDrive/Credit Risk Modeling/train.csv\")"
      ],
      "metadata": {
        "id": "OYb5ajY77Kc1"
      },
      "execution_count": 204,
      "outputs": []
    },
    {
      "cell_type": "code",
      "source": [
        "second.to_csv(\"/content/drive/MyDrive/Credit Risk Modeling/test.csv\")"
      ],
      "metadata": {
        "id": "RpTiAV8J8AM7"
      },
      "execution_count": 205,
      "outputs": []
    },
    {
      "cell_type": "code",
      "source": [
        "# main.columns.values\n",
        "necessary_columns = [\n",
        "'grade:A', 'grade:B', 'grade:C', 'grade:D',\n",
        "'grade:E', 'grade:F', 'grade:G',\n",
        "###\n",
        "'home_ownership:ANY', 'home_ownership:MORTGAGE',\n",
        "'home_ownership:NONE', 'home_ownership:OTHER',\n",
        "'home_ownership:OWN', 'home_ownership:RENT',\n",
        "###\n",
        "'verification_status:Not Verified',\n",
        "'verification_status:Source Verified',\n",
        "'verification_status:Verified',\n",
        "###\n",
        "'purpose:educ__sm_b__wedd__ren_en__mov__house',\n",
        "'purpose:oth__med__vacation',\n",
        "'purpose:major_purch__car__home_impr',\n",
        "###\n",
        "'initial_list_status:f',\n",
        "'initial_list_status:w',\n",
        "### \n",
        "'addr_state:NE_IA_NV_AL_NM',\n",
        "'addr_state:HI_MO_VA', 'addr_state:OK_TN_NJ_NC_KY',\n",
        "'addr_state:MD_UT_LA_MN_MI',\n",
        "'addr_state:SD_WA_AZ_OH_PA_MA_AR_DE_IN_GA', 'addr_state:WI_RI_OR',\n",
        "'addr_state:CT_IL', 'addr_state:MT_KS_CO_SC_AK',\n",
        "'addr_state:VT_MS_NH_WV_WY_DC_ME_ID',\n",
        "'addr_state:FL',\n",
        "'addr_state:CY',\n",
        "'addr_state:NY',\n",
        "'addr_state:TX',\n",
        "###\n",
        "'emp_length:1', 'emp_length:2-4', 'emp_length:5-6',\n",
        "'emp_length:7-9', 'emp_length:10', \n",
        "###\n",
        "'since_issue_date:<87',\n",
        "'since_issue_date:<90', 'since_issue_date:<92',\n",
        "'since_issue_date:<94', 'since_issue_date:<99',\n",
        "'since_issue_date:<103', 'since_issue_date:<112',\n",
        "'since_issue_date:<142', 'since_issue_date:>=142',\n",
        "###\n",
        "'interest_rate:<9.548', 'interest_rate:9.548-12.025',\n",
        "'interest_rate:12.025-14.089', 'interest_rate:14.089-15.74',\n",
        "'interest_rate:15.74-20.281', 'interest_rate:>20.281',\n",
        "###\n",
        "'earl_cr_line:<209', 'earl_cr_line:209-285',\n",
        "'earl_cr_line:285-323', 'earl_cr_line:323-380',\n",
        "'earl_cr_line:380-437', 'earl_cr_line:>=437', \n",
        "###\n",
        "'delinq_2yrs:0',\n",
        "'delinq_2yrs:1-3', 'delinq_2yrs:4-11', 'delinq_2yrs:>=12',\n",
        "###\n",
        "'inq_last_6mths:0', 'inq_last_6mths:1-2', 'inq_last_6mths:3-6',\n",
        "'inq_last_6mths:>6', \n",
        "###\n",
        "'open_acc:0', 'open_acc:1-3', 'open_acc:4-9',\n",
        "'open_acc:10-12', 'open_acc:13-17', 'open_acc:18-22',\n",
        "'open_acc:23-27', 'open_acc:28-35', 'open_acc:>=36', \n",
        "###\n",
        "'pub_rec:0',\n",
        "'pub_rec:1-2', 'pub_rec:3-5', 'pub_rec:>=6', \n",
        "###\n",
        "'total_acc:<=3',\n",
        "'total_acc:4-15', 'total_acc:16-21', 'total_acc:22-27',\n",
        "'total_acc:28-48', 'total_acc:49-63', 'total_acc:64-78',\n",
        "'total_acc:>=79', \n",
        "###\n",
        "'acc_now_delinq:0', 'acc_now_delinq:>=1',\n",
        "###\n",
        "'total_rev_hi_lim:<=5K', 'total_rev_hi_lim:5K-10K',\n",
        "'total_rev_hi_lim:10K-15K', 'total_rev_hi_lim:15K-20K',\n",
        "'total_rev_hi_lim:20K-30K', 'total_rev_hi_lim:30K-40K',\n",
        "'total_rev_hi_lim:40K-55K', 'total_rev_hi_lim:55K-95K',\n",
        "'total_rev_hi_lim:>95K', \n",
        "###\n",
        "'annual_inc:<20K', 'annual_inc:20K-30K',\n",
        "'annual_inc:30K-40K', 'annual_inc:40K-50K', 'annual_inc:50K-60K',\n",
        "'annual_inc:60K-70K', 'annual_inc:70K-80K', 'annual_inc:80K-90K',\n",
        "'annual_inc:90K-100K', 'annual_inc:100K-120K',\n",
        "'annual_inc:120K-140K', 'annual_inc:>140K',\n",
        "###\n",
        "'mths_since_last_delinq:Missing', 'mths_since_last_delinq:0-3',\n",
        "'mths_since_last_delinq:4-30', 'mths_since_last_delinq:31-56',\n",
        "'mths_since_last_delinq:>=57', \n",
        "###\n",
        "'dti:<=1.4', 'dti:1.4-3.5',\n",
        "'dti:3.5-7.7', 'dti:7.7-10.5', 'dti:10.5-16.1', 'dti:16.1-20.3',\n",
        "'dti:20.3-21.7', 'dti:21.7-22.4', 'dti:22.4-35', 'dti:>35',\n",
        "###\n",
        "'mths_since_last_rec:Missing', 'mths_since_last_rec:0-2',\n",
        "'mths_since_last_rec:3-20', 'mths_since_last_rec:21-31',\n",
        "'mths_since_last_rec:32-48', 'mths_since_last_rec:49-60',\n",
        "'mths_since_last_rec:61-84', 'mths_since_last_rec:84-99',\n",
        "'mths_since_last_rec:>100', \n",
        "###\n",
        "'good_loan']\n"
      ],
      "metadata": {
        "id": "2HXZW1_SALsQ"
      },
      "execution_count": 212,
      "outputs": []
    },
    {
      "cell_type": "code",
      "source": [
        "len(main.columns)"
      ],
      "metadata": {
        "colab": {
          "base_uri": "https://localhost:8080/"
        },
        "id": "fjZdWUkW--ir",
        "outputId": "35567209-564a-4fe8-9702-109fe4dde5ec"
      },
      "execution_count": 208,
      "outputs": [
        {
          "output_type": "execute_result",
          "data": {
            "text/plain": [
              "327"
            ]
          },
          "metadata": {},
          "execution_count": 208
        }
      ]
    },
    {
      "cell_type": "code",
      "source": [
        "len(necessary_columns)"
      ],
      "metadata": {
        "colab": {
          "base_uri": "https://localhost:8080/"
        },
        "id": "iy-a0XXgIYSb",
        "outputId": "63038672-a74f-4e6b-d758-6a7859e8131e"
      },
      "execution_count": 211,
      "outputs": [
        {
          "output_type": "execute_result",
          "data": {
            "text/plain": [
              "137"
            ]
          },
          "metadata": {},
          "execution_count": 211
        }
      ]
    },
    {
      "cell_type": "code",
      "source": [
        ""
      ],
      "metadata": {
        "id": "VxcrKC9LIZjJ"
      },
      "execution_count": null,
      "outputs": []
    }
  ]
}