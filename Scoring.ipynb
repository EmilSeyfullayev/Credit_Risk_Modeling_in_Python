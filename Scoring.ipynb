{
  "nbformat": 4,
  "nbformat_minor": 0,
  "metadata": {
    "colab": {
      "name": "Scoring.ipynb",
      "provenance": [],
      "mount_file_id": "16AduZIaqhjXEVyWMP2u7j8w9Vg5nfptw",
      "authorship_tag": "ABX9TyO9l+MMViyylutb6hj9N/bf",
      "include_colab_link": true
    },
    "kernelspec": {
      "name": "python3",
      "display_name": "Python 3"
    },
    "language_info": {
      "name": "python"
    }
  },
  "cells": [
    {
      "cell_type": "markdown",
      "metadata": {
        "id": "view-in-github",
        "colab_type": "text"
      },
      "source": [
        "<a href=\"https://colab.research.google.com/github/EmilSeyfullayev/Credit_Risk_Modeling_in_Python/blob/main/Scoring.ipynb\" target=\"_parent\"><img src=\"https://colab.research.google.com/assets/colab-badge.svg\" alt=\"Open In Colab\"/></a>"
      ]
    },
    {
      "cell_type": "code",
      "execution_count": 1,
      "metadata": {
        "id": "IwA6dmnSLfwM"
      },
      "outputs": [],
      "source": [
        "import pandas as pd\n",
        "import numpy as np\n",
        "import matplotlib.pyplot as plt\n",
        "import seaborn as sns\n",
        "sns.set_style('whitegrid')\n",
        "from sklearn.linear_model import LogisticRegression\n",
        "from sklearn import linear_model\n",
        "import scipy.stats as stat\n",
        "import pickle"
      ]
    },
    {
      "cell_type": "code",
      "source": [
        "class LogisticRegression_with_p_values:\n",
        "    \n",
        "    def __init__(self,*args,**kwargs):#,**kwargs):\n",
        "        self.model = linear_model.LogisticRegression(*args,**kwargs)#,**args)\n",
        "\n",
        "    def fit(self,X,y):\n",
        "        self.model.fit(X,y)\n",
        "        \n",
        "        #### Get p-values for the fitted model ####\n",
        "        denom = (2.0 * (1.0 + np.cosh(self.model.decision_function(X))))\n",
        "        denom = np.tile(denom,(X.shape[1],1)).T\n",
        "        F_ij = np.dot((X / denom).T,X) ## Fisher Information Matrix\n",
        "        Cramer_Rao = np.linalg.inv(F_ij) ## Inverse Information Matrix\n",
        "        sigma_estimates = np.sqrt(np.diagonal(Cramer_Rao))\n",
        "        z_scores = self.model.coef_[0] / sigma_estimates # z-score for eaach model coefficient\n",
        "        p_values = [stat.norm.sf(abs(x)) * 2 for x in z_scores] ### two tailed test for p-values\n",
        "        \n",
        "        self.coef_ = self.model.coef_\n",
        "        self.intercept_ = self.model.intercept_\n",
        "        #self.z_scores = z_scores\n",
        "        self.p_values = p_values\n",
        "        #self.sigma_estimates = sigma_estimates\n",
        "        #self.F_ij = F_ij"
      ],
      "metadata": {
        "id": "Kg1P98kuNY8p"
      },
      "execution_count": 2,
      "outputs": []
    },
    {
      "cell_type": "code",
      "source": [
        "loaded_model = pickle.load(\n",
        "    open(\"/content/drive/MyDrive/Credit Risk Modeling/finalized_model.sav\", 'rb')\n",
        ")"
      ],
      "metadata": {
        "id": "RZutrJujMRK9"
      },
      "execution_count": 3,
      "outputs": []
    },
    {
      "cell_type": "code",
      "source": [
        "lg = loaded_model.model"
      ],
      "metadata": {
        "id": "GmssX-B1Mh_b"
      },
      "execution_count": 5,
      "outputs": []
    },
    {
      "cell_type": "code",
      "source": [
        "lg.coef_"
      ],
      "metadata": {
        "colab": {
          "base_uri": "https://localhost:8080/"
        },
        "id": "HBaBRzkCaG4Q",
        "outputId": "ac9aeb63-d264-4920-8082-6a793afc5f3c"
      },
      "execution_count": 6,
      "outputs": [
        {
          "output_type": "execute_result",
          "data": {
            "text/plain": [
              "array([[ 1.19920637e+00,  9.60957332e-01,  7.67240462e-01,\n",
              "         5.70963385e-01,  3.80889638e-01,  1.67464526e-01,\n",
              "        -7.95648717e-02,  1.22875514e-02,  1.00498574e-01,\n",
              "        -9.45489143e-03, -6.57554625e-03,  6.34974819e-02,\n",
              "         4.11168564e-02,  7.89735506e-02,  7.10854980e-02,\n",
              "         1.09126370e-01,  1.65443616e-01,  2.51127875e-01,\n",
              "         2.86188138e-01,  3.47177716e-01,  4.69843690e-01,\n",
              "         2.82473158e-02,  6.76828867e-02,  1.01134699e-01,\n",
              "         2.56517267e-01,  1.09592631e-01,  1.20311033e-01,\n",
              "         9.38237093e-02,  7.78912376e-02,  1.24816816e-01,\n",
              "         8.84818724e-01,  5.48146777e-01,  3.55308290e-01,\n",
              "         2.74362336e-01,  9.38522181e-02, -6.58080441e-02,\n",
              "        -5.95261401e-02, -2.65132095e-02,  4.89959467e-02,\n",
              "         1.73325993e-02,  6.96502436e-01,  5.49928171e-01,\n",
              "         3.10185462e-01,  2.58323574e-01,  3.78817296e-01,\n",
              "         4.55189983e-01,  7.03743872e-02,  5.46436509e-02,\n",
              "         1.84450640e-02,  4.15778285e-02,  4.94760746e-02,\n",
              "         6.82561105e-02,  8.51503060e-02,  1.92460761e-01,\n",
              "        -4.03390573e-02,  2.38048524e-02,  1.25645663e-01,\n",
              "         2.06552683e-01,  2.76998725e-01,  3.38392625e-01,\n",
              "         3.87500471e-01,  4.25657478e-01,  5.13007256e-01,\n",
              "         5.95753443e-01,  5.33381349e-01,  7.19192869e-02,\n",
              "         1.15714548e-01,  1.66245107e-01,  1.20788533e-01,\n",
              "         7.78395980e-02,  2.46933863e-01,  2.50212833e-01,\n",
              "         2.30139526e-01,  1.53133049e-01,  5.27180241e-02,\n",
              "         5.10741657e-02,  1.05700805e-03, -1.91254693e-02,\n",
              "         3.99927172e-01,  2.27701352e-01,  1.28906864e-01,\n",
              "         4.35787903e-01,  3.19384137e-01,  1.90467936e-01,\n",
              "        -7.60441297e-03,  8.11826832e-02,  1.47987215e+00,\n",
              "         1.14992817e+00,  9.90426336e-01,  8.02972388e-01,\n",
              "         6.86174674e-01,  5.08828028e-01,  2.53832515e-01,\n",
              "        -6.39383993e-02,  6.95914577e-02]])"
            ]
          },
          "metadata": {},
          "execution_count": 6
        }
      ]
    },
    {
      "cell_type": "code",
      "source": [
        ""
      ],
      "metadata": {
        "id": "Jrdqbb5daTCj"
      },
      "execution_count": null,
      "outputs": []
    }
  ]
}