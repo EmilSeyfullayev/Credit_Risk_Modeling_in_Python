{
  "nbformat": 4,
  "nbformat_minor": 0,
  "metadata": {
    "colab": {
      "name": "General processing.ipynb",
      "provenance": [],
      "collapsed_sections": [],
      "mount_file_id": "1meXeVGcggXPc88nPZS8hYAZnZSp6Jhvk",
      "authorship_tag": "ABX9TyM+WIY0B/1pmDAAjjyoSnE+",
      "include_colab_link": true
    },
    "kernelspec": {
      "name": "python3",
      "display_name": "Python 3"
    },
    "language_info": {
      "name": "python"
    }
  },
  "cells": [
    {
      "cell_type": "markdown",
      "metadata": {
        "id": "view-in-github",
        "colab_type": "text"
      },
      "source": [
        "<a href=\"https://colab.research.google.com/github/EmilSeyfullayev/Credit_Risk_Modeling_in_Python/blob/main/General_processing.ipynb\" target=\"_parent\"><img src=\"https://colab.research.google.com/assets/colab-badge.svg\" alt=\"Open In Colab\"/></a>"
      ]
    },
    {
      "cell_type": "markdown",
      "metadata": {
        "id": "q6O_GQ7JTz4o"
      },
      "source": [
        "# Initial basic processing and cleaning"
      ]
    },
    {
      "cell_type": "code",
      "metadata": {
        "id": "6nLzQdUKBJlB"
      },
      "source": [
        "import pandas as pd\n",
        "import numpy as np\n",
        "import matplotlib.pyplot as plt\n",
        "import seaborn as sns\n",
        "sns.set_style(\"whitegrid\")"
      ],
      "execution_count": 1,
      "outputs": []
    },
    {
      "cell_type": "code",
      "metadata": {
        "colab": {
          "base_uri": "https://localhost:8080/"
        },
        "id": "NCMQgdleFF5v",
        "outputId": "b9c5d463-4850-41b5-9aca-a39295a60d12"
      },
      "source": [
        "# data_backup = pd.read_csv(\"/content/drive/MyDrive/Credit Risk Modeling/loan_data_2007_2014.csv\")\n",
        "df = pd.read_csv(\"/content/drive/MyDrive/Credit Risk Modeling/loan_data_2007_2014.csv\")"
      ],
      "execution_count": 2,
      "outputs": [
        {
          "output_type": "stream",
          "name": "stderr",
          "text": [
            "/usr/local/lib/python3.7/dist-packages/IPython/core/interactiveshell.py:2718: DtypeWarning: Columns (20) have mixed types.Specify dtype option on import or set low_memory=False.\n",
            "  interactivity=interactivity, compiler=compiler, result=result)\n"
          ]
        }
      ]
    },
    {
      "cell_type": "code",
      "metadata": {
        "id": "XQiyQAGQF-PY"
      },
      "source": [
        "# df = data_backup.copy()"
      ],
      "execution_count": 3,
      "outputs": []
    },
    {
      "cell_type": "code",
      "metadata": {
        "colab": {
          "base_uri": "https://localhost:8080/",
          "height": 424
        },
        "id": "TwN5_AVpLID-",
        "outputId": "4f95db07-62ad-4e4e-a13c-379680acebfe"
      },
      "source": [
        "df.head(3)"
      ],
      "execution_count": 4,
      "outputs": [
        {
          "output_type": "execute_result",
          "data": {
            "text/html": [
              "<div>\n",
              "<style scoped>\n",
              "    .dataframe tbody tr th:only-of-type {\n",
              "        vertical-align: middle;\n",
              "    }\n",
              "\n",
              "    .dataframe tbody tr th {\n",
              "        vertical-align: top;\n",
              "    }\n",
              "\n",
              "    .dataframe thead th {\n",
              "        text-align: right;\n",
              "    }\n",
              "</style>\n",
              "<table border=\"1\" class=\"dataframe\">\n",
              "  <thead>\n",
              "    <tr style=\"text-align: right;\">\n",
              "      <th></th>\n",
              "      <th>Unnamed: 0</th>\n",
              "      <th>id</th>\n",
              "      <th>member_id</th>\n",
              "      <th>loan_amnt</th>\n",
              "      <th>funded_amnt</th>\n",
              "      <th>funded_amnt_inv</th>\n",
              "      <th>term</th>\n",
              "      <th>int_rate</th>\n",
              "      <th>installment</th>\n",
              "      <th>grade</th>\n",
              "      <th>sub_grade</th>\n",
              "      <th>emp_title</th>\n",
              "      <th>emp_length</th>\n",
              "      <th>home_ownership</th>\n",
              "      <th>annual_inc</th>\n",
              "      <th>verification_status</th>\n",
              "      <th>issue_d</th>\n",
              "      <th>loan_status</th>\n",
              "      <th>pymnt_plan</th>\n",
              "      <th>url</th>\n",
              "      <th>desc</th>\n",
              "      <th>purpose</th>\n",
              "      <th>title</th>\n",
              "      <th>zip_code</th>\n",
              "      <th>addr_state</th>\n",
              "      <th>dti</th>\n",
              "      <th>delinq_2yrs</th>\n",
              "      <th>earliest_cr_line</th>\n",
              "      <th>inq_last_6mths</th>\n",
              "      <th>mths_since_last_delinq</th>\n",
              "      <th>mths_since_last_record</th>\n",
              "      <th>open_acc</th>\n",
              "      <th>pub_rec</th>\n",
              "      <th>revol_bal</th>\n",
              "      <th>revol_util</th>\n",
              "      <th>total_acc</th>\n",
              "      <th>initial_list_status</th>\n",
              "      <th>out_prncp</th>\n",
              "      <th>out_prncp_inv</th>\n",
              "      <th>total_pymnt</th>\n",
              "      <th>total_pymnt_inv</th>\n",
              "      <th>total_rec_prncp</th>\n",
              "      <th>total_rec_int</th>\n",
              "      <th>total_rec_late_fee</th>\n",
              "      <th>recoveries</th>\n",
              "      <th>collection_recovery_fee</th>\n",
              "      <th>last_pymnt_d</th>\n",
              "      <th>last_pymnt_amnt</th>\n",
              "      <th>next_pymnt_d</th>\n",
              "      <th>last_credit_pull_d</th>\n",
              "      <th>collections_12_mths_ex_med</th>\n",
              "      <th>mths_since_last_major_derog</th>\n",
              "      <th>policy_code</th>\n",
              "      <th>application_type</th>\n",
              "      <th>annual_inc_joint</th>\n",
              "      <th>dti_joint</th>\n",
              "      <th>verification_status_joint</th>\n",
              "      <th>acc_now_delinq</th>\n",
              "      <th>tot_coll_amt</th>\n",
              "      <th>tot_cur_bal</th>\n",
              "      <th>open_acc_6m</th>\n",
              "      <th>open_il_6m</th>\n",
              "      <th>open_il_12m</th>\n",
              "      <th>open_il_24m</th>\n",
              "      <th>mths_since_rcnt_il</th>\n",
              "      <th>total_bal_il</th>\n",
              "      <th>il_util</th>\n",
              "      <th>open_rv_12m</th>\n",
              "      <th>open_rv_24m</th>\n",
              "      <th>max_bal_bc</th>\n",
              "      <th>all_util</th>\n",
              "      <th>total_rev_hi_lim</th>\n",
              "      <th>inq_fi</th>\n",
              "      <th>total_cu_tl</th>\n",
              "      <th>inq_last_12m</th>\n",
              "    </tr>\n",
              "  </thead>\n",
              "  <tbody>\n",
              "    <tr>\n",
              "      <th>0</th>\n",
              "      <td>0</td>\n",
              "      <td>1077501</td>\n",
              "      <td>1296599</td>\n",
              "      <td>5000</td>\n",
              "      <td>5000</td>\n",
              "      <td>4975.0</td>\n",
              "      <td>36 months</td>\n",
              "      <td>10.65</td>\n",
              "      <td>162.87</td>\n",
              "      <td>B</td>\n",
              "      <td>B2</td>\n",
              "      <td>NaN</td>\n",
              "      <td>10+ years</td>\n",
              "      <td>RENT</td>\n",
              "      <td>24000.0</td>\n",
              "      <td>Verified</td>\n",
              "      <td>Dec-11</td>\n",
              "      <td>Fully Paid</td>\n",
              "      <td>n</td>\n",
              "      <td>https://www.lendingclub.com/browse/loanDetail....</td>\n",
              "      <td>Borrower added on 12/22/11 &gt; I need to upgra...</td>\n",
              "      <td>credit_card</td>\n",
              "      <td>Computer</td>\n",
              "      <td>860xx</td>\n",
              "      <td>AZ</td>\n",
              "      <td>27.65</td>\n",
              "      <td>0.0</td>\n",
              "      <td>Jan-85</td>\n",
              "      <td>1.0</td>\n",
              "      <td>NaN</td>\n",
              "      <td>NaN</td>\n",
              "      <td>3.0</td>\n",
              "      <td>0.0</td>\n",
              "      <td>13648</td>\n",
              "      <td>83.7</td>\n",
              "      <td>9.0</td>\n",
              "      <td>f</td>\n",
              "      <td>0.0</td>\n",
              "      <td>0.0</td>\n",
              "      <td>5861.071414</td>\n",
              "      <td>5831.78</td>\n",
              "      <td>5000.00</td>\n",
              "      <td>861.07</td>\n",
              "      <td>0.0</td>\n",
              "      <td>0.00</td>\n",
              "      <td>0.00</td>\n",
              "      <td>Jan-15</td>\n",
              "      <td>171.62</td>\n",
              "      <td>NaN</td>\n",
              "      <td>Jan-16</td>\n",
              "      <td>0.0</td>\n",
              "      <td>NaN</td>\n",
              "      <td>1</td>\n",
              "      <td>INDIVIDUAL</td>\n",
              "      <td>NaN</td>\n",
              "      <td>NaN</td>\n",
              "      <td>NaN</td>\n",
              "      <td>0.0</td>\n",
              "      <td>NaN</td>\n",
              "      <td>NaN</td>\n",
              "      <td>NaN</td>\n",
              "      <td>NaN</td>\n",
              "      <td>NaN</td>\n",
              "      <td>NaN</td>\n",
              "      <td>NaN</td>\n",
              "      <td>NaN</td>\n",
              "      <td>NaN</td>\n",
              "      <td>NaN</td>\n",
              "      <td>NaN</td>\n",
              "      <td>NaN</td>\n",
              "      <td>NaN</td>\n",
              "      <td>NaN</td>\n",
              "      <td>NaN</td>\n",
              "      <td>NaN</td>\n",
              "      <td>NaN</td>\n",
              "    </tr>\n",
              "    <tr>\n",
              "      <th>1</th>\n",
              "      <td>1</td>\n",
              "      <td>1077430</td>\n",
              "      <td>1314167</td>\n",
              "      <td>2500</td>\n",
              "      <td>2500</td>\n",
              "      <td>2500.0</td>\n",
              "      <td>60 months</td>\n",
              "      <td>15.27</td>\n",
              "      <td>59.83</td>\n",
              "      <td>C</td>\n",
              "      <td>C4</td>\n",
              "      <td>Ryder</td>\n",
              "      <td>&lt; 1 year</td>\n",
              "      <td>RENT</td>\n",
              "      <td>30000.0</td>\n",
              "      <td>Source Verified</td>\n",
              "      <td>Dec-11</td>\n",
              "      <td>Charged Off</td>\n",
              "      <td>n</td>\n",
              "      <td>https://www.lendingclub.com/browse/loanDetail....</td>\n",
              "      <td>Borrower added on 12/22/11 &gt; I plan to use t...</td>\n",
              "      <td>car</td>\n",
              "      <td>bike</td>\n",
              "      <td>309xx</td>\n",
              "      <td>GA</td>\n",
              "      <td>1.00</td>\n",
              "      <td>0.0</td>\n",
              "      <td>Apr-99</td>\n",
              "      <td>5.0</td>\n",
              "      <td>NaN</td>\n",
              "      <td>NaN</td>\n",
              "      <td>3.0</td>\n",
              "      <td>0.0</td>\n",
              "      <td>1687</td>\n",
              "      <td>9.4</td>\n",
              "      <td>4.0</td>\n",
              "      <td>f</td>\n",
              "      <td>0.0</td>\n",
              "      <td>0.0</td>\n",
              "      <td>1008.710000</td>\n",
              "      <td>1008.71</td>\n",
              "      <td>456.46</td>\n",
              "      <td>435.17</td>\n",
              "      <td>0.0</td>\n",
              "      <td>117.08</td>\n",
              "      <td>1.11</td>\n",
              "      <td>Apr-13</td>\n",
              "      <td>119.66</td>\n",
              "      <td>NaN</td>\n",
              "      <td>Sep-13</td>\n",
              "      <td>0.0</td>\n",
              "      <td>NaN</td>\n",
              "      <td>1</td>\n",
              "      <td>INDIVIDUAL</td>\n",
              "      <td>NaN</td>\n",
              "      <td>NaN</td>\n",
              "      <td>NaN</td>\n",
              "      <td>0.0</td>\n",
              "      <td>NaN</td>\n",
              "      <td>NaN</td>\n",
              "      <td>NaN</td>\n",
              "      <td>NaN</td>\n",
              "      <td>NaN</td>\n",
              "      <td>NaN</td>\n",
              "      <td>NaN</td>\n",
              "      <td>NaN</td>\n",
              "      <td>NaN</td>\n",
              "      <td>NaN</td>\n",
              "      <td>NaN</td>\n",
              "      <td>NaN</td>\n",
              "      <td>NaN</td>\n",
              "      <td>NaN</td>\n",
              "      <td>NaN</td>\n",
              "      <td>NaN</td>\n",
              "      <td>NaN</td>\n",
              "    </tr>\n",
              "    <tr>\n",
              "      <th>2</th>\n",
              "      <td>2</td>\n",
              "      <td>1077175</td>\n",
              "      <td>1313524</td>\n",
              "      <td>2400</td>\n",
              "      <td>2400</td>\n",
              "      <td>2400.0</td>\n",
              "      <td>36 months</td>\n",
              "      <td>15.96</td>\n",
              "      <td>84.33</td>\n",
              "      <td>C</td>\n",
              "      <td>C5</td>\n",
              "      <td>NaN</td>\n",
              "      <td>10+ years</td>\n",
              "      <td>RENT</td>\n",
              "      <td>12252.0</td>\n",
              "      <td>Not Verified</td>\n",
              "      <td>Dec-11</td>\n",
              "      <td>Fully Paid</td>\n",
              "      <td>n</td>\n",
              "      <td>https://www.lendingclub.com/browse/loanDetail....</td>\n",
              "      <td>NaN</td>\n",
              "      <td>small_business</td>\n",
              "      <td>real estate business</td>\n",
              "      <td>606xx</td>\n",
              "      <td>IL</td>\n",
              "      <td>8.72</td>\n",
              "      <td>0.0</td>\n",
              "      <td>Nov-01</td>\n",
              "      <td>2.0</td>\n",
              "      <td>NaN</td>\n",
              "      <td>NaN</td>\n",
              "      <td>2.0</td>\n",
              "      <td>0.0</td>\n",
              "      <td>2956</td>\n",
              "      <td>98.5</td>\n",
              "      <td>10.0</td>\n",
              "      <td>f</td>\n",
              "      <td>0.0</td>\n",
              "      <td>0.0</td>\n",
              "      <td>3003.653644</td>\n",
              "      <td>3003.65</td>\n",
              "      <td>2400.00</td>\n",
              "      <td>603.65</td>\n",
              "      <td>0.0</td>\n",
              "      <td>0.00</td>\n",
              "      <td>0.00</td>\n",
              "      <td>Jun-14</td>\n",
              "      <td>649.91</td>\n",
              "      <td>NaN</td>\n",
              "      <td>Jan-16</td>\n",
              "      <td>0.0</td>\n",
              "      <td>NaN</td>\n",
              "      <td>1</td>\n",
              "      <td>INDIVIDUAL</td>\n",
              "      <td>NaN</td>\n",
              "      <td>NaN</td>\n",
              "      <td>NaN</td>\n",
              "      <td>0.0</td>\n",
              "      <td>NaN</td>\n",
              "      <td>NaN</td>\n",
              "      <td>NaN</td>\n",
              "      <td>NaN</td>\n",
              "      <td>NaN</td>\n",
              "      <td>NaN</td>\n",
              "      <td>NaN</td>\n",
              "      <td>NaN</td>\n",
              "      <td>NaN</td>\n",
              "      <td>NaN</td>\n",
              "      <td>NaN</td>\n",
              "      <td>NaN</td>\n",
              "      <td>NaN</td>\n",
              "      <td>NaN</td>\n",
              "      <td>NaN</td>\n",
              "      <td>NaN</td>\n",
              "      <td>NaN</td>\n",
              "    </tr>\n",
              "  </tbody>\n",
              "</table>\n",
              "</div>"
            ],
            "text/plain": [
              "   Unnamed: 0       id  member_id  ...  inq_fi  total_cu_tl  inq_last_12m\n",
              "0           0  1077501    1296599  ...     NaN          NaN           NaN\n",
              "1           1  1077430    1314167  ...     NaN          NaN           NaN\n",
              "2           2  1077175    1313524  ...     NaN          NaN           NaN\n",
              "\n",
              "[3 rows x 75 columns]"
            ]
          },
          "metadata": {},
          "execution_count": 4
        }
      ]
    },
    {
      "cell_type": "code",
      "metadata": {
        "colab": {
          "base_uri": "https://localhost:8080/",
          "height": 431
        },
        "id": "Eb8VZOV2OAu-",
        "outputId": "87aa262f-057e-493c-897d-a5e08acd2dbc"
      },
      "source": [
        "df.describe(include='all')"
      ],
      "execution_count": 5,
      "outputs": [
        {
          "output_type": "execute_result",
          "data": {
            "text/html": [
              "<div>\n",
              "<style scoped>\n",
              "    .dataframe tbody tr th:only-of-type {\n",
              "        vertical-align: middle;\n",
              "    }\n",
              "\n",
              "    .dataframe tbody tr th {\n",
              "        vertical-align: top;\n",
              "    }\n",
              "\n",
              "    .dataframe thead th {\n",
              "        text-align: right;\n",
              "    }\n",
              "</style>\n",
              "<table border=\"1\" class=\"dataframe\">\n",
              "  <thead>\n",
              "    <tr style=\"text-align: right;\">\n",
              "      <th></th>\n",
              "      <th>Unnamed: 0</th>\n",
              "      <th>id</th>\n",
              "      <th>member_id</th>\n",
              "      <th>loan_amnt</th>\n",
              "      <th>funded_amnt</th>\n",
              "      <th>funded_amnt_inv</th>\n",
              "      <th>term</th>\n",
              "      <th>int_rate</th>\n",
              "      <th>installment</th>\n",
              "      <th>grade</th>\n",
              "      <th>sub_grade</th>\n",
              "      <th>emp_title</th>\n",
              "      <th>emp_length</th>\n",
              "      <th>home_ownership</th>\n",
              "      <th>annual_inc</th>\n",
              "      <th>verification_status</th>\n",
              "      <th>issue_d</th>\n",
              "      <th>loan_status</th>\n",
              "      <th>pymnt_plan</th>\n",
              "      <th>url</th>\n",
              "      <th>desc</th>\n",
              "      <th>purpose</th>\n",
              "      <th>title</th>\n",
              "      <th>zip_code</th>\n",
              "      <th>addr_state</th>\n",
              "      <th>dti</th>\n",
              "      <th>delinq_2yrs</th>\n",
              "      <th>earliest_cr_line</th>\n",
              "      <th>inq_last_6mths</th>\n",
              "      <th>mths_since_last_delinq</th>\n",
              "      <th>mths_since_last_record</th>\n",
              "      <th>open_acc</th>\n",
              "      <th>pub_rec</th>\n",
              "      <th>revol_bal</th>\n",
              "      <th>revol_util</th>\n",
              "      <th>total_acc</th>\n",
              "      <th>initial_list_status</th>\n",
              "      <th>out_prncp</th>\n",
              "      <th>out_prncp_inv</th>\n",
              "      <th>total_pymnt</th>\n",
              "      <th>total_pymnt_inv</th>\n",
              "      <th>total_rec_prncp</th>\n",
              "      <th>total_rec_int</th>\n",
              "      <th>total_rec_late_fee</th>\n",
              "      <th>recoveries</th>\n",
              "      <th>collection_recovery_fee</th>\n",
              "      <th>last_pymnt_d</th>\n",
              "      <th>last_pymnt_amnt</th>\n",
              "      <th>next_pymnt_d</th>\n",
              "      <th>last_credit_pull_d</th>\n",
              "      <th>collections_12_mths_ex_med</th>\n",
              "      <th>mths_since_last_major_derog</th>\n",
              "      <th>policy_code</th>\n",
              "      <th>application_type</th>\n",
              "      <th>annual_inc_joint</th>\n",
              "      <th>dti_joint</th>\n",
              "      <th>verification_status_joint</th>\n",
              "      <th>acc_now_delinq</th>\n",
              "      <th>tot_coll_amt</th>\n",
              "      <th>tot_cur_bal</th>\n",
              "      <th>open_acc_6m</th>\n",
              "      <th>open_il_6m</th>\n",
              "      <th>open_il_12m</th>\n",
              "      <th>open_il_24m</th>\n",
              "      <th>mths_since_rcnt_il</th>\n",
              "      <th>total_bal_il</th>\n",
              "      <th>il_util</th>\n",
              "      <th>open_rv_12m</th>\n",
              "      <th>open_rv_24m</th>\n",
              "      <th>max_bal_bc</th>\n",
              "      <th>all_util</th>\n",
              "      <th>total_rev_hi_lim</th>\n",
              "      <th>inq_fi</th>\n",
              "      <th>total_cu_tl</th>\n",
              "      <th>inq_last_12m</th>\n",
              "    </tr>\n",
              "  </thead>\n",
              "  <tbody>\n",
              "    <tr>\n",
              "      <th>count</th>\n",
              "      <td>466285.000000</td>\n",
              "      <td>4.662850e+05</td>\n",
              "      <td>4.662850e+05</td>\n",
              "      <td>466285.000000</td>\n",
              "      <td>466285.000000</td>\n",
              "      <td>466285.000000</td>\n",
              "      <td>466285</td>\n",
              "      <td>466285.000000</td>\n",
              "      <td>466285.000000</td>\n",
              "      <td>466285</td>\n",
              "      <td>466285</td>\n",
              "      <td>438697</td>\n",
              "      <td>445277</td>\n",
              "      <td>466285</td>\n",
              "      <td>4.662810e+05</td>\n",
              "      <td>466285</td>\n",
              "      <td>466285</td>\n",
              "      <td>466285</td>\n",
              "      <td>466285</td>\n",
              "      <td>466285</td>\n",
              "      <td>125983</td>\n",
              "      <td>466285</td>\n",
              "      <td>466265</td>\n",
              "      <td>466285</td>\n",
              "      <td>466285</td>\n",
              "      <td>466285.000000</td>\n",
              "      <td>466256.000000</td>\n",
              "      <td>466256</td>\n",
              "      <td>466256.000000</td>\n",
              "      <td>215934.000000</td>\n",
              "      <td>62638.000000</td>\n",
              "      <td>466256.000000</td>\n",
              "      <td>466256.000000</td>\n",
              "      <td>4.662850e+05</td>\n",
              "      <td>465945.000000</td>\n",
              "      <td>466256.000000</td>\n",
              "      <td>466285</td>\n",
              "      <td>466285.000000</td>\n",
              "      <td>466285.000000</td>\n",
              "      <td>466285.000000</td>\n",
              "      <td>466285.000000</td>\n",
              "      <td>466285.000000</td>\n",
              "      <td>466285.000000</td>\n",
              "      <td>466285.000000</td>\n",
              "      <td>466285.000000</td>\n",
              "      <td>466285.000000</td>\n",
              "      <td>465909</td>\n",
              "      <td>466285.000000</td>\n",
              "      <td>239071</td>\n",
              "      <td>466243</td>\n",
              "      <td>466140.000000</td>\n",
              "      <td>98974.000000</td>\n",
              "      <td>466285.0</td>\n",
              "      <td>466285</td>\n",
              "      <td>0.0</td>\n",
              "      <td>0.0</td>\n",
              "      <td>0.0</td>\n",
              "      <td>466256.000000</td>\n",
              "      <td>3.960090e+05</td>\n",
              "      <td>3.960090e+05</td>\n",
              "      <td>0.0</td>\n",
              "      <td>0.0</td>\n",
              "      <td>0.0</td>\n",
              "      <td>0.0</td>\n",
              "      <td>0.0</td>\n",
              "      <td>0.0</td>\n",
              "      <td>0.0</td>\n",
              "      <td>0.0</td>\n",
              "      <td>0.0</td>\n",
              "      <td>0.0</td>\n",
              "      <td>0.0</td>\n",
              "      <td>3.960090e+05</td>\n",
              "      <td>0.0</td>\n",
              "      <td>0.0</td>\n",
              "      <td>0.0</td>\n",
              "    </tr>\n",
              "    <tr>\n",
              "      <th>unique</th>\n",
              "      <td>NaN</td>\n",
              "      <td>NaN</td>\n",
              "      <td>NaN</td>\n",
              "      <td>NaN</td>\n",
              "      <td>NaN</td>\n",
              "      <td>NaN</td>\n",
              "      <td>2</td>\n",
              "      <td>NaN</td>\n",
              "      <td>NaN</td>\n",
              "      <td>7</td>\n",
              "      <td>35</td>\n",
              "      <td>205475</td>\n",
              "      <td>11</td>\n",
              "      <td>6</td>\n",
              "      <td>NaN</td>\n",
              "      <td>3</td>\n",
              "      <td>91</td>\n",
              "      <td>9</td>\n",
              "      <td>2</td>\n",
              "      <td>466285</td>\n",
              "      <td>124436</td>\n",
              "      <td>14</td>\n",
              "      <td>63099</td>\n",
              "      <td>888</td>\n",
              "      <td>50</td>\n",
              "      <td>NaN</td>\n",
              "      <td>NaN</td>\n",
              "      <td>664</td>\n",
              "      <td>NaN</td>\n",
              "      <td>NaN</td>\n",
              "      <td>NaN</td>\n",
              "      <td>NaN</td>\n",
              "      <td>NaN</td>\n",
              "      <td>NaN</td>\n",
              "      <td>NaN</td>\n",
              "      <td>NaN</td>\n",
              "      <td>2</td>\n",
              "      <td>NaN</td>\n",
              "      <td>NaN</td>\n",
              "      <td>NaN</td>\n",
              "      <td>NaN</td>\n",
              "      <td>NaN</td>\n",
              "      <td>NaN</td>\n",
              "      <td>NaN</td>\n",
              "      <td>NaN</td>\n",
              "      <td>NaN</td>\n",
              "      <td>98</td>\n",
              "      <td>NaN</td>\n",
              "      <td>100</td>\n",
              "      <td>103</td>\n",
              "      <td>NaN</td>\n",
              "      <td>NaN</td>\n",
              "      <td>NaN</td>\n",
              "      <td>1</td>\n",
              "      <td>NaN</td>\n",
              "      <td>NaN</td>\n",
              "      <td>NaN</td>\n",
              "      <td>NaN</td>\n",
              "      <td>NaN</td>\n",
              "      <td>NaN</td>\n",
              "      <td>NaN</td>\n",
              "      <td>NaN</td>\n",
              "      <td>NaN</td>\n",
              "      <td>NaN</td>\n",
              "      <td>NaN</td>\n",
              "      <td>NaN</td>\n",
              "      <td>NaN</td>\n",
              "      <td>NaN</td>\n",
              "      <td>NaN</td>\n",
              "      <td>NaN</td>\n",
              "      <td>NaN</td>\n",
              "      <td>NaN</td>\n",
              "      <td>NaN</td>\n",
              "      <td>NaN</td>\n",
              "      <td>NaN</td>\n",
              "    </tr>\n",
              "    <tr>\n",
              "      <th>top</th>\n",
              "      <td>NaN</td>\n",
              "      <td>NaN</td>\n",
              "      <td>NaN</td>\n",
              "      <td>NaN</td>\n",
              "      <td>NaN</td>\n",
              "      <td>NaN</td>\n",
              "      <td>36 months</td>\n",
              "      <td>NaN</td>\n",
              "      <td>NaN</td>\n",
              "      <td>B</td>\n",
              "      <td>B3</td>\n",
              "      <td>Teacher</td>\n",
              "      <td>10+ years</td>\n",
              "      <td>MORTGAGE</td>\n",
              "      <td>NaN</td>\n",
              "      <td>Verified</td>\n",
              "      <td>Oct-14</td>\n",
              "      <td>Current</td>\n",
              "      <td>n</td>\n",
              "      <td>https://www.lendingclub.com/browse/loanDetail....</td>\n",
              "      <td></td>\n",
              "      <td>debt_consolidation</td>\n",
              "      <td>Debt consolidation</td>\n",
              "      <td>945xx</td>\n",
              "      <td>CA</td>\n",
              "      <td>NaN</td>\n",
              "      <td>NaN</td>\n",
              "      <td>Oct-00</td>\n",
              "      <td>NaN</td>\n",
              "      <td>NaN</td>\n",
              "      <td>NaN</td>\n",
              "      <td>NaN</td>\n",
              "      <td>NaN</td>\n",
              "      <td>NaN</td>\n",
              "      <td>NaN</td>\n",
              "      <td>NaN</td>\n",
              "      <td>f</td>\n",
              "      <td>NaN</td>\n",
              "      <td>NaN</td>\n",
              "      <td>NaN</td>\n",
              "      <td>NaN</td>\n",
              "      <td>NaN</td>\n",
              "      <td>NaN</td>\n",
              "      <td>NaN</td>\n",
              "      <td>NaN</td>\n",
              "      <td>NaN</td>\n",
              "      <td>Jan-16</td>\n",
              "      <td>NaN</td>\n",
              "      <td>Feb-16</td>\n",
              "      <td>Jan-16</td>\n",
              "      <td>NaN</td>\n",
              "      <td>NaN</td>\n",
              "      <td>NaN</td>\n",
              "      <td>INDIVIDUAL</td>\n",
              "      <td>NaN</td>\n",
              "      <td>NaN</td>\n",
              "      <td>NaN</td>\n",
              "      <td>NaN</td>\n",
              "      <td>NaN</td>\n",
              "      <td>NaN</td>\n",
              "      <td>NaN</td>\n",
              "      <td>NaN</td>\n",
              "      <td>NaN</td>\n",
              "      <td>NaN</td>\n",
              "      <td>NaN</td>\n",
              "      <td>NaN</td>\n",
              "      <td>NaN</td>\n",
              "      <td>NaN</td>\n",
              "      <td>NaN</td>\n",
              "      <td>NaN</td>\n",
              "      <td>NaN</td>\n",
              "      <td>NaN</td>\n",
              "      <td>NaN</td>\n",
              "      <td>NaN</td>\n",
              "      <td>NaN</td>\n",
              "    </tr>\n",
              "    <tr>\n",
              "      <th>freq</th>\n",
              "      <td>NaN</td>\n",
              "      <td>NaN</td>\n",
              "      <td>NaN</td>\n",
              "      <td>NaN</td>\n",
              "      <td>NaN</td>\n",
              "      <td>NaN</td>\n",
              "      <td>337953</td>\n",
              "      <td>NaN</td>\n",
              "      <td>NaN</td>\n",
              "      <td>136929</td>\n",
              "      <td>31686</td>\n",
              "      <td>5399</td>\n",
              "      <td>150049</td>\n",
              "      <td>235875</td>\n",
              "      <td>NaN</td>\n",
              "      <td>168055</td>\n",
              "      <td>38782</td>\n",
              "      <td>224226</td>\n",
              "      <td>466276</td>\n",
              "      <td>1</td>\n",
              "      <td>234</td>\n",
              "      <td>274195</td>\n",
              "      <td>164075</td>\n",
              "      <td>5304</td>\n",
              "      <td>71450</td>\n",
              "      <td>NaN</td>\n",
              "      <td>NaN</td>\n",
              "      <td>3674</td>\n",
              "      <td>NaN</td>\n",
              "      <td>NaN</td>\n",
              "      <td>NaN</td>\n",
              "      <td>NaN</td>\n",
              "      <td>NaN</td>\n",
              "      <td>NaN</td>\n",
              "      <td>NaN</td>\n",
              "      <td>NaN</td>\n",
              "      <td>303005</td>\n",
              "      <td>NaN</td>\n",
              "      <td>NaN</td>\n",
              "      <td>NaN</td>\n",
              "      <td>NaN</td>\n",
              "      <td>NaN</td>\n",
              "      <td>NaN</td>\n",
              "      <td>NaN</td>\n",
              "      <td>NaN</td>\n",
              "      <td>NaN</td>\n",
              "      <td>179620</td>\n",
              "      <td>NaN</td>\n",
              "      <td>208393</td>\n",
              "      <td>327699</td>\n",
              "      <td>NaN</td>\n",
              "      <td>NaN</td>\n",
              "      <td>NaN</td>\n",
              "      <td>466285</td>\n",
              "      <td>NaN</td>\n",
              "      <td>NaN</td>\n",
              "      <td>NaN</td>\n",
              "      <td>NaN</td>\n",
              "      <td>NaN</td>\n",
              "      <td>NaN</td>\n",
              "      <td>NaN</td>\n",
              "      <td>NaN</td>\n",
              "      <td>NaN</td>\n",
              "      <td>NaN</td>\n",
              "      <td>NaN</td>\n",
              "      <td>NaN</td>\n",
              "      <td>NaN</td>\n",
              "      <td>NaN</td>\n",
              "      <td>NaN</td>\n",
              "      <td>NaN</td>\n",
              "      <td>NaN</td>\n",
              "      <td>NaN</td>\n",
              "      <td>NaN</td>\n",
              "      <td>NaN</td>\n",
              "      <td>NaN</td>\n",
              "    </tr>\n",
              "    <tr>\n",
              "      <th>mean</th>\n",
              "      <td>233142.000000</td>\n",
              "      <td>1.307973e+07</td>\n",
              "      <td>1.459766e+07</td>\n",
              "      <td>14317.277577</td>\n",
              "      <td>14291.801044</td>\n",
              "      <td>14222.329888</td>\n",
              "      <td>NaN</td>\n",
              "      <td>13.829236</td>\n",
              "      <td>432.061201</td>\n",
              "      <td>NaN</td>\n",
              "      <td>NaN</td>\n",
              "      <td>NaN</td>\n",
              "      <td>NaN</td>\n",
              "      <td>NaN</td>\n",
              "      <td>7.327738e+04</td>\n",
              "      <td>NaN</td>\n",
              "      <td>NaN</td>\n",
              "      <td>NaN</td>\n",
              "      <td>NaN</td>\n",
              "      <td>NaN</td>\n",
              "      <td>NaN</td>\n",
              "      <td>NaN</td>\n",
              "      <td>NaN</td>\n",
              "      <td>NaN</td>\n",
              "      <td>NaN</td>\n",
              "      <td>17.218758</td>\n",
              "      <td>0.284678</td>\n",
              "      <td>NaN</td>\n",
              "      <td>0.804745</td>\n",
              "      <td>34.104430</td>\n",
              "      <td>74.306012</td>\n",
              "      <td>11.187069</td>\n",
              "      <td>0.160564</td>\n",
              "      <td>1.623020e+04</td>\n",
              "      <td>56.176947</td>\n",
              "      <td>25.064430</td>\n",
              "      <td>NaN</td>\n",
              "      <td>4410.062342</td>\n",
              "      <td>4408.452258</td>\n",
              "      <td>11540.686220</td>\n",
              "      <td>11469.892747</td>\n",
              "      <td>8866.014657</td>\n",
              "      <td>2588.677225</td>\n",
              "      <td>0.650129</td>\n",
              "      <td>85.344211</td>\n",
              "      <td>8.961534</td>\n",
              "      <td>NaN</td>\n",
              "      <td>3123.913796</td>\n",
              "      <td>NaN</td>\n",
              "      <td>NaN</td>\n",
              "      <td>0.009085</td>\n",
              "      <td>42.852547</td>\n",
              "      <td>1.0</td>\n",
              "      <td>NaN</td>\n",
              "      <td>NaN</td>\n",
              "      <td>NaN</td>\n",
              "      <td>NaN</td>\n",
              "      <td>0.004002</td>\n",
              "      <td>1.919135e+02</td>\n",
              "      <td>1.388017e+05</td>\n",
              "      <td>NaN</td>\n",
              "      <td>NaN</td>\n",
              "      <td>NaN</td>\n",
              "      <td>NaN</td>\n",
              "      <td>NaN</td>\n",
              "      <td>NaN</td>\n",
              "      <td>NaN</td>\n",
              "      <td>NaN</td>\n",
              "      <td>NaN</td>\n",
              "      <td>NaN</td>\n",
              "      <td>NaN</td>\n",
              "      <td>3.037909e+04</td>\n",
              "      <td>NaN</td>\n",
              "      <td>NaN</td>\n",
              "      <td>NaN</td>\n",
              "    </tr>\n",
              "    <tr>\n",
              "      <th>std</th>\n",
              "      <td>134605.029472</td>\n",
              "      <td>1.089371e+07</td>\n",
              "      <td>1.168237e+07</td>\n",
              "      <td>8286.509164</td>\n",
              "      <td>8274.371300</td>\n",
              "      <td>8297.637788</td>\n",
              "      <td>NaN</td>\n",
              "      <td>4.357587</td>\n",
              "      <td>243.485550</td>\n",
              "      <td>NaN</td>\n",
              "      <td>NaN</td>\n",
              "      <td>NaN</td>\n",
              "      <td>NaN</td>\n",
              "      <td>NaN</td>\n",
              "      <td>5.496357e+04</td>\n",
              "      <td>NaN</td>\n",
              "      <td>NaN</td>\n",
              "      <td>NaN</td>\n",
              "      <td>NaN</td>\n",
              "      <td>NaN</td>\n",
              "      <td>NaN</td>\n",
              "      <td>NaN</td>\n",
              "      <td>NaN</td>\n",
              "      <td>NaN</td>\n",
              "      <td>NaN</td>\n",
              "      <td>7.851121</td>\n",
              "      <td>0.797365</td>\n",
              "      <td>NaN</td>\n",
              "      <td>1.091598</td>\n",
              "      <td>21.778487</td>\n",
              "      <td>30.357653</td>\n",
              "      <td>4.987526</td>\n",
              "      <td>0.510863</td>\n",
              "      <td>2.067625e+04</td>\n",
              "      <td>23.732628</td>\n",
              "      <td>11.600141</td>\n",
              "      <td>NaN</td>\n",
              "      <td>6355.078769</td>\n",
              "      <td>6353.198001</td>\n",
              "      <td>8265.627112</td>\n",
              "      <td>8254.157579</td>\n",
              "      <td>7031.687997</td>\n",
              "      <td>2483.809661</td>\n",
              "      <td>5.265730</td>\n",
              "      <td>552.216084</td>\n",
              "      <td>85.491437</td>\n",
              "      <td>NaN</td>\n",
              "      <td>5554.737393</td>\n",
              "      <td>NaN</td>\n",
              "      <td>NaN</td>\n",
              "      <td>0.108648</td>\n",
              "      <td>21.662591</td>\n",
              "      <td>0.0</td>\n",
              "      <td>NaN</td>\n",
              "      <td>NaN</td>\n",
              "      <td>NaN</td>\n",
              "      <td>NaN</td>\n",
              "      <td>0.068637</td>\n",
              "      <td>1.463021e+04</td>\n",
              "      <td>1.521147e+05</td>\n",
              "      <td>NaN</td>\n",
              "      <td>NaN</td>\n",
              "      <td>NaN</td>\n",
              "      <td>NaN</td>\n",
              "      <td>NaN</td>\n",
              "      <td>NaN</td>\n",
              "      <td>NaN</td>\n",
              "      <td>NaN</td>\n",
              "      <td>NaN</td>\n",
              "      <td>NaN</td>\n",
              "      <td>NaN</td>\n",
              "      <td>3.724713e+04</td>\n",
              "      <td>NaN</td>\n",
              "      <td>NaN</td>\n",
              "      <td>NaN</td>\n",
              "    </tr>\n",
              "    <tr>\n",
              "      <th>min</th>\n",
              "      <td>0.000000</td>\n",
              "      <td>5.473400e+04</td>\n",
              "      <td>7.047300e+04</td>\n",
              "      <td>500.000000</td>\n",
              "      <td>500.000000</td>\n",
              "      <td>0.000000</td>\n",
              "      <td>NaN</td>\n",
              "      <td>5.420000</td>\n",
              "      <td>15.670000</td>\n",
              "      <td>NaN</td>\n",
              "      <td>NaN</td>\n",
              "      <td>NaN</td>\n",
              "      <td>NaN</td>\n",
              "      <td>NaN</td>\n",
              "      <td>1.896000e+03</td>\n",
              "      <td>NaN</td>\n",
              "      <td>NaN</td>\n",
              "      <td>NaN</td>\n",
              "      <td>NaN</td>\n",
              "      <td>NaN</td>\n",
              "      <td>NaN</td>\n",
              "      <td>NaN</td>\n",
              "      <td>NaN</td>\n",
              "      <td>NaN</td>\n",
              "      <td>NaN</td>\n",
              "      <td>0.000000</td>\n",
              "      <td>0.000000</td>\n",
              "      <td>NaN</td>\n",
              "      <td>0.000000</td>\n",
              "      <td>0.000000</td>\n",
              "      <td>0.000000</td>\n",
              "      <td>0.000000</td>\n",
              "      <td>0.000000</td>\n",
              "      <td>0.000000e+00</td>\n",
              "      <td>0.000000</td>\n",
              "      <td>1.000000</td>\n",
              "      <td>NaN</td>\n",
              "      <td>0.000000</td>\n",
              "      <td>0.000000</td>\n",
              "      <td>0.000000</td>\n",
              "      <td>0.000000</td>\n",
              "      <td>0.000000</td>\n",
              "      <td>0.000000</td>\n",
              "      <td>0.000000</td>\n",
              "      <td>0.000000</td>\n",
              "      <td>0.000000</td>\n",
              "      <td>NaN</td>\n",
              "      <td>0.000000</td>\n",
              "      <td>NaN</td>\n",
              "      <td>NaN</td>\n",
              "      <td>0.000000</td>\n",
              "      <td>0.000000</td>\n",
              "      <td>1.0</td>\n",
              "      <td>NaN</td>\n",
              "      <td>NaN</td>\n",
              "      <td>NaN</td>\n",
              "      <td>NaN</td>\n",
              "      <td>0.000000</td>\n",
              "      <td>0.000000e+00</td>\n",
              "      <td>0.000000e+00</td>\n",
              "      <td>NaN</td>\n",
              "      <td>NaN</td>\n",
              "      <td>NaN</td>\n",
              "      <td>NaN</td>\n",
              "      <td>NaN</td>\n",
              "      <td>NaN</td>\n",
              "      <td>NaN</td>\n",
              "      <td>NaN</td>\n",
              "      <td>NaN</td>\n",
              "      <td>NaN</td>\n",
              "      <td>NaN</td>\n",
              "      <td>0.000000e+00</td>\n",
              "      <td>NaN</td>\n",
              "      <td>NaN</td>\n",
              "      <td>NaN</td>\n",
              "    </tr>\n",
              "    <tr>\n",
              "      <th>25%</th>\n",
              "      <td>116571.000000</td>\n",
              "      <td>3.639987e+06</td>\n",
              "      <td>4.379705e+06</td>\n",
              "      <td>8000.000000</td>\n",
              "      <td>8000.000000</td>\n",
              "      <td>8000.000000</td>\n",
              "      <td>NaN</td>\n",
              "      <td>10.990000</td>\n",
              "      <td>256.690000</td>\n",
              "      <td>NaN</td>\n",
              "      <td>NaN</td>\n",
              "      <td>NaN</td>\n",
              "      <td>NaN</td>\n",
              "      <td>NaN</td>\n",
              "      <td>4.500000e+04</td>\n",
              "      <td>NaN</td>\n",
              "      <td>NaN</td>\n",
              "      <td>NaN</td>\n",
              "      <td>NaN</td>\n",
              "      <td>NaN</td>\n",
              "      <td>NaN</td>\n",
              "      <td>NaN</td>\n",
              "      <td>NaN</td>\n",
              "      <td>NaN</td>\n",
              "      <td>NaN</td>\n",
              "      <td>11.360000</td>\n",
              "      <td>0.000000</td>\n",
              "      <td>NaN</td>\n",
              "      <td>0.000000</td>\n",
              "      <td>16.000000</td>\n",
              "      <td>53.000000</td>\n",
              "      <td>8.000000</td>\n",
              "      <td>0.000000</td>\n",
              "      <td>6.413000e+03</td>\n",
              "      <td>39.200000</td>\n",
              "      <td>17.000000</td>\n",
              "      <td>NaN</td>\n",
              "      <td>0.000000</td>\n",
              "      <td>0.000000</td>\n",
              "      <td>5552.125349</td>\n",
              "      <td>5499.250000</td>\n",
              "      <td>3708.560000</td>\n",
              "      <td>957.280000</td>\n",
              "      <td>0.000000</td>\n",
              "      <td>0.000000</td>\n",
              "      <td>0.000000</td>\n",
              "      <td>NaN</td>\n",
              "      <td>312.620000</td>\n",
              "      <td>NaN</td>\n",
              "      <td>NaN</td>\n",
              "      <td>0.000000</td>\n",
              "      <td>26.000000</td>\n",
              "      <td>1.0</td>\n",
              "      <td>NaN</td>\n",
              "      <td>NaN</td>\n",
              "      <td>NaN</td>\n",
              "      <td>NaN</td>\n",
              "      <td>0.000000</td>\n",
              "      <td>0.000000e+00</td>\n",
              "      <td>2.861800e+04</td>\n",
              "      <td>NaN</td>\n",
              "      <td>NaN</td>\n",
              "      <td>NaN</td>\n",
              "      <td>NaN</td>\n",
              "      <td>NaN</td>\n",
              "      <td>NaN</td>\n",
              "      <td>NaN</td>\n",
              "      <td>NaN</td>\n",
              "      <td>NaN</td>\n",
              "      <td>NaN</td>\n",
              "      <td>NaN</td>\n",
              "      <td>1.350000e+04</td>\n",
              "      <td>NaN</td>\n",
              "      <td>NaN</td>\n",
              "      <td>NaN</td>\n",
              "    </tr>\n",
              "    <tr>\n",
              "      <th>50%</th>\n",
              "      <td>233142.000000</td>\n",
              "      <td>1.010790e+07</td>\n",
              "      <td>1.194108e+07</td>\n",
              "      <td>12000.000000</td>\n",
              "      <td>12000.000000</td>\n",
              "      <td>12000.000000</td>\n",
              "      <td>NaN</td>\n",
              "      <td>13.660000</td>\n",
              "      <td>379.890000</td>\n",
              "      <td>NaN</td>\n",
              "      <td>NaN</td>\n",
              "      <td>NaN</td>\n",
              "      <td>NaN</td>\n",
              "      <td>NaN</td>\n",
              "      <td>6.300000e+04</td>\n",
              "      <td>NaN</td>\n",
              "      <td>NaN</td>\n",
              "      <td>NaN</td>\n",
              "      <td>NaN</td>\n",
              "      <td>NaN</td>\n",
              "      <td>NaN</td>\n",
              "      <td>NaN</td>\n",
              "      <td>NaN</td>\n",
              "      <td>NaN</td>\n",
              "      <td>NaN</td>\n",
              "      <td>16.870000</td>\n",
              "      <td>0.000000</td>\n",
              "      <td>NaN</td>\n",
              "      <td>0.000000</td>\n",
              "      <td>31.000000</td>\n",
              "      <td>76.000000</td>\n",
              "      <td>10.000000</td>\n",
              "      <td>0.000000</td>\n",
              "      <td>1.176400e+04</td>\n",
              "      <td>57.600000</td>\n",
              "      <td>23.000000</td>\n",
              "      <td>NaN</td>\n",
              "      <td>441.470000</td>\n",
              "      <td>441.380000</td>\n",
              "      <td>9419.250943</td>\n",
              "      <td>9355.430000</td>\n",
              "      <td>6817.760000</td>\n",
              "      <td>1818.880000</td>\n",
              "      <td>0.000000</td>\n",
              "      <td>0.000000</td>\n",
              "      <td>0.000000</td>\n",
              "      <td>NaN</td>\n",
              "      <td>545.960000</td>\n",
              "      <td>NaN</td>\n",
              "      <td>NaN</td>\n",
              "      <td>0.000000</td>\n",
              "      <td>42.000000</td>\n",
              "      <td>1.0</td>\n",
              "      <td>NaN</td>\n",
              "      <td>NaN</td>\n",
              "      <td>NaN</td>\n",
              "      <td>NaN</td>\n",
              "      <td>0.000000</td>\n",
              "      <td>0.000000e+00</td>\n",
              "      <td>8.153900e+04</td>\n",
              "      <td>NaN</td>\n",
              "      <td>NaN</td>\n",
              "      <td>NaN</td>\n",
              "      <td>NaN</td>\n",
              "      <td>NaN</td>\n",
              "      <td>NaN</td>\n",
              "      <td>NaN</td>\n",
              "      <td>NaN</td>\n",
              "      <td>NaN</td>\n",
              "      <td>NaN</td>\n",
              "      <td>NaN</td>\n",
              "      <td>2.280000e+04</td>\n",
              "      <td>NaN</td>\n",
              "      <td>NaN</td>\n",
              "      <td>NaN</td>\n",
              "    </tr>\n",
              "    <tr>\n",
              "      <th>75%</th>\n",
              "      <td>349713.000000</td>\n",
              "      <td>2.073121e+07</td>\n",
              "      <td>2.300154e+07</td>\n",
              "      <td>20000.000000</td>\n",
              "      <td>20000.000000</td>\n",
              "      <td>19950.000000</td>\n",
              "      <td>NaN</td>\n",
              "      <td>16.490000</td>\n",
              "      <td>566.580000</td>\n",
              "      <td>NaN</td>\n",
              "      <td>NaN</td>\n",
              "      <td>NaN</td>\n",
              "      <td>NaN</td>\n",
              "      <td>NaN</td>\n",
              "      <td>8.896000e+04</td>\n",
              "      <td>NaN</td>\n",
              "      <td>NaN</td>\n",
              "      <td>NaN</td>\n",
              "      <td>NaN</td>\n",
              "      <td>NaN</td>\n",
              "      <td>NaN</td>\n",
              "      <td>NaN</td>\n",
              "      <td>NaN</td>\n",
              "      <td>NaN</td>\n",
              "      <td>NaN</td>\n",
              "      <td>22.780000</td>\n",
              "      <td>0.000000</td>\n",
              "      <td>NaN</td>\n",
              "      <td>1.000000</td>\n",
              "      <td>49.000000</td>\n",
              "      <td>102.000000</td>\n",
              "      <td>14.000000</td>\n",
              "      <td>0.000000</td>\n",
              "      <td>2.033300e+04</td>\n",
              "      <td>74.700000</td>\n",
              "      <td>32.000000</td>\n",
              "      <td>NaN</td>\n",
              "      <td>7341.650000</td>\n",
              "      <td>7338.390000</td>\n",
              "      <td>15308.158460</td>\n",
              "      <td>15231.310000</td>\n",
              "      <td>12000.000000</td>\n",
              "      <td>3304.530000</td>\n",
              "      <td>0.000000</td>\n",
              "      <td>0.000000</td>\n",
              "      <td>0.000000</td>\n",
              "      <td>NaN</td>\n",
              "      <td>3187.510000</td>\n",
              "      <td>NaN</td>\n",
              "      <td>NaN</td>\n",
              "      <td>0.000000</td>\n",
              "      <td>59.000000</td>\n",
              "      <td>1.0</td>\n",
              "      <td>NaN</td>\n",
              "      <td>NaN</td>\n",
              "      <td>NaN</td>\n",
              "      <td>NaN</td>\n",
              "      <td>0.000000</td>\n",
              "      <td>0.000000e+00</td>\n",
              "      <td>2.089530e+05</td>\n",
              "      <td>NaN</td>\n",
              "      <td>NaN</td>\n",
              "      <td>NaN</td>\n",
              "      <td>NaN</td>\n",
              "      <td>NaN</td>\n",
              "      <td>NaN</td>\n",
              "      <td>NaN</td>\n",
              "      <td>NaN</td>\n",
              "      <td>NaN</td>\n",
              "      <td>NaN</td>\n",
              "      <td>NaN</td>\n",
              "      <td>3.790000e+04</td>\n",
              "      <td>NaN</td>\n",
              "      <td>NaN</td>\n",
              "      <td>NaN</td>\n",
              "    </tr>\n",
              "    <tr>\n",
              "      <th>max</th>\n",
              "      <td>466284.000000</td>\n",
              "      <td>3.809811e+07</td>\n",
              "      <td>4.086083e+07</td>\n",
              "      <td>35000.000000</td>\n",
              "      <td>35000.000000</td>\n",
              "      <td>35000.000000</td>\n",
              "      <td>NaN</td>\n",
              "      <td>26.060000</td>\n",
              "      <td>1409.990000</td>\n",
              "      <td>NaN</td>\n",
              "      <td>NaN</td>\n",
              "      <td>NaN</td>\n",
              "      <td>NaN</td>\n",
              "      <td>NaN</td>\n",
              "      <td>7.500000e+06</td>\n",
              "      <td>NaN</td>\n",
              "      <td>NaN</td>\n",
              "      <td>NaN</td>\n",
              "      <td>NaN</td>\n",
              "      <td>NaN</td>\n",
              "      <td>NaN</td>\n",
              "      <td>NaN</td>\n",
              "      <td>NaN</td>\n",
              "      <td>NaN</td>\n",
              "      <td>NaN</td>\n",
              "      <td>39.990000</td>\n",
              "      <td>29.000000</td>\n",
              "      <td>NaN</td>\n",
              "      <td>33.000000</td>\n",
              "      <td>188.000000</td>\n",
              "      <td>129.000000</td>\n",
              "      <td>84.000000</td>\n",
              "      <td>63.000000</td>\n",
              "      <td>2.568995e+06</td>\n",
              "      <td>892.300000</td>\n",
              "      <td>156.000000</td>\n",
              "      <td>NaN</td>\n",
              "      <td>32160.380000</td>\n",
              "      <td>32160.380000</td>\n",
              "      <td>57777.579870</td>\n",
              "      <td>57777.580000</td>\n",
              "      <td>35000.030000</td>\n",
              "      <td>24205.620000</td>\n",
              "      <td>358.680000</td>\n",
              "      <td>33520.270000</td>\n",
              "      <td>7002.190000</td>\n",
              "      <td>NaN</td>\n",
              "      <td>36234.440000</td>\n",
              "      <td>NaN</td>\n",
              "      <td>NaN</td>\n",
              "      <td>20.000000</td>\n",
              "      <td>188.000000</td>\n",
              "      <td>1.0</td>\n",
              "      <td>NaN</td>\n",
              "      <td>NaN</td>\n",
              "      <td>NaN</td>\n",
              "      <td>NaN</td>\n",
              "      <td>5.000000</td>\n",
              "      <td>9.152545e+06</td>\n",
              "      <td>8.000078e+06</td>\n",
              "      <td>NaN</td>\n",
              "      <td>NaN</td>\n",
              "      <td>NaN</td>\n",
              "      <td>NaN</td>\n",
              "      <td>NaN</td>\n",
              "      <td>NaN</td>\n",
              "      <td>NaN</td>\n",
              "      <td>NaN</td>\n",
              "      <td>NaN</td>\n",
              "      <td>NaN</td>\n",
              "      <td>NaN</td>\n",
              "      <td>9.999999e+06</td>\n",
              "      <td>NaN</td>\n",
              "      <td>NaN</td>\n",
              "      <td>NaN</td>\n",
              "    </tr>\n",
              "  </tbody>\n",
              "</table>\n",
              "</div>"
            ],
            "text/plain": [
              "           Unnamed: 0            id  ...  total_cu_tl  inq_last_12m\n",
              "count   466285.000000  4.662850e+05  ...          0.0           0.0\n",
              "unique            NaN           NaN  ...          NaN           NaN\n",
              "top               NaN           NaN  ...          NaN           NaN\n",
              "freq              NaN           NaN  ...          NaN           NaN\n",
              "mean    233142.000000  1.307973e+07  ...          NaN           NaN\n",
              "std     134605.029472  1.089371e+07  ...          NaN           NaN\n",
              "min          0.000000  5.473400e+04  ...          NaN           NaN\n",
              "25%     116571.000000  3.639987e+06  ...          NaN           NaN\n",
              "50%     233142.000000  1.010790e+07  ...          NaN           NaN\n",
              "75%     349713.000000  2.073121e+07  ...          NaN           NaN\n",
              "max     466284.000000  3.809811e+07  ...          NaN           NaN\n",
              "\n",
              "[11 rows x 75 columns]"
            ]
          },
          "metadata": {},
          "execution_count": 5
        }
      ]
    },
    {
      "cell_type": "code",
      "metadata": {
        "colab": {
          "base_uri": "https://localhost:8080/"
        },
        "id": "mjrUUZ-AOMLe",
        "outputId": "2de725f7-ee83-4fd9-dceb-70b9b1e28017"
      },
      "source": [
        "len(df.columns)"
      ],
      "execution_count": 6,
      "outputs": [
        {
          "output_type": "execute_result",
          "data": {
            "text/plain": [
              "75"
            ]
          },
          "metadata": {},
          "execution_count": 6
        }
      ]
    },
    {
      "cell_type": "code",
      "metadata": {
        "id": "vnIrExf6Kyaf"
      },
      "source": [
        "# pd.set_option('display.min_rows', 200)\n",
        "# pd.set_option('display.max_rows', 500)\n",
        "nulls_count_by_column = pd.DataFrame(\n",
        "  df.isnull().sum()  \n",
        ").sort_values(0, ascending=False)"
      ],
      "execution_count": 7,
      "outputs": []
    },
    {
      "cell_type": "code",
      "metadata": {
        "colab": {
          "base_uri": "https://localhost:8080/"
        },
        "id": "BZHo3KOjK2fS",
        "outputId": "1f7b5b29-cc4d-493e-b191-e84c34081707"
      },
      "source": [
        "# variables which are all nulls\n",
        "nulls_count_by_column[nulls_count_by_column[0]==len(df)].index"
      ],
      "execution_count": 8,
      "outputs": [
        {
          "output_type": "execute_result",
          "data": {
            "text/plain": [
              "Index(['inq_last_12m', 'total_bal_il', 'dti_joint',\n",
              "       'verification_status_joint', 'annual_inc_joint', 'open_acc_6m',\n",
              "       'open_il_6m', 'open_il_12m', 'open_il_24m', 'mths_since_rcnt_il',\n",
              "       'il_util', 'open_rv_24m', 'total_cu_tl', 'inq_fi', 'max_bal_bc',\n",
              "       'all_util', 'open_rv_12m'],\n",
              "      dtype='object')"
            ]
          },
          "metadata": {},
          "execution_count": 8
        }
      ]
    },
    {
      "cell_type": "code",
      "metadata": {
        "id": "jmNoCGfsgUpz"
      },
      "source": [
        "# variables which are not all nulls\n",
        "not_null_column_names = list(nulls_count_by_column[nulls_count_by_column[0]!=len(df)].index)"
      ],
      "execution_count": 9,
      "outputs": []
    },
    {
      "cell_type": "code",
      "metadata": {
        "id": "VndRDsDTOhkB"
      },
      "source": [
        "# pd.set_option('display.max_rows', 10)\n",
        "df = df[not_null_column_names]"
      ],
      "execution_count": 10,
      "outputs": []
    },
    {
      "cell_type": "code",
      "metadata": {
        "id": "xE_nBW2cPZqw"
      },
      "source": [
        "def unique_count_in_every_column(data):\n",
        "\n",
        "  column_names = data.columns\n",
        "  count_of_uniques = []\n",
        "\n",
        "  for column in column_names:\n",
        "    count_of_uniques.append(len(data[column].unique()))\n",
        "\n",
        "  final_table = pd.DataFrame({\n",
        "      'column_names': column_names,\n",
        "      'count_of_uniques': count_of_uniques\n",
        "  })\n",
        "  \n",
        "  final_table = final_table.sort_values('count_of_uniques')\n",
        "\n",
        "  return final_table"
      ],
      "execution_count": 11,
      "outputs": []
    },
    {
      "cell_type": "code",
      "metadata": {
        "id": "0TL3dujehUZ8"
      },
      "source": [
        "uniqe_count_by_column = unique_count_in_every_column(df)"
      ],
      "execution_count": 12,
      "outputs": []
    },
    {
      "cell_type": "code",
      "metadata": {
        "id": "XyLlnjxwqF52"
      },
      "source": [
        "# uniqe_count_by_column"
      ],
      "execution_count": 13,
      "outputs": []
    },
    {
      "cell_type": "code",
      "metadata": {
        "id": "wLH332ToqWFg",
        "colab": {
          "base_uri": "https://localhost:8080/",
          "height": 35
        },
        "outputId": "1e07a5c4-275f-4aca-d2dc-5ed407f614a6"
      },
      "source": [
        "# We have to drop also at least last three columns, because are unique, and not continous\n",
        "# Also we will drop first two columns, because they have only one unique value\n",
        "df['url'][0] # urls require signingin, so no beneficial info it does not contain"
      ],
      "execution_count": 14,
      "outputs": [
        {
          "output_type": "execute_result",
          "data": {
            "application/vnd.google.colaboratory.intrinsic+json": {
              "type": "string"
            },
            "text/plain": [
              "'https://www.lendingclub.com/browse/loanDetail.action?loan_id=1077501'"
            ]
          },
          "metadata": {},
          "execution_count": 14
        }
      ]
    },
    {
      "cell_type": "code",
      "metadata": {
        "id": "z51s8-HmRCFj"
      },
      "source": [
        "# here column names with last three column names dropped\n",
        "working_column_names = list(uniqe_count_by_column['column_names'][2:-3])"
      ],
      "execution_count": 15,
      "outputs": []
    },
    {
      "cell_type": "code",
      "metadata": {
        "id": "UsrIYz9zSE6-"
      },
      "source": [
        "df = df[working_column_names]"
      ],
      "execution_count": 16,
      "outputs": []
    },
    {
      "cell_type": "code",
      "metadata": {
        "colab": {
          "base_uri": "https://localhost:8080/"
        },
        "id": "Oho8Q161SuCW",
        "outputId": "dfa08f98-c2be-4694-af22-34e4114b76be"
      },
      "source": [
        "len(df.columns)"
      ],
      "execution_count": 17,
      "outputs": [
        {
          "output_type": "execute_result",
          "data": {
            "text/plain": [
              "53"
            ]
          },
          "metadata": {},
          "execution_count": 17
        }
      ]
    },
    {
      "cell_type": "markdown",
      "metadata": {
        "id": "2M8-N7-hUKjk"
      },
      "source": [
        "# Preprocessing"
      ]
    },
    {
      "cell_type": "code",
      "metadata": {
        "colab": {
          "base_uri": "https://localhost:8080/",
          "height": 363
        },
        "id": "SfKqDXvPUJVZ",
        "outputId": "0c0bb73d-da8c-429e-cfd5-63a89ce47cfd"
      },
      "source": [
        "unique_count_in_every_column(df).head(10)"
      ],
      "execution_count": 18,
      "outputs": [
        {
          "output_type": "execute_result",
          "data": {
            "text/html": [
              "<div>\n",
              "<style scoped>\n",
              "    .dataframe tbody tr th:only-of-type {\n",
              "        vertical-align: middle;\n",
              "    }\n",
              "\n",
              "    .dataframe tbody tr th {\n",
              "        vertical-align: top;\n",
              "    }\n",
              "\n",
              "    .dataframe thead th {\n",
              "        text-align: right;\n",
              "    }\n",
              "</style>\n",
              "<table border=\"1\" class=\"dataframe\">\n",
              "  <thead>\n",
              "    <tr style=\"text-align: right;\">\n",
              "      <th></th>\n",
              "      <th>column_names</th>\n",
              "      <th>count_of_uniques</th>\n",
              "    </tr>\n",
              "  </thead>\n",
              "  <tbody>\n",
              "    <tr>\n",
              "      <th>0</th>\n",
              "      <td>initial_list_status</td>\n",
              "      <td>2</td>\n",
              "    </tr>\n",
              "    <tr>\n",
              "      <th>1</th>\n",
              "      <td>term</td>\n",
              "      <td>2</td>\n",
              "    </tr>\n",
              "    <tr>\n",
              "      <th>2</th>\n",
              "      <td>pymnt_plan</td>\n",
              "      <td>2</td>\n",
              "    </tr>\n",
              "    <tr>\n",
              "      <th>3</th>\n",
              "      <td>verification_status</td>\n",
              "      <td>3</td>\n",
              "    </tr>\n",
              "    <tr>\n",
              "      <th>4</th>\n",
              "      <td>home_ownership</td>\n",
              "      <td>6</td>\n",
              "    </tr>\n",
              "    <tr>\n",
              "      <th>5</th>\n",
              "      <td>acc_now_delinq</td>\n",
              "      <td>7</td>\n",
              "    </tr>\n",
              "    <tr>\n",
              "      <th>6</th>\n",
              "      <td>grade</td>\n",
              "      <td>7</td>\n",
              "    </tr>\n",
              "    <tr>\n",
              "      <th>7</th>\n",
              "      <td>loan_status</td>\n",
              "      <td>9</td>\n",
              "    </tr>\n",
              "    <tr>\n",
              "      <th>8</th>\n",
              "      <td>collections_12_mths_ex_med</td>\n",
              "      <td>10</td>\n",
              "    </tr>\n",
              "    <tr>\n",
              "      <th>9</th>\n",
              "      <td>emp_length</td>\n",
              "      <td>12</td>\n",
              "    </tr>\n",
              "  </tbody>\n",
              "</table>\n",
              "</div>"
            ],
            "text/plain": [
              "                 column_names  count_of_uniques\n",
              "0         initial_list_status                 2\n",
              "1                        term                 2\n",
              "2                  pymnt_plan                 2\n",
              "3         verification_status                 3\n",
              "4              home_ownership                 6\n",
              "5              acc_now_delinq                 7\n",
              "6                       grade                 7\n",
              "7                 loan_status                 9\n",
              "8  collections_12_mths_ex_med                10\n",
              "9                  emp_length                12"
            ]
          },
          "metadata": {},
          "execution_count": 18
        }
      ]
    },
    {
      "cell_type": "markdown",
      "metadata": {
        "id": "NTlDEx48CBcM"
      },
      "source": [
        "### Employment Length variable"
      ]
    },
    {
      "cell_type": "code",
      "metadata": {
        "colab": {
          "base_uri": "https://localhost:8080/"
        },
        "id": "LWXqiEeoU73V",
        "outputId": "f7e58845-f5a0-45a5-9446-ee18d23f2830"
      },
      "source": [
        "list(df['emp_length'].unique())"
      ],
      "execution_count": 19,
      "outputs": [
        {
          "output_type": "execute_result",
          "data": {
            "text/plain": [
              "['10+ years',\n",
              " '< 1 year',\n",
              " '1 year',\n",
              " '3 years',\n",
              " '8 years',\n",
              " '9 years',\n",
              " '4 years',\n",
              " '5 years',\n",
              " '6 years',\n",
              " '2 years',\n",
              " '7 years',\n",
              " nan]"
            ]
          },
          "metadata": {},
          "execution_count": 19
        }
      ]
    },
    {
      "cell_type": "code",
      "metadata": {
        "colab": {
          "base_uri": "https://localhost:8080/"
        },
        "id": "PkeoDctzBKm_",
        "outputId": "9df8f5f4-48ab-494a-ec1a-b640fc9b163f"
      },
      "source": [
        "df['emp_length'].fillna(0).unique()"
      ],
      "execution_count": 20,
      "outputs": [
        {
          "output_type": "execute_result",
          "data": {
            "text/plain": [
              "array(['10+ years', '< 1 year', '1 year', '3 years', '8 years', '9 years',\n",
              "       '4 years', '5 years', '6 years', '2 years', '7 years', 0],\n",
              "      dtype=object)"
            ]
          },
          "metadata": {},
          "execution_count": 20
        }
      ]
    },
    {
      "cell_type": "code",
      "metadata": {
        "id": "XPPFn41jh7qj"
      },
      "source": [
        "# can use .str.extract('(\\d+)') to parse numbers of column\n",
        "# but nan and <1 values should have 0, but while parsing <1 will have 1\n",
        "df['emp_length'] = df['emp_length'].str.replace('< 1 year', str(0))\n",
        "df['emp_length'].fillna(str(0), inplace=True)"
      ],
      "execution_count": 21,
      "outputs": []
    },
    {
      "cell_type": "code",
      "metadata": {
        "colab": {
          "base_uri": "https://localhost:8080/"
        },
        "id": "QMh3AiTdiJoe",
        "outputId": "25491153-a9ba-45da-8255-4dcd62247ca5"
      },
      "source": [
        "df['emp_length'].value_counts()"
      ],
      "execution_count": 22,
      "outputs": [
        {
          "output_type": "execute_result",
          "data": {
            "text/plain": [
              "10+ years    150049\n",
              "0             57273\n",
              "2 years       41373\n",
              "3 years       36596\n",
              "5 years       30774\n",
              "1 year        29622\n",
              "4 years       28023\n",
              "7 years       26180\n",
              "6 years       26112\n",
              "8 years       22395\n",
              "9 years       17888\n",
              "Name: emp_length, dtype: int64"
            ]
          },
          "metadata": {},
          "execution_count": 22
        }
      ]
    },
    {
      "cell_type": "code",
      "metadata": {
        "colab": {
          "base_uri": "https://localhost:8080/"
        },
        "id": "FXJ3z-UwVjn0",
        "outputId": "f9ad73f9-63d3-4516-c47e-5031b0535052"
      },
      "source": [
        "list(df['emp_length'].str.extract('(\\d+)')[0].unique())"
      ],
      "execution_count": 23,
      "outputs": [
        {
          "output_type": "execute_result",
          "data": {
            "text/plain": [
              "['10', '0', '1', '3', '8', '9', '4', '5', '6', '2', '7']"
            ]
          },
          "metadata": {},
          "execution_count": 23
        }
      ]
    },
    {
      "cell_type": "code",
      "metadata": {
        "id": "eLOzqjyYZsPr"
      },
      "source": [
        "df['emp_length'] = df['emp_length'].str.extract('(\\d+)')[0]"
      ],
      "execution_count": 24,
      "outputs": []
    },
    {
      "cell_type": "code",
      "metadata": {
        "colab": {
          "base_uri": "https://localhost:8080/"
        },
        "id": "0dAG5CLXcq12",
        "outputId": "5b24f121-fd51-4509-a965-f0bb0c6db43c"
      },
      "source": [
        "df['emp_length'].value_counts()"
      ],
      "execution_count": 25,
      "outputs": [
        {
          "output_type": "execute_result",
          "data": {
            "text/plain": [
              "10    150049\n",
              "0      57273\n",
              "2      41373\n",
              "3      36596\n",
              "5      30774\n",
              "1      29622\n",
              "4      28023\n",
              "7      26180\n",
              "6      26112\n",
              "8      22395\n",
              "9      17888\n",
              "Name: emp_length, dtype: int64"
            ]
          },
          "metadata": {},
          "execution_count": 25
        }
      ]
    },
    {
      "cell_type": "code",
      "metadata": {
        "id": "cP-5W6Iyfypx"
      },
      "source": [
        "df['emp_length'] = pd.to_numeric(df['emp_length'])"
      ],
      "execution_count": 26,
      "outputs": []
    },
    {
      "cell_type": "markdown",
      "metadata": {
        "id": "AOPEc5oCCp5E"
      },
      "source": [
        "### Earliest credit line"
      ]
    },
    {
      "cell_type": "code",
      "metadata": {
        "colab": {
          "base_uri": "https://localhost:8080/",
          "height": 35
        },
        "id": "CeqUIy8NCrUI",
        "outputId": "9b958385-1ff6-4707-ba21-60df3f0a64c3"
      },
      "source": [
        "df['earliest_cr_line'][0]"
      ],
      "execution_count": 27,
      "outputs": [
        {
          "output_type": "execute_result",
          "data": {
            "application/vnd.google.colaboratory.intrinsic+json": {
              "type": "string"
            },
            "text/plain": [
              "'Jan-85'"
            ]
          },
          "metadata": {},
          "execution_count": 27
        }
      ]
    },
    {
      "cell_type": "code",
      "metadata": {
        "colab": {
          "base_uri": "https://localhost:8080/"
        },
        "id": "6xCa2DGTC5y4",
        "outputId": "25b6d6c9-3757-4950-d74b-bd3c498a8e19"
      },
      "source": [
        "df['earliest_cr_line']"
      ],
      "execution_count": 28,
      "outputs": [
        {
          "output_type": "execute_result",
          "data": {
            "text/plain": [
              "0         Jan-85\n",
              "1         Apr-99\n",
              "2         Nov-01\n",
              "3         Feb-96\n",
              "4         Jan-96\n",
              "           ...  \n",
              "466280    Apr-03\n",
              "466281    Jun-97\n",
              "466282    Dec-01\n",
              "466283    Feb-03\n",
              "466284    Feb-00\n",
              "Name: earliest_cr_line, Length: 466285, dtype: object"
            ]
          },
          "metadata": {},
          "execution_count": 28
        }
      ]
    },
    {
      "cell_type": "code",
      "metadata": {
        "id": "GTwJ_9k3DcOH"
      },
      "source": [
        "earliest_credit_line_1 = pd.to_datetime(df['earliest_cr_line'], format = '%b-%y')"
      ],
      "execution_count": 29,
      "outputs": []
    },
    {
      "cell_type": "code",
      "metadata": {
        "colab": {
          "base_uri": "https://localhost:8080/"
        },
        "id": "qEVOAKPREn0L",
        "outputId": "92c5a599-245e-4542-9029-bb0864d801fc"
      },
      "source": [
        "earliest_credit_line_1"
      ],
      "execution_count": 30,
      "outputs": [
        {
          "output_type": "execute_result",
          "data": {
            "text/plain": [
              "0        1985-01-01\n",
              "1        1999-04-01\n",
              "2        2001-11-01\n",
              "3        1996-02-01\n",
              "4        1996-01-01\n",
              "            ...    \n",
              "466280   2003-04-01\n",
              "466281   1997-06-01\n",
              "466282   2001-12-01\n",
              "466283   2003-02-01\n",
              "466284   2000-02-01\n",
              "Name: earliest_cr_line, Length: 466285, dtype: datetime64[ns]"
            ]
          },
          "metadata": {},
          "execution_count": 30
        }
      ]
    },
    {
      "cell_type": "code",
      "metadata": {
        "colab": {
          "base_uri": "https://localhost:8080/"
        },
        "id": "EoYFxnBvEpez",
        "outputId": "a449d47d-7329-48d4-86f0-565c66e88f5f"
      },
      "source": [
        "max(earliest_credit_line_1) # here we can spot the problem"
      ],
      "execution_count": 31,
      "outputs": [
        {
          "output_type": "execute_result",
          "data": {
            "text/plain": [
              "Timestamp('2068-12-01 00:00:00')"
            ]
          },
          "metadata": {},
          "execution_count": 31
        }
      ]
    },
    {
      "cell_type": "code",
      "metadata": {
        "colab": {
          "base_uri": "https://localhost:8080/"
        },
        "id": "d4PtCB7KEsUj",
        "outputId": "aca2fae2-7ded-4480-eba4-be28da4e13c4"
      },
      "source": [
        "min(earliest_credit_line_1)"
      ],
      "execution_count": 32,
      "outputs": [
        {
          "output_type": "execute_result",
          "data": {
            "text/plain": [
              "Timestamp('1969-01-01 00:00:00')"
            ]
          },
          "metadata": {},
          "execution_count": 32
        }
      ]
    },
    {
      "cell_type": "code",
      "metadata": {
        "id": "9VOxCeIjG98e"
      },
      "source": [
        "df['earliest_credit_line_1'] = earliest_credit_line_1"
      ],
      "execution_count": 33,
      "outputs": []
    },
    {
      "cell_type": "code",
      "metadata": {
        "colab": {
          "base_uri": "https://localhost:8080/"
        },
        "id": "smcWaCAzMl4p",
        "outputId": "7b9a34cf-c926-4184-e7ef-61781ea96eff"
      },
      "source": [
        "df['earliest_credit_line_1'][0]"
      ],
      "execution_count": 34,
      "outputs": [
        {
          "output_type": "execute_result",
          "data": {
            "text/plain": [
              "Timestamp('1985-01-01 00:00:00')"
            ]
          },
          "metadata": {},
          "execution_count": 34
        }
      ]
    },
    {
      "cell_type": "code",
      "metadata": {
        "colab": {
          "base_uri": "https://localhost:8080/",
          "height": 352
        },
        "id": "6YDsOL7pEu03",
        "outputId": "395ef5a1-f42f-468a-fa2d-64f0d5c666e4"
      },
      "source": [
        "plt.hist(df['earliest_credit_line_1'])\n",
        "# plt.xlim(left = np.datetime64('2014-01-01'))"
      ],
      "execution_count": 35,
      "outputs": [
        {
          "output_type": "execute_result",
          "data": {
            "text/plain": [
              "(array([9.15400e+03, 4.52340e+04, 1.73251e+05, 2.29984e+05, 7.46400e+03,\n",
              "        0.00000e+00, 0.00000e+00, 4.00000e+00, 4.80000e+01, 1.11700e+03]),\n",
              " array([718798. , 722447.4, 726096.8, 729746.2, 733395.6, 737045. ,\n",
              "        740694.4, 744343.8, 747993.2, 751642.6, 755292. ]),\n",
              " <a list of 10 Patch objects>)"
            ]
          },
          "metadata": {},
          "execution_count": 35
        },
        {
          "output_type": "display_data",
          "data": {
            "image/png": "[encoded data removed]",
            "text/plain": [
              "<Figure size 432x288 with 1 Axes>"
            ]
          },
          "metadata": {
            "needs_background": "light"
          }
        }
      ]
    },
    {
      "cell_type": "code",
      "metadata": {
        "colab": {
          "base_uri": "https://localhost:8080/",
          "height": 334
        },
        "id": "3LgbfBqKHttK",
        "outputId": "20059430-926c-4cb1-973d-09a9de096ad5"
      },
      "source": [
        "plt.hist(\n",
        "    df[df['earliest_credit_line_1'] > np.datetime64('2015-01-01')]['earliest_credit_line_1']\n",
        ")"
      ],
      "execution_count": 36,
      "outputs": [
        {
          "output_type": "execute_result",
          "data": {
            "text/plain": [
              "(array([  2.,   2.,   7.,   4.,  13.,  24.,  75., 136., 322., 584.]),\n",
              " array([746191. , 747101.1, 748011.2, 748921.3, 749831.4, 750741.5,\n",
              "        751651.6, 752561.7, 753471.8, 754381.9, 755292. ]),\n",
              " <a list of 10 Patch objects>)"
            ]
          },
          "metadata": {},
          "execution_count": 36
        },
        {
          "output_type": "display_data",
          "data": {
            "image/png": "[encoded data removed]",
            "text/plain": [
              "<Figure size 432x288 with 1 Axes>"
            ]
          },
          "metadata": {
            "needs_background": "light"
          }
        }
      ]
    },
    {
      "cell_type": "code",
      "metadata": {
        "colab": {
          "base_uri": "https://localhost:8080/"
        },
        "id": "jMXXENgVIKGB",
        "outputId": "c458ecea-6251-4653-b77f-64df4d3fe573"
      },
      "source": [
        "# So we have to subtract 100 years from dates higher than 2015 (because our data was till 2014)\n",
        "df[df['earliest_credit_line_1'] > np.datetime64('2015-01-01')]['earliest_credit_line_1'].iloc[0].date()"
      ],
      "execution_count": 37,
      "outputs": [
        {
          "output_type": "execute_result",
          "data": {
            "text/plain": [
              "datetime.date(2062, 9, 1)"
            ]
          },
          "metadata": {},
          "execution_count": 37
        }
      ]
    },
    {
      "cell_type": "code",
      "metadata": {
        "id": "XaklEcT5LPWs"
      },
      "source": [
        "hundred_years = 75*365 + 25*366"
      ],
      "execution_count": 38,
      "outputs": []
    },
    {
      "cell_type": "code",
      "metadata": {
        "id": "5A5_qXdrPIEX"
      },
      "source": [
        "from datetime import timedelta"
      ],
      "execution_count": 39,
      "outputs": []
    },
    {
      "cell_type": "code",
      "metadata": {
        "colab": {
          "base_uri": "https://localhost:8080/"
        },
        "id": "4UXy-clcJ_TO",
        "outputId": "d5950751-b706-42ac-bad7-9b465d284d89"
      },
      "source": [
        "# example\n",
        "pd.to_datetime(df[df['earliest_credit_line_1'] > \n",
        "   np.datetime64('2015-01-01')]['earliest_credit_line_1'].iloc[0].date() - timedelta(days = hundred_years))"
      ],
      "execution_count": 40,
      "outputs": [
        {
          "output_type": "execute_result",
          "data": {
            "text/plain": [
              "Timestamp('1962-09-01 00:00:00')"
            ]
          },
          "metadata": {},
          "execution_count": 40
        }
      ]
    },
    {
      "cell_type": "code",
      "metadata": {
        "id": "W46190-0LXl5"
      },
      "source": [
        "df['earliest_credit_line_2'] = df['earliest_credit_line_1'].apply(lambda x : \n",
        "                                   x.date() - timedelta(days = hundred_years) \n",
        "                                   if x > np.datetime64('2015-01-01')\n",
        "                                   else x)"
      ],
      "execution_count": 41,
      "outputs": []
    },
    {
      "cell_type": "code",
      "metadata": {
        "colab": {
          "base_uri": "https://localhost:8080/"
        },
        "id": "4wjHazzSgcuo",
        "outputId": "2e384cba-7521-495e-d26e-09284fb3b540"
      },
      "source": [
        "print(max(df['earliest_credit_line_1']))\n",
        "print(max(df['earliest_credit_line_2']))"
      ],
      "execution_count": 42,
      "outputs": [
        {
          "output_type": "stream",
          "name": "stdout",
          "text": [
            "2068-12-01 00:00:00\n",
            "2011-11-01 00:00:00\n"
          ]
        }
      ]
    },
    {
      "cell_type": "code",
      "metadata": {
        "colab": {
          "base_uri": "https://localhost:8080/"
        },
        "id": "TAD-qx5Jgp9B",
        "outputId": "13656b26-73f8-4c60-a7dd-744856c57d19"
      },
      "source": [
        "print(min(df['earliest_credit_line_1']))\n",
        "print(min(df['earliest_credit_line_2']))"
      ],
      "execution_count": 43,
      "outputs": [
        {
          "output_type": "stream",
          "name": "stdout",
          "text": [
            "1969-01-01 00:00:00\n",
            "1944-01-01 00:00:00\n"
          ]
        }
      ]
    },
    {
      "cell_type": "code",
      "metadata": {
        "colab": {
          "base_uri": "https://localhost:8080/"
        },
        "id": "8SINAIwDhvA6",
        "outputId": "99cbfca7-ec41-45ca-9872-b9f6d0baf980"
      },
      "source": [
        "len(df.columns)"
      ],
      "execution_count": 44,
      "outputs": [
        {
          "output_type": "execute_result",
          "data": {
            "text/plain": [
              "55"
            ]
          },
          "metadata": {},
          "execution_count": 44
        }
      ]
    },
    {
      "cell_type": "code",
      "metadata": {
        "colab": {
          "base_uri": "https://localhost:8080/"
        },
        "id": "JkMX6gL9hs5M",
        "outputId": "f1a02f8a-8c92-4b80-c7d4-055b455c9677"
      },
      "source": [
        "# Let's calculate difference between now and earliest credit line in months\n",
        "((np.datetime64('2022-01-01') - df['earliest_credit_line_2'][0])/30).days # for one value"
      ],
      "execution_count": 45,
      "outputs": [
        {
          "output_type": "execute_result",
          "data": {
            "text/plain": [
              "450"
            ]
          },
          "metadata": {},
          "execution_count": 45
        }
      ]
    },
    {
      "cell_type": "code",
      "metadata": {
        "id": "Qvuk6JpfjsoQ"
      },
      "source": [
        "# earliest_credit_line_3 is the variable shows time difference in months between 2022-01-01 and earliest_credit_line\n",
        "df['earliest_credit_line_3'] = df['earliest_credit_line_2'].apply(\n",
        "    lambda x: (\n",
        "        (np.datetime64('2022-01-01')-x)/30\n",
        "    ).days\n",
        "  )"
      ],
      "execution_count": 46,
      "outputs": []
    },
    {
      "cell_type": "code",
      "metadata": {
        "id": "jpOqMag6gxVf"
      },
      "source": [
        "# so we can drop 'earliest_cr_line' and 'earliest_credit_line_1'\n",
        "df.drop(labels=['earliest_credit_line_1', 'earliest_cr_line'], axis=1, inplace=True)"
      ],
      "execution_count": 47,
      "outputs": []
    },
    {
      "cell_type": "markdown",
      "metadata": {
        "id": "gK-wOUrfipKy"
      },
      "source": [
        "### Term variable"
      ]
    },
    {
      "cell_type": "code",
      "metadata": {
        "colab": {
          "base_uri": "https://localhost:8080/"
        },
        "id": "xBwzje5wivHj",
        "outputId": "7152d051-21a5-4b42-e7b8-781fec0bb37e"
      },
      "source": [
        "df['term'].value_counts()"
      ],
      "execution_count": 48,
      "outputs": [
        {
          "output_type": "execute_result",
          "data": {
            "text/plain": [
              " 36 months    337953\n",
              " 60 months    128332\n",
              "Name: term, dtype: int64"
            ]
          },
          "metadata": {},
          "execution_count": 48
        }
      ]
    },
    {
      "cell_type": "code",
      "metadata": {
        "colab": {
          "base_uri": "https://localhost:8080/"
        },
        "id": "kpdxpP5CkmUA",
        "outputId": "adb807d9-30e5-49d7-f2a1-19e74e85fca2"
      },
      "source": [
        "df['term'].unique()"
      ],
      "execution_count": 49,
      "outputs": [
        {
          "output_type": "execute_result",
          "data": {
            "text/plain": [
              "array([' 36 months', ' 60 months'], dtype=object)"
            ]
          },
          "metadata": {},
          "execution_count": 49
        }
      ]
    },
    {
      "cell_type": "code",
      "metadata": {
        "colab": {
          "base_uri": "https://localhost:8080/"
        },
        "id": "vzp75g30kqxj",
        "outputId": "68f3a692-c8d2-4aa4-cfc9-c82c84f15c05"
      },
      "source": [
        "df['term'].describe()"
      ],
      "execution_count": 50,
      "outputs": [
        {
          "output_type": "execute_result",
          "data": {
            "text/plain": [
              "count         466285\n",
              "unique             2\n",
              "top        36 months\n",
              "freq          337953\n",
              "Name: term, dtype: object"
            ]
          },
          "metadata": {},
          "execution_count": 50
        }
      ]
    },
    {
      "cell_type": "code",
      "metadata": {
        "id": "IhB770KNkwhm"
      },
      "source": [
        "term_df = pd.get_dummies(df['term'], prefix = 'term', prefix_sep = ':', \n",
        "               #drop_first=True\n",
        "               )"
      ],
      "execution_count": 51,
      "outputs": []
    },
    {
      "cell_type": "code",
      "metadata": {
        "id": "JKV2eBtolNE9"
      },
      "source": [
        "df = pd.concat([df, term_df], axis=1) # we use [] to show two dataframes"
      ],
      "execution_count": 52,
      "outputs": []
    },
    {
      "cell_type": "code",
      "metadata": {
        "id": "x1m-v1mLmQkx"
      },
      "source": [
        "df.drop('term', inplace=True, axis = 1) # if we drop one column we dont use [], we use [] if we have two columns"
      ],
      "execution_count": 53,
      "outputs": []
    },
    {
      "cell_type": "code",
      "metadata": {
        "id": "46EI8aivmpzw"
      },
      "source": [
        ""
      ],
      "execution_count": 53,
      "outputs": []
    },
    {
      "cell_type": "markdown",
      "metadata": {
        "id": "6-GE59LonGvH"
      },
      "source": [
        "### Issue date"
      ]
    },
    {
      "cell_type": "code",
      "metadata": {
        "colab": {
          "base_uri": "https://localhost:8080/"
        },
        "id": "_HByZ9Jhre_F",
        "outputId": "a12b8ec1-864b-4baa-8428-eac2748ab9b3"
      },
      "source": [
        "df['issue_d'].describe()"
      ],
      "execution_count": 54,
      "outputs": [
        {
          "output_type": "execute_result",
          "data": {
            "text/plain": [
              "count     466285\n",
              "unique        91\n",
              "top       Oct-14\n",
              "freq       38782\n",
              "Name: issue_d, dtype: object"
            ]
          },
          "metadata": {},
          "execution_count": 54
        }
      ]
    },
    {
      "cell_type": "code",
      "metadata": {
        "colab": {
          "base_uri": "https://localhost:8080/"
        },
        "id": "plGRO_8lrjSc",
        "outputId": "973fc608-cbe7-4778-94db-46e2dfb810e9"
      },
      "source": [
        "df['issue_d'].isna().sum()"
      ],
      "execution_count": 55,
      "outputs": [
        {
          "output_type": "execute_result",
          "data": {
            "text/plain": [
              "0"
            ]
          },
          "metadata": {},
          "execution_count": 55
        }
      ]
    },
    {
      "cell_type": "code",
      "metadata": {
        "id": "nDrBUG8Pr86L"
      },
      "source": [
        "df['issue_date_1'] = pd.to_datetime(df['issue_d'], format = '%b-%y')"
      ],
      "execution_count": 56,
      "outputs": []
    },
    {
      "cell_type": "code",
      "metadata": {
        "id": "Ney2LqgosGkI"
      },
      "source": [
        "df['issue_date_2'] = df['issue_date_1'].apply(\n",
        "    lambda x: round(np.float((\n",
        "        (np.datetime64('2022-01-01') - x).days\n",
        "    )/30))\n",
        ")"
      ],
      "execution_count": 57,
      "outputs": []
    },
    {
      "cell_type": "code",
      "metadata": {
        "id": "Ugb8s1pTu7LZ"
      },
      "source": [
        "df.drop('issue_d', axis=1, inplace=True)"
      ],
      "execution_count": 58,
      "outputs": []
    },
    {
      "cell_type": "code",
      "metadata": {
        "id": "aU16gyp_vBIK"
      },
      "source": [
        ""
      ],
      "execution_count": 58,
      "outputs": []
    },
    {
      "cell_type": "markdown",
      "metadata": {
        "id": "L05rXYtjvl_1"
      },
      "source": [
        "### Some discrete variables"
      ]
    },
    {
      "cell_type": "code",
      "metadata": {
        "colab": {
          "base_uri": "https://localhost:8080/",
          "height": 676
        },
        "id": "IhnAqYJDvpM8",
        "outputId": "5a364a42-a5e4-4b04-fdc6-28738984ed63"
      },
      "source": [
        "unique_count_in_every_column(df).head(20)"
      ],
      "execution_count": 59,
      "outputs": [
        {
          "output_type": "execute_result",
          "data": {
            "text/html": [
              "<div>\n",
              "<style scoped>\n",
              "    .dataframe tbody tr th:only-of-type {\n",
              "        vertical-align: middle;\n",
              "    }\n",
              "\n",
              "    .dataframe tbody tr th {\n",
              "        vertical-align: top;\n",
              "    }\n",
              "\n",
              "    .dataframe thead th {\n",
              "        text-align: right;\n",
              "    }\n",
              "</style>\n",
              "<table border=\"1\" class=\"dataframe\">\n",
              "  <thead>\n",
              "    <tr style=\"text-align: right;\">\n",
              "      <th></th>\n",
              "      <th>column_names</th>\n",
              "      <th>count_of_uniques</th>\n",
              "    </tr>\n",
              "  </thead>\n",
              "  <tbody>\n",
              "    <tr>\n",
              "      <th>0</th>\n",
              "      <td>initial_list_status</td>\n",
              "      <td>2</td>\n",
              "    </tr>\n",
              "    <tr>\n",
              "      <th>53</th>\n",
              "      <td>term: 60 months</td>\n",
              "      <td>2</td>\n",
              "    </tr>\n",
              "    <tr>\n",
              "      <th>52</th>\n",
              "      <td>term: 36 months</td>\n",
              "      <td>2</td>\n",
              "    </tr>\n",
              "    <tr>\n",
              "      <th>1</th>\n",
              "      <td>pymnt_plan</td>\n",
              "      <td>2</td>\n",
              "    </tr>\n",
              "    <tr>\n",
              "      <th>2</th>\n",
              "      <td>verification_status</td>\n",
              "      <td>3</td>\n",
              "    </tr>\n",
              "    <tr>\n",
              "      <th>3</th>\n",
              "      <td>home_ownership</td>\n",
              "      <td>6</td>\n",
              "    </tr>\n",
              "    <tr>\n",
              "      <th>4</th>\n",
              "      <td>acc_now_delinq</td>\n",
              "      <td>7</td>\n",
              "    </tr>\n",
              "    <tr>\n",
              "      <th>5</th>\n",
              "      <td>grade</td>\n",
              "      <td>7</td>\n",
              "    </tr>\n",
              "    <tr>\n",
              "      <th>6</th>\n",
              "      <td>loan_status</td>\n",
              "      <td>9</td>\n",
              "    </tr>\n",
              "    <tr>\n",
              "      <th>7</th>\n",
              "      <td>collections_12_mths_ex_med</td>\n",
              "      <td>10</td>\n",
              "    </tr>\n",
              "    <tr>\n",
              "      <th>8</th>\n",
              "      <td>emp_length</td>\n",
              "      <td>11</td>\n",
              "    </tr>\n",
              "    <tr>\n",
              "      <th>9</th>\n",
              "      <td>purpose</td>\n",
              "      <td>14</td>\n",
              "    </tr>\n",
              "    <tr>\n",
              "      <th>10</th>\n",
              "      <td>delinq_2yrs</td>\n",
              "      <td>25</td>\n",
              "    </tr>\n",
              "    <tr>\n",
              "      <th>11</th>\n",
              "      <td>pub_rec</td>\n",
              "      <td>27</td>\n",
              "    </tr>\n",
              "    <tr>\n",
              "      <th>12</th>\n",
              "      <td>inq_last_6mths</td>\n",
              "      <td>29</td>\n",
              "    </tr>\n",
              "    <tr>\n",
              "      <th>13</th>\n",
              "      <td>sub_grade</td>\n",
              "      <td>35</td>\n",
              "    </tr>\n",
              "    <tr>\n",
              "      <th>14</th>\n",
              "      <td>addr_state</td>\n",
              "      <td>50</td>\n",
              "    </tr>\n",
              "    <tr>\n",
              "      <th>15</th>\n",
              "      <td>open_acc</td>\n",
              "      <td>63</td>\n",
              "    </tr>\n",
              "    <tr>\n",
              "      <th>55</th>\n",
              "      <td>issue_date_2</td>\n",
              "      <td>90</td>\n",
              "    </tr>\n",
              "    <tr>\n",
              "      <th>54</th>\n",
              "      <td>issue_date_1</td>\n",
              "      <td>91</td>\n",
              "    </tr>\n",
              "  </tbody>\n",
              "</table>\n",
              "</div>"
            ],
            "text/plain": [
              "                  column_names  count_of_uniques\n",
              "0          initial_list_status                 2\n",
              "53             term: 60 months                 2\n",
              "52             term: 36 months                 2\n",
              "1                   pymnt_plan                 2\n",
              "2          verification_status                 3\n",
              "3               home_ownership                 6\n",
              "4               acc_now_delinq                 7\n",
              "5                        grade                 7\n",
              "6                  loan_status                 9\n",
              "7   collections_12_mths_ex_med                10\n",
              "8                   emp_length                11\n",
              "9                      purpose                14\n",
              "10                 delinq_2yrs                25\n",
              "11                     pub_rec                27\n",
              "12              inq_last_6mths                29\n",
              "13                   sub_grade                35\n",
              "14                  addr_state                50\n",
              "15                    open_acc                63\n",
              "55                issue_date_2                90\n",
              "54                issue_date_1                91"
            ]
          },
          "metadata": {},
          "execution_count": 59
        }
      ]
    },
    {
      "cell_type": "code",
      "metadata": {
        "scrolled": true,
        "id": "sO27e5ZTPTnO"
      },
      "source": [
        "dummies = [pd.get_dummies(df['grade'], prefix = 'grade', prefix_sep = ':'),\n",
        "          pd.get_dummies(df['sub_grade'], prefix = 'sub_grade', prefix_sep = ':'),\n",
        "          pd.get_dummies(df['home_ownership'], prefix = 'home_ownership', prefix_sep = ':'),\n",
        "          pd.get_dummies(df['verification_status'], prefix = 'verification_status', prefix_sep = ':'),\n",
        "          pd.get_dummies(df['loan_status'], prefix = 'loan_status', prefix_sep = ':'),\n",
        "          pd.get_dummies(df['purpose'], prefix = 'purpose', prefix_sep = ':'),\n",
        "          pd.get_dummies(df['addr_state'], prefix = 'addr_state', prefix_sep = ':'),\n",
        "          pd.get_dummies(df['initial_list_status'], prefix = 'initial_list_status', prefix_sep = ':')]"
      ],
      "execution_count": 60,
      "outputs": []
    },
    {
      "cell_type": "code",
      "metadata": {
        "id": "zIz1KFgqwnKu"
      },
      "source": [
        "# df.drop(\n",
        "#     ['grade', 'sub_grade', 'home_ownership', 'verification_status', \n",
        "#      # 'loan_status', \n",
        "#      'purpose', 'addr_state', 'initial_list_status'], \n",
        "#      axis = 1, inplace = True\n",
        "# )"
      ],
      "execution_count": 61,
      "outputs": []
    },
    {
      "cell_type": "code",
      "metadata": {
        "id": "7L0O-G8Axgsh"
      },
      "source": [
        "dummies = pd.concat(dummies, axis=1)"
      ],
      "execution_count": 62,
      "outputs": []
    },
    {
      "cell_type": "code",
      "metadata": {
        "id": "8LKxtP_bxU6V"
      },
      "source": [
        "df = pd.concat([df, dummies], axis=1)"
      ],
      "execution_count": 63,
      "outputs": []
    },
    {
      "cell_type": "code",
      "metadata": {
        "colab": {
          "base_uri": "https://localhost:8080/"
        },
        "id": "GSuqc2fhxeY0",
        "outputId": "92911f14-764f-41df-fa1d-bdd17953c13c"
      },
      "source": [
        "len(df.columns)"
      ],
      "execution_count": 64,
      "outputs": [
        {
          "output_type": "execute_result",
          "data": {
            "text/plain": [
              "182"
            ]
          },
          "metadata": {},
          "execution_count": 64
        }
      ]
    },
    {
      "cell_type": "markdown",
      "metadata": {
        "id": "qVPa6TOw2I8C"
      },
      "source": [
        "### Working with missing values"
      ]
    },
    {
      "cell_type": "code",
      "metadata": {
        "id": "YQH0ygEYyquY",
        "colab": {
          "base_uri": "https://localhost:8080/",
          "height": 833
        },
        "outputId": "b3fe78ae-91c9-49f1-b875-2dd27c1fe21c"
      },
      "source": [
        "# Variables which are missing and we need for analysis are: \n",
        "# total_rev_hi_lim, annual_inc, mths_since_earliest_cr_line, acc_now_delinq, total_acc\n",
        "# pub_rec, open_acc, inq_last_6mths, delinq_2yrs, emp_length_int\n",
        "pd.DataFrame(\n",
        "    df.isna().sum()\n",
        ").sort_values(by=0, ascending=False).head(25)"
      ],
      "execution_count": 65,
      "outputs": [
        {
          "output_type": "execute_result",
          "data": {
            "text/html": [
              "<div>\n",
              "<style scoped>\n",
              "    .dataframe tbody tr th:only-of-type {\n",
              "        vertical-align: middle;\n",
              "    }\n",
              "\n",
              "    .dataframe tbody tr th {\n",
              "        vertical-align: top;\n",
              "    }\n",
              "\n",
              "    .dataframe thead th {\n",
              "        text-align: right;\n",
              "    }\n",
              "</style>\n",
              "<table border=\"1\" class=\"dataframe\">\n",
              "  <thead>\n",
              "    <tr style=\"text-align: right;\">\n",
              "      <th></th>\n",
              "      <th>0</th>\n",
              "    </tr>\n",
              "  </thead>\n",
              "  <tbody>\n",
              "    <tr>\n",
              "      <th>mths_since_last_record</th>\n",
              "      <td>403647</td>\n",
              "    </tr>\n",
              "    <tr>\n",
              "      <th>mths_since_last_major_derog</th>\n",
              "      <td>367311</td>\n",
              "    </tr>\n",
              "    <tr>\n",
              "      <th>desc</th>\n",
              "      <td>340302</td>\n",
              "    </tr>\n",
              "    <tr>\n",
              "      <th>mths_since_last_delinq</th>\n",
              "      <td>250351</td>\n",
              "    </tr>\n",
              "    <tr>\n",
              "      <th>next_pymnt_d</th>\n",
              "      <td>227214</td>\n",
              "    </tr>\n",
              "    <tr>\n",
              "      <th>tot_cur_bal</th>\n",
              "      <td>70276</td>\n",
              "    </tr>\n",
              "    <tr>\n",
              "      <th>total_rev_hi_lim</th>\n",
              "      <td>70276</td>\n",
              "    </tr>\n",
              "    <tr>\n",
              "      <th>tot_coll_amt</th>\n",
              "      <td>70276</td>\n",
              "    </tr>\n",
              "    <tr>\n",
              "      <th>emp_title</th>\n",
              "      <td>27588</td>\n",
              "    </tr>\n",
              "    <tr>\n",
              "      <th>last_pymnt_d</th>\n",
              "      <td>376</td>\n",
              "    </tr>\n",
              "    <tr>\n",
              "      <th>revol_util</th>\n",
              "      <td>340</td>\n",
              "    </tr>\n",
              "    <tr>\n",
              "      <th>collections_12_mths_ex_med</th>\n",
              "      <td>145</td>\n",
              "    </tr>\n",
              "    <tr>\n",
              "      <th>last_credit_pull_d</th>\n",
              "      <td>42</td>\n",
              "    </tr>\n",
              "    <tr>\n",
              "      <th>earliest_credit_line_2</th>\n",
              "      <td>29</td>\n",
              "    </tr>\n",
              "    <tr>\n",
              "      <th>acc_now_delinq</th>\n",
              "      <td>29</td>\n",
              "    </tr>\n",
              "    <tr>\n",
              "      <th>total_acc</th>\n",
              "      <td>29</td>\n",
              "    </tr>\n",
              "    <tr>\n",
              "      <th>earliest_credit_line_3</th>\n",
              "      <td>29</td>\n",
              "    </tr>\n",
              "    <tr>\n",
              "      <th>open_acc</th>\n",
              "      <td>29</td>\n",
              "    </tr>\n",
              "    <tr>\n",
              "      <th>inq_last_6mths</th>\n",
              "      <td>29</td>\n",
              "    </tr>\n",
              "    <tr>\n",
              "      <th>pub_rec</th>\n",
              "      <td>29</td>\n",
              "    </tr>\n",
              "    <tr>\n",
              "      <th>delinq_2yrs</th>\n",
              "      <td>29</td>\n",
              "    </tr>\n",
              "    <tr>\n",
              "      <th>title</th>\n",
              "      <td>20</td>\n",
              "    </tr>\n",
              "    <tr>\n",
              "      <th>annual_inc</th>\n",
              "      <td>4</td>\n",
              "    </tr>\n",
              "    <tr>\n",
              "      <th>addr_state:CT</th>\n",
              "      <td>0</td>\n",
              "    </tr>\n",
              "    <tr>\n",
              "      <th>purpose:renewable_energy</th>\n",
              "      <td>0</td>\n",
              "    </tr>\n",
              "  </tbody>\n",
              "</table>\n",
              "</div>"
            ],
            "text/plain": [
              "                                  0\n",
              "mths_since_last_record       403647\n",
              "mths_since_last_major_derog  367311\n",
              "desc                         340302\n",
              "mths_since_last_delinq       250351\n",
              "next_pymnt_d                 227214\n",
              "tot_cur_bal                   70276\n",
              "total_rev_hi_lim              70276\n",
              "tot_coll_amt                  70276\n",
              "emp_title                     27588\n",
              "last_pymnt_d                    376\n",
              "revol_util                      340\n",
              "collections_12_mths_ex_med      145\n",
              "last_credit_pull_d               42\n",
              "earliest_credit_line_2           29\n",
              "acc_now_delinq                   29\n",
              "total_acc                        29\n",
              "earliest_credit_line_3           29\n",
              "open_acc                         29\n",
              "inq_last_6mths                   29\n",
              "pub_rec                          29\n",
              "delinq_2yrs                      29\n",
              "title                            20\n",
              "annual_inc                        4\n",
              "addr_state:CT                     0\n",
              "purpose:renewable_energy          0"
            ]
          },
          "metadata": {},
          "execution_count": 65
        }
      ]
    },
    {
      "cell_type": "code",
      "metadata": {
        "id": "4-TKcfFx-5cz"
      },
      "source": [
        "df['total_rev_hi_lim'].fillna(df['funded_amnt'], inplace=True) # imputes with respective value of funded_amnt"
      ],
      "execution_count": 66,
      "outputs": []
    },
    {
      "cell_type": "code",
      "metadata": {
        "id": "DDfxj8K_-wu7"
      },
      "source": [
        "df['annual_inc'].fillna(df['annual_inc'].mean(), inplace=True)"
      ],
      "execution_count": 67,
      "outputs": []
    },
    {
      "cell_type": "code",
      "metadata": {
        "id": "HJ8neODK2vpq"
      },
      "source": [
        "df['earliest_credit_line_2'].fillna(0, inplace=True)\n",
        "df['earliest_credit_line_3'].fillna(0, inplace=True)\n",
        "df['acc_now_delinq'].fillna(0, inplace=True)\n",
        "df['total_acc'].fillna(0, inplace=True)\n",
        "df['pub_rec'].fillna(0, inplace=True)\n",
        "df['open_acc'].fillna(0, inplace=True)\n",
        "df['inq_last_6mths'].fillna(0, inplace=True)\n",
        "df['delinq_2yrs'].fillna(0, inplace=True)\n",
        "df['emp_length'].fillna(0, inplace=True)"
      ],
      "execution_count": 68,
      "outputs": []
    },
    {
      "cell_type": "code",
      "metadata": {
        "colab": {
          "base_uri": "https://localhost:8080/",
          "height": 520
        },
        "id": "uH3S0n2QCaAH",
        "outputId": "5d18d1d9-022a-4f56-b1a9-6bd96e706ebf"
      },
      "source": [
        "# Variables which are missing and we need for analysis are: \n",
        "# total_rev_hi_lim, annual_inc, mths_since_earliest_cr_line, acc_now_delinq, total_acc\n",
        "# pub_rec, open_acc, inq_last_6mths, delinq_2yrs, emp_length_int\n",
        "pd.DataFrame(\n",
        "    df.isna().sum()\n",
        ").sort_values(by=0, ascending=False).head(15)\n",
        "# according to the lecture, we will not need these varaibles for modeling"
      ],
      "execution_count": 69,
      "outputs": [
        {
          "output_type": "execute_result",
          "data": {
            "text/html": [
              "<div>\n",
              "<style scoped>\n",
              "    .dataframe tbody tr th:only-of-type {\n",
              "        vertical-align: middle;\n",
              "    }\n",
              "\n",
              "    .dataframe tbody tr th {\n",
              "        vertical-align: top;\n",
              "    }\n",
              "\n",
              "    .dataframe thead th {\n",
              "        text-align: right;\n",
              "    }\n",
              "</style>\n",
              "<table border=\"1\" class=\"dataframe\">\n",
              "  <thead>\n",
              "    <tr style=\"text-align: right;\">\n",
              "      <th></th>\n",
              "      <th>0</th>\n",
              "    </tr>\n",
              "  </thead>\n",
              "  <tbody>\n",
              "    <tr>\n",
              "      <th>mths_since_last_record</th>\n",
              "      <td>403647</td>\n",
              "    </tr>\n",
              "    <tr>\n",
              "      <th>mths_since_last_major_derog</th>\n",
              "      <td>367311</td>\n",
              "    </tr>\n",
              "    <tr>\n",
              "      <th>desc</th>\n",
              "      <td>340302</td>\n",
              "    </tr>\n",
              "    <tr>\n",
              "      <th>mths_since_last_delinq</th>\n",
              "      <td>250351</td>\n",
              "    </tr>\n",
              "    <tr>\n",
              "      <th>next_pymnt_d</th>\n",
              "      <td>227214</td>\n",
              "    </tr>\n",
              "    <tr>\n",
              "      <th>tot_coll_amt</th>\n",
              "      <td>70276</td>\n",
              "    </tr>\n",
              "    <tr>\n",
              "      <th>tot_cur_bal</th>\n",
              "      <td>70276</td>\n",
              "    </tr>\n",
              "    <tr>\n",
              "      <th>emp_title</th>\n",
              "      <td>27588</td>\n",
              "    </tr>\n",
              "    <tr>\n",
              "      <th>last_pymnt_d</th>\n",
              "      <td>376</td>\n",
              "    </tr>\n",
              "    <tr>\n",
              "      <th>revol_util</th>\n",
              "      <td>340</td>\n",
              "    </tr>\n",
              "    <tr>\n",
              "      <th>collections_12_mths_ex_med</th>\n",
              "      <td>145</td>\n",
              "    </tr>\n",
              "    <tr>\n",
              "      <th>last_credit_pull_d</th>\n",
              "      <td>42</td>\n",
              "    </tr>\n",
              "    <tr>\n",
              "      <th>title</th>\n",
              "      <td>20</td>\n",
              "    </tr>\n",
              "    <tr>\n",
              "      <th>purpose:renewable_energy</th>\n",
              "      <td>0</td>\n",
              "    </tr>\n",
              "    <tr>\n",
              "      <th>purpose:other</th>\n",
              "      <td>0</td>\n",
              "    </tr>\n",
              "  </tbody>\n",
              "</table>\n",
              "</div>"
            ],
            "text/plain": [
              "                                  0\n",
              "mths_since_last_record       403647\n",
              "mths_since_last_major_derog  367311\n",
              "desc                         340302\n",
              "mths_since_last_delinq       250351\n",
              "next_pymnt_d                 227214\n",
              "tot_coll_amt                  70276\n",
              "tot_cur_bal                   70276\n",
              "emp_title                     27588\n",
              "last_pymnt_d                    376\n",
              "revol_util                      340\n",
              "collections_12_mths_ex_med      145\n",
              "last_credit_pull_d               42\n",
              "title                            20\n",
              "purpose:renewable_energy          0\n",
              "purpose:other                     0"
            ]
          },
          "metadata": {},
          "execution_count": 69
        }
      ]
    },
    {
      "cell_type": "markdown",
      "metadata": {
        "id": "t2LT9qkYDdsI"
      },
      "source": [
        "### Dependent variable, Good/Bad borrowers"
      ]
    },
    {
      "cell_type": "code",
      "metadata": {
        "id": "uMCC3seaC-8p"
      },
      "source": [
        "loan_status_uniques = df['loan_status'].unique()"
      ],
      "execution_count": 70,
      "outputs": []
    },
    {
      "cell_type": "code",
      "metadata": {
        "id": "zJnP_9Y6DqK8",
        "colab": {
          "base_uri": "https://localhost:8080/"
        },
        "outputId": "f83d25d9-658a-4622-a248-c93cd895b456"
      },
      "source": [
        "list(loan_status_uniques)"
      ],
      "execution_count": 71,
      "outputs": [
        {
          "output_type": "execute_result",
          "data": {
            "text/plain": [
              "['Fully Paid',\n",
              " 'Charged Off',\n",
              " 'Current',\n",
              " 'Default',\n",
              " 'Late (31-120 days)',\n",
              " 'In Grace Period',\n",
              " 'Late (16-30 days)',\n",
              " 'Does not meet the credit policy. Status:Fully Paid',\n",
              " 'Does not meet the credit policy. Status:Charged Off']"
            ]
          },
          "metadata": {},
          "execution_count": 71
        }
      ]
    },
    {
      "cell_type": "code",
      "metadata": {
        "colab": {
          "base_uri": "https://localhost:8080/"
        },
        "id": "_Xa68WwUvRkt",
        "outputId": "70e28062-4652-4f77-c4c8-9ff71fb5e29c"
      },
      "source": [
        "print(loan_status_uniques[1])\n",
        "print(loan_status_uniques[3])\n",
        "print(loan_status_uniques[-3])\n",
        "print(loan_status_uniques[-1])"
      ],
      "execution_count": 72,
      "outputs": [
        {
          "output_type": "stream",
          "name": "stdout",
          "text": [
            "Charged Off\n",
            "Default\n",
            "Late (16-30 days)\n",
            "Does not meet the credit policy. Status:Charged Off\n"
          ]
        }
      ]
    },
    {
      "cell_type": "code",
      "metadata": {
        "id": "3PXRefTSwkbx"
      },
      "source": [
        "defaults = [\n",
        "          loan_status_uniques[1], loan_status_uniques[1],\n",
        "          loan_status_uniques[-3], loan_status_uniques[-1]  \n",
        "]"
      ],
      "execution_count": 73,
      "outputs": []
    },
    {
      "cell_type": "code",
      "metadata": {
        "id": "OO8f-fGyxPMd"
      },
      "source": [
        "good_bad_loan = np.where(\n",
        "    df['loan_status'].isin(defaults),\n",
        "    0, 1\n",
        ")"
      ],
      "execution_count": 74,
      "outputs": []
    },
    {
      "cell_type": "code",
      "metadata": {
        "id": "6ikk-Zf5xmn4"
      },
      "source": [
        "df['good_bad_loan'] = good_bad_loan"
      ],
      "execution_count": 75,
      "outputs": []
    },
    {
      "cell_type": "code",
      "metadata": {
        "colab": {
          "base_uri": "https://localhost:8080/"
        },
        "id": "rY0oGAxaxrWp",
        "outputId": "bc3704eb-b670-4107-e453-62d1e512abb4"
      },
      "source": [
        "df['good_bad_loan'].value_counts()/len(df) # 90% good loans 10% bad loans"
      ],
      "execution_count": 76,
      "outputs": [
        {
          "output_type": "execute_result",
          "data": {
            "text/plain": [
              "1    0.904663\n",
              "0    0.095337\n",
              "Name: good_bad_loan, dtype: float64"
            ]
          },
          "metadata": {},
          "execution_count": 76
        }
      ]
    },
    {
      "cell_type": "code",
      "metadata": {
        "id": "4nLNJe0Cx7iJ"
      },
      "source": [
        "# list(df.columns)"
      ],
      "execution_count": 77,
      "outputs": []
    },
    {
      "cell_type": "code",
      "metadata": {
        "id": "KxNs7jCjy_Nu"
      },
      "source": [
        "X = df.drop('good_bad_loan', axis=1)\n",
        "y = df['good_bad_loan']"
      ],
      "execution_count": 78,
      "outputs": []
    },
    {
      "cell_type": "markdown",
      "metadata": {
        "id": "HVPgEe55xgLE"
      },
      "source": [
        "# Train test split"
      ]
    },
    {
      "cell_type": "code",
      "metadata": {
        "id": "YS7iCLsC349Z"
      },
      "source": [
        "from sklearn.model_selection import train_test_split"
      ],
      "execution_count": 79,
      "outputs": []
    },
    {
      "cell_type": "code",
      "metadata": {
        "id": "J8fj2WoN4Fv4"
      },
      "source": [
        "X_train, X_test, y_train, y_test = train_test_split(X, y, test_size=0.33, random_state=42)"
      ],
      "execution_count": 80,
      "outputs": []
    },
    {
      "cell_type": "code",
      "metadata": {
        "colab": {
          "base_uri": "https://localhost:8080/"
        },
        "id": "if4pSZM71EHT",
        "outputId": "54bc816c-5c03-461a-c4f6-676c0c2f225c"
      },
      "source": [
        "print(X_train.shape)\n",
        "print(X_test.shape)\n",
        "print(y_train.shape)\n",
        "print(y_test.shape)"
      ],
      "execution_count": 81,
      "outputs": [
        {
          "output_type": "stream",
          "name": "stdout",
          "text": [
            "(312410, 182)\n",
            "(153875, 182)\n",
            "(312410,)\n",
            "(153875,)\n"
          ]
        }
      ]
    },
    {
      "cell_type": "code",
      "metadata": {
        "id": "Dy747MXMxsT5"
      },
      "source": [
        "checkpoint_before_train_test_split = df\n",
        "df = pd.concat([X_train, y_train], axis=1)"
      ],
      "execution_count": 82,
      "outputs": []
    },
    {
      "cell_type": "code",
      "metadata": {
        "id": "fgGXF0Xx5viO"
      },
      "source": [
        "bad = np.where(df['good_bad_loan']== 1, 0, 1)\n",
        "good = df['good_bad_loan']\n",
        "# sum(good + bad) == len(df) # if true, then we correctly converted\n",
        "\n",
        "df['good'] = good\n",
        "df['bad'] = bad"
      ],
      "execution_count": 83,
      "outputs": []
    },
    {
      "cell_type": "code",
      "metadata": {
        "id": "KZVWniRH7ZDu"
      },
      "source": [
        "df_grade = pd.DataFrame()\n",
        "df_grade['grade'] = df['grade']\n",
        "df_grade['good'] = good\n",
        "df_grade['bad'] = bad"
      ],
      "execution_count": 84,
      "outputs": []
    },
    {
      "cell_type": "code",
      "metadata": {
        "id": "lPzIalLMBnFs"
      },
      "source": [
        "df_grade = df_grade.groupby(df_grade.columns[0], as_index=False).sum()"
      ],
      "execution_count": 85,
      "outputs": []
    },
    {
      "cell_type": "code",
      "metadata": {
        "id": "CXbHYU6J6Zb0"
      },
      "source": [
        "df_grade['sum'] = df_grade['good'] + df_grade['bad']"
      ],
      "execution_count": 86,
      "outputs": []
    },
    {
      "cell_type": "code",
      "metadata": {
        "id": "h4JhlPMuE4Ze"
      },
      "source": [
        "good_sum = df_grade['good'].sum()"
      ],
      "execution_count": 87,
      "outputs": []
    },
    {
      "cell_type": "code",
      "metadata": {
        "colab": {
          "base_uri": "https://localhost:8080/",
          "height": 269
        },
        "id": "rS5xWilzC0CK",
        "outputId": "e5cb7aa2-4f6c-417b-df36-bac28b95a348"
      },
      "source": [
        "df_grade['proportion_of_good'] = df_grade['good']/df_grade['good'].sum()\n",
        "df_grade['proportion_of_bad'] = df_grade['bad']/df_grade['bad'].sum()\n",
        "df_grade"
      ],
      "execution_count": 88,
      "outputs": [
        {
          "output_type": "execute_result",
          "data": {
            "text/html": [
              "<div>\n",
              "<style scoped>\n",
              "    .dataframe tbody tr th:only-of-type {\n",
              "        vertical-align: middle;\n",
              "    }\n",
              "\n",
              "    .dataframe tbody tr th {\n",
              "        vertical-align: top;\n",
              "    }\n",
              "\n",
              "    .dataframe thead th {\n",
              "        text-align: right;\n",
              "    }\n",
              "</style>\n",
              "<table border=\"1\" class=\"dataframe\">\n",
              "  <thead>\n",
              "    <tr style=\"text-align: right;\">\n",
              "      <th></th>\n",
              "      <th>grade</th>\n",
              "      <th>good</th>\n",
              "      <th>bad</th>\n",
              "      <th>sum</th>\n",
              "      <th>proportion_of_good</th>\n",
              "      <th>proportion_of_bad</th>\n",
              "    </tr>\n",
              "  </thead>\n",
              "  <tbody>\n",
              "    <tr>\n",
              "      <th>0</th>\n",
              "      <td>A</td>\n",
              "      <td>48423</td>\n",
              "      <td>1734</td>\n",
              "      <td>50157</td>\n",
              "      <td>0.171261</td>\n",
              "      <td>0.058451</td>\n",
              "    </tr>\n",
              "    <tr>\n",
              "      <th>1</th>\n",
              "      <td>B</td>\n",
              "      <td>85424</td>\n",
              "      <td>6312</td>\n",
              "      <td>91736</td>\n",
              "      <td>0.302125</td>\n",
              "      <td>0.212769</td>\n",
              "    </tr>\n",
              "    <tr>\n",
              "      <th>2</th>\n",
              "      <td>C</td>\n",
              "      <td>75819</td>\n",
              "      <td>8258</td>\n",
              "      <td>84077</td>\n",
              "      <td>0.268154</td>\n",
              "      <td>0.278366</td>\n",
              "    </tr>\n",
              "    <tr>\n",
              "      <th>3</th>\n",
              "      <td>D</td>\n",
              "      <td>44683</td>\n",
              "      <td>6873</td>\n",
              "      <td>51556</td>\n",
              "      <td>0.158033</td>\n",
              "      <td>0.231679</td>\n",
              "    </tr>\n",
              "    <tr>\n",
              "      <th>4</th>\n",
              "      <td>E</td>\n",
              "      <td>19889</td>\n",
              "      <td>4020</td>\n",
              "      <td>23909</td>\n",
              "      <td>0.070343</td>\n",
              "      <td>0.135509</td>\n",
              "    </tr>\n",
              "    <tr>\n",
              "      <th>5</th>\n",
              "      <td>F</td>\n",
              "      <td>6855</td>\n",
              "      <td>1929</td>\n",
              "      <td>8784</td>\n",
              "      <td>0.024245</td>\n",
              "      <td>0.065024</td>\n",
              "    </tr>\n",
              "    <tr>\n",
              "      <th>6</th>\n",
              "      <td>G</td>\n",
              "      <td>1651</td>\n",
              "      <td>540</td>\n",
              "      <td>2191</td>\n",
              "      <td>0.005839</td>\n",
              "      <td>0.018203</td>\n",
              "    </tr>\n",
              "  </tbody>\n",
              "</table>\n",
              "</div>"
            ],
            "text/plain": [
              "  grade   good   bad    sum  proportion_of_good  proportion_of_bad\n",
              "0     A  48423  1734  50157            0.171261           0.058451\n",
              "1     B  85424  6312  91736            0.302125           0.212769\n",
              "2     C  75819  8258  84077            0.268154           0.278366\n",
              "3     D  44683  6873  51556            0.158033           0.231679\n",
              "4     E  19889  4020  23909            0.070343           0.135509\n",
              "5     F   6855  1929   8784            0.024245           0.065024\n",
              "6     G   1651   540   2191            0.005839           0.018203"
            ]
          },
          "metadata": {},
          "execution_count": 88
        }
      ]
    },
    {
      "cell_type": "code",
      "metadata": {
        "id": "rLhNnHNRDv-c"
      },
      "source": [
        "import numpy as np"
      ],
      "execution_count": 89,
      "outputs": []
    },
    {
      "cell_type": "code",
      "metadata": {
        "colab": {
          "base_uri": "https://localhost:8080/",
          "height": 269
        },
        "id": "JH_dT5yUC1dZ",
        "outputId": "d0b78149-2f36-454b-ef32-1ea76d695388"
      },
      "source": [
        "df_grade['Weight_of_Evidence'] = np.log(\n",
        "    df_grade['proportion_of_good']/df_grade['proportion_of_bad']\n",
        ")\n",
        "df_grade"
      ],
      "execution_count": 90,
      "outputs": [
        {
          "output_type": "execute_result",
          "data": {
            "text/html": [
              "<div>\n",
              "<style scoped>\n",
              "    .dataframe tbody tr th:only-of-type {\n",
              "        vertical-align: middle;\n",
              "    }\n",
              "\n",
              "    .dataframe tbody tr th {\n",
              "        vertical-align: top;\n",
              "    }\n",
              "\n",
              "    .dataframe thead th {\n",
              "        text-align: right;\n",
              "    }\n",
              "</style>\n",
              "<table border=\"1\" class=\"dataframe\">\n",
              "  <thead>\n",
              "    <tr style=\"text-align: right;\">\n",
              "      <th></th>\n",
              "      <th>grade</th>\n",
              "      <th>good</th>\n",
              "      <th>bad</th>\n",
              "      <th>sum</th>\n",
              "      <th>proportion_of_good</th>\n",
              "      <th>proportion_of_bad</th>\n",
              "      <th>Weight_of_Evidence</th>\n",
              "    </tr>\n",
              "  </thead>\n",
              "  <tbody>\n",
              "    <tr>\n",
              "      <th>0</th>\n",
              "      <td>A</td>\n",
              "      <td>48423</td>\n",
              "      <td>1734</td>\n",
              "      <td>50157</td>\n",
              "      <td>0.171261</td>\n",
              "      <td>0.058451</td>\n",
              "      <td>1.075004</td>\n",
              "    </tr>\n",
              "    <tr>\n",
              "      <th>1</th>\n",
              "      <td>B</td>\n",
              "      <td>85424</td>\n",
              "      <td>6312</td>\n",
              "      <td>91736</td>\n",
              "      <td>0.302125</td>\n",
              "      <td>0.212769</td>\n",
              "      <td>0.350634</td>\n",
              "    </tr>\n",
              "    <tr>\n",
              "      <th>2</th>\n",
              "      <td>C</td>\n",
              "      <td>75819</td>\n",
              "      <td>8258</td>\n",
              "      <td>84077</td>\n",
              "      <td>0.268154</td>\n",
              "      <td>0.278366</td>\n",
              "      <td>-0.037374</td>\n",
              "    </tr>\n",
              "    <tr>\n",
              "      <th>3</th>\n",
              "      <td>D</td>\n",
              "      <td>44683</td>\n",
              "      <td>6873</td>\n",
              "      <td>51556</td>\n",
              "      <td>0.158033</td>\n",
              "      <td>0.231679</td>\n",
              "      <td>-0.382548</td>\n",
              "    </tr>\n",
              "    <tr>\n",
              "      <th>4</th>\n",
              "      <td>E</td>\n",
              "      <td>19889</td>\n",
              "      <td>4020</td>\n",
              "      <td>23909</td>\n",
              "      <td>0.070343</td>\n",
              "      <td>0.135509</td>\n",
              "      <td>-0.655655</td>\n",
              "    </tr>\n",
              "    <tr>\n",
              "      <th>5</th>\n",
              "      <td>F</td>\n",
              "      <td>6855</td>\n",
              "      <td>1929</td>\n",
              "      <td>8784</td>\n",
              "      <td>0.024245</td>\n",
              "      <td>0.065024</td>\n",
              "      <td>-0.986564</td>\n",
              "    </tr>\n",
              "    <tr>\n",
              "      <th>6</th>\n",
              "      <td>G</td>\n",
              "      <td>1651</td>\n",
              "      <td>540</td>\n",
              "      <td>2191</td>\n",
              "      <td>0.005839</td>\n",
              "      <td>0.018203</td>\n",
              "      <td>-1.136973</td>\n",
              "    </tr>\n",
              "  </tbody>\n",
              "</table>\n",
              "</div>"
            ],
            "text/plain": [
              "  grade   good   bad  ...  proportion_of_good  proportion_of_bad  Weight_of_Evidence\n",
              "0     A  48423  1734  ...            0.171261           0.058451            1.075004\n",
              "1     B  85424  6312  ...            0.302125           0.212769            0.350634\n",
              "2     C  75819  8258  ...            0.268154           0.278366           -0.037374\n",
              "3     D  44683  6873  ...            0.158033           0.231679           -0.382548\n",
              "4     E  19889  4020  ...            0.070343           0.135509           -0.655655\n",
              "5     F   6855  1929  ...            0.024245           0.065024           -0.986564\n",
              "6     G   1651   540  ...            0.005839           0.018203           -1.136973\n",
              "\n",
              "[7 rows x 7 columns]"
            ]
          },
          "metadata": {},
          "execution_count": 90
        }
      ]
    },
    {
      "cell_type": "code",
      "metadata": {
        "colab": {
          "base_uri": "https://localhost:8080/",
          "height": 269
        },
        "id": "OiwaCmfFEB5u",
        "outputId": "9d6d523e-3d86-4365-f85d-7b0a96de33ea"
      },
      "source": [
        "df_grade['Information_value'] = (\n",
        "    df_grade['proportion_of_good'] - df_grade['proportion_of_bad']\n",
        ") * df_grade['Weight_of_Evidence']\n",
        "\n",
        "df_grade['Information_value'] = df_grade['Information_value'].sum()\n",
        "\n",
        "df_grade"
      ],
      "execution_count": 91,
      "outputs": [
        {
          "output_type": "execute_result",
          "data": {
            "text/html": [
              "<div>\n",
              "<style scoped>\n",
              "    .dataframe tbody tr th:only-of-type {\n",
              "        vertical-align: middle;\n",
              "    }\n",
              "\n",
              "    .dataframe tbody tr th {\n",
              "        vertical-align: top;\n",
              "    }\n",
              "\n",
              "    .dataframe thead th {\n",
              "        text-align: right;\n",
              "    }\n",
              "</style>\n",
              "<table border=\"1\" class=\"dataframe\">\n",
              "  <thead>\n",
              "    <tr style=\"text-align: right;\">\n",
              "      <th></th>\n",
              "      <th>grade</th>\n",
              "      <th>good</th>\n",
              "      <th>bad</th>\n",
              "      <th>sum</th>\n",
              "      <th>proportion_of_good</th>\n",
              "      <th>proportion_of_bad</th>\n",
              "      <th>Weight_of_Evidence</th>\n",
              "      <th>Information_value</th>\n",
              "    </tr>\n",
              "  </thead>\n",
              "  <tbody>\n",
              "    <tr>\n",
              "      <th>0</th>\n",
              "      <td>A</td>\n",
              "      <td>48423</td>\n",
              "      <td>1734</td>\n",
              "      <td>50157</td>\n",
              "      <td>0.171261</td>\n",
              "      <td>0.058451</td>\n",
              "      <td>1.075004</td>\n",
              "      <td>0.278172</td>\n",
              "    </tr>\n",
              "    <tr>\n",
              "      <th>1</th>\n",
              "      <td>B</td>\n",
              "      <td>85424</td>\n",
              "      <td>6312</td>\n",
              "      <td>91736</td>\n",
              "      <td>0.302125</td>\n",
              "      <td>0.212769</td>\n",
              "      <td>0.350634</td>\n",
              "      <td>0.278172</td>\n",
              "    </tr>\n",
              "    <tr>\n",
              "      <th>2</th>\n",
              "      <td>C</td>\n",
              "      <td>75819</td>\n",
              "      <td>8258</td>\n",
              "      <td>84077</td>\n",
              "      <td>0.268154</td>\n",
              "      <td>0.278366</td>\n",
              "      <td>-0.037374</td>\n",
              "      <td>0.278172</td>\n",
              "    </tr>\n",
              "    <tr>\n",
              "      <th>3</th>\n",
              "      <td>D</td>\n",
              "      <td>44683</td>\n",
              "      <td>6873</td>\n",
              "      <td>51556</td>\n",
              "      <td>0.158033</td>\n",
              "      <td>0.231679</td>\n",
              "      <td>-0.382548</td>\n",
              "      <td>0.278172</td>\n",
              "    </tr>\n",
              "    <tr>\n",
              "      <th>4</th>\n",
              "      <td>E</td>\n",
              "      <td>19889</td>\n",
              "      <td>4020</td>\n",
              "      <td>23909</td>\n",
              "      <td>0.070343</td>\n",
              "      <td>0.135509</td>\n",
              "      <td>-0.655655</td>\n",
              "      <td>0.278172</td>\n",
              "    </tr>\n",
              "    <tr>\n",
              "      <th>5</th>\n",
              "      <td>F</td>\n",
              "      <td>6855</td>\n",
              "      <td>1929</td>\n",
              "      <td>8784</td>\n",
              "      <td>0.024245</td>\n",
              "      <td>0.065024</td>\n",
              "      <td>-0.986564</td>\n",
              "      <td>0.278172</td>\n",
              "    </tr>\n",
              "    <tr>\n",
              "      <th>6</th>\n",
              "      <td>G</td>\n",
              "      <td>1651</td>\n",
              "      <td>540</td>\n",
              "      <td>2191</td>\n",
              "      <td>0.005839</td>\n",
              "      <td>0.018203</td>\n",
              "      <td>-1.136973</td>\n",
              "      <td>0.278172</td>\n",
              "    </tr>\n",
              "  </tbody>\n",
              "</table>\n",
              "</div>"
            ],
            "text/plain": [
              "  grade   good   bad  ...  proportion_of_bad  Weight_of_Evidence  Information_value\n",
              "0     A  48423  1734  ...           0.058451            1.075004           0.278172\n",
              "1     B  85424  6312  ...           0.212769            0.350634           0.278172\n",
              "2     C  75819  8258  ...           0.278366           -0.037374           0.278172\n",
              "3     D  44683  6873  ...           0.231679           -0.382548           0.278172\n",
              "4     E  19889  4020  ...           0.135509           -0.655655           0.278172\n",
              "5     F   6855  1929  ...           0.065024           -0.986564           0.278172\n",
              "6     G   1651   540  ...           0.018203           -1.136973           0.278172\n",
              "\n",
              "[7 rows x 8 columns]"
            ]
          },
          "metadata": {},
          "execution_count": 91
        }
      ]
    },
    {
      "cell_type": "code",
      "metadata": {
        "id": "-vcbn2KaGFhM"
      },
      "source": [
        "# Automating\n",
        "\n",
        "import numpy as np\n",
        "\n",
        "def WoE_and_IV(df, variable_name):\n",
        "\n",
        "  bad = np.where(df['good_bad_loan']== 1, 0, 1)\n",
        "  good = df['good_bad_loan']\n",
        "\n",
        "  table = pd.DataFrame()\n",
        "  table[variable_name] = df[variable_name]\n",
        "  table['good_count'] = good\n",
        "  table['bad_count'] = bad\n",
        "  table['numb_of_obs'] = table['good_count'] + table['bad_count']\n",
        "\n",
        "  table = table.groupby(table.columns[0], as_index=False).sum()\n",
        "\n",
        "  table['proportion_of_good'] = table['good_count']/table['good_count'].sum()\n",
        "  table['proportion_of_bad']  = table['bad_count'] /table['bad_count'].sum()\n",
        "\n",
        "  table['Weight_of_Evidence'] = np.log(\n",
        "      table['proportion_of_good']/table['proportion_of_bad']\n",
        "  )\n",
        "\n",
        "  table['Information_value'] = (\n",
        "      table['proportion_of_good'] - table['proportion_of_bad']\n",
        "  ) * table['Weight_of_Evidence']\n",
        "\n",
        "  table['Information_value'] = table['Information_value'].sum()\n",
        "\n",
        "  table = table.sort_values('Weight_of_Evidence', ascending = True)\n",
        "  table = table.reset_index(drop=True)\n",
        "\n",
        "  return table"
      ],
      "execution_count": 92,
      "outputs": []
    },
    {
      "cell_type": "code",
      "metadata": {
        "colab": {
          "base_uri": "https://localhost:8080/",
          "height": 488
        },
        "id": "CNsi3dW0NGoP",
        "outputId": "8a4efa26-4780-4d57-a47f-d72a4a213ded"
      },
      "source": [
        "WoE_and_IV(df, 'purpose')"
      ],
      "execution_count": 93,
      "outputs": [
        {
          "output_type": "execute_result",
          "data": {
            "text/html": [
              "<div>\n",
              "<style scoped>\n",
              "    .dataframe tbody tr th:only-of-type {\n",
              "        vertical-align: middle;\n",
              "    }\n",
              "\n",
              "    .dataframe tbody tr th {\n",
              "        vertical-align: top;\n",
              "    }\n",
              "\n",
              "    .dataframe thead th {\n",
              "        text-align: right;\n",
              "    }\n",
              "</style>\n",
              "<table border=\"1\" class=\"dataframe\">\n",
              "  <thead>\n",
              "    <tr style=\"text-align: right;\">\n",
              "      <th></th>\n",
              "      <th>purpose</th>\n",
              "      <th>good_count</th>\n",
              "      <th>bad_count</th>\n",
              "      <th>numb_of_obs</th>\n",
              "      <th>proportion_of_good</th>\n",
              "      <th>proportion_of_bad</th>\n",
              "      <th>Weight_of_Evidence</th>\n",
              "      <th>Information_value</th>\n",
              "    </tr>\n",
              "  </thead>\n",
              "  <tbody>\n",
              "    <tr>\n",
              "      <th>0</th>\n",
              "      <td>small_business</td>\n",
              "      <td>3710</td>\n",
              "      <td>955</td>\n",
              "      <td>4665</td>\n",
              "      <td>0.013121</td>\n",
              "      <td>0.032192</td>\n",
              "      <td>-0.897464</td>\n",
              "      <td>0.043568</td>\n",
              "    </tr>\n",
              "    <tr>\n",
              "      <th>1</th>\n",
              "      <td>educational</td>\n",
              "      <td>221</td>\n",
              "      <td>55</td>\n",
              "      <td>276</td>\n",
              "      <td>0.000782</td>\n",
              "      <td>0.001854</td>\n",
              "      <td>-0.863711</td>\n",
              "      <td>0.043568</td>\n",
              "    </tr>\n",
              "    <tr>\n",
              "      <th>2</th>\n",
              "      <td>moving</td>\n",
              "      <td>1725</td>\n",
              "      <td>300</td>\n",
              "      <td>2025</td>\n",
              "      <td>0.006101</td>\n",
              "      <td>0.010113</td>\n",
              "      <td>-0.505340</td>\n",
              "      <td>0.043568</td>\n",
              "    </tr>\n",
              "    <tr>\n",
              "      <th>3</th>\n",
              "      <td>other</td>\n",
              "      <td>13811</td>\n",
              "      <td>1971</td>\n",
              "      <td>15782</td>\n",
              "      <td>0.048846</td>\n",
              "      <td>0.066440</td>\n",
              "      <td>-0.307616</td>\n",
              "      <td>0.043568</td>\n",
              "    </tr>\n",
              "    <tr>\n",
              "      <th>4</th>\n",
              "      <td>renewable_energy</td>\n",
              "      <td>212</td>\n",
              "      <td>30</td>\n",
              "      <td>242</td>\n",
              "      <td>0.000750</td>\n",
              "      <td>0.001011</td>\n",
              "      <td>-0.299151</td>\n",
              "      <td>0.043568</td>\n",
              "    </tr>\n",
              "    <tr>\n",
              "      <th>5</th>\n",
              "      <td>house</td>\n",
              "      <td>1335</td>\n",
              "      <td>185</td>\n",
              "      <td>1520</td>\n",
              "      <td>0.004722</td>\n",
              "      <td>0.006236</td>\n",
              "      <td>-0.278210</td>\n",
              "      <td>0.043568</td>\n",
              "    </tr>\n",
              "    <tr>\n",
              "      <th>6</th>\n",
              "      <td>wedding</td>\n",
              "      <td>1388</td>\n",
              "      <td>183</td>\n",
              "      <td>1571</td>\n",
              "      <td>0.004909</td>\n",
              "      <td>0.006169</td>\n",
              "      <td>-0.228407</td>\n",
              "      <td>0.043568</td>\n",
              "    </tr>\n",
              "    <tr>\n",
              "      <th>7</th>\n",
              "      <td>medical</td>\n",
              "      <td>2720</td>\n",
              "      <td>341</td>\n",
              "      <td>3061</td>\n",
              "      <td>0.009620</td>\n",
              "      <td>0.011495</td>\n",
              "      <td>-0.178036</td>\n",
              "      <td>0.043568</td>\n",
              "    </tr>\n",
              "    <tr>\n",
              "      <th>8</th>\n",
              "      <td>vacation</td>\n",
              "      <td>1517</td>\n",
              "      <td>185</td>\n",
              "      <td>1702</td>\n",
              "      <td>0.005365</td>\n",
              "      <td>0.006236</td>\n",
              "      <td>-0.150406</td>\n",
              "      <td>0.043568</td>\n",
              "    </tr>\n",
              "    <tr>\n",
              "      <th>9</th>\n",
              "      <td>debt_consolidation</td>\n",
              "      <td>165673</td>\n",
              "      <td>17900</td>\n",
              "      <td>183573</td>\n",
              "      <td>0.585947</td>\n",
              "      <td>0.603384</td>\n",
              "      <td>-0.029325</td>\n",
              "      <td>0.043568</td>\n",
              "    </tr>\n",
              "    <tr>\n",
              "      <th>10</th>\n",
              "      <td>home_improvement</td>\n",
              "      <td>16331</td>\n",
              "      <td>1548</td>\n",
              "      <td>17879</td>\n",
              "      <td>0.057759</td>\n",
              "      <td>0.052181</td>\n",
              "      <td>0.101561</td>\n",
              "      <td>0.043568</td>\n",
              "    </tr>\n",
              "    <tr>\n",
              "      <th>11</th>\n",
              "      <td>major_purchase</td>\n",
              "      <td>5956</td>\n",
              "      <td>549</td>\n",
              "      <td>6505</td>\n",
              "      <td>0.021065</td>\n",
              "      <td>0.018506</td>\n",
              "      <td>0.129516</td>\n",
              "      <td>0.043568</td>\n",
              "    </tr>\n",
              "    <tr>\n",
              "      <th>12</th>\n",
              "      <td>car</td>\n",
              "      <td>3253</td>\n",
              "      <td>292</td>\n",
              "      <td>3545</td>\n",
              "      <td>0.011505</td>\n",
              "      <td>0.009843</td>\n",
              "      <td>0.156039</td>\n",
              "      <td>0.043568</td>\n",
              "    </tr>\n",
              "    <tr>\n",
              "      <th>13</th>\n",
              "      <td>credit_card</td>\n",
              "      <td>64892</td>\n",
              "      <td>5172</td>\n",
              "      <td>70064</td>\n",
              "      <td>0.229508</td>\n",
              "      <td>0.174341</td>\n",
              "      <td>0.274925</td>\n",
              "      <td>0.043568</td>\n",
              "    </tr>\n",
              "  </tbody>\n",
              "</table>\n",
              "</div>"
            ],
            "text/plain": [
              "               purpose  good_count  ...  Weight_of_Evidence  Information_value\n",
              "0       small_business        3710  ...           -0.897464           0.043568\n",
              "1          educational         221  ...           -0.863711           0.043568\n",
              "2               moving        1725  ...           -0.505340           0.043568\n",
              "3                other       13811  ...           -0.307616           0.043568\n",
              "4     renewable_energy         212  ...           -0.299151           0.043568\n",
              "5                house        1335  ...           -0.278210           0.043568\n",
              "6              wedding        1388  ...           -0.228407           0.043568\n",
              "7              medical        2720  ...           -0.178036           0.043568\n",
              "8             vacation        1517  ...           -0.150406           0.043568\n",
              "9   debt_consolidation      165673  ...           -0.029325           0.043568\n",
              "10    home_improvement       16331  ...            0.101561           0.043568\n",
              "11      major_purchase        5956  ...            0.129516           0.043568\n",
              "12                 car        3253  ...            0.156039           0.043568\n",
              "13         credit_card       64892  ...            0.274925           0.043568\n",
              "\n",
              "[14 rows x 8 columns]"
            ]
          },
          "metadata": {},
          "execution_count": 93
        }
      ]
    },
    {
      "cell_type": "code",
      "metadata": {
        "id": "qqyWgPfXNSWk",
        "colab": {
          "base_uri": "https://localhost:8080/",
          "height": 206
        },
        "outputId": "eb1972a7-bcf3-41cb-aaa2-890db1454754"
      },
      "source": [
        "WoE_and_IV(df, 'home_ownership')"
      ],
      "execution_count": 94,
      "outputs": [
        {
          "output_type": "execute_result",
          "data": {
            "text/html": [
              "<div>\n",
              "<style scoped>\n",
              "    .dataframe tbody tr th:only-of-type {\n",
              "        vertical-align: middle;\n",
              "    }\n",
              "\n",
              "    .dataframe tbody tr th {\n",
              "        vertical-align: top;\n",
              "    }\n",
              "\n",
              "    .dataframe thead th {\n",
              "        text-align: right;\n",
              "    }\n",
              "</style>\n",
              "<table border=\"1\" class=\"dataframe\">\n",
              "  <thead>\n",
              "    <tr style=\"text-align: right;\">\n",
              "      <th></th>\n",
              "      <th>home_ownership</th>\n",
              "      <th>good_count</th>\n",
              "      <th>bad_count</th>\n",
              "      <th>numb_of_obs</th>\n",
              "      <th>proportion_of_good</th>\n",
              "      <th>proportion_of_bad</th>\n",
              "      <th>Weight_of_Evidence</th>\n",
              "      <th>Information_value</th>\n",
              "    </tr>\n",
              "  </thead>\n",
              "  <tbody>\n",
              "    <tr>\n",
              "      <th>0</th>\n",
              "      <td>OTHER</td>\n",
              "      <td>94</td>\n",
              "      <td>23</td>\n",
              "      <td>117</td>\n",
              "      <td>0.000332</td>\n",
              "      <td>0.000775</td>\n",
              "      <td>-0.846740</td>\n",
              "      <td>0.020346</td>\n",
              "    </tr>\n",
              "    <tr>\n",
              "      <th>1</th>\n",
              "      <td>NONE</td>\n",
              "      <td>28</td>\n",
              "      <td>5</td>\n",
              "      <td>33</td>\n",
              "      <td>0.000099</td>\n",
              "      <td>0.000169</td>\n",
              "      <td>-0.531774</td>\n",
              "      <td>0.020346</td>\n",
              "    </tr>\n",
              "    <tr>\n",
              "      <th>2</th>\n",
              "      <td>RENT</td>\n",
              "      <td>112222</td>\n",
              "      <td>13788</td>\n",
              "      <td>126010</td>\n",
              "      <td>0.396903</td>\n",
              "      <td>0.464774</td>\n",
              "      <td>-0.157860</td>\n",
              "      <td>0.020346</td>\n",
              "    </tr>\n",
              "    <tr>\n",
              "      <th>3</th>\n",
              "      <td>OWN</td>\n",
              "      <td>25376</td>\n",
              "      <td>2600</td>\n",
              "      <td>27976</td>\n",
              "      <td>0.089749</td>\n",
              "      <td>0.087642</td>\n",
              "      <td>0.023752</td>\n",
              "      <td>0.020346</td>\n",
              "    </tr>\n",
              "    <tr>\n",
              "      <th>4</th>\n",
              "      <td>MORTGAGE</td>\n",
              "      <td>145024</td>\n",
              "      <td>13250</td>\n",
              "      <td>158274</td>\n",
              "      <td>0.512916</td>\n",
              "      <td>0.446639</td>\n",
              "      <td>0.138361</td>\n",
              "      <td>0.020346</td>\n",
              "    </tr>\n",
              "  </tbody>\n",
              "</table>\n",
              "</div>"
            ],
            "text/plain": [
              "  home_ownership  good_count  ...  Weight_of_Evidence  Information_value\n",
              "0          OTHER          94  ...           -0.846740           0.020346\n",
              "1           NONE          28  ...           -0.531774           0.020346\n",
              "2           RENT      112222  ...           -0.157860           0.020346\n",
              "3            OWN       25376  ...            0.023752           0.020346\n",
              "4       MORTGAGE      145024  ...            0.138361           0.020346\n",
              "\n",
              "[5 rows x 8 columns]"
            ]
          },
          "metadata": {},
          "execution_count": 94
        }
      ]
    },
    {
      "cell_type": "code",
      "metadata": {
        "id": "pnuc8AptRbLL",
        "colab": {
          "base_uri": "https://localhost:8080/",
          "height": 1000
        },
        "outputId": "2493c3ee-54f6-4f4d-ad44-a3a72c679e66"
      },
      "source": [
        "WoE_and_IV(df, 'addr_state')"
      ],
      "execution_count": 95,
      "outputs": [
        {
          "output_type": "execute_result",
          "data": {
            "text/html": [
              "<div>\n",
              "<style scoped>\n",
              "    .dataframe tbody tr th:only-of-type {\n",
              "        vertical-align: middle;\n",
              "    }\n",
              "\n",
              "    .dataframe tbody tr th {\n",
              "        vertical-align: top;\n",
              "    }\n",
              "\n",
              "    .dataframe thead th {\n",
              "        text-align: right;\n",
              "    }\n",
              "</style>\n",
              "<table border=\"1\" class=\"dataframe\">\n",
              "  <thead>\n",
              "    <tr style=\"text-align: right;\">\n",
              "      <th></th>\n",
              "      <th>addr_state</th>\n",
              "      <th>good_count</th>\n",
              "      <th>bad_count</th>\n",
              "      <th>numb_of_obs</th>\n",
              "      <th>proportion_of_good</th>\n",
              "      <th>proportion_of_bad</th>\n",
              "      <th>Weight_of_Evidence</th>\n",
              "      <th>Information_value</th>\n",
              "    </tr>\n",
              "  </thead>\n",
              "  <tbody>\n",
              "    <tr>\n",
              "      <th>0</th>\n",
              "      <td>NE</td>\n",
              "      <td>6</td>\n",
              "      <td>5</td>\n",
              "      <td>11</td>\n",
              "      <td>0.000021</td>\n",
              "      <td>0.000169</td>\n",
              "      <td>-2.072219</td>\n",
              "      <td>inf</td>\n",
              "    </tr>\n",
              "    <tr>\n",
              "      <th>1</th>\n",
              "      <td>IA</td>\n",
              "      <td>8</td>\n",
              "      <td>3</td>\n",
              "      <td>11</td>\n",
              "      <td>0.000028</td>\n",
              "      <td>0.000101</td>\n",
              "      <td>-1.273711</td>\n",
              "      <td>inf</td>\n",
              "    </tr>\n",
              "    <tr>\n",
              "      <th>2</th>\n",
              "      <td>NV</td>\n",
              "      <td>3870</td>\n",
              "      <td>507</td>\n",
              "      <td>4377</td>\n",
              "      <td>0.013687</td>\n",
              "      <td>0.017090</td>\n",
              "      <td>-0.222042</td>\n",
              "      <td>inf</td>\n",
              "    </tr>\n",
              "    <tr>\n",
              "      <th>3</th>\n",
              "      <td>AL</td>\n",
              "      <td>3500</td>\n",
              "      <td>434</td>\n",
              "      <td>3934</td>\n",
              "      <td>0.012379</td>\n",
              "      <td>0.014630</td>\n",
              "      <td>-0.167067</td>\n",
              "      <td>inf</td>\n",
              "    </tr>\n",
              "    <tr>\n",
              "      <th>4</th>\n",
              "      <td>NM</td>\n",
              "      <td>1513</td>\n",
              "      <td>183</td>\n",
              "      <td>1696</td>\n",
              "      <td>0.005351</td>\n",
              "      <td>0.006169</td>\n",
              "      <td>-0.142177</td>\n",
              "      <td>inf</td>\n",
              "    </tr>\n",
              "    <tr>\n",
              "      <th>5</th>\n",
              "      <td>FL</td>\n",
              "      <td>18836</td>\n",
              "      <td>2272</td>\n",
              "      <td>21108</td>\n",
              "      <td>0.066619</td>\n",
              "      <td>0.076586</td>\n",
              "      <td>-0.139431</td>\n",
              "      <td>inf</td>\n",
              "    </tr>\n",
              "    <tr>\n",
              "      <th>6</th>\n",
              "      <td>HI</td>\n",
              "      <td>1509</td>\n",
              "      <td>178</td>\n",
              "      <td>1687</td>\n",
              "      <td>0.005337</td>\n",
              "      <td>0.006000</td>\n",
              "      <td>-0.117121</td>\n",
              "      <td>inf</td>\n",
              "    </tr>\n",
              "    <tr>\n",
              "      <th>7</th>\n",
              "      <td>MO</td>\n",
              "      <td>4505</td>\n",
              "      <td>516</td>\n",
              "      <td>5021</td>\n",
              "      <td>0.015933</td>\n",
              "      <td>0.017394</td>\n",
              "      <td>-0.087704</td>\n",
              "      <td>inf</td>\n",
              "    </tr>\n",
              "    <tr>\n",
              "      <th>8</th>\n",
              "      <td>VA</td>\n",
              "      <td>8567</td>\n",
              "      <td>967</td>\n",
              "      <td>9534</td>\n",
              "      <td>0.030299</td>\n",
              "      <td>0.032596</td>\n",
              "      <td>-0.073066</td>\n",
              "      <td>inf</td>\n",
              "    </tr>\n",
              "    <tr>\n",
              "      <th>9</th>\n",
              "      <td>CA</td>\n",
              "      <td>43040</td>\n",
              "      <td>4849</td>\n",
              "      <td>47889</td>\n",
              "      <td>0.152223</td>\n",
              "      <td>0.163453</td>\n",
              "      <td>-0.071183</td>\n",
              "      <td>inf</td>\n",
              "    </tr>\n",
              "    <tr>\n",
              "      <th>10</th>\n",
              "      <td>OK</td>\n",
              "      <td>2453</td>\n",
              "      <td>275</td>\n",
              "      <td>2728</td>\n",
              "      <td>0.008676</td>\n",
              "      <td>0.009270</td>\n",
              "      <td>-0.066244</td>\n",
              "      <td>inf</td>\n",
              "    </tr>\n",
              "    <tr>\n",
              "      <th>11</th>\n",
              "      <td>TN</td>\n",
              "      <td>3648</td>\n",
              "      <td>404</td>\n",
              "      <td>4052</td>\n",
              "      <td>0.012902</td>\n",
              "      <td>0.013618</td>\n",
              "      <td>-0.054021</td>\n",
              "      <td>inf</td>\n",
              "    </tr>\n",
              "    <tr>\n",
              "      <th>12</th>\n",
              "      <td>NJ</td>\n",
              "      <td>10902</td>\n",
              "      <td>1205</td>\n",
              "      <td>12107</td>\n",
              "      <td>0.038558</td>\n",
              "      <td>0.040619</td>\n",
              "      <td>-0.052074</td>\n",
              "      <td>inf</td>\n",
              "    </tr>\n",
              "    <tr>\n",
              "      <th>13</th>\n",
              "      <td>NC</td>\n",
              "      <td>7729</td>\n",
              "      <td>853</td>\n",
              "      <td>8582</td>\n",
              "      <td>0.027336</td>\n",
              "      <td>0.028753</td>\n",
              "      <td>-0.050565</td>\n",
              "      <td>inf</td>\n",
              "    </tr>\n",
              "    <tr>\n",
              "      <th>14</th>\n",
              "      <td>KY</td>\n",
              "      <td>2688</td>\n",
              "      <td>296</td>\n",
              "      <td>2984</td>\n",
              "      <td>0.009507</td>\n",
              "      <td>0.009978</td>\n",
              "      <td>-0.048347</td>\n",
              "      <td>inf</td>\n",
              "    </tr>\n",
              "    <tr>\n",
              "      <th>15</th>\n",
              "      <td>NY</td>\n",
              "      <td>24240</td>\n",
              "      <td>2667</td>\n",
              "      <td>26907</td>\n",
              "      <td>0.085731</td>\n",
              "      <td>0.089901</td>\n",
              "      <td>-0.047490</td>\n",
              "      <td>inf</td>\n",
              "    </tr>\n",
              "    <tr>\n",
              "      <th>16</th>\n",
              "      <td>MD</td>\n",
              "      <td>6634</td>\n",
              "      <td>715</td>\n",
              "      <td>7349</td>\n",
              "      <td>0.023463</td>\n",
              "      <td>0.024102</td>\n",
              "      <td>-0.026860</td>\n",
              "      <td>inf</td>\n",
              "    </tr>\n",
              "    <tr>\n",
              "      <th>17</th>\n",
              "      <td>UT</td>\n",
              "      <td>2100</td>\n",
              "      <td>226</td>\n",
              "      <td>2326</td>\n",
              "      <td>0.007427</td>\n",
              "      <td>0.007618</td>\n",
              "      <td>-0.025383</td>\n",
              "      <td>inf</td>\n",
              "    </tr>\n",
              "    <tr>\n",
              "      <th>18</th>\n",
              "      <td>LA</td>\n",
              "      <td>3256</td>\n",
              "      <td>350</td>\n",
              "      <td>3606</td>\n",
              "      <td>0.011516</td>\n",
              "      <td>0.011798</td>\n",
              "      <td>-0.024219</td>\n",
              "      <td>inf</td>\n",
              "    </tr>\n",
              "    <tr>\n",
              "      <th>19</th>\n",
              "      <td>MN</td>\n",
              "      <td>4953</td>\n",
              "      <td>529</td>\n",
              "      <td>5482</td>\n",
              "      <td>0.017518</td>\n",
              "      <td>0.017832</td>\n",
              "      <td>-0.017780</td>\n",
              "      <td>inf</td>\n",
              "    </tr>\n",
              "    <tr>\n",
              "      <th>20</th>\n",
              "      <td>MI</td>\n",
              "      <td>6968</td>\n",
              "      <td>743</td>\n",
              "      <td>7711</td>\n",
              "      <td>0.024644</td>\n",
              "      <td>0.025046</td>\n",
              "      <td>-0.016153</td>\n",
              "      <td>inf</td>\n",
              "    </tr>\n",
              "    <tr>\n",
              "      <th>21</th>\n",
              "      <td>SD</td>\n",
              "      <td>604</td>\n",
              "      <td>62</td>\n",
              "      <td>666</td>\n",
              "      <td>0.002136</td>\n",
              "      <td>0.002090</td>\n",
              "      <td>0.021900</td>\n",
              "      <td>inf</td>\n",
              "    </tr>\n",
              "    <tr>\n",
              "      <th>22</th>\n",
              "      <td>WA</td>\n",
              "      <td>6343</td>\n",
              "      <td>651</td>\n",
              "      <td>6994</td>\n",
              "      <td>0.022434</td>\n",
              "      <td>0.021944</td>\n",
              "      <td>0.022057</td>\n",
              "      <td>inf</td>\n",
              "    </tr>\n",
              "    <tr>\n",
              "      <th>23</th>\n",
              "      <td>AZ</td>\n",
              "      <td>6578</td>\n",
              "      <td>674</td>\n",
              "      <td>7252</td>\n",
              "      <td>0.023265</td>\n",
              "      <td>0.022720</td>\n",
              "      <td>0.023716</td>\n",
              "      <td>inf</td>\n",
              "    </tr>\n",
              "    <tr>\n",
              "      <th>24</th>\n",
              "      <td>OH</td>\n",
              "      <td>9200</td>\n",
              "      <td>942</td>\n",
              "      <td>10142</td>\n",
              "      <td>0.032538</td>\n",
              "      <td>0.031754</td>\n",
              "      <td>0.024413</td>\n",
              "      <td>inf</td>\n",
              "    </tr>\n",
              "    <tr>\n",
              "      <th>25</th>\n",
              "      <td>PA</td>\n",
              "      <td>10008</td>\n",
              "      <td>1022</td>\n",
              "      <td>11030</td>\n",
              "      <td>0.035396</td>\n",
              "      <td>0.034450</td>\n",
              "      <td>0.027083</td>\n",
              "      <td>inf</td>\n",
              "    </tr>\n",
              "    <tr>\n",
              "      <th>26</th>\n",
              "      <td>MA</td>\n",
              "      <td>6763</td>\n",
              "      <td>690</td>\n",
              "      <td>7453</td>\n",
              "      <td>0.023919</td>\n",
              "      <td>0.023259</td>\n",
              "      <td>0.027990</td>\n",
              "      <td>inf</td>\n",
              "    </tr>\n",
              "    <tr>\n",
              "      <th>27</th>\n",
              "      <td>AR</td>\n",
              "      <td>2108</td>\n",
              "      <td>214</td>\n",
              "      <td>2322</td>\n",
              "      <td>0.007456</td>\n",
              "      <td>0.007214</td>\n",
              "      <td>0.032979</td>\n",
              "      <td>inf</td>\n",
              "    </tr>\n",
              "    <tr>\n",
              "      <th>28</th>\n",
              "      <td>DE</td>\n",
              "      <td>813</td>\n",
              "      <td>82</td>\n",
              "      <td>895</td>\n",
              "      <td>0.002875</td>\n",
              "      <td>0.002764</td>\n",
              "      <td>0.039472</td>\n",
              "      <td>inf</td>\n",
              "    </tr>\n",
              "    <tr>\n",
              "      <th>29</th>\n",
              "      <td>IN</td>\n",
              "      <td>3958</td>\n",
              "      <td>399</td>\n",
              "      <td>4357</td>\n",
              "      <td>0.013999</td>\n",
              "      <td>0.013450</td>\n",
              "      <td>0.039992</td>\n",
              "      <td>inf</td>\n",
              "    </tr>\n",
              "    <tr>\n",
              "      <th>30</th>\n",
              "      <td>GA</td>\n",
              "      <td>9088</td>\n",
              "      <td>910</td>\n",
              "      <td>9998</td>\n",
              "      <td>0.032142</td>\n",
              "      <td>0.030675</td>\n",
              "      <td>0.046725</td>\n",
              "      <td>inf</td>\n",
              "    </tr>\n",
              "    <tr>\n",
              "      <th>31</th>\n",
              "      <td>WI</td>\n",
              "      <td>3637</td>\n",
              "      <td>351</td>\n",
              "      <td>3988</td>\n",
              "      <td>0.012863</td>\n",
              "      <td>0.011832</td>\n",
              "      <td>0.083588</td>\n",
              "      <td>inf</td>\n",
              "    </tr>\n",
              "    <tr>\n",
              "      <th>32</th>\n",
              "      <td>RI</td>\n",
              "      <td>1255</td>\n",
              "      <td>119</td>\n",
              "      <td>1374</td>\n",
              "      <td>0.004439</td>\n",
              "      <td>0.004011</td>\n",
              "      <td>0.101227</td>\n",
              "      <td>inf</td>\n",
              "    </tr>\n",
              "    <tr>\n",
              "      <th>33</th>\n",
              "      <td>OR</td>\n",
              "      <td>3632</td>\n",
              "      <td>342</td>\n",
              "      <td>3974</td>\n",
              "      <td>0.012846</td>\n",
              "      <td>0.011528</td>\n",
              "      <td>0.108188</td>\n",
              "      <td>inf</td>\n",
              "    </tr>\n",
              "    <tr>\n",
              "      <th>34</th>\n",
              "      <td>CT</td>\n",
              "      <td>4428</td>\n",
              "      <td>406</td>\n",
              "      <td>4834</td>\n",
              "      <td>0.015661</td>\n",
              "      <td>0.013686</td>\n",
              "      <td>0.134810</td>\n",
              "      <td>inf</td>\n",
              "    </tr>\n",
              "    <tr>\n",
              "      <th>35</th>\n",
              "      <td>IL</td>\n",
              "      <td>11446</td>\n",
              "      <td>1029</td>\n",
              "      <td>12475</td>\n",
              "      <td>0.040482</td>\n",
              "      <td>0.034686</td>\n",
              "      <td>0.154513</td>\n",
              "      <td>inf</td>\n",
              "    </tr>\n",
              "    <tr>\n",
              "      <th>36</th>\n",
              "      <td>TX</td>\n",
              "      <td>22480</td>\n",
              "      <td>2006</td>\n",
              "      <td>24486</td>\n",
              "      <td>0.079507</td>\n",
              "      <td>0.067619</td>\n",
              "      <td>0.161943</td>\n",
              "      <td>inf</td>\n",
              "    </tr>\n",
              "    <tr>\n",
              "      <th>37</th>\n",
              "      <td>MT</td>\n",
              "      <td>824</td>\n",
              "      <td>73</td>\n",
              "      <td>897</td>\n",
              "      <td>0.002914</td>\n",
              "      <td>0.002461</td>\n",
              "      <td>0.169171</td>\n",
              "      <td>inf</td>\n",
              "    </tr>\n",
              "    <tr>\n",
              "      <th>38</th>\n",
              "      <td>KS</td>\n",
              "      <td>2582</td>\n",
              "      <td>223</td>\n",
              "      <td>2805</td>\n",
              "      <td>0.009132</td>\n",
              "      <td>0.007517</td>\n",
              "      <td>0.194608</td>\n",
              "      <td>inf</td>\n",
              "    </tr>\n",
              "    <tr>\n",
              "      <th>39</th>\n",
              "      <td>CO</td>\n",
              "      <td>6010</td>\n",
              "      <td>517</td>\n",
              "      <td>6527</td>\n",
              "      <td>0.021256</td>\n",
              "      <td>0.017427</td>\n",
              "      <td>0.198597</td>\n",
              "      <td>inf</td>\n",
              "    </tr>\n",
              "    <tr>\n",
              "      <th>40</th>\n",
              "      <td>SC</td>\n",
              "      <td>3417</td>\n",
              "      <td>293</td>\n",
              "      <td>3710</td>\n",
              "      <td>0.012085</td>\n",
              "      <td>0.009877</td>\n",
              "      <td>0.201805</td>\n",
              "      <td>inf</td>\n",
              "    </tr>\n",
              "    <tr>\n",
              "      <th>41</th>\n",
              "      <td>AK</td>\n",
              "      <td>782</td>\n",
              "      <td>64</td>\n",
              "      <td>846</td>\n",
              "      <td>0.002766</td>\n",
              "      <td>0.002157</td>\n",
              "      <td>0.248431</td>\n",
              "      <td>inf</td>\n",
              "    </tr>\n",
              "    <tr>\n",
              "      <th>42</th>\n",
              "      <td>VT</td>\n",
              "      <td>562</td>\n",
              "      <td>43</td>\n",
              "      <td>605</td>\n",
              "      <td>0.001988</td>\n",
              "      <td>0.001449</td>\n",
              "      <td>0.315761</td>\n",
              "      <td>inf</td>\n",
              "    </tr>\n",
              "    <tr>\n",
              "      <th>43</th>\n",
              "      <td>MS</td>\n",
              "      <td>755</td>\n",
              "      <td>57</td>\n",
              "      <td>812</td>\n",
              "      <td>0.002670</td>\n",
              "      <td>0.001921</td>\n",
              "      <td>0.329126</td>\n",
              "      <td>inf</td>\n",
              "    </tr>\n",
              "    <tr>\n",
              "      <th>44</th>\n",
              "      <td>NH</td>\n",
              "      <td>1441</td>\n",
              "      <td>107</td>\n",
              "      <td>1548</td>\n",
              "      <td>0.005096</td>\n",
              "      <td>0.003607</td>\n",
              "      <td>0.345723</td>\n",
              "      <td>inf</td>\n",
              "    </tr>\n",
              "    <tr>\n",
              "      <th>45</th>\n",
              "      <td>WV</td>\n",
              "      <td>1510</td>\n",
              "      <td>108</td>\n",
              "      <td>1618</td>\n",
              "      <td>0.005341</td>\n",
              "      <td>0.003641</td>\n",
              "      <td>0.383193</td>\n",
              "      <td>inf</td>\n",
              "    </tr>\n",
              "    <tr>\n",
              "      <th>46</th>\n",
              "      <td>WY</td>\n",
              "      <td>705</td>\n",
              "      <td>49</td>\n",
              "      <td>754</td>\n",
              "      <td>0.002493</td>\n",
              "      <td>0.001652</td>\n",
              "      <td>0.411837</td>\n",
              "      <td>inf</td>\n",
              "    </tr>\n",
              "    <tr>\n",
              "      <th>47</th>\n",
              "      <td>DC</td>\n",
              "      <td>881</td>\n",
              "      <td>56</td>\n",
              "      <td>937</td>\n",
              "      <td>0.003116</td>\n",
              "      <td>0.001888</td>\n",
              "      <td>0.501166</td>\n",
              "      <td>inf</td>\n",
              "    </tr>\n",
              "    <tr>\n",
              "      <th>48</th>\n",
              "      <td>ME</td>\n",
              "      <td>2</td>\n",
              "      <td>0</td>\n",
              "      <td>2</td>\n",
              "      <td>0.000007</td>\n",
              "      <td>0.000000</td>\n",
              "      <td>inf</td>\n",
              "      <td>inf</td>\n",
              "    </tr>\n",
              "    <tr>\n",
              "      <th>49</th>\n",
              "      <td>ID</td>\n",
              "      <td>7</td>\n",
              "      <td>0</td>\n",
              "      <td>7</td>\n",
              "      <td>0.000025</td>\n",
              "      <td>0.000000</td>\n",
              "      <td>inf</td>\n",
              "      <td>inf</td>\n",
              "    </tr>\n",
              "  </tbody>\n",
              "</table>\n",
              "</div>"
            ],
            "text/plain": [
              "   addr_state  good_count  ...  Weight_of_Evidence  Information_value\n",
              "0          NE           6  ...           -2.072219                inf\n",
              "1          IA           8  ...           -1.273711                inf\n",
              "2          NV        3870  ...           -0.222042                inf\n",
              "3          AL        3500  ...           -0.167067                inf\n",
              "4          NM        1513  ...           -0.142177                inf\n",
              "5          FL       18836  ...           -0.139431                inf\n",
              "6          HI        1509  ...           -0.117121                inf\n",
              "7          MO        4505  ...           -0.087704                inf\n",
              "8          VA        8567  ...           -0.073066                inf\n",
              "9          CA       43040  ...           -0.071183                inf\n",
              "10         OK        2453  ...           -0.066244                inf\n",
              "11         TN        3648  ...           -0.054021                inf\n",
              "12         NJ       10902  ...           -0.052074                inf\n",
              "13         NC        7729  ...           -0.050565                inf\n",
              "14         KY        2688  ...           -0.048347                inf\n",
              "15         NY       24240  ...           -0.047490                inf\n",
              "16         MD        6634  ...           -0.026860                inf\n",
              "17         UT        2100  ...           -0.025383                inf\n",
              "18         LA        3256  ...           -0.024219                inf\n",
              "19         MN        4953  ...           -0.017780                inf\n",
              "20         MI        6968  ...           -0.016153                inf\n",
              "21         SD         604  ...            0.021900                inf\n",
              "22         WA        6343  ...            0.022057                inf\n",
              "23         AZ        6578  ...            0.023716                inf\n",
              "24         OH        9200  ...            0.024413                inf\n",
              "25         PA       10008  ...            0.027083                inf\n",
              "26         MA        6763  ...            0.027990                inf\n",
              "27         AR        2108  ...            0.032979                inf\n",
              "28         DE         813  ...            0.039472                inf\n",
              "29         IN        3958  ...            0.039992                inf\n",
              "30         GA        9088  ...            0.046725                inf\n",
              "31         WI        3637  ...            0.083588                inf\n",
              "32         RI        1255  ...            0.101227                inf\n",
              "33         OR        3632  ...            0.108188                inf\n",
              "34         CT        4428  ...            0.134810                inf\n",
              "35         IL       11446  ...            0.154513                inf\n",
              "36         TX       22480  ...            0.161943                inf\n",
              "37         MT         824  ...            0.169171                inf\n",
              "38         KS        2582  ...            0.194608                inf\n",
              "39         CO        6010  ...            0.198597                inf\n",
              "40         SC        3417  ...            0.201805                inf\n",
              "41         AK         782  ...            0.248431                inf\n",
              "42         VT         562  ...            0.315761                inf\n",
              "43         MS         755  ...            0.329126                inf\n",
              "44         NH        1441  ...            0.345723                inf\n",
              "45         WV        1510  ...            0.383193                inf\n",
              "46         WY         705  ...            0.411837                inf\n",
              "47         DC         881  ...            0.501166                inf\n",
              "48         ME           2  ...                 inf                inf\n",
              "49         ID           7  ...                 inf                inf\n",
              "\n",
              "[50 rows x 8 columns]"
            ]
          },
          "metadata": {},
          "execution_count": 95
        }
      ]
    },
    {
      "cell_type": "markdown",
      "metadata": {
        "id": "BDxH166dH3Kj"
      },
      "source": [
        "### Visualization of weight of evidence"
      ]
    },
    {
      "cell_type": "code",
      "metadata": {
        "id": "ZuWo2V4AH-Ha"
      },
      "source": [
        "import matplotlib.pyplot as plt\n",
        "import seaborn as sns\n",
        "sns.set_style('whitegrid')"
      ],
      "execution_count": 96,
      "outputs": []
    },
    {
      "cell_type": "code",
      "metadata": {
        "id": "yY7U6g9qJ5fy"
      },
      "source": [
        "grade_df = WoE_and_IV(df, 'grade')"
      ],
      "execution_count": 97,
      "outputs": []
    },
    {
      "cell_type": "code",
      "metadata": {
        "colab": {
          "base_uri": "https://localhost:8080/",
          "height": 282
        },
        "id": "JUv_L8q-Jc9L",
        "outputId": "84dc485a-c5aa-431a-af4c-af3f176e1569"
      },
      "source": [
        "plt.plot(grade_df['grade'], grade_df['Weight_of_Evidence'])"
      ],
      "execution_count": 98,
      "outputs": [
        {
          "output_type": "execute_result",
          "data": {
            "text/plain": [
              "[<matplotlib.lines.Line2D at 0x7fafa317fdd0>]"
            ]
          },
          "metadata": {},
          "execution_count": 98
        },
        {
          "output_type": "display_data",
          "data": {
            "image/png": "[encoded data removed]",
            "text/plain": [
              "<Figure size 432x288 with 1 Axes>"
            ]
          },
          "metadata": {}
        }
      ]
    },
    {
      "cell_type": "code",
      "metadata": {
        "id": "755vE_-4IHM0"
      },
      "source": [
        "def vis_WoE(table, rotation=0, width=8, height=4):\n",
        "  variable_name = table.columns.values[0]\n",
        "  x = table[variable_name]\n",
        "  y = table['Weight_of_Evidence']\n",
        "  numb_of_obs = table['numb_of_obs']\n",
        "\n",
        "  # g = sns.FacetGrid(table)\n",
        "  # g.map(sns.scatterplot(variable_name, y))\n",
        "  # g.map(plt.lineplot(variable_name, y))\n",
        "  plt.figure(figsize=(width,height), dpi=180)\n",
        "  plt.xticks(rotation=rotation)\n",
        "  plt.legend(markerscale = 10)\n",
        "  sns.scatterplot(x = x, y = y, \n",
        "                  # data = table,\n",
        "               # marker = 'o', \n",
        "               # linestyle='--', \n",
        "               size = numb_of_obs, \n",
        "               # s = 100,\n",
        "               hue = numb_of_obs,\n",
        "               # palette = 'Blues',\n",
        "               edgecolor = 'red'\n",
        "           )"
      ],
      "execution_count": 99,
      "outputs": []
    },
    {
      "cell_type": "code",
      "metadata": {
        "colab": {
          "base_uri": "https://localhost:8080/",
          "height": 690
        },
        "id": "zikRbS_LKxrv",
        "outputId": "b60c117a-5799-44e3-a841-ff65998bd94b"
      },
      "source": [
        "vis_WoE(grade_df)\n",
        "# We will keep all variables as separate categories, there is no need to group them\n",
        "# other vars will be in need of grouping"
      ],
      "execution_count": 100,
      "outputs": [
        {
          "output_type": "stream",
          "name": "stderr",
          "text": [
            "No handles with labels found to put in legend.\n"
          ]
        },
        {
          "output_type": "display_data",
          "data": {
            "image/png": "[encoded data removed]",
            "text/plain": [
              "<Figure size 1440x720 with 1 Axes>"
            ]
          },
          "metadata": {}
        }
      ]
    },
    {
      "cell_type": "code",
      "metadata": {
        "id": "AdExqZoQlRpW"
      },
      "source": [
        "# df.columns.values # for creating list of reference vars and "
      ],
      "execution_count": 101,
      "outputs": []
    },
    {
      "cell_type": "code",
      "metadata": {
        "colab": {
          "base_uri": "https://localhost:8080/",
          "height": 206
        },
        "id": "fwqzC4mZBz8V",
        "outputId": "98907b42-ca12-48f0-fd43-b11fd811df55"
      },
      "source": [
        "df_home_ownership = WoE_and_IV(df, 'home_ownership')\n",
        "df_home_ownership"
      ],
      "execution_count": 102,
      "outputs": [
        {
          "output_type": "execute_result",
          "data": {
            "text/html": [
              "<div>\n",
              "<style scoped>\n",
              "    .dataframe tbody tr th:only-of-type {\n",
              "        vertical-align: middle;\n",
              "    }\n",
              "\n",
              "    .dataframe tbody tr th {\n",
              "        vertical-align: top;\n",
              "    }\n",
              "\n",
              "    .dataframe thead th {\n",
              "        text-align: right;\n",
              "    }\n",
              "</style>\n",
              "<table border=\"1\" class=\"dataframe\">\n",
              "  <thead>\n",
              "    <tr style=\"text-align: right;\">\n",
              "      <th></th>\n",
              "      <th>home_ownership</th>\n",
              "      <th>good_count</th>\n",
              "      <th>bad_count</th>\n",
              "      <th>numb_of_obs</th>\n",
              "      <th>proportion_of_good</th>\n",
              "      <th>proportion_of_bad</th>\n",
              "      <th>Weight_of_Evidence</th>\n",
              "      <th>Information_value</th>\n",
              "    </tr>\n",
              "  </thead>\n",
              "  <tbody>\n",
              "    <tr>\n",
              "      <th>0</th>\n",
              "      <td>OTHER</td>\n",
              "      <td>94</td>\n",
              "      <td>23</td>\n",
              "      <td>117</td>\n",
              "      <td>0.000332</td>\n",
              "      <td>0.000775</td>\n",
              "      <td>-0.846740</td>\n",
              "      <td>0.020346</td>\n",
              "    </tr>\n",
              "    <tr>\n",
              "      <th>1</th>\n",
              "      <td>NONE</td>\n",
              "      <td>28</td>\n",
              "      <td>5</td>\n",
              "      <td>33</td>\n",
              "      <td>0.000099</td>\n",
              "      <td>0.000169</td>\n",
              "      <td>-0.531774</td>\n",
              "      <td>0.020346</td>\n",
              "    </tr>\n",
              "    <tr>\n",
              "      <th>2</th>\n",
              "      <td>RENT</td>\n",
              "      <td>112222</td>\n",
              "      <td>13788</td>\n",
              "      <td>126010</td>\n",
              "      <td>0.396903</td>\n",
              "      <td>0.464774</td>\n",
              "      <td>-0.157860</td>\n",
              "      <td>0.020346</td>\n",
              "    </tr>\n",
              "    <tr>\n",
              "      <th>3</th>\n",
              "      <td>OWN</td>\n",
              "      <td>25376</td>\n",
              "      <td>2600</td>\n",
              "      <td>27976</td>\n",
              "      <td>0.089749</td>\n",
              "      <td>0.087642</td>\n",
              "      <td>0.023752</td>\n",
              "      <td>0.020346</td>\n",
              "    </tr>\n",
              "    <tr>\n",
              "      <th>4</th>\n",
              "      <td>MORTGAGE</td>\n",
              "      <td>145024</td>\n",
              "      <td>13250</td>\n",
              "      <td>158274</td>\n",
              "      <td>0.512916</td>\n",
              "      <td>0.446639</td>\n",
              "      <td>0.138361</td>\n",
              "      <td>0.020346</td>\n",
              "    </tr>\n",
              "  </tbody>\n",
              "</table>\n",
              "</div>"
            ],
            "text/plain": [
              "  home_ownership  good_count  ...  Weight_of_Evidence  Information_value\n",
              "0          OTHER          94  ...           -0.846740           0.020346\n",
              "1           NONE          28  ...           -0.531774           0.020346\n",
              "2           RENT      112222  ...           -0.157860           0.020346\n",
              "3            OWN       25376  ...            0.023752           0.020346\n",
              "4       MORTGAGE      145024  ...            0.138361           0.020346\n",
              "\n",
              "[5 rows x 8 columns]"
            ]
          },
          "metadata": {},
          "execution_count": 102
        }
      ]
    },
    {
      "cell_type": "code",
      "metadata": {
        "colab": {
          "base_uri": "https://localhost:8080/",
          "height": 690
        },
        "id": "l0zLUnf5F4R7",
        "outputId": "b48f2b7d-5628-463c-fc4a-6d8d6097f478"
      },
      "source": [
        "vis_WoE(df_home_ownership) # category Any was not visualised because it was inf\n",
        "# category OTHER and NONE have very few observations\n",
        "# OWN has quite higher weight of evidence than previous\n",
        "# MORTGAGE has higher number of observations and WoE as well"
      ],
      "execution_count": 103,
      "outputs": [
        {
          "output_type": "stream",
          "name": "stderr",
          "text": [
            "No handles with labels found to put in legend.\n"
          ]
        },
        {
          "output_type": "display_data",
          "data": {
            "image/png": "[encoded data removed]",
            "text/plain": [
              "<Figure size 1440x720 with 1 Axes>"
            ]
          },
          "metadata": {}
        }
      ]
    },
    {
      "cell_type": "code",
      "metadata": {
        "id": "_hHQT34cIoA6"
      },
      "source": [
        "# this variable also will be reference variable\n",
        "df['home_ownership:ANY_OTHER_NONE_RENT'] = sum([\n",
        "    df['home_ownership:ANY'], df['home_ownership:NONE'],\n",
        "    df['home_ownership:OTHER'], df['home_ownership:RENT']\n",
        "])"
      ],
      "execution_count": 104,
      "outputs": []
    },
    {
      "cell_type": "code",
      "metadata": {
        "colab": {
          "base_uri": "https://localhost:8080/",
          "height": 1000
        },
        "id": "3k_Cm-OVctay",
        "outputId": "f62edd61-e39d-46d0-af1d-98937893163e"
      },
      "source": [
        "df_states = WoE_and_IV(df, 'addr_state')\n",
        "df_states"
      ],
      "execution_count": 105,
      "outputs": [
        {
          "output_type": "execute_result",
          "data": {
            "text/html": [
              "<div>\n",
              "<style scoped>\n",
              "    .dataframe tbody tr th:only-of-type {\n",
              "        vertical-align: middle;\n",
              "    }\n",
              "\n",
              "    .dataframe tbody tr th {\n",
              "        vertical-align: top;\n",
              "    }\n",
              "\n",
              "    .dataframe thead th {\n",
              "        text-align: right;\n",
              "    }\n",
              "</style>\n",
              "<table border=\"1\" class=\"dataframe\">\n",
              "  <thead>\n",
              "    <tr style=\"text-align: right;\">\n",
              "      <th></th>\n",
              "      <th>addr_state</th>\n",
              "      <th>good_count</th>\n",
              "      <th>bad_count</th>\n",
              "      <th>numb_of_obs</th>\n",
              "      <th>proportion_of_good</th>\n",
              "      <th>proportion_of_bad</th>\n",
              "      <th>Weight_of_Evidence</th>\n",
              "      <th>Information_value</th>\n",
              "    </tr>\n",
              "  </thead>\n",
              "  <tbody>\n",
              "    <tr>\n",
              "      <th>0</th>\n",
              "      <td>NE</td>\n",
              "      <td>6</td>\n",
              "      <td>5</td>\n",
              "      <td>11</td>\n",
              "      <td>0.000021</td>\n",
              "      <td>0.000169</td>\n",
              "      <td>-2.072219</td>\n",
              "      <td>inf</td>\n",
              "    </tr>\n",
              "    <tr>\n",
              "      <th>1</th>\n",
              "      <td>IA</td>\n",
              "      <td>8</td>\n",
              "      <td>3</td>\n",
              "      <td>11</td>\n",
              "      <td>0.000028</td>\n",
              "      <td>0.000101</td>\n",
              "      <td>-1.273711</td>\n",
              "      <td>inf</td>\n",
              "    </tr>\n",
              "    <tr>\n",
              "      <th>2</th>\n",
              "      <td>NV</td>\n",
              "      <td>3870</td>\n",
              "      <td>507</td>\n",
              "      <td>4377</td>\n",
              "      <td>0.013687</td>\n",
              "      <td>0.017090</td>\n",
              "      <td>-0.222042</td>\n",
              "      <td>inf</td>\n",
              "    </tr>\n",
              "    <tr>\n",
              "      <th>3</th>\n",
              "      <td>AL</td>\n",
              "      <td>3500</td>\n",
              "      <td>434</td>\n",
              "      <td>3934</td>\n",
              "      <td>0.012379</td>\n",
              "      <td>0.014630</td>\n",
              "      <td>-0.167067</td>\n",
              "      <td>inf</td>\n",
              "    </tr>\n",
              "    <tr>\n",
              "      <th>4</th>\n",
              "      <td>NM</td>\n",
              "      <td>1513</td>\n",
              "      <td>183</td>\n",
              "      <td>1696</td>\n",
              "      <td>0.005351</td>\n",
              "      <td>0.006169</td>\n",
              "      <td>-0.142177</td>\n",
              "      <td>inf</td>\n",
              "    </tr>\n",
              "    <tr>\n",
              "      <th>5</th>\n",
              "      <td>FL</td>\n",
              "      <td>18836</td>\n",
              "      <td>2272</td>\n",
              "      <td>21108</td>\n",
              "      <td>0.066619</td>\n",
              "      <td>0.076586</td>\n",
              "      <td>-0.139431</td>\n",
              "      <td>inf</td>\n",
              "    </tr>\n",
              "    <tr>\n",
              "      <th>6</th>\n",
              "      <td>HI</td>\n",
              "      <td>1509</td>\n",
              "      <td>178</td>\n",
              "      <td>1687</td>\n",
              "      <td>0.005337</td>\n",
              "      <td>0.006000</td>\n",
              "      <td>-0.117121</td>\n",
              "      <td>inf</td>\n",
              "    </tr>\n",
              "    <tr>\n",
              "      <th>7</th>\n",
              "      <td>MO</td>\n",
              "      <td>4505</td>\n",
              "      <td>516</td>\n",
              "      <td>5021</td>\n",
              "      <td>0.015933</td>\n",
              "      <td>0.017394</td>\n",
              "      <td>-0.087704</td>\n",
              "      <td>inf</td>\n",
              "    </tr>\n",
              "    <tr>\n",
              "      <th>8</th>\n",
              "      <td>VA</td>\n",
              "      <td>8567</td>\n",
              "      <td>967</td>\n",
              "      <td>9534</td>\n",
              "      <td>0.030299</td>\n",
              "      <td>0.032596</td>\n",
              "      <td>-0.073066</td>\n",
              "      <td>inf</td>\n",
              "    </tr>\n",
              "    <tr>\n",
              "      <th>9</th>\n",
              "      <td>CA</td>\n",
              "      <td>43040</td>\n",
              "      <td>4849</td>\n",
              "      <td>47889</td>\n",
              "      <td>0.152223</td>\n",
              "      <td>0.163453</td>\n",
              "      <td>-0.071183</td>\n",
              "      <td>inf</td>\n",
              "    </tr>\n",
              "    <tr>\n",
              "      <th>10</th>\n",
              "      <td>OK</td>\n",
              "      <td>2453</td>\n",
              "      <td>275</td>\n",
              "      <td>2728</td>\n",
              "      <td>0.008676</td>\n",
              "      <td>0.009270</td>\n",
              "      <td>-0.066244</td>\n",
              "      <td>inf</td>\n",
              "    </tr>\n",
              "    <tr>\n",
              "      <th>11</th>\n",
              "      <td>TN</td>\n",
              "      <td>3648</td>\n",
              "      <td>404</td>\n",
              "      <td>4052</td>\n",
              "      <td>0.012902</td>\n",
              "      <td>0.013618</td>\n",
              "      <td>-0.054021</td>\n",
              "      <td>inf</td>\n",
              "    </tr>\n",
              "    <tr>\n",
              "      <th>12</th>\n",
              "      <td>NJ</td>\n",
              "      <td>10902</td>\n",
              "      <td>1205</td>\n",
              "      <td>12107</td>\n",
              "      <td>0.038558</td>\n",
              "      <td>0.040619</td>\n",
              "      <td>-0.052074</td>\n",
              "      <td>inf</td>\n",
              "    </tr>\n",
              "    <tr>\n",
              "      <th>13</th>\n",
              "      <td>NC</td>\n",
              "      <td>7729</td>\n",
              "      <td>853</td>\n",
              "      <td>8582</td>\n",
              "      <td>0.027336</td>\n",
              "      <td>0.028753</td>\n",
              "      <td>-0.050565</td>\n",
              "      <td>inf</td>\n",
              "    </tr>\n",
              "    <tr>\n",
              "      <th>14</th>\n",
              "      <td>KY</td>\n",
              "      <td>2688</td>\n",
              "      <td>296</td>\n",
              "      <td>2984</td>\n",
              "      <td>0.009507</td>\n",
              "      <td>0.009978</td>\n",
              "      <td>-0.048347</td>\n",
              "      <td>inf</td>\n",
              "    </tr>\n",
              "    <tr>\n",
              "      <th>15</th>\n",
              "      <td>NY</td>\n",
              "      <td>24240</td>\n",
              "      <td>2667</td>\n",
              "      <td>26907</td>\n",
              "      <td>0.085731</td>\n",
              "      <td>0.089901</td>\n",
              "      <td>-0.047490</td>\n",
              "      <td>inf</td>\n",
              "    </tr>\n",
              "    <tr>\n",
              "      <th>16</th>\n",
              "      <td>MD</td>\n",
              "      <td>6634</td>\n",
              "      <td>715</td>\n",
              "      <td>7349</td>\n",
              "      <td>0.023463</td>\n",
              "      <td>0.024102</td>\n",
              "      <td>-0.026860</td>\n",
              "      <td>inf</td>\n",
              "    </tr>\n",
              "    <tr>\n",
              "      <th>17</th>\n",
              "      <td>UT</td>\n",
              "      <td>2100</td>\n",
              "      <td>226</td>\n",
              "      <td>2326</td>\n",
              "      <td>0.007427</td>\n",
              "      <td>0.007618</td>\n",
              "      <td>-0.025383</td>\n",
              "      <td>inf</td>\n",
              "    </tr>\n",
              "    <tr>\n",
              "      <th>18</th>\n",
              "      <td>LA</td>\n",
              "      <td>3256</td>\n",
              "      <td>350</td>\n",
              "      <td>3606</td>\n",
              "      <td>0.011516</td>\n",
              "      <td>0.011798</td>\n",
              "      <td>-0.024219</td>\n",
              "      <td>inf</td>\n",
              "    </tr>\n",
              "    <tr>\n",
              "      <th>19</th>\n",
              "      <td>MN</td>\n",
              "      <td>4953</td>\n",
              "      <td>529</td>\n",
              "      <td>5482</td>\n",
              "      <td>0.017518</td>\n",
              "      <td>0.017832</td>\n",
              "      <td>-0.017780</td>\n",
              "      <td>inf</td>\n",
              "    </tr>\n",
              "    <tr>\n",
              "      <th>20</th>\n",
              "      <td>MI</td>\n",
              "      <td>6968</td>\n",
              "      <td>743</td>\n",
              "      <td>7711</td>\n",
              "      <td>0.024644</td>\n",
              "      <td>0.025046</td>\n",
              "      <td>-0.016153</td>\n",
              "      <td>inf</td>\n",
              "    </tr>\n",
              "    <tr>\n",
              "      <th>21</th>\n",
              "      <td>SD</td>\n",
              "      <td>604</td>\n",
              "      <td>62</td>\n",
              "      <td>666</td>\n",
              "      <td>0.002136</td>\n",
              "      <td>0.002090</td>\n",
              "      <td>0.021900</td>\n",
              "      <td>inf</td>\n",
              "    </tr>\n",
              "    <tr>\n",
              "      <th>22</th>\n",
              "      <td>WA</td>\n",
              "      <td>6343</td>\n",
              "      <td>651</td>\n",
              "      <td>6994</td>\n",
              "      <td>0.022434</td>\n",
              "      <td>0.021944</td>\n",
              "      <td>0.022057</td>\n",
              "      <td>inf</td>\n",
              "    </tr>\n",
              "    <tr>\n",
              "      <th>23</th>\n",
              "      <td>AZ</td>\n",
              "      <td>6578</td>\n",
              "      <td>674</td>\n",
              "      <td>7252</td>\n",
              "      <td>0.023265</td>\n",
              "      <td>0.022720</td>\n",
              "      <td>0.023716</td>\n",
              "      <td>inf</td>\n",
              "    </tr>\n",
              "    <tr>\n",
              "      <th>24</th>\n",
              "      <td>OH</td>\n",
              "      <td>9200</td>\n",
              "      <td>942</td>\n",
              "      <td>10142</td>\n",
              "      <td>0.032538</td>\n",
              "      <td>0.031754</td>\n",
              "      <td>0.024413</td>\n",
              "      <td>inf</td>\n",
              "    </tr>\n",
              "    <tr>\n",
              "      <th>25</th>\n",
              "      <td>PA</td>\n",
              "      <td>10008</td>\n",
              "      <td>1022</td>\n",
              "      <td>11030</td>\n",
              "      <td>0.035396</td>\n",
              "      <td>0.034450</td>\n",
              "      <td>0.027083</td>\n",
              "      <td>inf</td>\n",
              "    </tr>\n",
              "    <tr>\n",
              "      <th>26</th>\n",
              "      <td>MA</td>\n",
              "      <td>6763</td>\n",
              "      <td>690</td>\n",
              "      <td>7453</td>\n",
              "      <td>0.023919</td>\n",
              "      <td>0.023259</td>\n",
              "      <td>0.027990</td>\n",
              "      <td>inf</td>\n",
              "    </tr>\n",
              "    <tr>\n",
              "      <th>27</th>\n",
              "      <td>AR</td>\n",
              "      <td>2108</td>\n",
              "      <td>214</td>\n",
              "      <td>2322</td>\n",
              "      <td>0.007456</td>\n",
              "      <td>0.007214</td>\n",
              "      <td>0.032979</td>\n",
              "      <td>inf</td>\n",
              "    </tr>\n",
              "    <tr>\n",
              "      <th>28</th>\n",
              "      <td>DE</td>\n",
              "      <td>813</td>\n",
              "      <td>82</td>\n",
              "      <td>895</td>\n",
              "      <td>0.002875</td>\n",
              "      <td>0.002764</td>\n",
              "      <td>0.039472</td>\n",
              "      <td>inf</td>\n",
              "    </tr>\n",
              "    <tr>\n",
              "      <th>29</th>\n",
              "      <td>IN</td>\n",
              "      <td>3958</td>\n",
              "      <td>399</td>\n",
              "      <td>4357</td>\n",
              "      <td>0.013999</td>\n",
              "      <td>0.013450</td>\n",
              "      <td>0.039992</td>\n",
              "      <td>inf</td>\n",
              "    </tr>\n",
              "    <tr>\n",
              "      <th>30</th>\n",
              "      <td>GA</td>\n",
              "      <td>9088</td>\n",
              "      <td>910</td>\n",
              "      <td>9998</td>\n",
              "      <td>0.032142</td>\n",
              "      <td>0.030675</td>\n",
              "      <td>0.046725</td>\n",
              "      <td>inf</td>\n",
              "    </tr>\n",
              "    <tr>\n",
              "      <th>31</th>\n",
              "      <td>WI</td>\n",
              "      <td>3637</td>\n",
              "      <td>351</td>\n",
              "      <td>3988</td>\n",
              "      <td>0.012863</td>\n",
              "      <td>0.011832</td>\n",
              "      <td>0.083588</td>\n",
              "      <td>inf</td>\n",
              "    </tr>\n",
              "    <tr>\n",
              "      <th>32</th>\n",
              "      <td>RI</td>\n",
              "      <td>1255</td>\n",
              "      <td>119</td>\n",
              "      <td>1374</td>\n",
              "      <td>0.004439</td>\n",
              "      <td>0.004011</td>\n",
              "      <td>0.101227</td>\n",
              "      <td>inf</td>\n",
              "    </tr>\n",
              "    <tr>\n",
              "      <th>33</th>\n",
              "      <td>OR</td>\n",
              "      <td>3632</td>\n",
              "      <td>342</td>\n",
              "      <td>3974</td>\n",
              "      <td>0.012846</td>\n",
              "      <td>0.011528</td>\n",
              "      <td>0.108188</td>\n",
              "      <td>inf</td>\n",
              "    </tr>\n",
              "    <tr>\n",
              "      <th>34</th>\n",
              "      <td>CT</td>\n",
              "      <td>4428</td>\n",
              "      <td>406</td>\n",
              "      <td>4834</td>\n",
              "      <td>0.015661</td>\n",
              "      <td>0.013686</td>\n",
              "      <td>0.134810</td>\n",
              "      <td>inf</td>\n",
              "    </tr>\n",
              "    <tr>\n",
              "      <th>35</th>\n",
              "      <td>IL</td>\n",
              "      <td>11446</td>\n",
              "      <td>1029</td>\n",
              "      <td>12475</td>\n",
              "      <td>0.040482</td>\n",
              "      <td>0.034686</td>\n",
              "      <td>0.154513</td>\n",
              "      <td>inf</td>\n",
              "    </tr>\n",
              "    <tr>\n",
              "      <th>36</th>\n",
              "      <td>TX</td>\n",
              "      <td>22480</td>\n",
              "      <td>2006</td>\n",
              "      <td>24486</td>\n",
              "      <td>0.079507</td>\n",
              "      <td>0.067619</td>\n",
              "      <td>0.161943</td>\n",
              "      <td>inf</td>\n",
              "    </tr>\n",
              "    <tr>\n",
              "      <th>37</th>\n",
              "      <td>MT</td>\n",
              "      <td>824</td>\n",
              "      <td>73</td>\n",
              "      <td>897</td>\n",
              "      <td>0.002914</td>\n",
              "      <td>0.002461</td>\n",
              "      <td>0.169171</td>\n",
              "      <td>inf</td>\n",
              "    </tr>\n",
              "    <tr>\n",
              "      <th>38</th>\n",
              "      <td>KS</td>\n",
              "      <td>2582</td>\n",
              "      <td>223</td>\n",
              "      <td>2805</td>\n",
              "      <td>0.009132</td>\n",
              "      <td>0.007517</td>\n",
              "      <td>0.194608</td>\n",
              "      <td>inf</td>\n",
              "    </tr>\n",
              "    <tr>\n",
              "      <th>39</th>\n",
              "      <td>CO</td>\n",
              "      <td>6010</td>\n",
              "      <td>517</td>\n",
              "      <td>6527</td>\n",
              "      <td>0.021256</td>\n",
              "      <td>0.017427</td>\n",
              "      <td>0.198597</td>\n",
              "      <td>inf</td>\n",
              "    </tr>\n",
              "    <tr>\n",
              "      <th>40</th>\n",
              "      <td>SC</td>\n",
              "      <td>3417</td>\n",
              "      <td>293</td>\n",
              "      <td>3710</td>\n",
              "      <td>0.012085</td>\n",
              "      <td>0.009877</td>\n",
              "      <td>0.201805</td>\n",
              "      <td>inf</td>\n",
              "    </tr>\n",
              "    <tr>\n",
              "      <th>41</th>\n",
              "      <td>AK</td>\n",
              "      <td>782</td>\n",
              "      <td>64</td>\n",
              "      <td>846</td>\n",
              "      <td>0.002766</td>\n",
              "      <td>0.002157</td>\n",
              "      <td>0.248431</td>\n",
              "      <td>inf</td>\n",
              "    </tr>\n",
              "    <tr>\n",
              "      <th>42</th>\n",
              "      <td>VT</td>\n",
              "      <td>562</td>\n",
              "      <td>43</td>\n",
              "      <td>605</td>\n",
              "      <td>0.001988</td>\n",
              "      <td>0.001449</td>\n",
              "      <td>0.315761</td>\n",
              "      <td>inf</td>\n",
              "    </tr>\n",
              "    <tr>\n",
              "      <th>43</th>\n",
              "      <td>MS</td>\n",
              "      <td>755</td>\n",
              "      <td>57</td>\n",
              "      <td>812</td>\n",
              "      <td>0.002670</td>\n",
              "      <td>0.001921</td>\n",
              "      <td>0.329126</td>\n",
              "      <td>inf</td>\n",
              "    </tr>\n",
              "    <tr>\n",
              "      <th>44</th>\n",
              "      <td>NH</td>\n",
              "      <td>1441</td>\n",
              "      <td>107</td>\n",
              "      <td>1548</td>\n",
              "      <td>0.005096</td>\n",
              "      <td>0.003607</td>\n",
              "      <td>0.345723</td>\n",
              "      <td>inf</td>\n",
              "    </tr>\n",
              "    <tr>\n",
              "      <th>45</th>\n",
              "      <td>WV</td>\n",
              "      <td>1510</td>\n",
              "      <td>108</td>\n",
              "      <td>1618</td>\n",
              "      <td>0.005341</td>\n",
              "      <td>0.003641</td>\n",
              "      <td>0.383193</td>\n",
              "      <td>inf</td>\n",
              "    </tr>\n",
              "    <tr>\n",
              "      <th>46</th>\n",
              "      <td>WY</td>\n",
              "      <td>705</td>\n",
              "      <td>49</td>\n",
              "      <td>754</td>\n",
              "      <td>0.002493</td>\n",
              "      <td>0.001652</td>\n",
              "      <td>0.411837</td>\n",
              "      <td>inf</td>\n",
              "    </tr>\n",
              "    <tr>\n",
              "      <th>47</th>\n",
              "      <td>DC</td>\n",
              "      <td>881</td>\n",
              "      <td>56</td>\n",
              "      <td>937</td>\n",
              "      <td>0.003116</td>\n",
              "      <td>0.001888</td>\n",
              "      <td>0.501166</td>\n",
              "      <td>inf</td>\n",
              "    </tr>\n",
              "    <tr>\n",
              "      <th>48</th>\n",
              "      <td>ME</td>\n",
              "      <td>2</td>\n",
              "      <td>0</td>\n",
              "      <td>2</td>\n",
              "      <td>0.000007</td>\n",
              "      <td>0.000000</td>\n",
              "      <td>inf</td>\n",
              "      <td>inf</td>\n",
              "    </tr>\n",
              "    <tr>\n",
              "      <th>49</th>\n",
              "      <td>ID</td>\n",
              "      <td>7</td>\n",
              "      <td>0</td>\n",
              "      <td>7</td>\n",
              "      <td>0.000025</td>\n",
              "      <td>0.000000</td>\n",
              "      <td>inf</td>\n",
              "      <td>inf</td>\n",
              "    </tr>\n",
              "  </tbody>\n",
              "</table>\n",
              "</div>"
            ],
            "text/plain": [
              "   addr_state  good_count  ...  Weight_of_Evidence  Information_value\n",
              "0          NE           6  ...           -2.072219                inf\n",
              "1          IA           8  ...           -1.273711                inf\n",
              "2          NV        3870  ...           -0.222042                inf\n",
              "3          AL        3500  ...           -0.167067                inf\n",
              "4          NM        1513  ...           -0.142177                inf\n",
              "5          FL       18836  ...           -0.139431                inf\n",
              "6          HI        1509  ...           -0.117121                inf\n",
              "7          MO        4505  ...           -0.087704                inf\n",
              "8          VA        8567  ...           -0.073066                inf\n",
              "9          CA       43040  ...           -0.071183                inf\n",
              "10         OK        2453  ...           -0.066244                inf\n",
              "11         TN        3648  ...           -0.054021                inf\n",
              "12         NJ       10902  ...           -0.052074                inf\n",
              "13         NC        7729  ...           -0.050565                inf\n",
              "14         KY        2688  ...           -0.048347                inf\n",
              "15         NY       24240  ...           -0.047490                inf\n",
              "16         MD        6634  ...           -0.026860                inf\n",
              "17         UT        2100  ...           -0.025383                inf\n",
              "18         LA        3256  ...           -0.024219                inf\n",
              "19         MN        4953  ...           -0.017780                inf\n",
              "20         MI        6968  ...           -0.016153                inf\n",
              "21         SD         604  ...            0.021900                inf\n",
              "22         WA        6343  ...            0.022057                inf\n",
              "23         AZ        6578  ...            0.023716                inf\n",
              "24         OH        9200  ...            0.024413                inf\n",
              "25         PA       10008  ...            0.027083                inf\n",
              "26         MA        6763  ...            0.027990                inf\n",
              "27         AR        2108  ...            0.032979                inf\n",
              "28         DE         813  ...            0.039472                inf\n",
              "29         IN        3958  ...            0.039992                inf\n",
              "30         GA        9088  ...            0.046725                inf\n",
              "31         WI        3637  ...            0.083588                inf\n",
              "32         RI        1255  ...            0.101227                inf\n",
              "33         OR        3632  ...            0.108188                inf\n",
              "34         CT        4428  ...            0.134810                inf\n",
              "35         IL       11446  ...            0.154513                inf\n",
              "36         TX       22480  ...            0.161943                inf\n",
              "37         MT         824  ...            0.169171                inf\n",
              "38         KS        2582  ...            0.194608                inf\n",
              "39         CO        6010  ...            0.198597                inf\n",
              "40         SC        3417  ...            0.201805                inf\n",
              "41         AK         782  ...            0.248431                inf\n",
              "42         VT         562  ...            0.315761                inf\n",
              "43         MS         755  ...            0.329126                inf\n",
              "44         NH        1441  ...            0.345723                inf\n",
              "45         WV        1510  ...            0.383193                inf\n",
              "46         WY         705  ...            0.411837                inf\n",
              "47         DC         881  ...            0.501166                inf\n",
              "48         ME           2  ...                 inf                inf\n",
              "49         ID           7  ...                 inf                inf\n",
              "\n",
              "[50 rows x 8 columns]"
            ]
          },
          "metadata": {},
          "execution_count": 105
        }
      ]
    },
    {
      "cell_type": "code",
      "metadata": {
        "colab": {
          "base_uri": "https://localhost:8080/",
          "height": 619
        },
        "id": "Cqcm39e_dFEa",
        "outputId": "863ad903-42b3-4903-b199-f260f35bd6b3"
      },
      "source": [
        "vis_WoE(df_states, width=15, height=6)"
      ],
      "execution_count": 106,
      "outputs": [
        {
          "output_type": "stream",
          "name": "stderr",
          "text": [
            "No handles with labels found to put in legend.\n"
          ]
        },
        {
          "output_type": "display_data",
          "data": {
            "image/png": "[encoded data removed]",
            "text/plain": [
              "<Figure size 2700x1080 with 1 Axes>"
            ]
          },
          "metadata": {}
        }
      ]
    },
    {
      "cell_type": "code",
      "metadata": {
        "colab": {
          "base_uri": "https://localhost:8080/",
          "height": 619
        },
        "id": "6GbLAZrSvj1q",
        "outputId": "903fc3dd-ef89-4b03-dea7-a71f097af4fe"
      },
      "source": [
        "vis_WoE(df_states.iloc[2:-2, :], width=15, height=6)\n",
        "plt.savefig('output.png')"
      ],
      "execution_count": 107,
      "outputs": [
        {
          "output_type": "stream",
          "name": "stderr",
          "text": [
            "No handles with labels found to put in legend.\n"
          ]
        },
        {
          "output_type": "display_data",
          "data": {
            "image/png": "[encoded data removed]",
            "text/plain": [
              "<Figure size 2700x1080 with 1 Axes>"
            ]
          },
          "metadata": {}
        }
      ]
    },
    {
      "cell_type": "code",
      "metadata": {
        "id": "tTll9U08DIQH"
      },
      "source": [
        "# Here is how was binning decided to be\n",
        "# https://docs.google.com/presentation/d/10Ky7CbIVU0_MfFTmGgvf60wVeQ3Z29wk/edit?usp=sharing&ouid=103526052924819851663&rtpof=true&sd=true"
      ],
      "execution_count": 108,
      "outputs": []
    },
    {
      "cell_type": "code",
      "metadata": {
        "colab": {
          "base_uri": "https://localhost:8080/"
        },
        "id": "wEzj9t8alnki",
        "outputId": "4eb80b41-d53e-4987-b30b-a9ee0cb1b875"
      },
      "source": [
        "# # We do not have ND (North Dacota at all), but we may have,\n",
        "# # so, we have to include it and cosnider as very risky one as we do not have information about that state at all\n",
        "# also do not forget to include first two and last two which were dropped for better visualisation\n",
        "# Groups\n",
        "\n",
        "list(df_states['addr_state'][:5])     # ['NE', 'IA', 'NV', 'AL', 'NM']\n",
        "list(df_states['addr_state'][5:6])    # ['FL']\n",
        "list(df_states['addr_state'][6:9])    # ['HI', 'MO', 'VA']\n",
        "list(df_states['addr_state'][9:10])   # ['CA']\n",
        "list(df_states['addr_state'][10:15])  # ['OK', 'TN', 'NJ', 'NC', 'KY']\n",
        "list(df_states['addr_state'][15:16])  # ['NY']\n",
        "list(df_states['addr_state'][16:21])  # ['MD', 'UT', 'LA', 'MN', 'MI']\n",
        "list(df_states['addr_state'][21:31])  # ['SD', 'WA', 'AZ', 'OH', 'PA', 'MA', 'AR', 'DE', 'IN', 'GA']\n",
        "list(df_states['addr_state'][31:34])  # ['WI', 'RI', 'OR']\n",
        "list(df_states['addr_state'][34:36])  # ['CT', 'IL']\n",
        "list(df_states['addr_state'][36:37])  # ['TX']\n",
        "list(df_states['addr_state'][37:42])  # ['MT', 'KS', 'CO', 'SC', 'AK']\n",
        "list(df_states['addr_state'][42:  ])  # ['VT', 'MS', 'NH', 'WV', 'WY', 'DC', 'ME', 'ID']\n",
        "# \"ND\", \"N\", \"\""
      ],
      "execution_count": 109,
      "outputs": [
        {
          "output_type": "execute_result",
          "data": {
            "text/plain": [
              "['VT', 'MS', 'NH', 'WV', 'WY', 'DC', 'ME', 'ID']"
            ]
          },
          "metadata": {},
          "execution_count": 109
        }
      ]
    },
    {
      "cell_type": "code",
      "metadata": {
        "id": "_azstPNA2pr8"
      },
      "source": [
        "# this will work for train dataset, not test\n",
        "# for test set we will have to make sure that train and test variables have the same variables\n",
        "# we will name variables as in our train set, but values will be based on test\n",
        "# so, even if we dont have some states in test set there will not be a problem\n",
        "def states_binning(df):\n",
        "\n",
        "  states_groups = [\n",
        "                   ['ND','NE', 'IA', 'NV', 'AL', 'NM'],\n",
        "                   ['FL'],\n",
        "                   ['HI', 'MO', 'VA'],\n",
        "                   ['CA'],\n",
        "                   ['OK', 'TN', 'NJ', 'NC', 'KY'],\n",
        "                   ['NY'],\n",
        "                   ['MD', 'UT', 'LA', 'MN', 'MI'],\n",
        "                   ['SD', 'WA', 'AZ', 'OH', 'PA', 'MA', 'AR', 'DE', 'IN', 'GA'],\n",
        "                   ['WI', 'RI', 'OR'],\n",
        "                   ['CT', 'IL'],\n",
        "                   ['TX'],\n",
        "                   ['MT', 'KS', 'CO', 'SC', 'AK'],\n",
        "                   ['VT', 'MS', 'NH', 'WV', 'WY', 'DC', 'ME', 'ID']\n",
        "  ]\n",
        "\n",
        "  for group in states_groups:\n",
        "\n",
        "    group_column_names = ['addr_state:{}'.format(state) for state in group]\n",
        "\n",
        "    existing_column_names = []\n",
        "\n",
        "    for column_name in group_column_names:\n",
        "      if column_name in df.columns.values:\n",
        "        existing_column_names.append(column_name)\n",
        "    \n",
        "    existing_states_XX_of_group = []\n",
        "\n",
        "    for existing_column_name in existing_column_names:\n",
        "      try:\n",
        "        two_parts_of_column_name = existing_column_name.split(\":\")\n",
        "        existing_states_XX_of_group.append(two_parts_of_column_name[1])\n",
        "      except IndexError:\n",
        "        pass \n",
        "\n",
        "    df[\"addr_state:\" + \"_\".join(existing_states_XX_of_group)] =  df[['addr_state:{}'.format(state) for state in existing_states_XX_of_group]].sum(axis=1)\n"
      ],
      "execution_count": 110,
      "outputs": []
    },
    {
      "cell_type": "code",
      "metadata": {
        "id": "JdPmCbsV-dY5"
      },
      "source": [
        "states_binning(df)"
      ],
      "execution_count": 111,
      "outputs": []
    },
    {
      "cell_type": "code",
      "metadata": {
        "colab": {
          "base_uri": "https://localhost:8080/"
        },
        "id": "I2LVczRbAHXn",
        "outputId": "7cd53ed5-9a25-4d98-ce9a-b9fdfaba0739"
      },
      "source": [
        "df.columns.values"
      ],
      "execution_count": 112,
      "outputs": [
        {
          "output_type": "execute_result",
          "data": {
            "text/plain": [
              "array(['initial_list_status', 'pymnt_plan', 'verification_status',\n",
              "       'home_ownership', 'acc_now_delinq', 'grade', 'loan_status',\n",
              "       'collections_12_mths_ex_med', 'emp_length', 'purpose',\n",
              "       'delinq_2yrs', 'pub_rec', 'inq_last_6mths', 'sub_grade',\n",
              "       'addr_state', 'open_acc', 'last_pymnt_d', 'next_pymnt_d',\n",
              "       'last_credit_pull_d', 'total_acc', 'mths_since_last_record',\n",
              "       'mths_since_last_delinq', 'mths_since_last_major_derog',\n",
              "       'int_rate', 'zip_code', 'revol_util', 'loan_amnt', 'funded_amnt',\n",
              "       'dti', 'total_rec_late_fee', 'tot_coll_amt', 'funded_amnt_inv',\n",
              "       'total_rev_hi_lim', 'collection_recovery_fee', 'recoveries',\n",
              "       'annual_inc', 'installment', 'revol_bal', 'title', 'desc',\n",
              "       'out_prncp', 'out_prncp_inv', 'total_rec_prncp', 'last_pymnt_amnt',\n",
              "       'emp_title', 'tot_cur_bal', 'total_rec_int', 'total_pymnt_inv',\n",
              "       'total_pymnt', 'id', 'earliest_credit_line_2',\n",
              "       'earliest_credit_line_3', 'term: 36 months', 'term: 60 months',\n",
              "       'issue_date_1', 'issue_date_2', 'grade:A', 'grade:B', 'grade:C',\n",
              "       'grade:D', 'grade:E', 'grade:F', 'grade:G', 'sub_grade:A1',\n",
              "       'sub_grade:A2', 'sub_grade:A3', 'sub_grade:A4', 'sub_grade:A5',\n",
              "       'sub_grade:B1', 'sub_grade:B2', 'sub_grade:B3', 'sub_grade:B4',\n",
              "       'sub_grade:B5', 'sub_grade:C1', 'sub_grade:C2', 'sub_grade:C3',\n",
              "       'sub_grade:C4', 'sub_grade:C5', 'sub_grade:D1', 'sub_grade:D2',\n",
              "       'sub_grade:D3', 'sub_grade:D4', 'sub_grade:D5', 'sub_grade:E1',\n",
              "       'sub_grade:E2', 'sub_grade:E3', 'sub_grade:E4', 'sub_grade:E5',\n",
              "       'sub_grade:F1', 'sub_grade:F2', 'sub_grade:F3', 'sub_grade:F4',\n",
              "       'sub_grade:F5', 'sub_grade:G1', 'sub_grade:G2', 'sub_grade:G3',\n",
              "       'sub_grade:G4', 'sub_grade:G5', 'home_ownership:ANY',\n",
              "       'home_ownership:MORTGAGE', 'home_ownership:NONE',\n",
              "       'home_ownership:OTHER', 'home_ownership:OWN',\n",
              "       'home_ownership:RENT', 'verification_status:Not Verified',\n",
              "       'verification_status:Source Verified',\n",
              "       'verification_status:Verified', 'loan_status:Charged Off',\n",
              "       'loan_status:Current', 'loan_status:Default',\n",
              "       'loan_status:Does not meet the credit policy. Status:Charged Off',\n",
              "       'loan_status:Does not meet the credit policy. Status:Fully Paid',\n",
              "       'loan_status:Fully Paid', 'loan_status:In Grace Period',\n",
              "       'loan_status:Late (16-30 days)', 'loan_status:Late (31-120 days)',\n",
              "       'purpose:car', 'purpose:credit_card', 'purpose:debt_consolidation',\n",
              "       'purpose:educational', 'purpose:home_improvement', 'purpose:house',\n",
              "       'purpose:major_purchase', 'purpose:medical', 'purpose:moving',\n",
              "       'purpose:other', 'purpose:renewable_energy',\n",
              "       'purpose:small_business', 'purpose:vacation', 'purpose:wedding',\n",
              "       'addr_state:AK', 'addr_state:AL', 'addr_state:AR', 'addr_state:AZ',\n",
              "       'addr_state:CA', 'addr_state:CO', 'addr_state:CT', 'addr_state:DC',\n",
              "       'addr_state:DE', 'addr_state:FL', 'addr_state:GA', 'addr_state:HI',\n",
              "       'addr_state:IA', 'addr_state:ID', 'addr_state:IL', 'addr_state:IN',\n",
              "       'addr_state:KS', 'addr_state:KY', 'addr_state:LA', 'addr_state:MA',\n",
              "       'addr_state:MD', 'addr_state:ME', 'addr_state:MI', 'addr_state:MN',\n",
              "       'addr_state:MO', 'addr_state:MS', 'addr_state:MT', 'addr_state:NC',\n",
              "       'addr_state:NE', 'addr_state:NH', 'addr_state:NJ', 'addr_state:NM',\n",
              "       'addr_state:NV', 'addr_state:NY', 'addr_state:OH', 'addr_state:OK',\n",
              "       'addr_state:OR', 'addr_state:PA', 'addr_state:RI', 'addr_state:SC',\n",
              "       'addr_state:SD', 'addr_state:TN', 'addr_state:TX', 'addr_state:UT',\n",
              "       'addr_state:VA', 'addr_state:VT', 'addr_state:WA', 'addr_state:WI',\n",
              "       'addr_state:WV', 'addr_state:WY', 'initial_list_status:f',\n",
              "       'initial_list_status:w', 'good_bad_loan', 'good', 'bad',\n",
              "       'home_ownership:ANY_OTHER_NONE_RENT', 'addr_state:NE_IA_NV_AL_NM',\n",
              "       'addr_state:HI_MO_VA', 'addr_state:OK_TN_NJ_NC_KY',\n",
              "       'addr_state:MD_UT_LA_MN_MI',\n",
              "       'addr_state:SD_WA_AZ_OH_PA_MA_AR_DE_IN_GA', 'addr_state:WI_RI_OR',\n",
              "       'addr_state:CT_IL', 'addr_state:MT_KS_CO_SC_AK',\n",
              "       'addr_state:VT_MS_NH_WV_WY_DC_ME_ID'], dtype=object)"
            ]
          },
          "metadata": {},
          "execution_count": 112
        }
      ]
    },
    {
      "cell_type": "code",
      "metadata": {
        "id": "eRyMt5sYs9rk"
      },
      "source": [
        "states_group_1 = ['addr_state:{}'.format(state) for state in ['NE', 'IA', 'NV', 'AL', 'NM']]"
      ],
      "execution_count": 113,
      "outputs": []
    },
    {
      "cell_type": "code",
      "metadata": {
        "id": "aCCcWW7zrP5O"
      },
      "source": [
        "# df[ \"addr_state:\" + \"_\".join(['NE', 'IA', 'NV', 'AL', 'NM'])] = \n",
        "# df[['addr_state:{}'.format(state) for state in ['NE', 'IA', 'NV', 'AL', 'NM']]].sum(axis=1)"
      ],
      "execution_count": 115,
      "outputs": []
    },
    {
      "cell_type": "code",
      "metadata": {
        "id": "_1I199Xj5b8q"
      },
      "source": [
        "# try:\n",
        "#     df[\n",
        "#     [\n",
        "#       'addr_state:{}'.format(state) for state in ['NE', 'IA', 'NV', 'AL', 'ND']\n",
        "#     ]\n",
        "#   ].sum(axis=1)\n",
        "# except KeyError:\n",
        "#   pass"
      ],
      "execution_count": 116,
      "outputs": []
    },
    {
      "cell_type": "code",
      "metadata": {
        "id": "ZglcqAyhzEUP"
      },
      "source": [
        "# \"addr_state:\" + \"_\".join(['NE', 'IA', 'NV', 'AL', 'NM'])"
      ],
      "execution_count": 117,
      "outputs": []
    },
    {
      "cell_type": "code",
      "source": [
        "class States():\n",
        "\n",
        "  def __init__(self, got_column_names=\"None\"):\n",
        "    self.got_column_names = got_column_names\n",
        "    \n",
        "\n",
        "  def states_binning(self, df):\n",
        "\n",
        "    states_groups = [\n",
        "                    ['ND','NE', 'IA', 'NV', 'AL', 'NM'],\n",
        "                    ['FL'],\n",
        "                    ['HI', 'MO', 'VA'],\n",
        "                    ['CA'],\n",
        "                    ['OK', 'TN', 'NJ', 'NC', 'KY'],\n",
        "                    ['NY'],\n",
        "                    ['MD', 'UT', 'LA', 'MN', 'MI'],\n",
        "                    ['SD', 'WA', 'AZ', 'OH', 'PA', 'MA', 'AR', 'DE', 'IN', 'GA'],\n",
        "                    ['WI', 'RI', 'OR'],\n",
        "                    ['CT', 'IL'],\n",
        "                    ['TX'],\n",
        "                    ['MT', 'KS', 'CO', 'SC', 'AK'],\n",
        "                    ['VT', 'MS', 'NH', 'WV', 'WY', 'DC', 'ME', 'ID']\n",
        "    ]\n",
        "\n",
        "    self.got_column_names = []\n",
        "\n",
        "    for group in states_groups:\n",
        "\n",
        "      group_column_names = ['addr_state:{}'.format(state) for state in group]\n",
        "\n",
        "      existing_column_names = []\n",
        "\n",
        "      for column_name in group_column_names:\n",
        "        if column_name in df.columns.values:\n",
        "          existing_column_names.append(column_name)\n",
        "      \n",
        "      existing_states_XX_of_group = []\n",
        "\n",
        "      for existing_column_name in existing_column_names:\n",
        "        try:\n",
        "          two_parts_of_column_name = existing_column_name.split(\":\")\n",
        "          existing_states_XX_of_group.append(two_parts_of_column_name[1])\n",
        "        except IndexError:\n",
        "          pass \n",
        "\n",
        "      df[\"addr_state:\" + \"_\".join(existing_states_XX_of_group)] =  df[['addr_state:{}'.format(state) for state in existing_states_XX_of_group]].sum(axis=1)\n",
        "      \n",
        "      self.got_column_names.append(\n",
        "          \"addr_state:\" + \"_\".join(existing_states_XX_of_group)\n",
        "      )\n",
        "\n",
        "\n",
        "  def got_column_names_func(self):\n",
        "    return self.got_column_names"
      ],
      "metadata": {
        "id": "_fIxM8NHd6xp"
      },
      "execution_count": 169,
      "outputs": []
    },
    {
      "cell_type": "code",
      "source": [
        "state = States()"
      ],
      "metadata": {
        "id": "gaNrraxWgJru"
      },
      "execution_count": 170,
      "outputs": []
    },
    {
      "cell_type": "code",
      "source": [
        "state.states_binning(df)"
      ],
      "metadata": {
        "id": "10iO2qUxgPJF"
      },
      "execution_count": 171,
      "outputs": []
    },
    {
      "cell_type": "code",
      "source": [
        "state.got_column_names_func()"
      ],
      "metadata": {
        "colab": {
          "base_uri": "https://localhost:8080/"
        },
        "id": "bdFb-KJ9gYtR",
        "outputId": "241d1d3c-e31c-4d9b-f9cf-bff1382f5a86"
      },
      "execution_count": 172,
      "outputs": [
        {
          "output_type": "execute_result",
          "data": {
            "text/plain": [
              "['addr_state:NE_IA_NV_AL_NM',\n",
              " 'addr_state:FL',\n",
              " 'addr_state:HI_MO_VA',\n",
              " 'addr_state:CA',\n",
              " 'addr_state:OK_TN_NJ_NC_KY',\n",
              " 'addr_state:NY',\n",
              " 'addr_state:MD_UT_LA_MN_MI',\n",
              " 'addr_state:SD_WA_AZ_OH_PA_MA_AR_DE_IN_GA',\n",
              " 'addr_state:WI_RI_OR',\n",
              " 'addr_state:CT_IL',\n",
              " 'addr_state:TX',\n",
              " 'addr_state:MT_KS_CO_SC_AK',\n",
              " 'addr_state:VT_MS_NH_WV_WY_DC_ME_ID']"
            ]
          },
          "metadata": {},
          "execution_count": 172
        }
      ]
    },
    {
      "cell_type": "code",
      "source": [
        ""
      ],
      "metadata": {
        "id": "fDZ25E8skjKK"
      },
      "execution_count": null,
      "outputs": []
    }
  ]
}