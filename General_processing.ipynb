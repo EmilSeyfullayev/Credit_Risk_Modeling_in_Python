{
  "nbformat": 4,
  "nbformat_minor": 0,
  "metadata": {
    "colab": {
      "name": "General processing.ipynb",
      "provenance": [],
      "collapsed_sections": [
        "q6O_GQ7JTz4o",
        "NTlDEx48CBcM",
        "AOPEc5oCCp5E",
        "gK-wOUrfipKy",
        "6-GE59LonGvH"
      ],
      "mount_file_id": "1meXeVGcggXPc88nPZS8hYAZnZSp6Jhvk",
      "authorship_tag": "ABX9TyMnZESq5Y4td0xkp5fer/lM",
      "include_colab_link": true
    },
    "kernelspec": {
      "name": "python3",
      "display_name": "Python 3"
    },
    "language_info": {
      "name": "python"
    }
  },
  "cells": [
    {
      "cell_type": "markdown",
      "metadata": {
        "id": "view-in-github",
        "colab_type": "text"
      },
      "source": [
        "<a href=\"https://colab.research.google.com/github/EmilSeyfullayev/Credit_Risk_Modeling_in_Python/blob/main/General_processing.ipynb\" target=\"_parent\"><img src=\"https://colab.research.google.com/assets/colab-badge.svg\" alt=\"Open In Colab\"/></a>"
      ]
    },
    {
      "cell_type": "markdown",
      "metadata": {
        "id": "q6O_GQ7JTz4o"
      },
      "source": [
        "# Initial basic processing and cleaning"
      ]
    },
    {
      "cell_type": "code",
      "metadata": {
        "id": "6nLzQdUKBJlB"
      },
      "source": [
        "import pandas as pd\n",
        "import numpy as np\n",
        "import matplotlib.pyplot as plt\n",
        "import seaborn as sns\n",
        "sns.set_style(\"whitegrid\")"
      ],
      "execution_count": 128,
      "outputs": []
    },
    {
      "cell_type": "code",
      "metadata": {
        "colab": {
          "base_uri": "https://localhost:8080/"
        },
        "id": "NCMQgdleFF5v",
        "outputId": "b2b7b5d9-4183-493d-cf89-091bb5f8ad7f"
      },
      "source": [
        "# data_backup = pd.read_csv(\"/content/drive/MyDrive/Credit Risk Modeling/loan_data_2007_2014.csv\")\n",
        "df = pd.read_csv(\"/content/drive/MyDrive/Credit Risk Modeling/loan_data_2007_2014.csv\")"
      ],
      "execution_count": 129,
      "outputs": [
        {
          "output_type": "stream",
          "name": "stderr",
          "text": [
            "/usr/local/lib/python3.7/dist-packages/IPython/core/interactiveshell.py:2718: DtypeWarning: Columns (20) have mixed types.Specify dtype option on import or set low_memory=False.\n",
            "  interactivity=interactivity, compiler=compiler, result=result)\n"
          ]
        }
      ]
    },
    {
      "cell_type": "code",
      "metadata": {
        "id": "XQiyQAGQF-PY"
      },
      "source": [
        "# df = data_backup.copy()"
      ],
      "execution_count": 130,
      "outputs": []
    },
    {
      "cell_type": "code",
      "metadata": {
        "colab": {
          "base_uri": "https://localhost:8080/",
          "height": 0
        },
        "id": "TwN5_AVpLID-",
        "outputId": "f813b233-4357-4ab8-f192-0a4a16a62519"
      },
      "source": [
        "df.head(3)"
      ],
      "execution_count": 131,
      "outputs": [
        {
          "output_type": "execute_result",
          "data": {
            "text/html": [
              "<div>\n",
              "<style scoped>\n",
              "    .dataframe tbody tr th:only-of-type {\n",
              "        vertical-align: middle;\n",
              "    }\n",
              "\n",
              "    .dataframe tbody tr th {\n",
              "        vertical-align: top;\n",
              "    }\n",
              "\n",
              "    .dataframe thead th {\n",
              "        text-align: right;\n",
              "    }\n",
              "</style>\n",
              "<table border=\"1\" class=\"dataframe\">\n",
              "  <thead>\n",
              "    <tr style=\"text-align: right;\">\n",
              "      <th></th>\n",
              "      <th>Unnamed: 0</th>\n",
              "      <th>id</th>\n",
              "      <th>member_id</th>\n",
              "      <th>loan_amnt</th>\n",
              "      <th>funded_amnt</th>\n",
              "      <th>funded_amnt_inv</th>\n",
              "      <th>term</th>\n",
              "      <th>int_rate</th>\n",
              "      <th>installment</th>\n",
              "      <th>grade</th>\n",
              "      <th>sub_grade</th>\n",
              "      <th>emp_title</th>\n",
              "      <th>emp_length</th>\n",
              "      <th>home_ownership</th>\n",
              "      <th>annual_inc</th>\n",
              "      <th>verification_status</th>\n",
              "      <th>issue_d</th>\n",
              "      <th>loan_status</th>\n",
              "      <th>pymnt_plan</th>\n",
              "      <th>url</th>\n",
              "      <th>desc</th>\n",
              "      <th>purpose</th>\n",
              "      <th>title</th>\n",
              "      <th>zip_code</th>\n",
              "      <th>addr_state</th>\n",
              "      <th>dti</th>\n",
              "      <th>delinq_2yrs</th>\n",
              "      <th>earliest_cr_line</th>\n",
              "      <th>inq_last_6mths</th>\n",
              "      <th>mths_since_last_delinq</th>\n",
              "      <th>mths_since_last_record</th>\n",
              "      <th>open_acc</th>\n",
              "      <th>pub_rec</th>\n",
              "      <th>revol_bal</th>\n",
              "      <th>revol_util</th>\n",
              "      <th>total_acc</th>\n",
              "      <th>initial_list_status</th>\n",
              "      <th>out_prncp</th>\n",
              "      <th>out_prncp_inv</th>\n",
              "      <th>total_pymnt</th>\n",
              "      <th>total_pymnt_inv</th>\n",
              "      <th>total_rec_prncp</th>\n",
              "      <th>total_rec_int</th>\n",
              "      <th>total_rec_late_fee</th>\n",
              "      <th>recoveries</th>\n",
              "      <th>collection_recovery_fee</th>\n",
              "      <th>last_pymnt_d</th>\n",
              "      <th>last_pymnt_amnt</th>\n",
              "      <th>next_pymnt_d</th>\n",
              "      <th>last_credit_pull_d</th>\n",
              "      <th>collections_12_mths_ex_med</th>\n",
              "      <th>mths_since_last_major_derog</th>\n",
              "      <th>policy_code</th>\n",
              "      <th>application_type</th>\n",
              "      <th>annual_inc_joint</th>\n",
              "      <th>dti_joint</th>\n",
              "      <th>verification_status_joint</th>\n",
              "      <th>acc_now_delinq</th>\n",
              "      <th>tot_coll_amt</th>\n",
              "      <th>tot_cur_bal</th>\n",
              "      <th>open_acc_6m</th>\n",
              "      <th>open_il_6m</th>\n",
              "      <th>open_il_12m</th>\n",
              "      <th>open_il_24m</th>\n",
              "      <th>mths_since_rcnt_il</th>\n",
              "      <th>total_bal_il</th>\n",
              "      <th>il_util</th>\n",
              "      <th>open_rv_12m</th>\n",
              "      <th>open_rv_24m</th>\n",
              "      <th>max_bal_bc</th>\n",
              "      <th>all_util</th>\n",
              "      <th>total_rev_hi_lim</th>\n",
              "      <th>inq_fi</th>\n",
              "      <th>total_cu_tl</th>\n",
              "      <th>inq_last_12m</th>\n",
              "    </tr>\n",
              "  </thead>\n",
              "  <tbody>\n",
              "    <tr>\n",
              "      <th>0</th>\n",
              "      <td>0</td>\n",
              "      <td>1077501</td>\n",
              "      <td>1296599</td>\n",
              "      <td>5000</td>\n",
              "      <td>5000</td>\n",
              "      <td>4975.0</td>\n",
              "      <td>36 months</td>\n",
              "      <td>10.65</td>\n",
              "      <td>162.87</td>\n",
              "      <td>B</td>\n",
              "      <td>B2</td>\n",
              "      <td>NaN</td>\n",
              "      <td>10+ years</td>\n",
              "      <td>RENT</td>\n",
              "      <td>24000.0</td>\n",
              "      <td>Verified</td>\n",
              "      <td>Dec-11</td>\n",
              "      <td>Fully Paid</td>\n",
              "      <td>n</td>\n",
              "      <td>https://www.lendingclub.com/browse/loanDetail....</td>\n",
              "      <td>Borrower added on 12/22/11 &gt; I need to upgra...</td>\n",
              "      <td>credit_card</td>\n",
              "      <td>Computer</td>\n",
              "      <td>860xx</td>\n",
              "      <td>AZ</td>\n",
              "      <td>27.65</td>\n",
              "      <td>0.0</td>\n",
              "      <td>Jan-85</td>\n",
              "      <td>1.0</td>\n",
              "      <td>NaN</td>\n",
              "      <td>NaN</td>\n",
              "      <td>3.0</td>\n",
              "      <td>0.0</td>\n",
              "      <td>13648</td>\n",
              "      <td>83.7</td>\n",
              "      <td>9.0</td>\n",
              "      <td>f</td>\n",
              "      <td>0.0</td>\n",
              "      <td>0.0</td>\n",
              "      <td>5861.071414</td>\n",
              "      <td>5831.78</td>\n",
              "      <td>5000.00</td>\n",
              "      <td>861.07</td>\n",
              "      <td>0.0</td>\n",
              "      <td>0.00</td>\n",
              "      <td>0.00</td>\n",
              "      <td>Jan-15</td>\n",
              "      <td>171.62</td>\n",
              "      <td>NaN</td>\n",
              "      <td>Jan-16</td>\n",
              "      <td>0.0</td>\n",
              "      <td>NaN</td>\n",
              "      <td>1</td>\n",
              "      <td>INDIVIDUAL</td>\n",
              "      <td>NaN</td>\n",
              "      <td>NaN</td>\n",
              "      <td>NaN</td>\n",
              "      <td>0.0</td>\n",
              "      <td>NaN</td>\n",
              "      <td>NaN</td>\n",
              "      <td>NaN</td>\n",
              "      <td>NaN</td>\n",
              "      <td>NaN</td>\n",
              "      <td>NaN</td>\n",
              "      <td>NaN</td>\n",
              "      <td>NaN</td>\n",
              "      <td>NaN</td>\n",
              "      <td>NaN</td>\n",
              "      <td>NaN</td>\n",
              "      <td>NaN</td>\n",
              "      <td>NaN</td>\n",
              "      <td>NaN</td>\n",
              "      <td>NaN</td>\n",
              "      <td>NaN</td>\n",
              "      <td>NaN</td>\n",
              "    </tr>\n",
              "    <tr>\n",
              "      <th>1</th>\n",
              "      <td>1</td>\n",
              "      <td>1077430</td>\n",
              "      <td>1314167</td>\n",
              "      <td>2500</td>\n",
              "      <td>2500</td>\n",
              "      <td>2500.0</td>\n",
              "      <td>60 months</td>\n",
              "      <td>15.27</td>\n",
              "      <td>59.83</td>\n",
              "      <td>C</td>\n",
              "      <td>C4</td>\n",
              "      <td>Ryder</td>\n",
              "      <td>&lt; 1 year</td>\n",
              "      <td>RENT</td>\n",
              "      <td>30000.0</td>\n",
              "      <td>Source Verified</td>\n",
              "      <td>Dec-11</td>\n",
              "      <td>Charged Off</td>\n",
              "      <td>n</td>\n",
              "      <td>https://www.lendingclub.com/browse/loanDetail....</td>\n",
              "      <td>Borrower added on 12/22/11 &gt; I plan to use t...</td>\n",
              "      <td>car</td>\n",
              "      <td>bike</td>\n",
              "      <td>309xx</td>\n",
              "      <td>GA</td>\n",
              "      <td>1.00</td>\n",
              "      <td>0.0</td>\n",
              "      <td>Apr-99</td>\n",
              "      <td>5.0</td>\n",
              "      <td>NaN</td>\n",
              "      <td>NaN</td>\n",
              "      <td>3.0</td>\n",
              "      <td>0.0</td>\n",
              "      <td>1687</td>\n",
              "      <td>9.4</td>\n",
              "      <td>4.0</td>\n",
              "      <td>f</td>\n",
              "      <td>0.0</td>\n",
              "      <td>0.0</td>\n",
              "      <td>1008.710000</td>\n",
              "      <td>1008.71</td>\n",
              "      <td>456.46</td>\n",
              "      <td>435.17</td>\n",
              "      <td>0.0</td>\n",
              "      <td>117.08</td>\n",
              "      <td>1.11</td>\n",
              "      <td>Apr-13</td>\n",
              "      <td>119.66</td>\n",
              "      <td>NaN</td>\n",
              "      <td>Sep-13</td>\n",
              "      <td>0.0</td>\n",
              "      <td>NaN</td>\n",
              "      <td>1</td>\n",
              "      <td>INDIVIDUAL</td>\n",
              "      <td>NaN</td>\n",
              "      <td>NaN</td>\n",
              "      <td>NaN</td>\n",
              "      <td>0.0</td>\n",
              "      <td>NaN</td>\n",
              "      <td>NaN</td>\n",
              "      <td>NaN</td>\n",
              "      <td>NaN</td>\n",
              "      <td>NaN</td>\n",
              "      <td>NaN</td>\n",
              "      <td>NaN</td>\n",
              "      <td>NaN</td>\n",
              "      <td>NaN</td>\n",
              "      <td>NaN</td>\n",
              "      <td>NaN</td>\n",
              "      <td>NaN</td>\n",
              "      <td>NaN</td>\n",
              "      <td>NaN</td>\n",
              "      <td>NaN</td>\n",
              "      <td>NaN</td>\n",
              "      <td>NaN</td>\n",
              "    </tr>\n",
              "    <tr>\n",
              "      <th>2</th>\n",
              "      <td>2</td>\n",
              "      <td>1077175</td>\n",
              "      <td>1313524</td>\n",
              "      <td>2400</td>\n",
              "      <td>2400</td>\n",
              "      <td>2400.0</td>\n",
              "      <td>36 months</td>\n",
              "      <td>15.96</td>\n",
              "      <td>84.33</td>\n",
              "      <td>C</td>\n",
              "      <td>C5</td>\n",
              "      <td>NaN</td>\n",
              "      <td>10+ years</td>\n",
              "      <td>RENT</td>\n",
              "      <td>12252.0</td>\n",
              "      <td>Not Verified</td>\n",
              "      <td>Dec-11</td>\n",
              "      <td>Fully Paid</td>\n",
              "      <td>n</td>\n",
              "      <td>https://www.lendingclub.com/browse/loanDetail....</td>\n",
              "      <td>NaN</td>\n",
              "      <td>small_business</td>\n",
              "      <td>real estate business</td>\n",
              "      <td>606xx</td>\n",
              "      <td>IL</td>\n",
              "      <td>8.72</td>\n",
              "      <td>0.0</td>\n",
              "      <td>Nov-01</td>\n",
              "      <td>2.0</td>\n",
              "      <td>NaN</td>\n",
              "      <td>NaN</td>\n",
              "      <td>2.0</td>\n",
              "      <td>0.0</td>\n",
              "      <td>2956</td>\n",
              "      <td>98.5</td>\n",
              "      <td>10.0</td>\n",
              "      <td>f</td>\n",
              "      <td>0.0</td>\n",
              "      <td>0.0</td>\n",
              "      <td>3003.653644</td>\n",
              "      <td>3003.65</td>\n",
              "      <td>2400.00</td>\n",
              "      <td>603.65</td>\n",
              "      <td>0.0</td>\n",
              "      <td>0.00</td>\n",
              "      <td>0.00</td>\n",
              "      <td>Jun-14</td>\n",
              "      <td>649.91</td>\n",
              "      <td>NaN</td>\n",
              "      <td>Jan-16</td>\n",
              "      <td>0.0</td>\n",
              "      <td>NaN</td>\n",
              "      <td>1</td>\n",
              "      <td>INDIVIDUAL</td>\n",
              "      <td>NaN</td>\n",
              "      <td>NaN</td>\n",
              "      <td>NaN</td>\n",
              "      <td>0.0</td>\n",
              "      <td>NaN</td>\n",
              "      <td>NaN</td>\n",
              "      <td>NaN</td>\n",
              "      <td>NaN</td>\n",
              "      <td>NaN</td>\n",
              "      <td>NaN</td>\n",
              "      <td>NaN</td>\n",
              "      <td>NaN</td>\n",
              "      <td>NaN</td>\n",
              "      <td>NaN</td>\n",
              "      <td>NaN</td>\n",
              "      <td>NaN</td>\n",
              "      <td>NaN</td>\n",
              "      <td>NaN</td>\n",
              "      <td>NaN</td>\n",
              "      <td>NaN</td>\n",
              "      <td>NaN</td>\n",
              "    </tr>\n",
              "  </tbody>\n",
              "</table>\n",
              "</div>"
            ],
            "text/plain": [
              "   Unnamed: 0       id  member_id  ...  inq_fi  total_cu_tl  inq_last_12m\n",
              "0           0  1077501    1296599  ...     NaN          NaN           NaN\n",
              "1           1  1077430    1314167  ...     NaN          NaN           NaN\n",
              "2           2  1077175    1313524  ...     NaN          NaN           NaN\n",
              "\n",
              "[3 rows x 75 columns]"
            ]
          },
          "metadata": {},
          "execution_count": 131
        }
      ]
    },
    {
      "cell_type": "code",
      "metadata": {
        "colab": {
          "base_uri": "https://localhost:8080/",
          "height": 0
        },
        "id": "Eb8VZOV2OAu-",
        "outputId": "ac40130b-aaab-4cd5-b9eb-a4f88efd422a"
      },
      "source": [
        "df.describe(include='all')"
      ],
      "execution_count": 132,
      "outputs": [
        {
          "output_type": "execute_result",
          "data": {
            "text/html": [
              "<div>\n",
              "<style scoped>\n",
              "    .dataframe tbody tr th:only-of-type {\n",
              "        vertical-align: middle;\n",
              "    }\n",
              "\n",
              "    .dataframe tbody tr th {\n",
              "        vertical-align: top;\n",
              "    }\n",
              "\n",
              "    .dataframe thead th {\n",
              "        text-align: right;\n",
              "    }\n",
              "</style>\n",
              "<table border=\"1\" class=\"dataframe\">\n",
              "  <thead>\n",
              "    <tr style=\"text-align: right;\">\n",
              "      <th></th>\n",
              "      <th>Unnamed: 0</th>\n",
              "      <th>id</th>\n",
              "      <th>member_id</th>\n",
              "      <th>loan_amnt</th>\n",
              "      <th>funded_amnt</th>\n",
              "      <th>funded_amnt_inv</th>\n",
              "      <th>term</th>\n",
              "      <th>int_rate</th>\n",
              "      <th>installment</th>\n",
              "      <th>grade</th>\n",
              "      <th>sub_grade</th>\n",
              "      <th>emp_title</th>\n",
              "      <th>emp_length</th>\n",
              "      <th>home_ownership</th>\n",
              "      <th>annual_inc</th>\n",
              "      <th>verification_status</th>\n",
              "      <th>issue_d</th>\n",
              "      <th>loan_status</th>\n",
              "      <th>pymnt_plan</th>\n",
              "      <th>url</th>\n",
              "      <th>desc</th>\n",
              "      <th>purpose</th>\n",
              "      <th>title</th>\n",
              "      <th>zip_code</th>\n",
              "      <th>addr_state</th>\n",
              "      <th>dti</th>\n",
              "      <th>delinq_2yrs</th>\n",
              "      <th>earliest_cr_line</th>\n",
              "      <th>inq_last_6mths</th>\n",
              "      <th>mths_since_last_delinq</th>\n",
              "      <th>mths_since_last_record</th>\n",
              "      <th>open_acc</th>\n",
              "      <th>pub_rec</th>\n",
              "      <th>revol_bal</th>\n",
              "      <th>revol_util</th>\n",
              "      <th>total_acc</th>\n",
              "      <th>initial_list_status</th>\n",
              "      <th>out_prncp</th>\n",
              "      <th>out_prncp_inv</th>\n",
              "      <th>total_pymnt</th>\n",
              "      <th>total_pymnt_inv</th>\n",
              "      <th>total_rec_prncp</th>\n",
              "      <th>total_rec_int</th>\n",
              "      <th>total_rec_late_fee</th>\n",
              "      <th>recoveries</th>\n",
              "      <th>collection_recovery_fee</th>\n",
              "      <th>last_pymnt_d</th>\n",
              "      <th>last_pymnt_amnt</th>\n",
              "      <th>next_pymnt_d</th>\n",
              "      <th>last_credit_pull_d</th>\n",
              "      <th>collections_12_mths_ex_med</th>\n",
              "      <th>mths_since_last_major_derog</th>\n",
              "      <th>policy_code</th>\n",
              "      <th>application_type</th>\n",
              "      <th>annual_inc_joint</th>\n",
              "      <th>dti_joint</th>\n",
              "      <th>verification_status_joint</th>\n",
              "      <th>acc_now_delinq</th>\n",
              "      <th>tot_coll_amt</th>\n",
              "      <th>tot_cur_bal</th>\n",
              "      <th>open_acc_6m</th>\n",
              "      <th>open_il_6m</th>\n",
              "      <th>open_il_12m</th>\n",
              "      <th>open_il_24m</th>\n",
              "      <th>mths_since_rcnt_il</th>\n",
              "      <th>total_bal_il</th>\n",
              "      <th>il_util</th>\n",
              "      <th>open_rv_12m</th>\n",
              "      <th>open_rv_24m</th>\n",
              "      <th>max_bal_bc</th>\n",
              "      <th>all_util</th>\n",
              "      <th>total_rev_hi_lim</th>\n",
              "      <th>inq_fi</th>\n",
              "      <th>total_cu_tl</th>\n",
              "      <th>inq_last_12m</th>\n",
              "    </tr>\n",
              "  </thead>\n",
              "  <tbody>\n",
              "    <tr>\n",
              "      <th>count</th>\n",
              "      <td>466285.000000</td>\n",
              "      <td>4.662850e+05</td>\n",
              "      <td>4.662850e+05</td>\n",
              "      <td>466285.000000</td>\n",
              "      <td>466285.000000</td>\n",
              "      <td>466285.000000</td>\n",
              "      <td>466285</td>\n",
              "      <td>466285.000000</td>\n",
              "      <td>466285.000000</td>\n",
              "      <td>466285</td>\n",
              "      <td>466285</td>\n",
              "      <td>438697</td>\n",
              "      <td>445277</td>\n",
              "      <td>466285</td>\n",
              "      <td>4.662810e+05</td>\n",
              "      <td>466285</td>\n",
              "      <td>466285</td>\n",
              "      <td>466285</td>\n",
              "      <td>466285</td>\n",
              "      <td>466285</td>\n",
              "      <td>125983</td>\n",
              "      <td>466285</td>\n",
              "      <td>466265</td>\n",
              "      <td>466285</td>\n",
              "      <td>466285</td>\n",
              "      <td>466285.000000</td>\n",
              "      <td>466256.000000</td>\n",
              "      <td>466256</td>\n",
              "      <td>466256.000000</td>\n",
              "      <td>215934.000000</td>\n",
              "      <td>62638.000000</td>\n",
              "      <td>466256.000000</td>\n",
              "      <td>466256.000000</td>\n",
              "      <td>4.662850e+05</td>\n",
              "      <td>465945.000000</td>\n",
              "      <td>466256.000000</td>\n",
              "      <td>466285</td>\n",
              "      <td>466285.000000</td>\n",
              "      <td>466285.000000</td>\n",
              "      <td>466285.000000</td>\n",
              "      <td>466285.000000</td>\n",
              "      <td>466285.000000</td>\n",
              "      <td>466285.000000</td>\n",
              "      <td>466285.000000</td>\n",
              "      <td>466285.000000</td>\n",
              "      <td>466285.000000</td>\n",
              "      <td>465909</td>\n",
              "      <td>466285.000000</td>\n",
              "      <td>239071</td>\n",
              "      <td>466243</td>\n",
              "      <td>466140.000000</td>\n",
              "      <td>98974.000000</td>\n",
              "      <td>466285.0</td>\n",
              "      <td>466285</td>\n",
              "      <td>0.0</td>\n",
              "      <td>0.0</td>\n",
              "      <td>0.0</td>\n",
              "      <td>466256.000000</td>\n",
              "      <td>3.960090e+05</td>\n",
              "      <td>3.960090e+05</td>\n",
              "      <td>0.0</td>\n",
              "      <td>0.0</td>\n",
              "      <td>0.0</td>\n",
              "      <td>0.0</td>\n",
              "      <td>0.0</td>\n",
              "      <td>0.0</td>\n",
              "      <td>0.0</td>\n",
              "      <td>0.0</td>\n",
              "      <td>0.0</td>\n",
              "      <td>0.0</td>\n",
              "      <td>0.0</td>\n",
              "      <td>3.960090e+05</td>\n",
              "      <td>0.0</td>\n",
              "      <td>0.0</td>\n",
              "      <td>0.0</td>\n",
              "    </tr>\n",
              "    <tr>\n",
              "      <th>unique</th>\n",
              "      <td>NaN</td>\n",
              "      <td>NaN</td>\n",
              "      <td>NaN</td>\n",
              "      <td>NaN</td>\n",
              "      <td>NaN</td>\n",
              "      <td>NaN</td>\n",
              "      <td>2</td>\n",
              "      <td>NaN</td>\n",
              "      <td>NaN</td>\n",
              "      <td>7</td>\n",
              "      <td>35</td>\n",
              "      <td>205475</td>\n",
              "      <td>11</td>\n",
              "      <td>6</td>\n",
              "      <td>NaN</td>\n",
              "      <td>3</td>\n",
              "      <td>91</td>\n",
              "      <td>9</td>\n",
              "      <td>2</td>\n",
              "      <td>466285</td>\n",
              "      <td>124436</td>\n",
              "      <td>14</td>\n",
              "      <td>63099</td>\n",
              "      <td>888</td>\n",
              "      <td>50</td>\n",
              "      <td>NaN</td>\n",
              "      <td>NaN</td>\n",
              "      <td>664</td>\n",
              "      <td>NaN</td>\n",
              "      <td>NaN</td>\n",
              "      <td>NaN</td>\n",
              "      <td>NaN</td>\n",
              "      <td>NaN</td>\n",
              "      <td>NaN</td>\n",
              "      <td>NaN</td>\n",
              "      <td>NaN</td>\n",
              "      <td>2</td>\n",
              "      <td>NaN</td>\n",
              "      <td>NaN</td>\n",
              "      <td>NaN</td>\n",
              "      <td>NaN</td>\n",
              "      <td>NaN</td>\n",
              "      <td>NaN</td>\n",
              "      <td>NaN</td>\n",
              "      <td>NaN</td>\n",
              "      <td>NaN</td>\n",
              "      <td>98</td>\n",
              "      <td>NaN</td>\n",
              "      <td>100</td>\n",
              "      <td>103</td>\n",
              "      <td>NaN</td>\n",
              "      <td>NaN</td>\n",
              "      <td>NaN</td>\n",
              "      <td>1</td>\n",
              "      <td>NaN</td>\n",
              "      <td>NaN</td>\n",
              "      <td>NaN</td>\n",
              "      <td>NaN</td>\n",
              "      <td>NaN</td>\n",
              "      <td>NaN</td>\n",
              "      <td>NaN</td>\n",
              "      <td>NaN</td>\n",
              "      <td>NaN</td>\n",
              "      <td>NaN</td>\n",
              "      <td>NaN</td>\n",
              "      <td>NaN</td>\n",
              "      <td>NaN</td>\n",
              "      <td>NaN</td>\n",
              "      <td>NaN</td>\n",
              "      <td>NaN</td>\n",
              "      <td>NaN</td>\n",
              "      <td>NaN</td>\n",
              "      <td>NaN</td>\n",
              "      <td>NaN</td>\n",
              "      <td>NaN</td>\n",
              "    </tr>\n",
              "    <tr>\n",
              "      <th>top</th>\n",
              "      <td>NaN</td>\n",
              "      <td>NaN</td>\n",
              "      <td>NaN</td>\n",
              "      <td>NaN</td>\n",
              "      <td>NaN</td>\n",
              "      <td>NaN</td>\n",
              "      <td>36 months</td>\n",
              "      <td>NaN</td>\n",
              "      <td>NaN</td>\n",
              "      <td>B</td>\n",
              "      <td>B3</td>\n",
              "      <td>Teacher</td>\n",
              "      <td>10+ years</td>\n",
              "      <td>MORTGAGE</td>\n",
              "      <td>NaN</td>\n",
              "      <td>Verified</td>\n",
              "      <td>Oct-14</td>\n",
              "      <td>Current</td>\n",
              "      <td>n</td>\n",
              "      <td>https://www.lendingclub.com/browse/loanDetail....</td>\n",
              "      <td></td>\n",
              "      <td>debt_consolidation</td>\n",
              "      <td>Debt consolidation</td>\n",
              "      <td>945xx</td>\n",
              "      <td>CA</td>\n",
              "      <td>NaN</td>\n",
              "      <td>NaN</td>\n",
              "      <td>Oct-00</td>\n",
              "      <td>NaN</td>\n",
              "      <td>NaN</td>\n",
              "      <td>NaN</td>\n",
              "      <td>NaN</td>\n",
              "      <td>NaN</td>\n",
              "      <td>NaN</td>\n",
              "      <td>NaN</td>\n",
              "      <td>NaN</td>\n",
              "      <td>f</td>\n",
              "      <td>NaN</td>\n",
              "      <td>NaN</td>\n",
              "      <td>NaN</td>\n",
              "      <td>NaN</td>\n",
              "      <td>NaN</td>\n",
              "      <td>NaN</td>\n",
              "      <td>NaN</td>\n",
              "      <td>NaN</td>\n",
              "      <td>NaN</td>\n",
              "      <td>Jan-16</td>\n",
              "      <td>NaN</td>\n",
              "      <td>Feb-16</td>\n",
              "      <td>Jan-16</td>\n",
              "      <td>NaN</td>\n",
              "      <td>NaN</td>\n",
              "      <td>NaN</td>\n",
              "      <td>INDIVIDUAL</td>\n",
              "      <td>NaN</td>\n",
              "      <td>NaN</td>\n",
              "      <td>NaN</td>\n",
              "      <td>NaN</td>\n",
              "      <td>NaN</td>\n",
              "      <td>NaN</td>\n",
              "      <td>NaN</td>\n",
              "      <td>NaN</td>\n",
              "      <td>NaN</td>\n",
              "      <td>NaN</td>\n",
              "      <td>NaN</td>\n",
              "      <td>NaN</td>\n",
              "      <td>NaN</td>\n",
              "      <td>NaN</td>\n",
              "      <td>NaN</td>\n",
              "      <td>NaN</td>\n",
              "      <td>NaN</td>\n",
              "      <td>NaN</td>\n",
              "      <td>NaN</td>\n",
              "      <td>NaN</td>\n",
              "      <td>NaN</td>\n",
              "    </tr>\n",
              "    <tr>\n",
              "      <th>freq</th>\n",
              "      <td>NaN</td>\n",
              "      <td>NaN</td>\n",
              "      <td>NaN</td>\n",
              "      <td>NaN</td>\n",
              "      <td>NaN</td>\n",
              "      <td>NaN</td>\n",
              "      <td>337953</td>\n",
              "      <td>NaN</td>\n",
              "      <td>NaN</td>\n",
              "      <td>136929</td>\n",
              "      <td>31686</td>\n",
              "      <td>5399</td>\n",
              "      <td>150049</td>\n",
              "      <td>235875</td>\n",
              "      <td>NaN</td>\n",
              "      <td>168055</td>\n",
              "      <td>38782</td>\n",
              "      <td>224226</td>\n",
              "      <td>466276</td>\n",
              "      <td>1</td>\n",
              "      <td>234</td>\n",
              "      <td>274195</td>\n",
              "      <td>164075</td>\n",
              "      <td>5304</td>\n",
              "      <td>71450</td>\n",
              "      <td>NaN</td>\n",
              "      <td>NaN</td>\n",
              "      <td>3674</td>\n",
              "      <td>NaN</td>\n",
              "      <td>NaN</td>\n",
              "      <td>NaN</td>\n",
              "      <td>NaN</td>\n",
              "      <td>NaN</td>\n",
              "      <td>NaN</td>\n",
              "      <td>NaN</td>\n",
              "      <td>NaN</td>\n",
              "      <td>303005</td>\n",
              "      <td>NaN</td>\n",
              "      <td>NaN</td>\n",
              "      <td>NaN</td>\n",
              "      <td>NaN</td>\n",
              "      <td>NaN</td>\n",
              "      <td>NaN</td>\n",
              "      <td>NaN</td>\n",
              "      <td>NaN</td>\n",
              "      <td>NaN</td>\n",
              "      <td>179620</td>\n",
              "      <td>NaN</td>\n",
              "      <td>208393</td>\n",
              "      <td>327699</td>\n",
              "      <td>NaN</td>\n",
              "      <td>NaN</td>\n",
              "      <td>NaN</td>\n",
              "      <td>466285</td>\n",
              "      <td>NaN</td>\n",
              "      <td>NaN</td>\n",
              "      <td>NaN</td>\n",
              "      <td>NaN</td>\n",
              "      <td>NaN</td>\n",
              "      <td>NaN</td>\n",
              "      <td>NaN</td>\n",
              "      <td>NaN</td>\n",
              "      <td>NaN</td>\n",
              "      <td>NaN</td>\n",
              "      <td>NaN</td>\n",
              "      <td>NaN</td>\n",
              "      <td>NaN</td>\n",
              "      <td>NaN</td>\n",
              "      <td>NaN</td>\n",
              "      <td>NaN</td>\n",
              "      <td>NaN</td>\n",
              "      <td>NaN</td>\n",
              "      <td>NaN</td>\n",
              "      <td>NaN</td>\n",
              "      <td>NaN</td>\n",
              "    </tr>\n",
              "    <tr>\n",
              "      <th>mean</th>\n",
              "      <td>233142.000000</td>\n",
              "      <td>1.307973e+07</td>\n",
              "      <td>1.459766e+07</td>\n",
              "      <td>14317.277577</td>\n",
              "      <td>14291.801044</td>\n",
              "      <td>14222.329888</td>\n",
              "      <td>NaN</td>\n",
              "      <td>13.829236</td>\n",
              "      <td>432.061201</td>\n",
              "      <td>NaN</td>\n",
              "      <td>NaN</td>\n",
              "      <td>NaN</td>\n",
              "      <td>NaN</td>\n",
              "      <td>NaN</td>\n",
              "      <td>7.327738e+04</td>\n",
              "      <td>NaN</td>\n",
              "      <td>NaN</td>\n",
              "      <td>NaN</td>\n",
              "      <td>NaN</td>\n",
              "      <td>NaN</td>\n",
              "      <td>NaN</td>\n",
              "      <td>NaN</td>\n",
              "      <td>NaN</td>\n",
              "      <td>NaN</td>\n",
              "      <td>NaN</td>\n",
              "      <td>17.218758</td>\n",
              "      <td>0.284678</td>\n",
              "      <td>NaN</td>\n",
              "      <td>0.804745</td>\n",
              "      <td>34.104430</td>\n",
              "      <td>74.306012</td>\n",
              "      <td>11.187069</td>\n",
              "      <td>0.160564</td>\n",
              "      <td>1.623020e+04</td>\n",
              "      <td>56.176947</td>\n",
              "      <td>25.064430</td>\n",
              "      <td>NaN</td>\n",
              "      <td>4410.062342</td>\n",
              "      <td>4408.452258</td>\n",
              "      <td>11540.686220</td>\n",
              "      <td>11469.892747</td>\n",
              "      <td>8866.014657</td>\n",
              "      <td>2588.677225</td>\n",
              "      <td>0.650129</td>\n",
              "      <td>85.344211</td>\n",
              "      <td>8.961534</td>\n",
              "      <td>NaN</td>\n",
              "      <td>3123.913796</td>\n",
              "      <td>NaN</td>\n",
              "      <td>NaN</td>\n",
              "      <td>0.009085</td>\n",
              "      <td>42.852547</td>\n",
              "      <td>1.0</td>\n",
              "      <td>NaN</td>\n",
              "      <td>NaN</td>\n",
              "      <td>NaN</td>\n",
              "      <td>NaN</td>\n",
              "      <td>0.004002</td>\n",
              "      <td>1.919135e+02</td>\n",
              "      <td>1.388017e+05</td>\n",
              "      <td>NaN</td>\n",
              "      <td>NaN</td>\n",
              "      <td>NaN</td>\n",
              "      <td>NaN</td>\n",
              "      <td>NaN</td>\n",
              "      <td>NaN</td>\n",
              "      <td>NaN</td>\n",
              "      <td>NaN</td>\n",
              "      <td>NaN</td>\n",
              "      <td>NaN</td>\n",
              "      <td>NaN</td>\n",
              "      <td>3.037909e+04</td>\n",
              "      <td>NaN</td>\n",
              "      <td>NaN</td>\n",
              "      <td>NaN</td>\n",
              "    </tr>\n",
              "    <tr>\n",
              "      <th>std</th>\n",
              "      <td>134605.029472</td>\n",
              "      <td>1.089371e+07</td>\n",
              "      <td>1.168237e+07</td>\n",
              "      <td>8286.509164</td>\n",
              "      <td>8274.371300</td>\n",
              "      <td>8297.637788</td>\n",
              "      <td>NaN</td>\n",
              "      <td>4.357587</td>\n",
              "      <td>243.485550</td>\n",
              "      <td>NaN</td>\n",
              "      <td>NaN</td>\n",
              "      <td>NaN</td>\n",
              "      <td>NaN</td>\n",
              "      <td>NaN</td>\n",
              "      <td>5.496357e+04</td>\n",
              "      <td>NaN</td>\n",
              "      <td>NaN</td>\n",
              "      <td>NaN</td>\n",
              "      <td>NaN</td>\n",
              "      <td>NaN</td>\n",
              "      <td>NaN</td>\n",
              "      <td>NaN</td>\n",
              "      <td>NaN</td>\n",
              "      <td>NaN</td>\n",
              "      <td>NaN</td>\n",
              "      <td>7.851121</td>\n",
              "      <td>0.797365</td>\n",
              "      <td>NaN</td>\n",
              "      <td>1.091598</td>\n",
              "      <td>21.778487</td>\n",
              "      <td>30.357653</td>\n",
              "      <td>4.987526</td>\n",
              "      <td>0.510863</td>\n",
              "      <td>2.067625e+04</td>\n",
              "      <td>23.732628</td>\n",
              "      <td>11.600141</td>\n",
              "      <td>NaN</td>\n",
              "      <td>6355.078769</td>\n",
              "      <td>6353.198001</td>\n",
              "      <td>8265.627112</td>\n",
              "      <td>8254.157579</td>\n",
              "      <td>7031.687997</td>\n",
              "      <td>2483.809661</td>\n",
              "      <td>5.265730</td>\n",
              "      <td>552.216084</td>\n",
              "      <td>85.491437</td>\n",
              "      <td>NaN</td>\n",
              "      <td>5554.737393</td>\n",
              "      <td>NaN</td>\n",
              "      <td>NaN</td>\n",
              "      <td>0.108648</td>\n",
              "      <td>21.662591</td>\n",
              "      <td>0.0</td>\n",
              "      <td>NaN</td>\n",
              "      <td>NaN</td>\n",
              "      <td>NaN</td>\n",
              "      <td>NaN</td>\n",
              "      <td>0.068637</td>\n",
              "      <td>1.463021e+04</td>\n",
              "      <td>1.521147e+05</td>\n",
              "      <td>NaN</td>\n",
              "      <td>NaN</td>\n",
              "      <td>NaN</td>\n",
              "      <td>NaN</td>\n",
              "      <td>NaN</td>\n",
              "      <td>NaN</td>\n",
              "      <td>NaN</td>\n",
              "      <td>NaN</td>\n",
              "      <td>NaN</td>\n",
              "      <td>NaN</td>\n",
              "      <td>NaN</td>\n",
              "      <td>3.724713e+04</td>\n",
              "      <td>NaN</td>\n",
              "      <td>NaN</td>\n",
              "      <td>NaN</td>\n",
              "    </tr>\n",
              "    <tr>\n",
              "      <th>min</th>\n",
              "      <td>0.000000</td>\n",
              "      <td>5.473400e+04</td>\n",
              "      <td>7.047300e+04</td>\n",
              "      <td>500.000000</td>\n",
              "      <td>500.000000</td>\n",
              "      <td>0.000000</td>\n",
              "      <td>NaN</td>\n",
              "      <td>5.420000</td>\n",
              "      <td>15.670000</td>\n",
              "      <td>NaN</td>\n",
              "      <td>NaN</td>\n",
              "      <td>NaN</td>\n",
              "      <td>NaN</td>\n",
              "      <td>NaN</td>\n",
              "      <td>1.896000e+03</td>\n",
              "      <td>NaN</td>\n",
              "      <td>NaN</td>\n",
              "      <td>NaN</td>\n",
              "      <td>NaN</td>\n",
              "      <td>NaN</td>\n",
              "      <td>NaN</td>\n",
              "      <td>NaN</td>\n",
              "      <td>NaN</td>\n",
              "      <td>NaN</td>\n",
              "      <td>NaN</td>\n",
              "      <td>0.000000</td>\n",
              "      <td>0.000000</td>\n",
              "      <td>NaN</td>\n",
              "      <td>0.000000</td>\n",
              "      <td>0.000000</td>\n",
              "      <td>0.000000</td>\n",
              "      <td>0.000000</td>\n",
              "      <td>0.000000</td>\n",
              "      <td>0.000000e+00</td>\n",
              "      <td>0.000000</td>\n",
              "      <td>1.000000</td>\n",
              "      <td>NaN</td>\n",
              "      <td>0.000000</td>\n",
              "      <td>0.000000</td>\n",
              "      <td>0.000000</td>\n",
              "      <td>0.000000</td>\n",
              "      <td>0.000000</td>\n",
              "      <td>0.000000</td>\n",
              "      <td>0.000000</td>\n",
              "      <td>0.000000</td>\n",
              "      <td>0.000000</td>\n",
              "      <td>NaN</td>\n",
              "      <td>0.000000</td>\n",
              "      <td>NaN</td>\n",
              "      <td>NaN</td>\n",
              "      <td>0.000000</td>\n",
              "      <td>0.000000</td>\n",
              "      <td>1.0</td>\n",
              "      <td>NaN</td>\n",
              "      <td>NaN</td>\n",
              "      <td>NaN</td>\n",
              "      <td>NaN</td>\n",
              "      <td>0.000000</td>\n",
              "      <td>0.000000e+00</td>\n",
              "      <td>0.000000e+00</td>\n",
              "      <td>NaN</td>\n",
              "      <td>NaN</td>\n",
              "      <td>NaN</td>\n",
              "      <td>NaN</td>\n",
              "      <td>NaN</td>\n",
              "      <td>NaN</td>\n",
              "      <td>NaN</td>\n",
              "      <td>NaN</td>\n",
              "      <td>NaN</td>\n",
              "      <td>NaN</td>\n",
              "      <td>NaN</td>\n",
              "      <td>0.000000e+00</td>\n",
              "      <td>NaN</td>\n",
              "      <td>NaN</td>\n",
              "      <td>NaN</td>\n",
              "    </tr>\n",
              "    <tr>\n",
              "      <th>25%</th>\n",
              "      <td>116571.000000</td>\n",
              "      <td>3.639987e+06</td>\n",
              "      <td>4.379705e+06</td>\n",
              "      <td>8000.000000</td>\n",
              "      <td>8000.000000</td>\n",
              "      <td>8000.000000</td>\n",
              "      <td>NaN</td>\n",
              "      <td>10.990000</td>\n",
              "      <td>256.690000</td>\n",
              "      <td>NaN</td>\n",
              "      <td>NaN</td>\n",
              "      <td>NaN</td>\n",
              "      <td>NaN</td>\n",
              "      <td>NaN</td>\n",
              "      <td>4.500000e+04</td>\n",
              "      <td>NaN</td>\n",
              "      <td>NaN</td>\n",
              "      <td>NaN</td>\n",
              "      <td>NaN</td>\n",
              "      <td>NaN</td>\n",
              "      <td>NaN</td>\n",
              "      <td>NaN</td>\n",
              "      <td>NaN</td>\n",
              "      <td>NaN</td>\n",
              "      <td>NaN</td>\n",
              "      <td>11.360000</td>\n",
              "      <td>0.000000</td>\n",
              "      <td>NaN</td>\n",
              "      <td>0.000000</td>\n",
              "      <td>16.000000</td>\n",
              "      <td>53.000000</td>\n",
              "      <td>8.000000</td>\n",
              "      <td>0.000000</td>\n",
              "      <td>6.413000e+03</td>\n",
              "      <td>39.200000</td>\n",
              "      <td>17.000000</td>\n",
              "      <td>NaN</td>\n",
              "      <td>0.000000</td>\n",
              "      <td>0.000000</td>\n",
              "      <td>5552.125349</td>\n",
              "      <td>5499.250000</td>\n",
              "      <td>3708.560000</td>\n",
              "      <td>957.280000</td>\n",
              "      <td>0.000000</td>\n",
              "      <td>0.000000</td>\n",
              "      <td>0.000000</td>\n",
              "      <td>NaN</td>\n",
              "      <td>312.620000</td>\n",
              "      <td>NaN</td>\n",
              "      <td>NaN</td>\n",
              "      <td>0.000000</td>\n",
              "      <td>26.000000</td>\n",
              "      <td>1.0</td>\n",
              "      <td>NaN</td>\n",
              "      <td>NaN</td>\n",
              "      <td>NaN</td>\n",
              "      <td>NaN</td>\n",
              "      <td>0.000000</td>\n",
              "      <td>0.000000e+00</td>\n",
              "      <td>2.861800e+04</td>\n",
              "      <td>NaN</td>\n",
              "      <td>NaN</td>\n",
              "      <td>NaN</td>\n",
              "      <td>NaN</td>\n",
              "      <td>NaN</td>\n",
              "      <td>NaN</td>\n",
              "      <td>NaN</td>\n",
              "      <td>NaN</td>\n",
              "      <td>NaN</td>\n",
              "      <td>NaN</td>\n",
              "      <td>NaN</td>\n",
              "      <td>1.350000e+04</td>\n",
              "      <td>NaN</td>\n",
              "      <td>NaN</td>\n",
              "      <td>NaN</td>\n",
              "    </tr>\n",
              "    <tr>\n",
              "      <th>50%</th>\n",
              "      <td>233142.000000</td>\n",
              "      <td>1.010790e+07</td>\n",
              "      <td>1.194108e+07</td>\n",
              "      <td>12000.000000</td>\n",
              "      <td>12000.000000</td>\n",
              "      <td>12000.000000</td>\n",
              "      <td>NaN</td>\n",
              "      <td>13.660000</td>\n",
              "      <td>379.890000</td>\n",
              "      <td>NaN</td>\n",
              "      <td>NaN</td>\n",
              "      <td>NaN</td>\n",
              "      <td>NaN</td>\n",
              "      <td>NaN</td>\n",
              "      <td>6.300000e+04</td>\n",
              "      <td>NaN</td>\n",
              "      <td>NaN</td>\n",
              "      <td>NaN</td>\n",
              "      <td>NaN</td>\n",
              "      <td>NaN</td>\n",
              "      <td>NaN</td>\n",
              "      <td>NaN</td>\n",
              "      <td>NaN</td>\n",
              "      <td>NaN</td>\n",
              "      <td>NaN</td>\n",
              "      <td>16.870000</td>\n",
              "      <td>0.000000</td>\n",
              "      <td>NaN</td>\n",
              "      <td>0.000000</td>\n",
              "      <td>31.000000</td>\n",
              "      <td>76.000000</td>\n",
              "      <td>10.000000</td>\n",
              "      <td>0.000000</td>\n",
              "      <td>1.176400e+04</td>\n",
              "      <td>57.600000</td>\n",
              "      <td>23.000000</td>\n",
              "      <td>NaN</td>\n",
              "      <td>441.470000</td>\n",
              "      <td>441.380000</td>\n",
              "      <td>9419.250943</td>\n",
              "      <td>9355.430000</td>\n",
              "      <td>6817.760000</td>\n",
              "      <td>1818.880000</td>\n",
              "      <td>0.000000</td>\n",
              "      <td>0.000000</td>\n",
              "      <td>0.000000</td>\n",
              "      <td>NaN</td>\n",
              "      <td>545.960000</td>\n",
              "      <td>NaN</td>\n",
              "      <td>NaN</td>\n",
              "      <td>0.000000</td>\n",
              "      <td>42.000000</td>\n",
              "      <td>1.0</td>\n",
              "      <td>NaN</td>\n",
              "      <td>NaN</td>\n",
              "      <td>NaN</td>\n",
              "      <td>NaN</td>\n",
              "      <td>0.000000</td>\n",
              "      <td>0.000000e+00</td>\n",
              "      <td>8.153900e+04</td>\n",
              "      <td>NaN</td>\n",
              "      <td>NaN</td>\n",
              "      <td>NaN</td>\n",
              "      <td>NaN</td>\n",
              "      <td>NaN</td>\n",
              "      <td>NaN</td>\n",
              "      <td>NaN</td>\n",
              "      <td>NaN</td>\n",
              "      <td>NaN</td>\n",
              "      <td>NaN</td>\n",
              "      <td>NaN</td>\n",
              "      <td>2.280000e+04</td>\n",
              "      <td>NaN</td>\n",
              "      <td>NaN</td>\n",
              "      <td>NaN</td>\n",
              "    </tr>\n",
              "    <tr>\n",
              "      <th>75%</th>\n",
              "      <td>349713.000000</td>\n",
              "      <td>2.073121e+07</td>\n",
              "      <td>2.300154e+07</td>\n",
              "      <td>20000.000000</td>\n",
              "      <td>20000.000000</td>\n",
              "      <td>19950.000000</td>\n",
              "      <td>NaN</td>\n",
              "      <td>16.490000</td>\n",
              "      <td>566.580000</td>\n",
              "      <td>NaN</td>\n",
              "      <td>NaN</td>\n",
              "      <td>NaN</td>\n",
              "      <td>NaN</td>\n",
              "      <td>NaN</td>\n",
              "      <td>8.896000e+04</td>\n",
              "      <td>NaN</td>\n",
              "      <td>NaN</td>\n",
              "      <td>NaN</td>\n",
              "      <td>NaN</td>\n",
              "      <td>NaN</td>\n",
              "      <td>NaN</td>\n",
              "      <td>NaN</td>\n",
              "      <td>NaN</td>\n",
              "      <td>NaN</td>\n",
              "      <td>NaN</td>\n",
              "      <td>22.780000</td>\n",
              "      <td>0.000000</td>\n",
              "      <td>NaN</td>\n",
              "      <td>1.000000</td>\n",
              "      <td>49.000000</td>\n",
              "      <td>102.000000</td>\n",
              "      <td>14.000000</td>\n",
              "      <td>0.000000</td>\n",
              "      <td>2.033300e+04</td>\n",
              "      <td>74.700000</td>\n",
              "      <td>32.000000</td>\n",
              "      <td>NaN</td>\n",
              "      <td>7341.650000</td>\n",
              "      <td>7338.390000</td>\n",
              "      <td>15308.158460</td>\n",
              "      <td>15231.310000</td>\n",
              "      <td>12000.000000</td>\n",
              "      <td>3304.530000</td>\n",
              "      <td>0.000000</td>\n",
              "      <td>0.000000</td>\n",
              "      <td>0.000000</td>\n",
              "      <td>NaN</td>\n",
              "      <td>3187.510000</td>\n",
              "      <td>NaN</td>\n",
              "      <td>NaN</td>\n",
              "      <td>0.000000</td>\n",
              "      <td>59.000000</td>\n",
              "      <td>1.0</td>\n",
              "      <td>NaN</td>\n",
              "      <td>NaN</td>\n",
              "      <td>NaN</td>\n",
              "      <td>NaN</td>\n",
              "      <td>0.000000</td>\n",
              "      <td>0.000000e+00</td>\n",
              "      <td>2.089530e+05</td>\n",
              "      <td>NaN</td>\n",
              "      <td>NaN</td>\n",
              "      <td>NaN</td>\n",
              "      <td>NaN</td>\n",
              "      <td>NaN</td>\n",
              "      <td>NaN</td>\n",
              "      <td>NaN</td>\n",
              "      <td>NaN</td>\n",
              "      <td>NaN</td>\n",
              "      <td>NaN</td>\n",
              "      <td>NaN</td>\n",
              "      <td>3.790000e+04</td>\n",
              "      <td>NaN</td>\n",
              "      <td>NaN</td>\n",
              "      <td>NaN</td>\n",
              "    </tr>\n",
              "    <tr>\n",
              "      <th>max</th>\n",
              "      <td>466284.000000</td>\n",
              "      <td>3.809811e+07</td>\n",
              "      <td>4.086083e+07</td>\n",
              "      <td>35000.000000</td>\n",
              "      <td>35000.000000</td>\n",
              "      <td>35000.000000</td>\n",
              "      <td>NaN</td>\n",
              "      <td>26.060000</td>\n",
              "      <td>1409.990000</td>\n",
              "      <td>NaN</td>\n",
              "      <td>NaN</td>\n",
              "      <td>NaN</td>\n",
              "      <td>NaN</td>\n",
              "      <td>NaN</td>\n",
              "      <td>7.500000e+06</td>\n",
              "      <td>NaN</td>\n",
              "      <td>NaN</td>\n",
              "      <td>NaN</td>\n",
              "      <td>NaN</td>\n",
              "      <td>NaN</td>\n",
              "      <td>NaN</td>\n",
              "      <td>NaN</td>\n",
              "      <td>NaN</td>\n",
              "      <td>NaN</td>\n",
              "      <td>NaN</td>\n",
              "      <td>39.990000</td>\n",
              "      <td>29.000000</td>\n",
              "      <td>NaN</td>\n",
              "      <td>33.000000</td>\n",
              "      <td>188.000000</td>\n",
              "      <td>129.000000</td>\n",
              "      <td>84.000000</td>\n",
              "      <td>63.000000</td>\n",
              "      <td>2.568995e+06</td>\n",
              "      <td>892.300000</td>\n",
              "      <td>156.000000</td>\n",
              "      <td>NaN</td>\n",
              "      <td>32160.380000</td>\n",
              "      <td>32160.380000</td>\n",
              "      <td>57777.579870</td>\n",
              "      <td>57777.580000</td>\n",
              "      <td>35000.030000</td>\n",
              "      <td>24205.620000</td>\n",
              "      <td>358.680000</td>\n",
              "      <td>33520.270000</td>\n",
              "      <td>7002.190000</td>\n",
              "      <td>NaN</td>\n",
              "      <td>36234.440000</td>\n",
              "      <td>NaN</td>\n",
              "      <td>NaN</td>\n",
              "      <td>20.000000</td>\n",
              "      <td>188.000000</td>\n",
              "      <td>1.0</td>\n",
              "      <td>NaN</td>\n",
              "      <td>NaN</td>\n",
              "      <td>NaN</td>\n",
              "      <td>NaN</td>\n",
              "      <td>5.000000</td>\n",
              "      <td>9.152545e+06</td>\n",
              "      <td>8.000078e+06</td>\n",
              "      <td>NaN</td>\n",
              "      <td>NaN</td>\n",
              "      <td>NaN</td>\n",
              "      <td>NaN</td>\n",
              "      <td>NaN</td>\n",
              "      <td>NaN</td>\n",
              "      <td>NaN</td>\n",
              "      <td>NaN</td>\n",
              "      <td>NaN</td>\n",
              "      <td>NaN</td>\n",
              "      <td>NaN</td>\n",
              "      <td>9.999999e+06</td>\n",
              "      <td>NaN</td>\n",
              "      <td>NaN</td>\n",
              "      <td>NaN</td>\n",
              "    </tr>\n",
              "  </tbody>\n",
              "</table>\n",
              "</div>"
            ],
            "text/plain": [
              "           Unnamed: 0            id  ...  total_cu_tl  inq_last_12m\n",
              "count   466285.000000  4.662850e+05  ...          0.0           0.0\n",
              "unique            NaN           NaN  ...          NaN           NaN\n",
              "top               NaN           NaN  ...          NaN           NaN\n",
              "freq              NaN           NaN  ...          NaN           NaN\n",
              "mean    233142.000000  1.307973e+07  ...          NaN           NaN\n",
              "std     134605.029472  1.089371e+07  ...          NaN           NaN\n",
              "min          0.000000  5.473400e+04  ...          NaN           NaN\n",
              "25%     116571.000000  3.639987e+06  ...          NaN           NaN\n",
              "50%     233142.000000  1.010790e+07  ...          NaN           NaN\n",
              "75%     349713.000000  2.073121e+07  ...          NaN           NaN\n",
              "max     466284.000000  3.809811e+07  ...          NaN           NaN\n",
              "\n",
              "[11 rows x 75 columns]"
            ]
          },
          "metadata": {},
          "execution_count": 132
        }
      ]
    },
    {
      "cell_type": "code",
      "metadata": {
        "colab": {
          "base_uri": "https://localhost:8080/"
        },
        "id": "mjrUUZ-AOMLe",
        "outputId": "2fe06366-21f6-4f70-a914-704ca1ebca68"
      },
      "source": [
        "len(df.columns)"
      ],
      "execution_count": 133,
      "outputs": [
        {
          "output_type": "execute_result",
          "data": {
            "text/plain": [
              "75"
            ]
          },
          "metadata": {},
          "execution_count": 133
        }
      ]
    },
    {
      "cell_type": "code",
      "metadata": {
        "id": "vnIrExf6Kyaf"
      },
      "source": [
        "# pd.set_option('display.min_rows', 200)\n",
        "# pd.set_option('display.max_rows', 500)\n",
        "nulls_count_by_column = pd.DataFrame(\n",
        "  df.isnull().sum()  \n",
        ").sort_values(0, ascending=False)"
      ],
      "execution_count": 134,
      "outputs": []
    },
    {
      "cell_type": "code",
      "metadata": {
        "colab": {
          "base_uri": "https://localhost:8080/"
        },
        "id": "BZHo3KOjK2fS",
        "outputId": "e9793954-174c-4129-dd01-ae5e6544bb9e"
      },
      "source": [
        "# variables which are all nulls\n",
        "nulls_count_by_column[nulls_count_by_column[0]==len(df)].index"
      ],
      "execution_count": 135,
      "outputs": [
        {
          "output_type": "execute_result",
          "data": {
            "text/plain": [
              "Index(['inq_last_12m', 'total_bal_il', 'dti_joint',\n",
              "       'verification_status_joint', 'annual_inc_joint', 'open_acc_6m',\n",
              "       'open_il_6m', 'open_il_12m', 'open_il_24m', 'mths_since_rcnt_il',\n",
              "       'il_util', 'open_rv_24m', 'total_cu_tl', 'inq_fi', 'max_bal_bc',\n",
              "       'all_util', 'open_rv_12m'],\n",
              "      dtype='object')"
            ]
          },
          "metadata": {},
          "execution_count": 135
        }
      ]
    },
    {
      "cell_type": "code",
      "metadata": {
        "id": "jmNoCGfsgUpz"
      },
      "source": [
        "# variables which are not all nulls\n",
        "not_null_column_names = list(nulls_count_by_column[nulls_count_by_column[0]!=len(df)].index)"
      ],
      "execution_count": 136,
      "outputs": []
    },
    {
      "cell_type": "code",
      "metadata": {
        "id": "VndRDsDTOhkB"
      },
      "source": [
        "# pd.set_option('display.max_rows', 10)\n",
        "df = df[not_null_column_names]"
      ],
      "execution_count": 137,
      "outputs": []
    },
    {
      "cell_type": "code",
      "metadata": {
        "id": "xE_nBW2cPZqw"
      },
      "source": [
        "def unique_count_in_every_column(data):\n",
        "\n",
        "  column_names = data.columns\n",
        "  count_of_uniques = []\n",
        "\n",
        "  for column in column_names:\n",
        "    count_of_uniques.append(len(data[column].unique()))\n",
        "\n",
        "  final_table = pd.DataFrame({\n",
        "      'column_names': column_names,\n",
        "      'count_of_uniques': count_of_uniques\n",
        "  })\n",
        "  \n",
        "  final_table = final_table.sort_values('count_of_uniques')\n",
        "\n",
        "  return final_table"
      ],
      "execution_count": 138,
      "outputs": []
    },
    {
      "cell_type": "code",
      "metadata": {
        "id": "0TL3dujehUZ8"
      },
      "source": [
        "uniqe_count_by_column = unique_count_in_every_column(df)"
      ],
      "execution_count": 139,
      "outputs": []
    },
    {
      "cell_type": "code",
      "metadata": {
        "colab": {
          "base_uri": "https://localhost:8080/",
          "height": 0
        },
        "id": "XyLlnjxwqF52",
        "outputId": "e584d832-1632-4c71-c16f-1613212654d4"
      },
      "source": [
        "uniqe_count_by_column"
      ],
      "execution_count": 140,
      "outputs": [
        {
          "output_type": "execute_result",
          "data": {
            "text/html": [
              "<div>\n",
              "<style scoped>\n",
              "    .dataframe tbody tr th:only-of-type {\n",
              "        vertical-align: middle;\n",
              "    }\n",
              "\n",
              "    .dataframe tbody tr th {\n",
              "        vertical-align: top;\n",
              "    }\n",
              "\n",
              "    .dataframe thead th {\n",
              "        text-align: right;\n",
              "    }\n",
              "</style>\n",
              "<table border=\"1\" class=\"dataframe\">\n",
              "  <thead>\n",
              "    <tr style=\"text-align: right;\">\n",
              "      <th></th>\n",
              "      <th>column_names</th>\n",
              "      <th>count_of_uniques</th>\n",
              "    </tr>\n",
              "  </thead>\n",
              "  <tbody>\n",
              "    <tr>\n",
              "      <th>24</th>\n",
              "      <td>policy_code</td>\n",
              "      <td>1</td>\n",
              "    </tr>\n",
              "    <tr>\n",
              "      <th>23</th>\n",
              "      <td>application_type</td>\n",
              "      <td>1</td>\n",
              "    </tr>\n",
              "    <tr>\n",
              "      <th>50</th>\n",
              "      <td>initial_list_status</td>\n",
              "      <td>2</td>\n",
              "    </tr>\n",
              "    <tr>\n",
              "      <th>34</th>\n",
              "      <td>term</td>\n",
              "      <td>2</td>\n",
              "    </tr>\n",
              "    <tr>\n",
              "      <th>43</th>\n",
              "      <td>pymnt_plan</td>\n",
              "      <td>2</td>\n",
              "    </tr>\n",
              "    <tr>\n",
              "      <th>40</th>\n",
              "      <td>verification_status</td>\n",
              "      <td>3</td>\n",
              "    </tr>\n",
              "    <tr>\n",
              "      <th>39</th>\n",
              "      <td>home_ownership</td>\n",
              "      <td>6</td>\n",
              "    </tr>\n",
              "    <tr>\n",
              "      <th>19</th>\n",
              "      <td>acc_now_delinq</td>\n",
              "      <td>7</td>\n",
              "    </tr>\n",
              "    <tr>\n",
              "      <th>37</th>\n",
              "      <td>grade</td>\n",
              "      <td>7</td>\n",
              "    </tr>\n",
              "    <tr>\n",
              "      <th>42</th>\n",
              "      <td>loan_status</td>\n",
              "      <td>9</td>\n",
              "    </tr>\n",
              "    <tr>\n",
              "      <th>12</th>\n",
              "      <td>collections_12_mths_ex_med</td>\n",
              "      <td>10</td>\n",
              "    </tr>\n",
              "    <tr>\n",
              "      <th>9</th>\n",
              "      <td>emp_length</td>\n",
              "      <td>12</td>\n",
              "    </tr>\n",
              "    <tr>\n",
              "      <th>45</th>\n",
              "      <td>purpose</td>\n",
              "      <td>14</td>\n",
              "    </tr>\n",
              "    <tr>\n",
              "      <th>16</th>\n",
              "      <td>delinq_2yrs</td>\n",
              "      <td>25</td>\n",
              "    </tr>\n",
              "    <tr>\n",
              "      <th>18</th>\n",
              "      <td>pub_rec</td>\n",
              "      <td>27</td>\n",
              "    </tr>\n",
              "    <tr>\n",
              "      <th>14</th>\n",
              "      <td>inq_last_6mths</td>\n",
              "      <td>29</td>\n",
              "    </tr>\n",
              "    <tr>\n",
              "      <th>38</th>\n",
              "      <td>sub_grade</td>\n",
              "      <td>35</td>\n",
              "    </tr>\n",
              "    <tr>\n",
              "      <th>47</th>\n",
              "      <td>addr_state</td>\n",
              "      <td>50</td>\n",
              "    </tr>\n",
              "    <tr>\n",
              "      <th>17</th>\n",
              "      <td>open_acc</td>\n",
              "      <td>63</td>\n",
              "    </tr>\n",
              "    <tr>\n",
              "      <th>41</th>\n",
              "      <td>issue_d</td>\n",
              "      <td>91</td>\n",
              "    </tr>\n",
              "    <tr>\n",
              "      <th>10</th>\n",
              "      <td>last_pymnt_d</td>\n",
              "      <td>99</td>\n",
              "    </tr>\n",
              "    <tr>\n",
              "      <th>4</th>\n",
              "      <td>next_pymnt_d</td>\n",
              "      <td>101</td>\n",
              "    </tr>\n",
              "    <tr>\n",
              "      <th>13</th>\n",
              "      <td>last_credit_pull_d</td>\n",
              "      <td>104</td>\n",
              "    </tr>\n",
              "    <tr>\n",
              "      <th>20</th>\n",
              "      <td>total_acc</td>\n",
              "      <td>113</td>\n",
              "    </tr>\n",
              "    <tr>\n",
              "      <th>0</th>\n",
              "      <td>mths_since_last_record</td>\n",
              "      <td>124</td>\n",
              "    </tr>\n",
              "    <tr>\n",
              "      <th>3</th>\n",
              "      <td>mths_since_last_delinq</td>\n",
              "      <td>146</td>\n",
              "    </tr>\n",
              "    <tr>\n",
              "      <th>1</th>\n",
              "      <td>mths_since_last_major_derog</td>\n",
              "      <td>163</td>\n",
              "    </tr>\n",
              "    <tr>\n",
              "      <th>35</th>\n",
              "      <td>int_rate</td>\n",
              "      <td>506</td>\n",
              "    </tr>\n",
              "    <tr>\n",
              "      <th>15</th>\n",
              "      <td>earliest_cr_line</td>\n",
              "      <td>665</td>\n",
              "    </tr>\n",
              "    <tr>\n",
              "      <th>46</th>\n",
              "      <td>zip_code</td>\n",
              "      <td>888</td>\n",
              "    </tr>\n",
              "    <tr>\n",
              "      <th>11</th>\n",
              "      <td>revol_util</td>\n",
              "      <td>1270</td>\n",
              "    </tr>\n",
              "    <tr>\n",
              "      <th>31</th>\n",
              "      <td>loan_amnt</td>\n",
              "      <td>1352</td>\n",
              "    </tr>\n",
              "    <tr>\n",
              "      <th>32</th>\n",
              "      <td>funded_amnt</td>\n",
              "      <td>1354</td>\n",
              "    </tr>\n",
              "    <tr>\n",
              "      <th>48</th>\n",
              "      <td>dti</td>\n",
              "      <td>3997</td>\n",
              "    </tr>\n",
              "    <tr>\n",
              "      <th>29</th>\n",
              "      <td>total_rec_late_fee</td>\n",
              "      <td>5808</td>\n",
              "    </tr>\n",
              "    <tr>\n",
              "      <th>6</th>\n",
              "      <td>tot_coll_amt</td>\n",
              "      <td>6322</td>\n",
              "    </tr>\n",
              "    <tr>\n",
              "      <th>33</th>\n",
              "      <td>funded_amnt_inv</td>\n",
              "      <td>9854</td>\n",
              "    </tr>\n",
              "    <tr>\n",
              "      <th>7</th>\n",
              "      <td>total_rev_hi_lim</td>\n",
              "      <td>14613</td>\n",
              "    </tr>\n",
              "    <tr>\n",
              "      <th>25</th>\n",
              "      <td>collection_recovery_fee</td>\n",
              "      <td>20275</td>\n",
              "    </tr>\n",
              "    <tr>\n",
              "      <th>28</th>\n",
              "      <td>recoveries</td>\n",
              "      <td>22773</td>\n",
              "    </tr>\n",
              "    <tr>\n",
              "      <th>22</th>\n",
              "      <td>annual_inc</td>\n",
              "      <td>31902</td>\n",
              "    </tr>\n",
              "    <tr>\n",
              "      <th>36</th>\n",
              "      <td>installment</td>\n",
              "      <td>55622</td>\n",
              "    </tr>\n",
              "    <tr>\n",
              "      <th>49</th>\n",
              "      <td>revol_bal</td>\n",
              "      <td>58142</td>\n",
              "    </tr>\n",
              "    <tr>\n",
              "      <th>21</th>\n",
              "      <td>title</td>\n",
              "      <td>63100</td>\n",
              "    </tr>\n",
              "    <tr>\n",
              "      <th>2</th>\n",
              "      <td>desc</td>\n",
              "      <td>124437</td>\n",
              "    </tr>\n",
              "    <tr>\n",
              "      <th>57</th>\n",
              "      <td>out_prncp</td>\n",
              "      <td>135665</td>\n",
              "    </tr>\n",
              "    <tr>\n",
              "      <th>52</th>\n",
              "      <td>out_prncp_inv</td>\n",
              "      <td>141189</td>\n",
              "    </tr>\n",
              "    <tr>\n",
              "      <th>55</th>\n",
              "      <td>total_rec_prncp</td>\n",
              "      <td>172713</td>\n",
              "    </tr>\n",
              "    <tr>\n",
              "      <th>26</th>\n",
              "      <td>last_pymnt_amnt</td>\n",
              "      <td>198194</td>\n",
              "    </tr>\n",
              "    <tr>\n",
              "      <th>8</th>\n",
              "      <td>emp_title</td>\n",
              "      <td>205476</td>\n",
              "    </tr>\n",
              "    <tr>\n",
              "      <th>5</th>\n",
              "      <td>tot_cur_bal</td>\n",
              "      <td>220691</td>\n",
              "    </tr>\n",
              "    <tr>\n",
              "      <th>56</th>\n",
              "      <td>total_rec_int</td>\n",
              "      <td>270249</td>\n",
              "    </tr>\n",
              "    <tr>\n",
              "      <th>54</th>\n",
              "      <td>total_pymnt_inv</td>\n",
              "      <td>347659</td>\n",
              "    </tr>\n",
              "    <tr>\n",
              "      <th>53</th>\n",
              "      <td>total_pymnt</td>\n",
              "      <td>351609</td>\n",
              "    </tr>\n",
              "    <tr>\n",
              "      <th>51</th>\n",
              "      <td>id</td>\n",
              "      <td>466285</td>\n",
              "    </tr>\n",
              "    <tr>\n",
              "      <th>27</th>\n",
              "      <td>Unnamed: 0</td>\n",
              "      <td>466285</td>\n",
              "    </tr>\n",
              "    <tr>\n",
              "      <th>44</th>\n",
              "      <td>url</td>\n",
              "      <td>466285</td>\n",
              "    </tr>\n",
              "    <tr>\n",
              "      <th>30</th>\n",
              "      <td>member_id</td>\n",
              "      <td>466285</td>\n",
              "    </tr>\n",
              "  </tbody>\n",
              "</table>\n",
              "</div>"
            ],
            "text/plain": [
              "                   column_names  count_of_uniques\n",
              "24                  policy_code                 1\n",
              "23             application_type                 1\n",
              "50          initial_list_status                 2\n",
              "34                         term                 2\n",
              "43                   pymnt_plan                 2\n",
              "40          verification_status                 3\n",
              "39               home_ownership                 6\n",
              "19               acc_now_delinq                 7\n",
              "37                        grade                 7\n",
              "42                  loan_status                 9\n",
              "12   collections_12_mths_ex_med                10\n",
              "9                    emp_length                12\n",
              "45                      purpose                14\n",
              "16                  delinq_2yrs                25\n",
              "18                      pub_rec                27\n",
              "14               inq_last_6mths                29\n",
              "38                    sub_grade                35\n",
              "47                   addr_state                50\n",
              "17                     open_acc                63\n",
              "41                      issue_d                91\n",
              "10                 last_pymnt_d                99\n",
              "4                  next_pymnt_d               101\n",
              "13           last_credit_pull_d               104\n",
              "20                    total_acc               113\n",
              "0        mths_since_last_record               124\n",
              "3        mths_since_last_delinq               146\n",
              "1   mths_since_last_major_derog               163\n",
              "35                     int_rate               506\n",
              "15             earliest_cr_line               665\n",
              "46                     zip_code               888\n",
              "11                   revol_util              1270\n",
              "31                    loan_amnt              1352\n",
              "32                  funded_amnt              1354\n",
              "48                          dti              3997\n",
              "29           total_rec_late_fee              5808\n",
              "6                  tot_coll_amt              6322\n",
              "33              funded_amnt_inv              9854\n",
              "7              total_rev_hi_lim             14613\n",
              "25      collection_recovery_fee             20275\n",
              "28                   recoveries             22773\n",
              "22                   annual_inc             31902\n",
              "36                  installment             55622\n",
              "49                    revol_bal             58142\n",
              "21                        title             63100\n",
              "2                          desc            124437\n",
              "57                    out_prncp            135665\n",
              "52                out_prncp_inv            141189\n",
              "55              total_rec_prncp            172713\n",
              "26              last_pymnt_amnt            198194\n",
              "8                     emp_title            205476\n",
              "5                   tot_cur_bal            220691\n",
              "56                total_rec_int            270249\n",
              "54              total_pymnt_inv            347659\n",
              "53                  total_pymnt            351609\n",
              "51                           id            466285\n",
              "27                   Unnamed: 0            466285\n",
              "44                          url            466285\n",
              "30                    member_id            466285"
            ]
          },
          "metadata": {},
          "execution_count": 140
        }
      ]
    },
    {
      "cell_type": "code",
      "metadata": {
        "id": "wLH332ToqWFg",
        "colab": {
          "base_uri": "https://localhost:8080/",
          "height": 0
        },
        "outputId": "329406ca-dae0-48dc-b99a-33702002d43a"
      },
      "source": [
        "# We have to drop also at least last three columns, because are unique, and not continous\n",
        "# Also we will drop first two columns, because they have only one unique value\n",
        "df['url'][0] # urls require signingin, so no beneficial info it does not contain"
      ],
      "execution_count": 141,
      "outputs": [
        {
          "output_type": "execute_result",
          "data": {
            "application/vnd.google.colaboratory.intrinsic+json": {
              "type": "string"
            },
            "text/plain": [
              "'https://www.lendingclub.com/browse/loanDetail.action?loan_id=1077501'"
            ]
          },
          "metadata": {},
          "execution_count": 141
        }
      ]
    },
    {
      "cell_type": "code",
      "metadata": {
        "id": "z51s8-HmRCFj"
      },
      "source": [
        "# here column names with last three column names dropped\n",
        "working_column_names = list(uniqe_count_by_column['column_names'][2:-3])"
      ],
      "execution_count": 142,
      "outputs": []
    },
    {
      "cell_type": "code",
      "metadata": {
        "id": "UsrIYz9zSE6-"
      },
      "source": [
        "df = df[working_column_names]"
      ],
      "execution_count": 143,
      "outputs": []
    },
    {
      "cell_type": "code",
      "metadata": {
        "colab": {
          "base_uri": "https://localhost:8080/"
        },
        "id": "Oho8Q161SuCW",
        "outputId": "17e35cd9-c043-47d0-9c9a-9edb28191fdd"
      },
      "source": [
        "len(df.columns)"
      ],
      "execution_count": 144,
      "outputs": [
        {
          "output_type": "execute_result",
          "data": {
            "text/plain": [
              "53"
            ]
          },
          "metadata": {},
          "execution_count": 144
        }
      ]
    },
    {
      "cell_type": "markdown",
      "metadata": {
        "id": "2M8-N7-hUKjk"
      },
      "source": [
        "# Preprocessing"
      ]
    },
    {
      "cell_type": "code",
      "metadata": {
        "colab": {
          "base_uri": "https://localhost:8080/",
          "height": 363
        },
        "id": "SfKqDXvPUJVZ",
        "outputId": "b012a547-eb39-416d-e51b-707267c4cce0"
      },
      "source": [
        "unique_count_in_every_column(df).head(10)"
      ],
      "execution_count": 145,
      "outputs": [
        {
          "output_type": "execute_result",
          "data": {
            "text/html": [
              "<div>\n",
              "<style scoped>\n",
              "    .dataframe tbody tr th:only-of-type {\n",
              "        vertical-align: middle;\n",
              "    }\n",
              "\n",
              "    .dataframe tbody tr th {\n",
              "        vertical-align: top;\n",
              "    }\n",
              "\n",
              "    .dataframe thead th {\n",
              "        text-align: right;\n",
              "    }\n",
              "</style>\n",
              "<table border=\"1\" class=\"dataframe\">\n",
              "  <thead>\n",
              "    <tr style=\"text-align: right;\">\n",
              "      <th></th>\n",
              "      <th>column_names</th>\n",
              "      <th>count_of_uniques</th>\n",
              "    </tr>\n",
              "  </thead>\n",
              "  <tbody>\n",
              "    <tr>\n",
              "      <th>0</th>\n",
              "      <td>initial_list_status</td>\n",
              "      <td>2</td>\n",
              "    </tr>\n",
              "    <tr>\n",
              "      <th>1</th>\n",
              "      <td>term</td>\n",
              "      <td>2</td>\n",
              "    </tr>\n",
              "    <tr>\n",
              "      <th>2</th>\n",
              "      <td>pymnt_plan</td>\n",
              "      <td>2</td>\n",
              "    </tr>\n",
              "    <tr>\n",
              "      <th>3</th>\n",
              "      <td>verification_status</td>\n",
              "      <td>3</td>\n",
              "    </tr>\n",
              "    <tr>\n",
              "      <th>4</th>\n",
              "      <td>home_ownership</td>\n",
              "      <td>6</td>\n",
              "    </tr>\n",
              "    <tr>\n",
              "      <th>5</th>\n",
              "      <td>acc_now_delinq</td>\n",
              "      <td>7</td>\n",
              "    </tr>\n",
              "    <tr>\n",
              "      <th>6</th>\n",
              "      <td>grade</td>\n",
              "      <td>7</td>\n",
              "    </tr>\n",
              "    <tr>\n",
              "      <th>7</th>\n",
              "      <td>loan_status</td>\n",
              "      <td>9</td>\n",
              "    </tr>\n",
              "    <tr>\n",
              "      <th>8</th>\n",
              "      <td>collections_12_mths_ex_med</td>\n",
              "      <td>10</td>\n",
              "    </tr>\n",
              "    <tr>\n",
              "      <th>9</th>\n",
              "      <td>emp_length</td>\n",
              "      <td>12</td>\n",
              "    </tr>\n",
              "  </tbody>\n",
              "</table>\n",
              "</div>"
            ],
            "text/plain": [
              "                 column_names  count_of_uniques\n",
              "0         initial_list_status                 2\n",
              "1                        term                 2\n",
              "2                  pymnt_plan                 2\n",
              "3         verification_status                 3\n",
              "4              home_ownership                 6\n",
              "5              acc_now_delinq                 7\n",
              "6                       grade                 7\n",
              "7                 loan_status                 9\n",
              "8  collections_12_mths_ex_med                10\n",
              "9                  emp_length                12"
            ]
          },
          "metadata": {},
          "execution_count": 145
        }
      ]
    },
    {
      "cell_type": "markdown",
      "metadata": {
        "id": "NTlDEx48CBcM"
      },
      "source": [
        "### Employment Length variable"
      ]
    },
    {
      "cell_type": "code",
      "metadata": {
        "colab": {
          "base_uri": "https://localhost:8080/"
        },
        "id": "LWXqiEeoU73V",
        "outputId": "013a47f3-4f22-41ed-f9ca-6a3bbb85a709"
      },
      "source": [
        "list(df['emp_length'].unique())"
      ],
      "execution_count": 146,
      "outputs": [
        {
          "output_type": "execute_result",
          "data": {
            "text/plain": [
              "['10+ years',\n",
              " '< 1 year',\n",
              " '1 year',\n",
              " '3 years',\n",
              " '8 years',\n",
              " '9 years',\n",
              " '4 years',\n",
              " '5 years',\n",
              " '6 years',\n",
              " '2 years',\n",
              " '7 years',\n",
              " nan]"
            ]
          },
          "metadata": {},
          "execution_count": 146
        }
      ]
    },
    {
      "cell_type": "code",
      "metadata": {
        "colab": {
          "base_uri": "https://localhost:8080/"
        },
        "id": "PkeoDctzBKm_",
        "outputId": "875791b2-17a3-475c-d1fa-dd967afa2a0d"
      },
      "source": [
        "df['emp_length'].fillna(0).unique()"
      ],
      "execution_count": 147,
      "outputs": [
        {
          "output_type": "execute_result",
          "data": {
            "text/plain": [
              "array(['10+ years', '< 1 year', '1 year', '3 years', '8 years', '9 years',\n",
              "       '4 years', '5 years', '6 years', '2 years', '7 years', 0],\n",
              "      dtype=object)"
            ]
          },
          "metadata": {},
          "execution_count": 147
        }
      ]
    },
    {
      "cell_type": "code",
      "metadata": {
        "id": "XPPFn41jh7qj"
      },
      "source": [
        "# can use .str.extract('(\\d+)') to parse numbers of column\n",
        "# but nan and <1 values should have 0, but while parsing <1 will have 1\n",
        "df['emp_length'] = df['emp_length'].str.replace('< 1 year', str(0))\n",
        "df['emp_length'].fillna(str(0), inplace=True)"
      ],
      "execution_count": 148,
      "outputs": []
    },
    {
      "cell_type": "code",
      "metadata": {
        "colab": {
          "base_uri": "https://localhost:8080/"
        },
        "id": "QMh3AiTdiJoe",
        "outputId": "5deafd36-1e78-4811-e344-e949e4adb0d1"
      },
      "source": [
        "df['emp_length'].value_counts()"
      ],
      "execution_count": 149,
      "outputs": [
        {
          "output_type": "execute_result",
          "data": {
            "text/plain": [
              "10+ years    150049\n",
              "0             57273\n",
              "2 years       41373\n",
              "3 years       36596\n",
              "5 years       30774\n",
              "1 year        29622\n",
              "4 years       28023\n",
              "7 years       26180\n",
              "6 years       26112\n",
              "8 years       22395\n",
              "9 years       17888\n",
              "Name: emp_length, dtype: int64"
            ]
          },
          "metadata": {},
          "execution_count": 149
        }
      ]
    },
    {
      "cell_type": "code",
      "metadata": {
        "colab": {
          "base_uri": "https://localhost:8080/"
        },
        "id": "FXJ3z-UwVjn0",
        "outputId": "58f053a0-8dc9-4e25-bb35-67d0a0db4b82"
      },
      "source": [
        "list(df['emp_length'].str.extract('(\\d+)')[0].unique())"
      ],
      "execution_count": 150,
      "outputs": [
        {
          "output_type": "execute_result",
          "data": {
            "text/plain": [
              "['10', '0', '1', '3', '8', '9', '4', '5', '6', '2', '7']"
            ]
          },
          "metadata": {},
          "execution_count": 150
        }
      ]
    },
    {
      "cell_type": "code",
      "metadata": {
        "id": "eLOzqjyYZsPr"
      },
      "source": [
        "df['emp_length'] = df['emp_length'].str.extract('(\\d+)')[0]"
      ],
      "execution_count": 151,
      "outputs": []
    },
    {
      "cell_type": "code",
      "metadata": {
        "colab": {
          "base_uri": "https://localhost:8080/"
        },
        "id": "0dAG5CLXcq12",
        "outputId": "9fb6983a-fa67-4384-b3c6-6a64622522cb"
      },
      "source": [
        "df['emp_length'].value_counts()"
      ],
      "execution_count": 152,
      "outputs": [
        {
          "output_type": "execute_result",
          "data": {
            "text/plain": [
              "10    150049\n",
              "0      57273\n",
              "2      41373\n",
              "3      36596\n",
              "5      30774\n",
              "1      29622\n",
              "4      28023\n",
              "7      26180\n",
              "6      26112\n",
              "8      22395\n",
              "9      17888\n",
              "Name: emp_length, dtype: int64"
            ]
          },
          "metadata": {},
          "execution_count": 152
        }
      ]
    },
    {
      "cell_type": "code",
      "metadata": {
        "id": "cP-5W6Iyfypx"
      },
      "source": [
        "df['emp_length'] = pd.to_numeric(df['emp_length'])"
      ],
      "execution_count": 153,
      "outputs": []
    },
    {
      "cell_type": "markdown",
      "metadata": {
        "id": "AOPEc5oCCp5E"
      },
      "source": [
        "### Earliest credit line"
      ]
    },
    {
      "cell_type": "code",
      "metadata": {
        "colab": {
          "base_uri": "https://localhost:8080/",
          "height": 0
        },
        "id": "CeqUIy8NCrUI",
        "outputId": "f78de089-fc72-4ceb-c289-c1ddc6944cf9"
      },
      "source": [
        "df['earliest_cr_line'][0]"
      ],
      "execution_count": 154,
      "outputs": [
        {
          "output_type": "execute_result",
          "data": {
            "application/vnd.google.colaboratory.intrinsic+json": {
              "type": "string"
            },
            "text/plain": [
              "'Jan-85'"
            ]
          },
          "metadata": {},
          "execution_count": 154
        }
      ]
    },
    {
      "cell_type": "code",
      "metadata": {
        "colab": {
          "base_uri": "https://localhost:8080/"
        },
        "id": "6xCa2DGTC5y4",
        "outputId": "f42abbf8-8e70-40d2-b960-6c0889276312"
      },
      "source": [
        "df['earliest_cr_line']"
      ],
      "execution_count": 155,
      "outputs": [
        {
          "output_type": "execute_result",
          "data": {
            "text/plain": [
              "0         Jan-85\n",
              "1         Apr-99\n",
              "2         Nov-01\n",
              "3         Feb-96\n",
              "4         Jan-96\n",
              "           ...  \n",
              "466280    Apr-03\n",
              "466281    Jun-97\n",
              "466282    Dec-01\n",
              "466283    Feb-03\n",
              "466284    Feb-00\n",
              "Name: earliest_cr_line, Length: 466285, dtype: object"
            ]
          },
          "metadata": {},
          "execution_count": 155
        }
      ]
    },
    {
      "cell_type": "code",
      "metadata": {
        "id": "GTwJ_9k3DcOH"
      },
      "source": [
        "earliest_credit_line_1 = pd.to_datetime(df['earliest_cr_line'], format = '%b-%y')"
      ],
      "execution_count": 156,
      "outputs": []
    },
    {
      "cell_type": "code",
      "metadata": {
        "colab": {
          "base_uri": "https://localhost:8080/"
        },
        "id": "qEVOAKPREn0L",
        "outputId": "7eecb293-3959-47a8-adf8-bd54aa0b8581"
      },
      "source": [
        "earliest_credit_line_1"
      ],
      "execution_count": 157,
      "outputs": [
        {
          "output_type": "execute_result",
          "data": {
            "text/plain": [
              "0        1985-01-01\n",
              "1        1999-04-01\n",
              "2        2001-11-01\n",
              "3        1996-02-01\n",
              "4        1996-01-01\n",
              "            ...    \n",
              "466280   2003-04-01\n",
              "466281   1997-06-01\n",
              "466282   2001-12-01\n",
              "466283   2003-02-01\n",
              "466284   2000-02-01\n",
              "Name: earliest_cr_line, Length: 466285, dtype: datetime64[ns]"
            ]
          },
          "metadata": {},
          "execution_count": 157
        }
      ]
    },
    {
      "cell_type": "code",
      "metadata": {
        "colab": {
          "base_uri": "https://localhost:8080/"
        },
        "id": "EoYFxnBvEpez",
        "outputId": "4f481932-ecb9-46bb-f746-50cda70b4603"
      },
      "source": [
        "max(earliest_credit_line_1) # here we can spot the problem"
      ],
      "execution_count": 158,
      "outputs": [
        {
          "output_type": "execute_result",
          "data": {
            "text/plain": [
              "Timestamp('2068-12-01 00:00:00')"
            ]
          },
          "metadata": {},
          "execution_count": 158
        }
      ]
    },
    {
      "cell_type": "code",
      "metadata": {
        "colab": {
          "base_uri": "https://localhost:8080/"
        },
        "id": "d4PtCB7KEsUj",
        "outputId": "8c9dffb5-71c9-4c42-d8a4-a1e527ab7049"
      },
      "source": [
        "min(earliest_credit_line_1)"
      ],
      "execution_count": 159,
      "outputs": [
        {
          "output_type": "execute_result",
          "data": {
            "text/plain": [
              "Timestamp('1969-01-01 00:00:00')"
            ]
          },
          "metadata": {},
          "execution_count": 159
        }
      ]
    },
    {
      "cell_type": "code",
      "metadata": {
        "id": "9VOxCeIjG98e"
      },
      "source": [
        "df['earliest_credit_line_1'] = earliest_credit_line_1"
      ],
      "execution_count": 160,
      "outputs": []
    },
    {
      "cell_type": "code",
      "metadata": {
        "colab": {
          "base_uri": "https://localhost:8080/"
        },
        "id": "smcWaCAzMl4p",
        "outputId": "d6af749b-b3b5-4061-f489-389ff26be723"
      },
      "source": [
        "df['earliest_credit_line_1'][0]"
      ],
      "execution_count": 161,
      "outputs": [
        {
          "output_type": "execute_result",
          "data": {
            "text/plain": [
              "Timestamp('1985-01-01 00:00:00')"
            ]
          },
          "metadata": {},
          "execution_count": 161
        }
      ]
    },
    {
      "cell_type": "code",
      "metadata": {
        "colab": {
          "base_uri": "https://localhost:8080/",
          "height": 0
        },
        "id": "6YDsOL7pEu03",
        "outputId": "18d2bcf8-2aba-4bfb-c490-c0a98593226d"
      },
      "source": [
        "plt.hist(df['earliest_credit_line_1'])\n",
        "# plt.xlim(left = np.datetime64('2014-01-01'))"
      ],
      "execution_count": 162,
      "outputs": [
        {
          "output_type": "execute_result",
          "data": {
            "text/plain": [
              "(array([9.15400e+03, 4.52340e+04, 1.73251e+05, 2.29984e+05, 7.46400e+03,\n",
              "        0.00000e+00, 0.00000e+00, 4.00000e+00, 4.80000e+01, 1.11700e+03]),\n",
              " array([718798. , 722447.4, 726096.8, 729746.2, 733395.6, 737045. ,\n",
              "        740694.4, 744343.8, 747993.2, 751642.6, 755292. ]),\n",
              " <a list of 10 Patch objects>)"
            ]
          },
          "metadata": {},
          "execution_count": 162
        },
        {
          "output_type": "display_data",
          "data": {
            "image/png": "[encoded data removed]",
            "text/plain": [
              "<Figure size 432x288 with 1 Axes>"
            ]
          },
          "metadata": {}
        }
      ]
    },
    {
      "cell_type": "code",
      "metadata": {
        "colab": {
          "base_uri": "https://localhost:8080/",
          "height": 0
        },
        "id": "3LgbfBqKHttK",
        "outputId": "f4900da4-0246-41c1-f045-73f2db4b6788"
      },
      "source": [
        "plt.hist(\n",
        "    df[df['earliest_credit_line_1'] > np.datetime64('2015-01-01')]['earliest_credit_line_1']\n",
        ")"
      ],
      "execution_count": 163,
      "outputs": [
        {
          "output_type": "execute_result",
          "data": {
            "text/plain": [
              "(array([  2.,   2.,   7.,   4.,  13.,  24.,  75., 136., 322., 584.]),\n",
              " array([746191. , 747101.1, 748011.2, 748921.3, 749831.4, 750741.5,\n",
              "        751651.6, 752561.7, 753471.8, 754381.9, 755292. ]),\n",
              " <a list of 10 Patch objects>)"
            ]
          },
          "metadata": {},
          "execution_count": 163
        },
        {
          "output_type": "display_data",
          "data": {
            "image/png": "[encoded data removed]",
            "text/plain": [
              "<Figure size 432x288 with 1 Axes>"
            ]
          },
          "metadata": {}
        }
      ]
    },
    {
      "cell_type": "code",
      "metadata": {
        "colab": {
          "base_uri": "https://localhost:8080/"
        },
        "id": "jMXXENgVIKGB",
        "outputId": "ff3d777d-4f05-4159-8cae-b7314ec3ca28"
      },
      "source": [
        "# So we have to subtract 100 years from dates higher than 2015 (because our data was till 2014)\n",
        "df[df['earliest_credit_line_1'] > np.datetime64('2015-01-01')]['earliest_credit_line_1'].iloc[0].date()"
      ],
      "execution_count": 164,
      "outputs": [
        {
          "output_type": "execute_result",
          "data": {
            "text/plain": [
              "datetime.date(2062, 9, 1)"
            ]
          },
          "metadata": {},
          "execution_count": 164
        }
      ]
    },
    {
      "cell_type": "code",
      "metadata": {
        "id": "XaklEcT5LPWs"
      },
      "source": [
        "hundred_years = 75*365 + 25*366"
      ],
      "execution_count": 165,
      "outputs": []
    },
    {
      "cell_type": "code",
      "metadata": {
        "id": "5A5_qXdrPIEX"
      },
      "source": [
        "from datetime import timedelta"
      ],
      "execution_count": 166,
      "outputs": []
    },
    {
      "cell_type": "code",
      "metadata": {
        "colab": {
          "base_uri": "https://localhost:8080/"
        },
        "id": "4UXy-clcJ_TO",
        "outputId": "d3406dc1-c278-43b5-b042-d43b659aacb5"
      },
      "source": [
        "# example\n",
        "pd.to_datetime(df[df['earliest_credit_line_1'] > \n",
        "   np.datetime64('2015-01-01')]['earliest_credit_line_1'].iloc[0].date() - timedelta(days = hundred_years))"
      ],
      "execution_count": 167,
      "outputs": [
        {
          "output_type": "execute_result",
          "data": {
            "text/plain": [
              "Timestamp('1962-09-01 00:00:00')"
            ]
          },
          "metadata": {},
          "execution_count": 167
        }
      ]
    },
    {
      "cell_type": "code",
      "metadata": {
        "id": "W46190-0LXl5"
      },
      "source": [
        "df['earliest_credit_line_2'] = df['earliest_credit_line_1'].apply(lambda x : \n",
        "                                   x.date() - timedelta(days = hundred_years) \n",
        "                                   if x > np.datetime64('2015-01-01')\n",
        "                                   else x)"
      ],
      "execution_count": 168,
      "outputs": []
    },
    {
      "cell_type": "code",
      "metadata": {
        "colab": {
          "base_uri": "https://localhost:8080/"
        },
        "id": "4wjHazzSgcuo",
        "outputId": "327c78f9-203d-44cc-df10-5b1fb3b54a4b"
      },
      "source": [
        "print(max(df['earliest_credit_line_1']))\n",
        "print(max(df['earliest_credit_line_2']))"
      ],
      "execution_count": 169,
      "outputs": [
        {
          "output_type": "stream",
          "name": "stdout",
          "text": [
            "2068-12-01 00:00:00\n",
            "2011-11-01 00:00:00\n"
          ]
        }
      ]
    },
    {
      "cell_type": "code",
      "metadata": {
        "colab": {
          "base_uri": "https://localhost:8080/"
        },
        "id": "TAD-qx5Jgp9B",
        "outputId": "2486bfb1-28b0-4dc4-fe4b-443df01ee2b9"
      },
      "source": [
        "print(min(df['earliest_credit_line_1']))\n",
        "print(min(df['earliest_credit_line_2']))"
      ],
      "execution_count": 170,
      "outputs": [
        {
          "output_type": "stream",
          "name": "stdout",
          "text": [
            "1969-01-01 00:00:00\n",
            "1944-01-01 00:00:00\n"
          ]
        }
      ]
    },
    {
      "cell_type": "code",
      "metadata": {
        "colab": {
          "base_uri": "https://localhost:8080/"
        },
        "id": "8SINAIwDhvA6",
        "outputId": "0ff89bc6-585a-466e-ce3b-db641e73acd9"
      },
      "source": [
        "len(df.columns)"
      ],
      "execution_count": 171,
      "outputs": [
        {
          "output_type": "execute_result",
          "data": {
            "text/plain": [
              "55"
            ]
          },
          "metadata": {},
          "execution_count": 171
        }
      ]
    },
    {
      "cell_type": "code",
      "metadata": {
        "colab": {
          "base_uri": "https://localhost:8080/"
        },
        "id": "JkMX6gL9hs5M",
        "outputId": "e04bb1c9-e3a6-403f-e0c1-c135ed93ff15"
      },
      "source": [
        "# Let's calculate difference between now and earliest credit line in months\n",
        "((np.datetime64('2022-01-01') - df['earliest_credit_line_2'][0])/30).days # for one value"
      ],
      "execution_count": 172,
      "outputs": [
        {
          "output_type": "execute_result",
          "data": {
            "text/plain": [
              "450"
            ]
          },
          "metadata": {},
          "execution_count": 172
        }
      ]
    },
    {
      "cell_type": "code",
      "metadata": {
        "id": "Qvuk6JpfjsoQ"
      },
      "source": [
        "# earliest_credit_line_3 is the variable shows time difference in months between 2022-01-01 and earliest_credit_line\n",
        "df['earliest_credit_line_3'] = df['earliest_credit_line_2'].apply(\n",
        "    lambda x: (\n",
        "        (np.datetime64('2022-01-01')-x)/30\n",
        "    ).days\n",
        "  )"
      ],
      "execution_count": 173,
      "outputs": []
    },
    {
      "cell_type": "code",
      "metadata": {
        "id": "jpOqMag6gxVf"
      },
      "source": [
        "# so we can drop 'earliest_cr_line' and 'earliest_credit_line_1'\n",
        "df.drop(labels=['earliest_credit_line_1', 'earliest_cr_line'], axis=1, inplace=True)"
      ],
      "execution_count": 174,
      "outputs": []
    },
    {
      "cell_type": "markdown",
      "metadata": {
        "id": "gK-wOUrfipKy"
      },
      "source": [
        "### Term variable"
      ]
    },
    {
      "cell_type": "code",
      "metadata": {
        "colab": {
          "base_uri": "https://localhost:8080/"
        },
        "id": "xBwzje5wivHj",
        "outputId": "4bca6b1a-6203-4ddd-eccf-5846cfd5ba61"
      },
      "source": [
        "df['term'].value_counts()"
      ],
      "execution_count": 175,
      "outputs": [
        {
          "output_type": "execute_result",
          "data": {
            "text/plain": [
              " 36 months    337953\n",
              " 60 months    128332\n",
              "Name: term, dtype: int64"
            ]
          },
          "metadata": {},
          "execution_count": 175
        }
      ]
    },
    {
      "cell_type": "code",
      "metadata": {
        "colab": {
          "base_uri": "https://localhost:8080/"
        },
        "id": "kpdxpP5CkmUA",
        "outputId": "4b9468d8-2ea3-4f3b-a4d8-16011acbfb97"
      },
      "source": [
        "df['term'].unique()"
      ],
      "execution_count": 176,
      "outputs": [
        {
          "output_type": "execute_result",
          "data": {
            "text/plain": [
              "array([' 36 months', ' 60 months'], dtype=object)"
            ]
          },
          "metadata": {},
          "execution_count": 176
        }
      ]
    },
    {
      "cell_type": "code",
      "metadata": {
        "colab": {
          "base_uri": "https://localhost:8080/"
        },
        "id": "vzp75g30kqxj",
        "outputId": "5e6279ac-9522-4a0b-991b-d54d7ef417e5"
      },
      "source": [
        "df['term'].describe()"
      ],
      "execution_count": 177,
      "outputs": [
        {
          "output_type": "execute_result",
          "data": {
            "text/plain": [
              "count         466285\n",
              "unique             2\n",
              "top        36 months\n",
              "freq          337953\n",
              "Name: term, dtype: object"
            ]
          },
          "metadata": {},
          "execution_count": 177
        }
      ]
    },
    {
      "cell_type": "code",
      "metadata": {
        "id": "IhB770KNkwhm"
      },
      "source": [
        "term_df = pd.get_dummies(df['term'], prefix = 'term', prefix_sep = ':', \n",
        "               #drop_first=True\n",
        "               )"
      ],
      "execution_count": 178,
      "outputs": []
    },
    {
      "cell_type": "code",
      "metadata": {
        "id": "JKV2eBtolNE9"
      },
      "source": [
        "df = pd.concat([df, term_df], axis=1) # we use [] to show two dataframes"
      ],
      "execution_count": 179,
      "outputs": []
    },
    {
      "cell_type": "code",
      "metadata": {
        "id": "x1m-v1mLmQkx"
      },
      "source": [
        "df.drop('term', inplace=True, axis = 1) # if we drop one column we dont use [], we use [] if we have two columns"
      ],
      "execution_count": 180,
      "outputs": []
    },
    {
      "cell_type": "code",
      "metadata": {
        "id": "46EI8aivmpzw"
      },
      "source": [
        ""
      ],
      "execution_count": 180,
      "outputs": []
    },
    {
      "cell_type": "markdown",
      "metadata": {
        "id": "6-GE59LonGvH"
      },
      "source": [
        "### Issue date"
      ]
    },
    {
      "cell_type": "code",
      "metadata": {
        "colab": {
          "base_uri": "https://localhost:8080/"
        },
        "id": "_HByZ9Jhre_F",
        "outputId": "5d87dc33-c2ba-4f6b-b63d-6785a1a70e8f"
      },
      "source": [
        "df['issue_d'].describe()"
      ],
      "execution_count": 181,
      "outputs": [
        {
          "output_type": "execute_result",
          "data": {
            "text/plain": [
              "count     466285\n",
              "unique        91\n",
              "top       Oct-14\n",
              "freq       38782\n",
              "Name: issue_d, dtype: object"
            ]
          },
          "metadata": {},
          "execution_count": 181
        }
      ]
    },
    {
      "cell_type": "code",
      "metadata": {
        "colab": {
          "base_uri": "https://localhost:8080/"
        },
        "id": "plGRO_8lrjSc",
        "outputId": "0fee9726-e5e7-4dad-aec0-6c437becf678"
      },
      "source": [
        "df['issue_d'].isna().sum()"
      ],
      "execution_count": 182,
      "outputs": [
        {
          "output_type": "execute_result",
          "data": {
            "text/plain": [
              "0"
            ]
          },
          "metadata": {},
          "execution_count": 182
        }
      ]
    },
    {
      "cell_type": "code",
      "metadata": {
        "id": "nDrBUG8Pr86L"
      },
      "source": [
        "df['issue_date_1'] = pd.to_datetime(df['issue_d'], format = '%b-%y')"
      ],
      "execution_count": 183,
      "outputs": []
    },
    {
      "cell_type": "code",
      "metadata": {
        "id": "Ney2LqgosGkI"
      },
      "source": [
        "df['issue_date_2'] = df['issue_date_1'].apply(\n",
        "    lambda x: round(np.float((\n",
        "        (np.datetime64('2022-01-01') - x).days\n",
        "    )/30))\n",
        ")"
      ],
      "execution_count": 184,
      "outputs": []
    },
    {
      "cell_type": "code",
      "metadata": {
        "id": "Ugb8s1pTu7LZ"
      },
      "source": [
        "df.drop('issue_d', axis=1, inplace=True)"
      ],
      "execution_count": 185,
      "outputs": []
    },
    {
      "cell_type": "code",
      "metadata": {
        "id": "aU16gyp_vBIK"
      },
      "source": [
        ""
      ],
      "execution_count": 185,
      "outputs": []
    },
    {
      "cell_type": "markdown",
      "metadata": {
        "id": "L05rXYtjvl_1"
      },
      "source": [
        "### Some discrete variables"
      ]
    },
    {
      "cell_type": "code",
      "metadata": {
        "colab": {
          "base_uri": "https://localhost:8080/",
          "height": 677
        },
        "id": "IhnAqYJDvpM8",
        "outputId": "e03f7b23-f5eb-451a-e515-59dfffaf30a3"
      },
      "source": [
        "unique_count_in_every_column(df).head(20)"
      ],
      "execution_count": 186,
      "outputs": [
        {
          "output_type": "execute_result",
          "data": {
            "text/html": [
              "<div>\n",
              "<style scoped>\n",
              "    .dataframe tbody tr th:only-of-type {\n",
              "        vertical-align: middle;\n",
              "    }\n",
              "\n",
              "    .dataframe tbody tr th {\n",
              "        vertical-align: top;\n",
              "    }\n",
              "\n",
              "    .dataframe thead th {\n",
              "        text-align: right;\n",
              "    }\n",
              "</style>\n",
              "<table border=\"1\" class=\"dataframe\">\n",
              "  <thead>\n",
              "    <tr style=\"text-align: right;\">\n",
              "      <th></th>\n",
              "      <th>column_names</th>\n",
              "      <th>count_of_uniques</th>\n",
              "    </tr>\n",
              "  </thead>\n",
              "  <tbody>\n",
              "    <tr>\n",
              "      <th>0</th>\n",
              "      <td>initial_list_status</td>\n",
              "      <td>2</td>\n",
              "    </tr>\n",
              "    <tr>\n",
              "      <th>53</th>\n",
              "      <td>term: 60 months</td>\n",
              "      <td>2</td>\n",
              "    </tr>\n",
              "    <tr>\n",
              "      <th>52</th>\n",
              "      <td>term: 36 months</td>\n",
              "      <td>2</td>\n",
              "    </tr>\n",
              "    <tr>\n",
              "      <th>1</th>\n",
              "      <td>pymnt_plan</td>\n",
              "      <td>2</td>\n",
              "    </tr>\n",
              "    <tr>\n",
              "      <th>2</th>\n",
              "      <td>verification_status</td>\n",
              "      <td>3</td>\n",
              "    </tr>\n",
              "    <tr>\n",
              "      <th>3</th>\n",
              "      <td>home_ownership</td>\n",
              "      <td>6</td>\n",
              "    </tr>\n",
              "    <tr>\n",
              "      <th>4</th>\n",
              "      <td>acc_now_delinq</td>\n",
              "      <td>7</td>\n",
              "    </tr>\n",
              "    <tr>\n",
              "      <th>5</th>\n",
              "      <td>grade</td>\n",
              "      <td>7</td>\n",
              "    </tr>\n",
              "    <tr>\n",
              "      <th>6</th>\n",
              "      <td>loan_status</td>\n",
              "      <td>9</td>\n",
              "    </tr>\n",
              "    <tr>\n",
              "      <th>7</th>\n",
              "      <td>collections_12_mths_ex_med</td>\n",
              "      <td>10</td>\n",
              "    </tr>\n",
              "    <tr>\n",
              "      <th>8</th>\n",
              "      <td>emp_length</td>\n",
              "      <td>11</td>\n",
              "    </tr>\n",
              "    <tr>\n",
              "      <th>9</th>\n",
              "      <td>purpose</td>\n",
              "      <td>14</td>\n",
              "    </tr>\n",
              "    <tr>\n",
              "      <th>10</th>\n",
              "      <td>delinq_2yrs</td>\n",
              "      <td>25</td>\n",
              "    </tr>\n",
              "    <tr>\n",
              "      <th>11</th>\n",
              "      <td>pub_rec</td>\n",
              "      <td>27</td>\n",
              "    </tr>\n",
              "    <tr>\n",
              "      <th>12</th>\n",
              "      <td>inq_last_6mths</td>\n",
              "      <td>29</td>\n",
              "    </tr>\n",
              "    <tr>\n",
              "      <th>13</th>\n",
              "      <td>sub_grade</td>\n",
              "      <td>35</td>\n",
              "    </tr>\n",
              "    <tr>\n",
              "      <th>14</th>\n",
              "      <td>addr_state</td>\n",
              "      <td>50</td>\n",
              "    </tr>\n",
              "    <tr>\n",
              "      <th>15</th>\n",
              "      <td>open_acc</td>\n",
              "      <td>63</td>\n",
              "    </tr>\n",
              "    <tr>\n",
              "      <th>55</th>\n",
              "      <td>issue_date_2</td>\n",
              "      <td>90</td>\n",
              "    </tr>\n",
              "    <tr>\n",
              "      <th>54</th>\n",
              "      <td>issue_date_1</td>\n",
              "      <td>91</td>\n",
              "    </tr>\n",
              "  </tbody>\n",
              "</table>\n",
              "</div>"
            ],
            "text/plain": [
              "                  column_names  count_of_uniques\n",
              "0          initial_list_status                 2\n",
              "53             term: 60 months                 2\n",
              "52             term: 36 months                 2\n",
              "1                   pymnt_plan                 2\n",
              "2          verification_status                 3\n",
              "3               home_ownership                 6\n",
              "4               acc_now_delinq                 7\n",
              "5                        grade                 7\n",
              "6                  loan_status                 9\n",
              "7   collections_12_mths_ex_med                10\n",
              "8                   emp_length                11\n",
              "9                      purpose                14\n",
              "10                 delinq_2yrs                25\n",
              "11                     pub_rec                27\n",
              "12              inq_last_6mths                29\n",
              "13                   sub_grade                35\n",
              "14                  addr_state                50\n",
              "15                    open_acc                63\n",
              "55                issue_date_2                90\n",
              "54                issue_date_1                91"
            ]
          },
          "metadata": {},
          "execution_count": 186
        }
      ]
    },
    {
      "cell_type": "code",
      "metadata": {
        "scrolled": true,
        "id": "sO27e5ZTPTnO"
      },
      "source": [
        "dummies = [pd.get_dummies(df['grade'], prefix = 'grade', prefix_sep = ':'),\n",
        "          pd.get_dummies(df['sub_grade'], prefix = 'sub_grade', prefix_sep = ':'),\n",
        "          pd.get_dummies(df['home_ownership'], prefix = 'home_ownership', prefix_sep = ':'),\n",
        "          pd.get_dummies(df['verification_status'], prefix = 'verification_status', prefix_sep = ':'),\n",
        "          pd.get_dummies(df['loan_status'], prefix = 'loan_status', prefix_sep = ':'),\n",
        "          pd.get_dummies(df['purpose'], prefix = 'purpose', prefix_sep = ':'),\n",
        "          pd.get_dummies(df['addr_state'], prefix = 'addr_state', prefix_sep = ':'),\n",
        "          pd.get_dummies(df['initial_list_status'], prefix = 'initial_list_status', prefix_sep = ':')]"
      ],
      "execution_count": 187,
      "outputs": []
    },
    {
      "cell_type": "code",
      "metadata": {
        "id": "zIz1KFgqwnKu"
      },
      "source": [
        "# df.drop(\n",
        "#     ['grade', 'sub_grade', 'home_ownership', 'verification_status', \n",
        "#      # 'loan_status', \n",
        "#      'purpose', 'addr_state', 'initial_list_status'], \n",
        "#      axis = 1, inplace = True\n",
        "# )"
      ],
      "execution_count": 188,
      "outputs": []
    },
    {
      "cell_type": "code",
      "metadata": {
        "id": "7L0O-G8Axgsh"
      },
      "source": [
        "dummies = pd.concat(dummies, axis=1)"
      ],
      "execution_count": 189,
      "outputs": []
    },
    {
      "cell_type": "code",
      "metadata": {
        "id": "8LKxtP_bxU6V"
      },
      "source": [
        "df = pd.concat([df, dummies], axis=1)"
      ],
      "execution_count": 190,
      "outputs": []
    },
    {
      "cell_type": "code",
      "metadata": {
        "colab": {
          "base_uri": "https://localhost:8080/"
        },
        "id": "GSuqc2fhxeY0",
        "outputId": "ab2faf63-873d-4224-c616-f2e9f65aadd0"
      },
      "source": [
        "len(df.columns)"
      ],
      "execution_count": 191,
      "outputs": [
        {
          "output_type": "execute_result",
          "data": {
            "text/plain": [
              "182"
            ]
          },
          "metadata": {},
          "execution_count": 191
        }
      ]
    },
    {
      "cell_type": "markdown",
      "metadata": {
        "id": "qVPa6TOw2I8C"
      },
      "source": [
        "### Working with missing values"
      ]
    },
    {
      "cell_type": "code",
      "metadata": {
        "id": "YQH0ygEYyquY",
        "colab": {
          "base_uri": "https://localhost:8080/",
          "height": 833
        },
        "outputId": "65723624-eaa0-404a-9787-2b39c9072e6c"
      },
      "source": [
        "# Variables which are missing and we need for analysis are: \n",
        "# total_rev_hi_lim, annual_inc, mths_since_earliest_cr_line, acc_now_delinq, total_acc\n",
        "# pub_rec, open_acc, inq_last_6mths, delinq_2yrs, emp_length_int\n",
        "pd.DataFrame(\n",
        "    df.isna().sum()\n",
        ").sort_values(by=0, ascending=False).head(25)"
      ],
      "execution_count": 192,
      "outputs": [
        {
          "output_type": "execute_result",
          "data": {
            "text/html": [
              "<div>\n",
              "<style scoped>\n",
              "    .dataframe tbody tr th:only-of-type {\n",
              "        vertical-align: middle;\n",
              "    }\n",
              "\n",
              "    .dataframe tbody tr th {\n",
              "        vertical-align: top;\n",
              "    }\n",
              "\n",
              "    .dataframe thead th {\n",
              "        text-align: right;\n",
              "    }\n",
              "</style>\n",
              "<table border=\"1\" class=\"dataframe\">\n",
              "  <thead>\n",
              "    <tr style=\"text-align: right;\">\n",
              "      <th></th>\n",
              "      <th>0</th>\n",
              "    </tr>\n",
              "  </thead>\n",
              "  <tbody>\n",
              "    <tr>\n",
              "      <th>mths_since_last_record</th>\n",
              "      <td>403647</td>\n",
              "    </tr>\n",
              "    <tr>\n",
              "      <th>mths_since_last_major_derog</th>\n",
              "      <td>367311</td>\n",
              "    </tr>\n",
              "    <tr>\n",
              "      <th>desc</th>\n",
              "      <td>340302</td>\n",
              "    </tr>\n",
              "    <tr>\n",
              "      <th>mths_since_last_delinq</th>\n",
              "      <td>250351</td>\n",
              "    </tr>\n",
              "    <tr>\n",
              "      <th>next_pymnt_d</th>\n",
              "      <td>227214</td>\n",
              "    </tr>\n",
              "    <tr>\n",
              "      <th>tot_cur_bal</th>\n",
              "      <td>70276</td>\n",
              "    </tr>\n",
              "    <tr>\n",
              "      <th>total_rev_hi_lim</th>\n",
              "      <td>70276</td>\n",
              "    </tr>\n",
              "    <tr>\n",
              "      <th>tot_coll_amt</th>\n",
              "      <td>70276</td>\n",
              "    </tr>\n",
              "    <tr>\n",
              "      <th>emp_title</th>\n",
              "      <td>27588</td>\n",
              "    </tr>\n",
              "    <tr>\n",
              "      <th>last_pymnt_d</th>\n",
              "      <td>376</td>\n",
              "    </tr>\n",
              "    <tr>\n",
              "      <th>revol_util</th>\n",
              "      <td>340</td>\n",
              "    </tr>\n",
              "    <tr>\n",
              "      <th>collections_12_mths_ex_med</th>\n",
              "      <td>145</td>\n",
              "    </tr>\n",
              "    <tr>\n",
              "      <th>last_credit_pull_d</th>\n",
              "      <td>42</td>\n",
              "    </tr>\n",
              "    <tr>\n",
              "      <th>earliest_credit_line_2</th>\n",
              "      <td>29</td>\n",
              "    </tr>\n",
              "    <tr>\n",
              "      <th>acc_now_delinq</th>\n",
              "      <td>29</td>\n",
              "    </tr>\n",
              "    <tr>\n",
              "      <th>total_acc</th>\n",
              "      <td>29</td>\n",
              "    </tr>\n",
              "    <tr>\n",
              "      <th>earliest_credit_line_3</th>\n",
              "      <td>29</td>\n",
              "    </tr>\n",
              "    <tr>\n",
              "      <th>open_acc</th>\n",
              "      <td>29</td>\n",
              "    </tr>\n",
              "    <tr>\n",
              "      <th>inq_last_6mths</th>\n",
              "      <td>29</td>\n",
              "    </tr>\n",
              "    <tr>\n",
              "      <th>pub_rec</th>\n",
              "      <td>29</td>\n",
              "    </tr>\n",
              "    <tr>\n",
              "      <th>delinq_2yrs</th>\n",
              "      <td>29</td>\n",
              "    </tr>\n",
              "    <tr>\n",
              "      <th>title</th>\n",
              "      <td>20</td>\n",
              "    </tr>\n",
              "    <tr>\n",
              "      <th>annual_inc</th>\n",
              "      <td>4</td>\n",
              "    </tr>\n",
              "    <tr>\n",
              "      <th>addr_state:CT</th>\n",
              "      <td>0</td>\n",
              "    </tr>\n",
              "    <tr>\n",
              "      <th>purpose:renewable_energy</th>\n",
              "      <td>0</td>\n",
              "    </tr>\n",
              "  </tbody>\n",
              "</table>\n",
              "</div>"
            ],
            "text/plain": [
              "                                  0\n",
              "mths_since_last_record       403647\n",
              "mths_since_last_major_derog  367311\n",
              "desc                         340302\n",
              "mths_since_last_delinq       250351\n",
              "next_pymnt_d                 227214\n",
              "tot_cur_bal                   70276\n",
              "total_rev_hi_lim              70276\n",
              "tot_coll_amt                  70276\n",
              "emp_title                     27588\n",
              "last_pymnt_d                    376\n",
              "revol_util                      340\n",
              "collections_12_mths_ex_med      145\n",
              "last_credit_pull_d               42\n",
              "earliest_credit_line_2           29\n",
              "acc_now_delinq                   29\n",
              "total_acc                        29\n",
              "earliest_credit_line_3           29\n",
              "open_acc                         29\n",
              "inq_last_6mths                   29\n",
              "pub_rec                          29\n",
              "delinq_2yrs                      29\n",
              "title                            20\n",
              "annual_inc                        4\n",
              "addr_state:CT                     0\n",
              "purpose:renewable_energy          0"
            ]
          },
          "metadata": {},
          "execution_count": 192
        }
      ]
    },
    {
      "cell_type": "code",
      "metadata": {
        "id": "4-TKcfFx-5cz"
      },
      "source": [
        "df['total_rev_hi_lim'].fillna(df['funded_amnt'], inplace=True) # imputes with respective value of funded_amnt"
      ],
      "execution_count": 193,
      "outputs": []
    },
    {
      "cell_type": "code",
      "metadata": {
        "id": "DDfxj8K_-wu7"
      },
      "source": [
        "df['annual_inc'].fillna(df['annual_inc'].mean(), inplace=True)"
      ],
      "execution_count": 194,
      "outputs": []
    },
    {
      "cell_type": "code",
      "metadata": {
        "id": "HJ8neODK2vpq"
      },
      "source": [
        "df['earliest_credit_line_2'].fillna(0, inplace=True)\n",
        "df['earliest_credit_line_3'].fillna(0, inplace=True)\n",
        "df['acc_now_delinq'].fillna(0, inplace=True)\n",
        "df['total_acc'].fillna(0, inplace=True)\n",
        "df['pub_rec'].fillna(0, inplace=True)\n",
        "df['open_acc'].fillna(0, inplace=True)\n",
        "df['inq_last_6mths'].fillna(0, inplace=True)\n",
        "df['delinq_2yrs'].fillna(0, inplace=True)\n",
        "df['emp_length'].fillna(0, inplace=True)"
      ],
      "execution_count": 195,
      "outputs": []
    },
    {
      "cell_type": "code",
      "metadata": {
        "colab": {
          "base_uri": "https://localhost:8080/",
          "height": 520
        },
        "id": "uH3S0n2QCaAH",
        "outputId": "32055721-c819-4348-fd50-f54e58b26d65"
      },
      "source": [
        "# Variables which are missing and we need for analysis are: \n",
        "# total_rev_hi_lim, annual_inc, mths_since_earliest_cr_line, acc_now_delinq, total_acc\n",
        "# pub_rec, open_acc, inq_last_6mths, delinq_2yrs, emp_length_int\n",
        "pd.DataFrame(\n",
        "    df.isna().sum()\n",
        ").sort_values(by=0, ascending=False).head(15)\n",
        "# according to the lecture, we will not need these varaibles for modeling"
      ],
      "execution_count": 196,
      "outputs": [
        {
          "output_type": "execute_result",
          "data": {
            "text/html": [
              "<div>\n",
              "<style scoped>\n",
              "    .dataframe tbody tr th:only-of-type {\n",
              "        vertical-align: middle;\n",
              "    }\n",
              "\n",
              "    .dataframe tbody tr th {\n",
              "        vertical-align: top;\n",
              "    }\n",
              "\n",
              "    .dataframe thead th {\n",
              "        text-align: right;\n",
              "    }\n",
              "</style>\n",
              "<table border=\"1\" class=\"dataframe\">\n",
              "  <thead>\n",
              "    <tr style=\"text-align: right;\">\n",
              "      <th></th>\n",
              "      <th>0</th>\n",
              "    </tr>\n",
              "  </thead>\n",
              "  <tbody>\n",
              "    <tr>\n",
              "      <th>mths_since_last_record</th>\n",
              "      <td>403647</td>\n",
              "    </tr>\n",
              "    <tr>\n",
              "      <th>mths_since_last_major_derog</th>\n",
              "      <td>367311</td>\n",
              "    </tr>\n",
              "    <tr>\n",
              "      <th>desc</th>\n",
              "      <td>340302</td>\n",
              "    </tr>\n",
              "    <tr>\n",
              "      <th>mths_since_last_delinq</th>\n",
              "      <td>250351</td>\n",
              "    </tr>\n",
              "    <tr>\n",
              "      <th>next_pymnt_d</th>\n",
              "      <td>227214</td>\n",
              "    </tr>\n",
              "    <tr>\n",
              "      <th>tot_coll_amt</th>\n",
              "      <td>70276</td>\n",
              "    </tr>\n",
              "    <tr>\n",
              "      <th>tot_cur_bal</th>\n",
              "      <td>70276</td>\n",
              "    </tr>\n",
              "    <tr>\n",
              "      <th>emp_title</th>\n",
              "      <td>27588</td>\n",
              "    </tr>\n",
              "    <tr>\n",
              "      <th>last_pymnt_d</th>\n",
              "      <td>376</td>\n",
              "    </tr>\n",
              "    <tr>\n",
              "      <th>revol_util</th>\n",
              "      <td>340</td>\n",
              "    </tr>\n",
              "    <tr>\n",
              "      <th>collections_12_mths_ex_med</th>\n",
              "      <td>145</td>\n",
              "    </tr>\n",
              "    <tr>\n",
              "      <th>last_credit_pull_d</th>\n",
              "      <td>42</td>\n",
              "    </tr>\n",
              "    <tr>\n",
              "      <th>title</th>\n",
              "      <td>20</td>\n",
              "    </tr>\n",
              "    <tr>\n",
              "      <th>purpose:renewable_energy</th>\n",
              "      <td>0</td>\n",
              "    </tr>\n",
              "    <tr>\n",
              "      <th>purpose:other</th>\n",
              "      <td>0</td>\n",
              "    </tr>\n",
              "  </tbody>\n",
              "</table>\n",
              "</div>"
            ],
            "text/plain": [
              "                                  0\n",
              "mths_since_last_record       403647\n",
              "mths_since_last_major_derog  367311\n",
              "desc                         340302\n",
              "mths_since_last_delinq       250351\n",
              "next_pymnt_d                 227214\n",
              "tot_coll_amt                  70276\n",
              "tot_cur_bal                   70276\n",
              "emp_title                     27588\n",
              "last_pymnt_d                    376\n",
              "revol_util                      340\n",
              "collections_12_mths_ex_med      145\n",
              "last_credit_pull_d               42\n",
              "title                            20\n",
              "purpose:renewable_energy          0\n",
              "purpose:other                     0"
            ]
          },
          "metadata": {},
          "execution_count": 196
        }
      ]
    },
    {
      "cell_type": "markdown",
      "metadata": {
        "id": "t2LT9qkYDdsI"
      },
      "source": [
        "### Dependent variable, Good/Bad borrowers"
      ]
    },
    {
      "cell_type": "code",
      "metadata": {
        "id": "uMCC3seaC-8p"
      },
      "source": [
        "loan_status_uniques = df['loan_status'].unique()"
      ],
      "execution_count": 197,
      "outputs": []
    },
    {
      "cell_type": "code",
      "metadata": {
        "id": "zJnP_9Y6DqK8",
        "colab": {
          "base_uri": "https://localhost:8080/"
        },
        "outputId": "e4557e11-74fb-40d6-b548-77362fff6c5c"
      },
      "source": [
        "list(loan_status_uniques)"
      ],
      "execution_count": 198,
      "outputs": [
        {
          "output_type": "execute_result",
          "data": {
            "text/plain": [
              "['Fully Paid',\n",
              " 'Charged Off',\n",
              " 'Current',\n",
              " 'Default',\n",
              " 'Late (31-120 days)',\n",
              " 'In Grace Period',\n",
              " 'Late (16-30 days)',\n",
              " 'Does not meet the credit policy. Status:Fully Paid',\n",
              " 'Does not meet the credit policy. Status:Charged Off']"
            ]
          },
          "metadata": {},
          "execution_count": 198
        }
      ]
    },
    {
      "cell_type": "code",
      "metadata": {
        "colab": {
          "base_uri": "https://localhost:8080/"
        },
        "id": "_Xa68WwUvRkt",
        "outputId": "9366da35-fed6-46cc-ed91-7ddd5b715799"
      },
      "source": [
        "print(loan_status_uniques[1])\n",
        "print(loan_status_uniques[3])\n",
        "print(loan_status_uniques[-3])\n",
        "print(loan_status_uniques[-1])"
      ],
      "execution_count": 199,
      "outputs": [
        {
          "output_type": "stream",
          "name": "stdout",
          "text": [
            "Charged Off\n",
            "Default\n",
            "Late (16-30 days)\n",
            "Does not meet the credit policy. Status:Charged Off\n"
          ]
        }
      ]
    },
    {
      "cell_type": "code",
      "metadata": {
        "id": "3PXRefTSwkbx"
      },
      "source": [
        "defaults = [\n",
        "          loan_status_uniques[1], loan_status_uniques[1],\n",
        "          loan_status_uniques[-3], loan_status_uniques[-1]  \n",
        "]"
      ],
      "execution_count": 200,
      "outputs": []
    },
    {
      "cell_type": "code",
      "metadata": {
        "id": "OO8f-fGyxPMd"
      },
      "source": [
        "good_bad_loan = np.where(\n",
        "    df['loan_status'].isin(defaults),\n",
        "    0, 1\n",
        ")"
      ],
      "execution_count": 201,
      "outputs": []
    },
    {
      "cell_type": "code",
      "metadata": {
        "id": "6ikk-Zf5xmn4"
      },
      "source": [
        "df['good_bad_loan'] = good_bad_loan"
      ],
      "execution_count": 202,
      "outputs": []
    },
    {
      "cell_type": "code",
      "metadata": {
        "colab": {
          "base_uri": "https://localhost:8080/"
        },
        "id": "rY0oGAxaxrWp",
        "outputId": "83d1e897-0f58-46ab-a476-e07c70a4bc80"
      },
      "source": [
        "df['good_bad_loan'].value_counts()/len(df) # 90% good loans 10% bad loans"
      ],
      "execution_count": 203,
      "outputs": [
        {
          "output_type": "execute_result",
          "data": {
            "text/plain": [
              "1    0.904663\n",
              "0    0.095337\n",
              "Name: good_bad_loan, dtype: float64"
            ]
          },
          "metadata": {},
          "execution_count": 203
        }
      ]
    },
    {
      "cell_type": "code",
      "metadata": {
        "id": "4nLNJe0Cx7iJ",
        "colab": {
          "base_uri": "https://localhost:8080/"
        },
        "outputId": "3b124921-9c64-4d33-9184-3a28b8cc88c7"
      },
      "source": [
        "list(df.columns)"
      ],
      "execution_count": 204,
      "outputs": [
        {
          "output_type": "execute_result",
          "data": {
            "text/plain": [
              "['initial_list_status',\n",
              " 'pymnt_plan',\n",
              " 'verification_status',\n",
              " 'home_ownership',\n",
              " 'acc_now_delinq',\n",
              " 'grade',\n",
              " 'loan_status',\n",
              " 'collections_12_mths_ex_med',\n",
              " 'emp_length',\n",
              " 'purpose',\n",
              " 'delinq_2yrs',\n",
              " 'pub_rec',\n",
              " 'inq_last_6mths',\n",
              " 'sub_grade',\n",
              " 'addr_state',\n",
              " 'open_acc',\n",
              " 'last_pymnt_d',\n",
              " 'next_pymnt_d',\n",
              " 'last_credit_pull_d',\n",
              " 'total_acc',\n",
              " 'mths_since_last_record',\n",
              " 'mths_since_last_delinq',\n",
              " 'mths_since_last_major_derog',\n",
              " 'int_rate',\n",
              " 'zip_code',\n",
              " 'revol_util',\n",
              " 'loan_amnt',\n",
              " 'funded_amnt',\n",
              " 'dti',\n",
              " 'total_rec_late_fee',\n",
              " 'tot_coll_amt',\n",
              " 'funded_amnt_inv',\n",
              " 'total_rev_hi_lim',\n",
              " 'collection_recovery_fee',\n",
              " 'recoveries',\n",
              " 'annual_inc',\n",
              " 'installment',\n",
              " 'revol_bal',\n",
              " 'title',\n",
              " 'desc',\n",
              " 'out_prncp',\n",
              " 'out_prncp_inv',\n",
              " 'total_rec_prncp',\n",
              " 'last_pymnt_amnt',\n",
              " 'emp_title',\n",
              " 'tot_cur_bal',\n",
              " 'total_rec_int',\n",
              " 'total_pymnt_inv',\n",
              " 'total_pymnt',\n",
              " 'id',\n",
              " 'earliest_credit_line_2',\n",
              " 'earliest_credit_line_3',\n",
              " 'term: 36 months',\n",
              " 'term: 60 months',\n",
              " 'issue_date_1',\n",
              " 'issue_date_2',\n",
              " 'grade:A',\n",
              " 'grade:B',\n",
              " 'grade:C',\n",
              " 'grade:D',\n",
              " 'grade:E',\n",
              " 'grade:F',\n",
              " 'grade:G',\n",
              " 'sub_grade:A1',\n",
              " 'sub_grade:A2',\n",
              " 'sub_grade:A3',\n",
              " 'sub_grade:A4',\n",
              " 'sub_grade:A5',\n",
              " 'sub_grade:B1',\n",
              " 'sub_grade:B2',\n",
              " 'sub_grade:B3',\n",
              " 'sub_grade:B4',\n",
              " 'sub_grade:B5',\n",
              " 'sub_grade:C1',\n",
              " 'sub_grade:C2',\n",
              " 'sub_grade:C3',\n",
              " 'sub_grade:C4',\n",
              " 'sub_grade:C5',\n",
              " 'sub_grade:D1',\n",
              " 'sub_grade:D2',\n",
              " 'sub_grade:D3',\n",
              " 'sub_grade:D4',\n",
              " 'sub_grade:D5',\n",
              " 'sub_grade:E1',\n",
              " 'sub_grade:E2',\n",
              " 'sub_grade:E3',\n",
              " 'sub_grade:E4',\n",
              " 'sub_grade:E5',\n",
              " 'sub_grade:F1',\n",
              " 'sub_grade:F2',\n",
              " 'sub_grade:F3',\n",
              " 'sub_grade:F4',\n",
              " 'sub_grade:F5',\n",
              " 'sub_grade:G1',\n",
              " 'sub_grade:G2',\n",
              " 'sub_grade:G3',\n",
              " 'sub_grade:G4',\n",
              " 'sub_grade:G5',\n",
              " 'home_ownership:ANY',\n",
              " 'home_ownership:MORTGAGE',\n",
              " 'home_ownership:NONE',\n",
              " 'home_ownership:OTHER',\n",
              " 'home_ownership:OWN',\n",
              " 'home_ownership:RENT',\n",
              " 'verification_status:Not Verified',\n",
              " 'verification_status:Source Verified',\n",
              " 'verification_status:Verified',\n",
              " 'loan_status:Charged Off',\n",
              " 'loan_status:Current',\n",
              " 'loan_status:Default',\n",
              " 'loan_status:Does not meet the credit policy. Status:Charged Off',\n",
              " 'loan_status:Does not meet the credit policy. Status:Fully Paid',\n",
              " 'loan_status:Fully Paid',\n",
              " 'loan_status:In Grace Period',\n",
              " 'loan_status:Late (16-30 days)',\n",
              " 'loan_status:Late (31-120 days)',\n",
              " 'purpose:car',\n",
              " 'purpose:credit_card',\n",
              " 'purpose:debt_consolidation',\n",
              " 'purpose:educational',\n",
              " 'purpose:home_improvement',\n",
              " 'purpose:house',\n",
              " 'purpose:major_purchase',\n",
              " 'purpose:medical',\n",
              " 'purpose:moving',\n",
              " 'purpose:other',\n",
              " 'purpose:renewable_energy',\n",
              " 'purpose:small_business',\n",
              " 'purpose:vacation',\n",
              " 'purpose:wedding',\n",
              " 'addr_state:AK',\n",
              " 'addr_state:AL',\n",
              " 'addr_state:AR',\n",
              " 'addr_state:AZ',\n",
              " 'addr_state:CA',\n",
              " 'addr_state:CO',\n",
              " 'addr_state:CT',\n",
              " 'addr_state:DC',\n",
              " 'addr_state:DE',\n",
              " 'addr_state:FL',\n",
              " 'addr_state:GA',\n",
              " 'addr_state:HI',\n",
              " 'addr_state:IA',\n",
              " 'addr_state:ID',\n",
              " 'addr_state:IL',\n",
              " 'addr_state:IN',\n",
              " 'addr_state:KS',\n",
              " 'addr_state:KY',\n",
              " 'addr_state:LA',\n",
              " 'addr_state:MA',\n",
              " 'addr_state:MD',\n",
              " 'addr_state:ME',\n",
              " 'addr_state:MI',\n",
              " 'addr_state:MN',\n",
              " 'addr_state:MO',\n",
              " 'addr_state:MS',\n",
              " 'addr_state:MT',\n",
              " 'addr_state:NC',\n",
              " 'addr_state:NE',\n",
              " 'addr_state:NH',\n",
              " 'addr_state:NJ',\n",
              " 'addr_state:NM',\n",
              " 'addr_state:NV',\n",
              " 'addr_state:NY',\n",
              " 'addr_state:OH',\n",
              " 'addr_state:OK',\n",
              " 'addr_state:OR',\n",
              " 'addr_state:PA',\n",
              " 'addr_state:RI',\n",
              " 'addr_state:SC',\n",
              " 'addr_state:SD',\n",
              " 'addr_state:TN',\n",
              " 'addr_state:TX',\n",
              " 'addr_state:UT',\n",
              " 'addr_state:VA',\n",
              " 'addr_state:VT',\n",
              " 'addr_state:WA',\n",
              " 'addr_state:WI',\n",
              " 'addr_state:WV',\n",
              " 'addr_state:WY',\n",
              " 'initial_list_status:f',\n",
              " 'initial_list_status:w',\n",
              " 'good_bad_loan']"
            ]
          },
          "metadata": {},
          "execution_count": 204
        }
      ]
    },
    {
      "cell_type": "code",
      "metadata": {
        "id": "KxNs7jCjy_Nu"
      },
      "source": [
        "X = df.drop('loan_status', axis=1)\n",
        "y = df['good_bad_loan']"
      ],
      "execution_count": 205,
      "outputs": []
    },
    {
      "cell_type": "code",
      "metadata": {
        "id": "YS7iCLsC349Z"
      },
      "source": [
        "from sklearn.model_selection import train_test_split"
      ],
      "execution_count": 206,
      "outputs": []
    },
    {
      "cell_type": "code",
      "metadata": {
        "id": "J8fj2WoN4Fv4"
      },
      "source": [
        "X_train, X_test, y_train, y_test = train_test_split(X, y, test_size=0.33, random_state=42)"
      ],
      "execution_count": 207,
      "outputs": []
    },
    {
      "cell_type": "code",
      "metadata": {
        "colab": {
          "base_uri": "https://localhost:8080/"
        },
        "id": "if4pSZM71EHT",
        "outputId": "8fa2e73f-694d-4cd8-abd2-b25dd2f4ed30"
      },
      "source": [
        "print(X_train.shape)\n",
        "print(X_test.shape)\n",
        "print(y_train.shape)\n",
        "print(y_test.shape)"
      ],
      "execution_count": 208,
      "outputs": [
        {
          "output_type": "stream",
          "name": "stdout",
          "text": [
            "(312410, 182)\n",
            "(153875, 182)\n",
            "(312410,)\n",
            "(153875,)\n"
          ]
        }
      ]
    },
    {
      "cell_type": "code",
      "metadata": {
        "id": "fgGXF0Xx5viO"
      },
      "source": [
        "bad = np.where(df['good_bad_loan']== 1, 0, 1)\n",
        "good = df['good_bad_loan']\n",
        "sum(good + bad) == len(df) # if true, the we correctly converted\n",
        "\n",
        "df['good'] = good\n",
        "df['bad'] = bad"
      ],
      "execution_count": 222,
      "outputs": []
    },
    {
      "cell_type": "code",
      "metadata": {
        "id": "KZVWniRH7ZDu"
      },
      "source": [
        "df_grade = pd.DataFrame()\n",
        "df_grade['grade'] = df['grade']\n",
        "df_grade['good'] = good\n",
        "df_grade['bad'] = bad"
      ],
      "execution_count": 210,
      "outputs": []
    },
    {
      "cell_type": "code",
      "metadata": {
        "id": "lPzIalLMBnFs"
      },
      "source": [
        "df_grade = df_grade.groupby(df_grade.columns[0], as_index=False).sum()"
      ],
      "execution_count": 211,
      "outputs": []
    },
    {
      "cell_type": "code",
      "metadata": {
        "id": "CXbHYU6J6Zb0"
      },
      "source": [
        "df_grade['sum'] = df_grade['good'] + df_grade['bad']"
      ],
      "execution_count": 212,
      "outputs": []
    },
    {
      "cell_type": "code",
      "metadata": {
        "id": "h4JhlPMuE4Ze"
      },
      "source": [
        "good_sum = df_grade['good'].sum()"
      ],
      "execution_count": 213,
      "outputs": []
    },
    {
      "cell_type": "code",
      "metadata": {
        "colab": {
          "base_uri": "https://localhost:8080/",
          "height": 269
        },
        "id": "rS5xWilzC0CK",
        "outputId": "10526366-6e91-4c85-9bf4-2dc3bc6aab56"
      },
      "source": [
        "df_grade['proportion_of_good'] = df_grade['good']/df_grade['good'].sum()\n",
        "df_grade['proportion_of_bad'] = df_grade['bad']/df_grade['bad'].sum()\n",
        "df_grade"
      ],
      "execution_count": 214,
      "outputs": [
        {
          "output_type": "execute_result",
          "data": {
            "text/html": [
              "<div>\n",
              "<style scoped>\n",
              "    .dataframe tbody tr th:only-of-type {\n",
              "        vertical-align: middle;\n",
              "    }\n",
              "\n",
              "    .dataframe tbody tr th {\n",
              "        vertical-align: top;\n",
              "    }\n",
              "\n",
              "    .dataframe thead th {\n",
              "        text-align: right;\n",
              "    }\n",
              "</style>\n",
              "<table border=\"1\" class=\"dataframe\">\n",
              "  <thead>\n",
              "    <tr style=\"text-align: right;\">\n",
              "      <th></th>\n",
              "      <th>grade</th>\n",
              "      <th>good</th>\n",
              "      <th>bad</th>\n",
              "      <th>sum</th>\n",
              "      <th>proportion_of_good</th>\n",
              "      <th>proportion_of_bad</th>\n",
              "    </tr>\n",
              "  </thead>\n",
              "  <tbody>\n",
              "    <tr>\n",
              "      <th>0</th>\n",
              "      <td>A</td>\n",
              "      <td>72274</td>\n",
              "      <td>2593</td>\n",
              "      <td>74867</td>\n",
              "      <td>0.171334</td>\n",
              "      <td>0.058330</td>\n",
              "    </tr>\n",
              "    <tr>\n",
              "      <th>1</th>\n",
              "      <td>B</td>\n",
              "      <td>127438</td>\n",
              "      <td>9491</td>\n",
              "      <td>136929</td>\n",
              "      <td>0.302107</td>\n",
              "      <td>0.213502</td>\n",
              "    </tr>\n",
              "    <tr>\n",
              "      <th>2</th>\n",
              "      <td>C</td>\n",
              "      <td>112865</td>\n",
              "      <td>12428</td>\n",
              "      <td>125293</td>\n",
              "      <td>0.267560</td>\n",
              "      <td>0.279570</td>\n",
              "    </tr>\n",
              "    <tr>\n",
              "      <th>3</th>\n",
              "      <td>D</td>\n",
              "      <td>66659</td>\n",
              "      <td>10229</td>\n",
              "      <td>76888</td>\n",
              "      <td>0.158023</td>\n",
              "      <td>0.230103</td>\n",
              "    </tr>\n",
              "    <tr>\n",
              "      <th>4</th>\n",
              "      <td>E</td>\n",
              "      <td>29714</td>\n",
              "      <td>6043</td>\n",
              "      <td>35757</td>\n",
              "      <td>0.070441</td>\n",
              "      <td>0.135938</td>\n",
              "    </tr>\n",
              "    <tr>\n",
              "      <th>5</th>\n",
              "      <td>F</td>\n",
              "      <td>10376</td>\n",
              "      <td>2853</td>\n",
              "      <td>13229</td>\n",
              "      <td>0.024598</td>\n",
              "      <td>0.064179</td>\n",
              "    </tr>\n",
              "    <tr>\n",
              "      <th>6</th>\n",
              "      <td>G</td>\n",
              "      <td>2505</td>\n",
              "      <td>817</td>\n",
              "      <td>3322</td>\n",
              "      <td>0.005938</td>\n",
              "      <td>0.018379</td>\n",
              "    </tr>\n",
              "  </tbody>\n",
              "</table>\n",
              "</div>"
            ],
            "text/plain": [
              "  grade    good    bad     sum  proportion_of_good  proportion_of_bad\n",
              "0     A   72274   2593   74867            0.171334           0.058330\n",
              "1     B  127438   9491  136929            0.302107           0.213502\n",
              "2     C  112865  12428  125293            0.267560           0.279570\n",
              "3     D   66659  10229   76888            0.158023           0.230103\n",
              "4     E   29714   6043   35757            0.070441           0.135938\n",
              "5     F   10376   2853   13229            0.024598           0.064179\n",
              "6     G    2505    817    3322            0.005938           0.018379"
            ]
          },
          "metadata": {},
          "execution_count": 214
        }
      ]
    },
    {
      "cell_type": "code",
      "metadata": {
        "id": "rLhNnHNRDv-c"
      },
      "source": [
        "import numpy as np"
      ],
      "execution_count": 215,
      "outputs": []
    },
    {
      "cell_type": "code",
      "metadata": {
        "colab": {
          "base_uri": "https://localhost:8080/",
          "height": 269
        },
        "id": "JH_dT5yUC1dZ",
        "outputId": "47db007f-011a-4374-8ab4-7b3084b81d6f"
      },
      "source": [
        "df_grade['Weight_of_Evidence'] = np.log(\n",
        "    df_grade['proportion_of_good']/df_grade['proportion_of_bad']\n",
        ")\n",
        "df_grade"
      ],
      "execution_count": 216,
      "outputs": [
        {
          "output_type": "execute_result",
          "data": {
            "text/html": [
              "<div>\n",
              "<style scoped>\n",
              "    .dataframe tbody tr th:only-of-type {\n",
              "        vertical-align: middle;\n",
              "    }\n",
              "\n",
              "    .dataframe tbody tr th {\n",
              "        vertical-align: top;\n",
              "    }\n",
              "\n",
              "    .dataframe thead th {\n",
              "        text-align: right;\n",
              "    }\n",
              "</style>\n",
              "<table border=\"1\" class=\"dataframe\">\n",
              "  <thead>\n",
              "    <tr style=\"text-align: right;\">\n",
              "      <th></th>\n",
              "      <th>grade</th>\n",
              "      <th>good</th>\n",
              "      <th>bad</th>\n",
              "      <th>sum</th>\n",
              "      <th>proportion_of_good</th>\n",
              "      <th>proportion_of_bad</th>\n",
              "      <th>Weight_of_Evidence</th>\n",
              "    </tr>\n",
              "  </thead>\n",
              "  <tbody>\n",
              "    <tr>\n",
              "      <th>0</th>\n",
              "      <td>A</td>\n",
              "      <td>72274</td>\n",
              "      <td>2593</td>\n",
              "      <td>74867</td>\n",
              "      <td>0.171334</td>\n",
              "      <td>0.058330</td>\n",
              "      <td>1.077499</td>\n",
              "    </tr>\n",
              "    <tr>\n",
              "      <th>1</th>\n",
              "      <td>B</td>\n",
              "      <td>127438</td>\n",
              "      <td>9491</td>\n",
              "      <td>136929</td>\n",
              "      <td>0.302107</td>\n",
              "      <td>0.213502</td>\n",
              "      <td>0.347136</td>\n",
              "    </tr>\n",
              "    <tr>\n",
              "      <th>2</th>\n",
              "      <td>C</td>\n",
              "      <td>112865</td>\n",
              "      <td>12428</td>\n",
              "      <td>125293</td>\n",
              "      <td>0.267560</td>\n",
              "      <td>0.279570</td>\n",
              "      <td>-0.043909</td>\n",
              "    </tr>\n",
              "    <tr>\n",
              "      <th>3</th>\n",
              "      <td>D</td>\n",
              "      <td>66659</td>\n",
              "      <td>10229</td>\n",
              "      <td>76888</td>\n",
              "      <td>0.158023</td>\n",
              "      <td>0.230103</td>\n",
              "      <td>-0.375787</td>\n",
              "    </tr>\n",
              "    <tr>\n",
              "      <th>4</th>\n",
              "      <td>E</td>\n",
              "      <td>29714</td>\n",
              "      <td>6043</td>\n",
              "      <td>35757</td>\n",
              "      <td>0.070441</td>\n",
              "      <td>0.135938</td>\n",
              "      <td>-0.657432</td>\n",
              "    </tr>\n",
              "    <tr>\n",
              "      <th>5</th>\n",
              "      <td>F</td>\n",
              "      <td>10376</td>\n",
              "      <td>2853</td>\n",
              "      <td>13229</td>\n",
              "      <td>0.024598</td>\n",
              "      <td>0.064179</td>\n",
              "      <td>-0.959025</td>\n",
              "    </tr>\n",
              "    <tr>\n",
              "      <th>6</th>\n",
              "      <td>G</td>\n",
              "      <td>2505</td>\n",
              "      <td>817</td>\n",
              "      <td>3322</td>\n",
              "      <td>0.005938</td>\n",
              "      <td>0.018379</td>\n",
              "      <td>-1.129745</td>\n",
              "    </tr>\n",
              "  </tbody>\n",
              "</table>\n",
              "</div>"
            ],
            "text/plain": [
              "  grade    good  ...  proportion_of_bad  Weight_of_Evidence\n",
              "0     A   72274  ...           0.058330            1.077499\n",
              "1     B  127438  ...           0.213502            0.347136\n",
              "2     C  112865  ...           0.279570           -0.043909\n",
              "3     D   66659  ...           0.230103           -0.375787\n",
              "4     E   29714  ...           0.135938           -0.657432\n",
              "5     F   10376  ...           0.064179           -0.959025\n",
              "6     G    2505  ...           0.018379           -1.129745\n",
              "\n",
              "[7 rows x 7 columns]"
            ]
          },
          "metadata": {},
          "execution_count": 216
        }
      ]
    },
    {
      "cell_type": "code",
      "metadata": {
        "colab": {
          "base_uri": "https://localhost:8080/",
          "height": 269
        },
        "id": "OiwaCmfFEB5u",
        "outputId": "c3041325-36c0-4ab3-9886-d98fc32c9c88"
      },
      "source": [
        "df_grade['Information_value'] = (\n",
        "    df_grade['proportion_of_good'] - df_grade['proportion_of_bad']\n",
        ") * df_grade['Weight_of_Evidence']\n",
        "\n",
        "df_grade['Information_value'] = df_grade['Information_value'].sum()\n",
        "\n",
        "df_grade"
      ],
      "execution_count": 217,
      "outputs": [
        {
          "output_type": "execute_result",
          "data": {
            "text/html": [
              "<div>\n",
              "<style scoped>\n",
              "    .dataframe tbody tr th:only-of-type {\n",
              "        vertical-align: middle;\n",
              "    }\n",
              "\n",
              "    .dataframe tbody tr th {\n",
              "        vertical-align: top;\n",
              "    }\n",
              "\n",
              "    .dataframe thead th {\n",
              "        text-align: right;\n",
              "    }\n",
              "</style>\n",
              "<table border=\"1\" class=\"dataframe\">\n",
              "  <thead>\n",
              "    <tr style=\"text-align: right;\">\n",
              "      <th></th>\n",
              "      <th>grade</th>\n",
              "      <th>good</th>\n",
              "      <th>bad</th>\n",
              "      <th>sum</th>\n",
              "      <th>proportion_of_good</th>\n",
              "      <th>proportion_of_bad</th>\n",
              "      <th>Weight_of_Evidence</th>\n",
              "      <th>Information_value</th>\n",
              "    </tr>\n",
              "  </thead>\n",
              "  <tbody>\n",
              "    <tr>\n",
              "      <th>0</th>\n",
              "      <td>A</td>\n",
              "      <td>72274</td>\n",
              "      <td>2593</td>\n",
              "      <td>74867</td>\n",
              "      <td>0.171334</td>\n",
              "      <td>0.058330</td>\n",
              "      <td>1.077499</td>\n",
              "      <td>0.275208</td>\n",
              "    </tr>\n",
              "    <tr>\n",
              "      <th>1</th>\n",
              "      <td>B</td>\n",
              "      <td>127438</td>\n",
              "      <td>9491</td>\n",
              "      <td>136929</td>\n",
              "      <td>0.302107</td>\n",
              "      <td>0.213502</td>\n",
              "      <td>0.347136</td>\n",
              "      <td>0.275208</td>\n",
              "    </tr>\n",
              "    <tr>\n",
              "      <th>2</th>\n",
              "      <td>C</td>\n",
              "      <td>112865</td>\n",
              "      <td>12428</td>\n",
              "      <td>125293</td>\n",
              "      <td>0.267560</td>\n",
              "      <td>0.279570</td>\n",
              "      <td>-0.043909</td>\n",
              "      <td>0.275208</td>\n",
              "    </tr>\n",
              "    <tr>\n",
              "      <th>3</th>\n",
              "      <td>D</td>\n",
              "      <td>66659</td>\n",
              "      <td>10229</td>\n",
              "      <td>76888</td>\n",
              "      <td>0.158023</td>\n",
              "      <td>0.230103</td>\n",
              "      <td>-0.375787</td>\n",
              "      <td>0.275208</td>\n",
              "    </tr>\n",
              "    <tr>\n",
              "      <th>4</th>\n",
              "      <td>E</td>\n",
              "      <td>29714</td>\n",
              "      <td>6043</td>\n",
              "      <td>35757</td>\n",
              "      <td>0.070441</td>\n",
              "      <td>0.135938</td>\n",
              "      <td>-0.657432</td>\n",
              "      <td>0.275208</td>\n",
              "    </tr>\n",
              "    <tr>\n",
              "      <th>5</th>\n",
              "      <td>F</td>\n",
              "      <td>10376</td>\n",
              "      <td>2853</td>\n",
              "      <td>13229</td>\n",
              "      <td>0.024598</td>\n",
              "      <td>0.064179</td>\n",
              "      <td>-0.959025</td>\n",
              "      <td>0.275208</td>\n",
              "    </tr>\n",
              "    <tr>\n",
              "      <th>6</th>\n",
              "      <td>G</td>\n",
              "      <td>2505</td>\n",
              "      <td>817</td>\n",
              "      <td>3322</td>\n",
              "      <td>0.005938</td>\n",
              "      <td>0.018379</td>\n",
              "      <td>-1.129745</td>\n",
              "      <td>0.275208</td>\n",
              "    </tr>\n",
              "  </tbody>\n",
              "</table>\n",
              "</div>"
            ],
            "text/plain": [
              "  grade    good  ...  Weight_of_Evidence  Information_value\n",
              "0     A   72274  ...            1.077499           0.275208\n",
              "1     B  127438  ...            0.347136           0.275208\n",
              "2     C  112865  ...           -0.043909           0.275208\n",
              "3     D   66659  ...           -0.375787           0.275208\n",
              "4     E   29714  ...           -0.657432           0.275208\n",
              "5     F   10376  ...           -0.959025           0.275208\n",
              "6     G    2505  ...           -1.129745           0.275208\n",
              "\n",
              "[7 rows x 8 columns]"
            ]
          },
          "metadata": {},
          "execution_count": 217
        }
      ]
    },
    {
      "cell_type": "code",
      "metadata": {
        "id": "-vcbn2KaGFhM"
      },
      "source": [
        "# Automating\n",
        "\n",
        "import numpy as np\n",
        "\n",
        "def WoE_and_IV(df, variable_name):\n",
        "\n",
        "  table = pd.DataFrame()\n",
        "  table[variable_name] = df[variable_name]\n",
        "  table['good_count'] = df['good']\n",
        "  table['bad_count'] = df['bad']\n",
        "\n",
        "  table = table.groupby(table.columns[0], as_index=False).sum()\n",
        "\n",
        "  table['proportion_of_good'] = table['good_count']/table['good_count'].sum()\n",
        "  table['proportion_of_bad']  = table['bad_count'] /table['bad_count'].sum()\n",
        "\n",
        "  table['Weight_of_Evidence'] = np.log(\n",
        "      table['proportion_of_good']/table['proportion_of_bad']\n",
        "  )\n",
        "\n",
        "  table['Information_value'] = (\n",
        "      table['proportion_of_good'] - table['proportion_of_bad']\n",
        "  ) * table['Weight_of_Evidence']\n",
        "\n",
        "  table['Information_value'] = table['Information_value'].sum()\n",
        "\n",
        "  table = table.sort_values('Weight_of_Evidence', ascending = False)\n",
        "  table = table.reset_index(drop=True)\n",
        "\n",
        "  return table"
      ],
      "execution_count": 234,
      "outputs": []
    },
    {
      "cell_type": "code",
      "metadata": {
        "colab": {
          "base_uri": "https://localhost:8080/",
          "height": 488
        },
        "id": "CNsi3dW0NGoP",
        "outputId": "27984e22-ea3d-4b98-a621-7f29bbad330f"
      },
      "source": [
        "WoE_and_IV(df, 'purpose')"
      ],
      "execution_count": 235,
      "outputs": [
        {
          "output_type": "execute_result",
          "data": {
            "text/html": [
              "<div>\n",
              "<style scoped>\n",
              "    .dataframe tbody tr th:only-of-type {\n",
              "        vertical-align: middle;\n",
              "    }\n",
              "\n",
              "    .dataframe tbody tr th {\n",
              "        vertical-align: top;\n",
              "    }\n",
              "\n",
              "    .dataframe thead th {\n",
              "        text-align: right;\n",
              "    }\n",
              "</style>\n",
              "<table border=\"1\" class=\"dataframe\">\n",
              "  <thead>\n",
              "    <tr style=\"text-align: right;\">\n",
              "      <th></th>\n",
              "      <th>purpose</th>\n",
              "      <th>good_count</th>\n",
              "      <th>bad_count</th>\n",
              "      <th>proportion_of_good</th>\n",
              "      <th>proportion_of_bad</th>\n",
              "      <th>Weight_of_Evidence</th>\n",
              "      <th>Information_value</th>\n",
              "    </tr>\n",
              "  </thead>\n",
              "  <tbody>\n",
              "    <tr>\n",
              "      <th>0</th>\n",
              "      <td>credit_card</td>\n",
              "      <td>96489</td>\n",
              "      <td>7668</td>\n",
              "      <td>0.228739</td>\n",
              "      <td>0.172493</td>\n",
              "      <td>0.282223</td>\n",
              "      <td>0.044165</td>\n",
              "    </tr>\n",
              "    <tr>\n",
              "      <th>1</th>\n",
              "      <td>car</td>\n",
              "      <td>4952</td>\n",
              "      <td>445</td>\n",
              "      <td>0.011739</td>\n",
              "      <td>0.010010</td>\n",
              "      <td>0.159323</td>\n",
              "      <td>0.044165</td>\n",
              "    </tr>\n",
              "    <tr>\n",
              "      <th>2</th>\n",
              "      <td>home_improvement</td>\n",
              "      <td>24273</td>\n",
              "      <td>2264</td>\n",
              "      <td>0.057542</td>\n",
              "      <td>0.050929</td>\n",
              "      <td>0.122082</td>\n",
              "      <td>0.044165</td>\n",
              "    </tr>\n",
              "    <tr>\n",
              "      <th>3</th>\n",
              "      <td>major_purchase</td>\n",
              "      <td>8974</td>\n",
              "      <td>854</td>\n",
              "      <td>0.021274</td>\n",
              "      <td>0.019211</td>\n",
              "      <td>0.102006</td>\n",
              "      <td>0.044165</td>\n",
              "    </tr>\n",
              "    <tr>\n",
              "      <th>4</th>\n",
              "      <td>debt_consolidation</td>\n",
              "      <td>247301</td>\n",
              "      <td>26894</td>\n",
              "      <td>0.586256</td>\n",
              "      <td>0.604985</td>\n",
              "      <td>-0.031447</td>\n",
              "      <td>0.044165</td>\n",
              "    </tr>\n",
              "    <tr>\n",
              "      <th>5</th>\n",
              "      <td>vacation</td>\n",
              "      <td>2216</td>\n",
              "      <td>271</td>\n",
              "      <td>0.005253</td>\n",
              "      <td>0.006096</td>\n",
              "      <td>-0.148810</td>\n",
              "      <td>0.044165</td>\n",
              "    </tr>\n",
              "    <tr>\n",
              "      <th>6</th>\n",
              "      <td>wedding</td>\n",
              "      <td>2065</td>\n",
              "      <td>278</td>\n",
              "      <td>0.004895</td>\n",
              "      <td>0.006254</td>\n",
              "      <td>-0.244885</td>\n",
              "      <td>0.044165</td>\n",
              "    </tr>\n",
              "    <tr>\n",
              "      <th>7</th>\n",
              "      <td>medical</td>\n",
              "      <td>4049</td>\n",
              "      <td>553</td>\n",
              "      <td>0.009599</td>\n",
              "      <td>0.012440</td>\n",
              "      <td>-0.259283</td>\n",
              "      <td>0.044165</td>\n",
              "    </tr>\n",
              "    <tr>\n",
              "      <th>8</th>\n",
              "      <td>house</td>\n",
              "      <td>1987</td>\n",
              "      <td>282</td>\n",
              "      <td>0.004710</td>\n",
              "      <td>0.006344</td>\n",
              "      <td>-0.297676</td>\n",
              "      <td>0.044165</td>\n",
              "    </tr>\n",
              "    <tr>\n",
              "      <th>9</th>\n",
              "      <td>other</td>\n",
              "      <td>20728</td>\n",
              "      <td>2962</td>\n",
              "      <td>0.049138</td>\n",
              "      <td>0.066631</td>\n",
              "      <td>-0.304529</td>\n",
              "      <td>0.044165</td>\n",
              "    </tr>\n",
              "    <tr>\n",
              "      <th>10</th>\n",
              "      <td>moving</td>\n",
              "      <td>2578</td>\n",
              "      <td>416</td>\n",
              "      <td>0.006111</td>\n",
              "      <td>0.009358</td>\n",
              "      <td>-0.426066</td>\n",
              "      <td>0.044165</td>\n",
              "    </tr>\n",
              "    <tr>\n",
              "      <th>11</th>\n",
              "      <td>renewable_energy</td>\n",
              "      <td>299</td>\n",
              "      <td>52</td>\n",
              "      <td>0.000709</td>\n",
              "      <td>0.001170</td>\n",
              "      <td>-0.500950</td>\n",
              "      <td>0.044165</td>\n",
              "    </tr>\n",
              "    <tr>\n",
              "      <th>12</th>\n",
              "      <td>small_business</td>\n",
              "      <td>5586</td>\n",
              "      <td>1427</td>\n",
              "      <td>0.013242</td>\n",
              "      <td>0.032101</td>\n",
              "      <td>-0.885461</td>\n",
              "      <td>0.044165</td>\n",
              "    </tr>\n",
              "    <tr>\n",
              "      <th>13</th>\n",
              "      <td>educational</td>\n",
              "      <td>334</td>\n",
              "      <td>88</td>\n",
              "      <td>0.000792</td>\n",
              "      <td>0.001980</td>\n",
              "      <td>-0.916346</td>\n",
              "      <td>0.044165</td>\n",
              "    </tr>\n",
              "  </tbody>\n",
              "</table>\n",
              "</div>"
            ],
            "text/plain": [
              "               purpose  good_count  ...  Weight_of_Evidence  Information_value\n",
              "0          credit_card       96489  ...            0.282223           0.044165\n",
              "1                  car        4952  ...            0.159323           0.044165\n",
              "2     home_improvement       24273  ...            0.122082           0.044165\n",
              "3       major_purchase        8974  ...            0.102006           0.044165\n",
              "4   debt_consolidation      247301  ...           -0.031447           0.044165\n",
              "5             vacation        2216  ...           -0.148810           0.044165\n",
              "6              wedding        2065  ...           -0.244885           0.044165\n",
              "7              medical        4049  ...           -0.259283           0.044165\n",
              "8                house        1987  ...           -0.297676           0.044165\n",
              "9                other       20728  ...           -0.304529           0.044165\n",
              "10              moving        2578  ...           -0.426066           0.044165\n",
              "11    renewable_energy         299  ...           -0.500950           0.044165\n",
              "12      small_business        5586  ...           -0.885461           0.044165\n",
              "13         educational         334  ...           -0.916346           0.044165\n",
              "\n",
              "[14 rows x 7 columns]"
            ]
          },
          "metadata": {},
          "execution_count": 235
        }
      ]
    },
    {
      "cell_type": "code",
      "metadata": {
        "id": "qqyWgPfXNSWk"
      },
      "source": [
        ""
      ],
      "execution_count": 226,
      "outputs": []
    }
  ]
}